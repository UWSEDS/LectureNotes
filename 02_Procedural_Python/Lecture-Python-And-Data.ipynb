{
 "cells": [
  {
   "cell_type": "markdown",
   "metadata": {},
   "source": [
    "# Software Engineering for Data Scientists\n",
    "\n",
    "## *Manipulating Data with Python*\n",
    "## CSE 583"
   ]
  },
  {
   "cell_type": "markdown",
   "metadata": {},
   "source": [
    "## Today's Objectives\n",
    "\n",
    "#### 0. Cloning LectureNotes\n",
    "\n",
    "#### 1. Opening & Navigating the Jupyter Notebook\n",
    "\n",
    "#### 2. Data type basics\n",
    "\n",
    "#### 3. Loading data with ``pandas``\n",
    "\n",
    "#### 4. Cleaning and Manipulating data with ``pandas``\n",
    "\n",
    "#### 5. Visualizing data with ``pandas`` & ``matplotlib``"
   ]
  },
  {
   "cell_type": "markdown",
   "metadata": {},
   "source": [
    "## 0. Cloning Lecture Notes\n",
    "\n",
    "The course materials are maintained on github. The next lecture will discuss github in detail. Today, you'll get minimal instructions to get access to today's lecture materials.\n",
    "\n",
    "1. Open a terminal session\n",
    "1. Type 'git clone https://github.com/UWSEDS/LectureNotes.git'\n",
    "1. Wait until the download is complete\n",
    "1. cd LectureNotes\n",
    "1. cd 02_Procedural_Python"
   ]
  },
  {
   "cell_type": "markdown",
   "metadata": {},
   "source": [
    "## 1. Opening and Navigating the IPython Notebook\n",
    "\n",
    "We will start today with the interactive environment that we will be using often through the course: the [Jupyter Notebook](http://jupyter.org).\n",
    "\n",
    "We will walk through the following steps together:\n",
    "\n",
    "1. Download [miniconda](https://conda.io/miniconda.html) (be sure to get Version 3.6) and install it on your system (hopefully you have done this before coming to class)\n",
    "   ```\n",
    "   ```\n",
    "\n",
    "2. Use the ``conda`` command-line tool to update your package listing and install the IPython notebook:\n",
    "\n",
    "   Update ``conda``'s listing of packages for your system:\n",
    "   ```\n",
    "   $ conda update conda\n",
    "   ```\n",
    "   \n",
    "   Install IPython notebook and all its requirements\n",
    "   ```\n",
    "   $ conda install jupyter notebook\n",
    "   ```\n",
    "   \n",
    "3. Navigate to the directory containing the course material. For example:\n",
    "\n",
    "   ```\n",
    "   $ cd LectureNotes/02_Procedural_Python\n",
    "   ```\n",
    "   \n",
    "   You should see a number of files in the directory, including these:\n",
    "   \n",
    "   ```\n",
    "   $ ls\n",
    "   \n",
    "   ```\n",
    "\n",
    "4. Type ``jupyter notebook`` in the terminal to start the notebook\n",
    "\n",
    "   ```\n",
    "   $ jupyter notebook\n",
    "   ```\n",
    "   \n",
    "   If everything has worked correctly, it should automatically launch your default browser\n",
    "   ```\n",
    "   ```\n",
    "   \n",
    "5. Click on ``Lecture-Python-And-Data.ipynb`` to open the notebook containing the content for this lecture.\n",
    "\n",
    "With that, you're set up to use the Jupyter notebook!"
   ]
  },
  {
   "cell_type": "markdown",
   "metadata": {},
   "source": [
    "## 2. Data Types Basics\n",
    "\n",
    "### 2.1 Data type theory\n",
    "- Components with the same capabilities are of the same *type*. \n",
    "  - For example, the numbers 2 and 200 are both integers.\n",
    "- A type is defined recursively. Some examples.\n",
    "  - A list is a collection of objects that can be indexed by position.\n",
    "  - A list of integers contains an integer at each position.\n",
    "- A type has a set of supported operations. For example:\n",
    "  - Integers can be added\n",
    "  - Strings can be concatented\n",
    "  - A table can find the name of its columns\n",
    "    - What type is returned from the operation?\n",
    "- In python, members (components and operations) are indicated by a '.'\n",
    "  - If `a` is a list, the `a.append(1)` adds `1` to the list."
   ]
  },
  {
   "cell_type": "markdown",
   "metadata": {},
   "source": [
    "### 2.2 Primitive types\n",
    "\n",
    "The primitive types are integers, floats, strings, booleans."
   ]
  },
  {
   "cell_type": "markdown",
   "metadata": {},
   "source": [
    "#### 2.2.1 Integers"
   ]
  },
  {
   "cell_type": "code",
   "execution_count": 1,
   "metadata": {},
   "outputs": [
    {
     "data": {
      "text/plain": [
       "2"
      ]
     },
     "execution_count": 1,
     "metadata": {},
     "output_type": "execute_result"
    }
   ],
   "source": [
    "# Integer arithematic\n",
    "1 + 1"
   ]
  },
  {
   "cell_type": "code",
   "execution_count": 2,
   "metadata": {},
   "outputs": [
    {
     "name": "stdout",
     "output_type": "stream",
     "text": [
      "1 1.5\n"
     ]
    }
   ],
   "source": [
    "# Integer division version floating point division\n",
    "print (6 // 4, 6/ 4)"
   ]
  },
  {
   "cell_type": "markdown",
   "metadata": {},
   "source": [
    "#### 2.2.2 Floats"
   ]
  },
  {
   "cell_type": "code",
   "execution_count": 3,
   "metadata": {},
   "outputs": [
    {
     "name": "stdout",
     "output_type": "stream",
     "text": [
      "18.0 -2.4492935982947064e-16\n"
     ]
    }
   ],
   "source": [
    "# Have the full set of \"calculator functions\" but need the numpy package\n",
    "import numpy as np\n",
    "print (6.0 * 3, np.sin(2*np.pi))"
   ]
  },
  {
   "cell_type": "code",
   "execution_count": 4,
   "metadata": {},
   "outputs": [
    {
     "data": {
      "text/plain": [
       "nan"
      ]
     },
     "execution_count": 4,
     "metadata": {},
     "output_type": "execute_result"
    }
   ],
   "source": [
    "# Floats can have a null value called nan, not a number\n",
    "a = np.nan\n",
    "3*a"
   ]
  },
  {
   "cell_type": "markdown",
   "metadata": {},
   "source": [
    "#### 2.2.3 Strings"
   ]
  },
  {
   "cell_type": "code",
   "execution_count": null,
   "metadata": {},
   "outputs": [],
   "source": [
    "# Can concatenate, substring, find, count, ..."
   ]
  },
  {
   "cell_type": "code",
   "execution_count": 5,
   "metadata": {},
   "outputs": [
    {
     "name": "stdout",
     "output_type": "stream",
     "text": [
      "Concatenation:  The lazybrown fox\n",
      "First three letters: The\n",
      "Index of 'z': 6\n"
     ]
    }
   ],
   "source": [
    "a = \"The lazy\"\n",
    "b = \"brown fox\"\n",
    "print (\"Concatenation: \", a + b)\n",
    "print (\"First three letters: \" + a[0:3])\n",
    "print (\"Index of 'z': \" + str(a.find('z')))"
   ]
  },
  {
   "cell_type": "markdown",
   "metadata": {},
   "source": [
    "### 2.3 Tuples\n",
    "A tuple is an ordered sequence of objects. Tuples cannot be changed; they are immuteable."
   ]
  },
  {
   "cell_type": "code",
   "execution_count": 7,
   "metadata": {},
   "outputs": [
    {
     "data": {
      "text/plain": [
       "(1, 'ab', (1, 2))"
      ]
     },
     "execution_count": 7,
     "metadata": {},
     "output_type": "execute_result"
    }
   ],
   "source": [
    "a_tuple = (1, 'ab', (1,2))\n",
    "a_tuple"
   ]
  },
  {
   "cell_type": "code",
   "execution_count": 9,
   "metadata": {},
   "outputs": [
    {
     "data": {
      "text/plain": [
       "(1, 2)"
      ]
     },
     "execution_count": 9,
     "metadata": {},
     "output_type": "execute_result"
    }
   ],
   "source": [
    "a_tuple[2]"
   ]
  },
  {
   "cell_type": "markdown",
   "metadata": {},
   "source": [
    "### 2.4 Lists\n",
    "A list is an ordered sequence of objects that can be changed."
   ]
  },
  {
   "cell_type": "code",
   "execution_count": 10,
   "metadata": {},
   "outputs": [],
   "source": [
    "a_list = [1, 'a', [1,2]]"
   ]
  },
  {
   "cell_type": "code",
   "execution_count": 11,
   "metadata": {},
   "outputs": [
    {
     "data": {
      "text/plain": [
       "1"
      ]
     },
     "execution_count": 11,
     "metadata": {},
     "output_type": "execute_result"
    }
   ],
   "source": [
    "a_list[0]"
   ]
  },
  {
   "cell_type": "code",
   "execution_count": 13,
   "metadata": {},
   "outputs": [
    {
     "data": {
      "text/plain": [
       "[1, 'a', [1, 2], 2, 2]"
      ]
     },
     "execution_count": 13,
     "metadata": {},
     "output_type": "execute_result"
    }
   ],
   "source": [
    "a_list.append(2)\n",
    "a_list"
   ]
  },
  {
   "cell_type": "code",
   "execution_count": null,
   "metadata": {},
   "outputs": [],
   "source": [
    "a_list"
   ]
  },
  {
   "cell_type": "code",
   "execution_count": 14,
   "metadata": {},
   "outputs": [
    {
     "data": {
      "text/plain": [
       "['__add__',\n",
       " '__class__',\n",
       " '__contains__',\n",
       " '__delattr__',\n",
       " '__delitem__',\n",
       " '__dir__',\n",
       " '__doc__',\n",
       " '__eq__',\n",
       " '__format__',\n",
       " '__ge__',\n",
       " '__getattribute__',\n",
       " '__getitem__',\n",
       " '__gt__',\n",
       " '__hash__',\n",
       " '__iadd__',\n",
       " '__imul__',\n",
       " '__init__',\n",
       " '__init_subclass__',\n",
       " '__iter__',\n",
       " '__le__',\n",
       " '__len__',\n",
       " '__lt__',\n",
       " '__mul__',\n",
       " '__ne__',\n",
       " '__new__',\n",
       " '__reduce__',\n",
       " '__reduce_ex__',\n",
       " '__repr__',\n",
       " '__reversed__',\n",
       " '__rmul__',\n",
       " '__setattr__',\n",
       " '__setitem__',\n",
       " '__sizeof__',\n",
       " '__str__',\n",
       " '__subclasshook__',\n",
       " 'append',\n",
       " 'clear',\n",
       " 'copy',\n",
       " 'count',\n",
       " 'extend',\n",
       " 'index',\n",
       " 'insert',\n",
       " 'pop',\n",
       " 'remove',\n",
       " 'reverse',\n",
       " 'sort']"
      ]
     },
     "execution_count": 14,
     "metadata": {},
     "output_type": "execute_result"
    }
   ],
   "source": [
    "dir(a_list)"
   ]
  },
  {
   "cell_type": "code",
   "execution_count": 16,
   "metadata": {},
   "outputs": [
    {
     "name": "stdout",
     "output_type": "stream",
     "text": [
      "Help on list object:\n",
      "\n",
      "class list(object)\n",
      " |  list() -> new empty list\n",
      " |  list(iterable) -> new list initialized from iterable's items\n",
      " |  \n",
      " |  Methods defined here:\n",
      " |  \n",
      " |  __add__(self, value, /)\n",
      " |      Return self+value.\n",
      " |  \n",
      " |  __contains__(self, key, /)\n",
      " |      Return key in self.\n",
      " |  \n",
      " |  __delitem__(self, key, /)\n",
      " |      Delete self[key].\n",
      " |  \n",
      " |  __eq__(self, value, /)\n",
      " |      Return self==value.\n",
      " |  \n",
      " |  __ge__(self, value, /)\n",
      " |      Return self>=value.\n",
      " |  \n",
      " |  __getattribute__(self, name, /)\n",
      " |      Return getattr(self, name).\n",
      " |  \n",
      " |  __getitem__(...)\n",
      " |      x.__getitem__(y) <==> x[y]\n",
      " |  \n",
      " |  __gt__(self, value, /)\n",
      " |      Return self>value.\n",
      " |  \n",
      " |  __iadd__(self, value, /)\n",
      " |      Implement self+=value.\n",
      " |  \n",
      " |  __imul__(self, value, /)\n",
      " |      Implement self*=value.\n",
      " |  \n",
      " |  __init__(self, /, *args, **kwargs)\n",
      " |      Initialize self.  See help(type(self)) for accurate signature.\n",
      " |  \n",
      " |  __iter__(self, /)\n",
      " |      Implement iter(self).\n",
      " |  \n",
      " |  __le__(self, value, /)\n",
      " |      Return self<=value.\n",
      " |  \n",
      " |  __len__(self, /)\n",
      " |      Return len(self).\n",
      " |  \n",
      " |  __lt__(self, value, /)\n",
      " |      Return self<value.\n",
      " |  \n",
      " |  __mul__(self, value, /)\n",
      " |      Return self*value.n\n",
      " |  \n",
      " |  __ne__(self, value, /)\n",
      " |      Return self!=value.\n",
      " |  \n",
      " |  __new__(*args, **kwargs) from builtins.type\n",
      " |      Create and return a new object.  See help(type) for accurate signature.\n",
      " |  \n",
      " |  __repr__(self, /)\n",
      " |      Return repr(self).\n",
      " |  \n",
      " |  __reversed__(...)\n",
      " |      L.__reversed__() -- return a reverse iterator over the list\n",
      " |  \n",
      " |  __rmul__(self, value, /)\n",
      " |      Return self*value.\n",
      " |  \n",
      " |  __setitem__(self, key, value, /)\n",
      " |      Set self[key] to value.\n",
      " |  \n",
      " |  __sizeof__(...)\n",
      " |      L.__sizeof__() -- size of L in memory, in bytes\n",
      " |  \n",
      " |  append(...)\n",
      " |      L.append(object) -> None -- append object to end\n",
      " |  \n",
      " |  clear(...)\n",
      " |      L.clear() -> None -- remove all items from L\n",
      " |  \n",
      " |  copy(...)\n",
      " |      L.copy() -> list -- a shallow copy of L\n",
      " |  \n",
      " |  count(...)\n",
      " |      L.count(value) -> integer -- return number of occurrences of value\n",
      " |  \n",
      " |  extend(...)\n",
      " |      L.extend(iterable) -> None -- extend list by appending elements from the iterable\n",
      " |  \n",
      " |  index(...)\n",
      " |      L.index(value, [start, [stop]]) -> integer -- return first index of value.\n",
      " |      Raises ValueError if the value is not present.\n",
      " |  \n",
      " |  insert(...)\n",
      " |      L.insert(index, object) -- insert object before index\n",
      " |  \n",
      " |  pop(...)\n",
      " |      L.pop([index]) -> item -- remove and return item at index (default last).\n",
      " |      Raises IndexError if list is empty or index is out of range.\n",
      " |  \n",
      " |  remove(...)\n",
      " |      L.remove(value) -> None -- remove first occurrence of value.\n",
      " |      Raises ValueError if the value is not present.\n",
      " |  \n",
      " |  reverse(...)\n",
      " |      L.reverse() -- reverse *IN PLACE*\n",
      " |  \n",
      " |  sort(...)\n",
      " |      L.sort(key=None, reverse=False) -> None -- stable sort *IN PLACE*\n",
      " |  \n",
      " |  ----------------------------------------------------------------------\n",
      " |  Data and other attributes defined here:\n",
      " |  \n",
      " |  __hash__ = None\n",
      "\n"
     ]
    }
   ],
   "source": [
    "help (a_list)"
   ]
  },
  {
   "cell_type": "code",
   "execution_count": null,
   "metadata": {},
   "outputs": [],
   "source": [
    "a_list.count(1)"
   ]
  },
  {
   "cell_type": "markdown",
   "metadata": {
    "collapsed": true
   },
   "source": [
    "### 2.5 Dictionaries\n",
    "A dictionary is a kind of associates a *key* with a *value*. A value can be any object, even another dictionary."
   ]
  },
  {
   "cell_type": "code",
   "execution_count": 17,
   "metadata": {},
   "outputs": [
    {
     "name": "stdout",
     "output_type": "stream",
     "text": [
      "{'Dave': 'Cake', 'Joe': ['Cake', 'Pie']}\n"
     ]
    }
   ],
   "source": [
    "dessert_dict = {}  # Empty dictionary\n",
    "dessert_dict['Dave'] = \"Cake\"\n",
    "dessert_dict[\"Joe\"] = [\"Cake\", \"Pie\"]\n",
    "print (dessert_dict)"
   ]
  },
  {
   "cell_type": "code",
   "execution_count": 18,
   "metadata": {},
   "outputs": [
    {
     "data": {
      "text/plain": [
       "'Cake'"
      ]
     },
     "execution_count": 18,
     "metadata": {},
     "output_type": "execute_result"
    }
   ],
   "source": [
    "dessert_dict[\"Dave\"]"
   ]
  },
  {
   "cell_type": "code",
   "execution_count": 21,
   "metadata": {},
   "outputs": [
    {
     "data": {
      "text/plain": [
       "{'Bernease': {}, 'Dave': 'Cake', 'Joe': ['Cake', 'Pie']}"
      ]
     },
     "execution_count": 21,
     "metadata": {},
     "output_type": "execute_result"
    }
   ],
   "source": [
    "# This produces an error\n",
    "dessert_dict[\"Bernease\"] = {}\n",
    "dessert_dict"
   ]
  },
  {
   "cell_type": "code",
   "execution_count": 60,
   "metadata": {},
   "outputs": [],
   "source": [
    "dessert_dict[\"Bernease\"] = {\"Favorite\": [\"sorbet\", \"cobbler\"], \"Dislike\": \"Brownies\"}"
   ]
  },
  {
   "cell_type": "markdown",
   "metadata": {},
   "source": [
    "### 2.6 Summary\n",
    "<hr>\n",
    "\n",
    "| type | description |\n",
    "|------|------------|\n",
    "| primitive | int, float, string, bool |\n",
    "| tuple | An immutable collection of ordered objects |\n",
    "| list | A mutable collection of ordered objects |\n",
    "| dictionary | A mutable collection of named objects |\n"
   ]
  },
  {
   "cell_type": "markdown",
   "metadata": {},
   "source": [
    "## 3. Python's Data Science Ecosystem\n",
    "\n",
    "With this simple Python computation experience under our belt, we can now move to doing some more interesting analysis."
   ]
  },
  {
   "cell_type": "markdown",
   "metadata": {},
   "source": [
    "### Python's Data Science Ecosystem\n",
    "\n",
    "In addition to Python's built-in modules like the ``math`` module we explored above, there are also many often-used third-party modules that are core tools for doing data science with Python.\n",
    "Some of the most important ones are:\n",
    "\n",
    "#### [``numpy``](http://numpy.org/): Numerical Python\n",
    "\n",
    "Numpy is short for \"Numerical Python\", and contains tools for efficient manipulation of arrays of data.\n",
    "If you have used other computational tools like IDL or MatLab, Numpy should feel very familiar.\n",
    "\n",
    "#### [``scipy``](http://scipy.org/): Scientific Python\n",
    "\n",
    "Scipy is short for \"Scientific Python\", and contains a wide range of functionality for accomplishing common scientific tasks, such as optimization/minimization, numerical integration, interpolation, and much more.\n",
    "We will not look closely at Scipy today, but we will use its functionality later in the course.\n",
    "\n",
    "#### [``pandas``](http://pandas.pydata.org/): Labeled Data Manipulation in Python\n",
    "\n",
    "Pandas is short for \"Panel Data\", and contains tools for doing more advanced manipulation of labeled data in Python, in particular with a columnar data structure called a *Data Frame*.\n",
    "If you've used the [R](http://rstats.org) statistical language (and in particular the so-called \"Hadley Stack\"), much of the functionality in Pandas should feel very familiar.\n",
    "\n",
    "#### [``matplotlib``](http://matplotlib.org): Visualization in Python\n",
    "\n",
    "Matplotlib started out as a Matlab plotting clone in Python, and has grown from there in the 15 years since its creation. It is the most popular data visualization tool currently in the Python data world (though other recent packages are starting to encroach on its monopoly)."
   ]
  },
  {
   "cell_type": "markdown",
   "metadata": {},
   "source": [
    "### Installing Pandas & friends\n",
    "\n",
    "Because the above packages are not included in Python itself, you need to install them separately. While it is possible to install these from source (compiling the C and/or Fortran code that does the heavy lifting under the hood) it is much easier to use a package manager like ``conda``. All it takes is to run\n",
    "\n",
    "```\n",
    "$ conda install numpy scipy pandas matplotlib\n",
    "```\n",
    "\n",
    "and (so long as your conda setup is working) the packages will be downloaded and installed on your system."
   ]
  },
  {
   "cell_type": "markdown",
   "metadata": {},
   "source": [
    "## 4. Introduction to DataFrames"
   ]
  },
  {
   "cell_type": "markdown",
   "metadata": {},
   "source": [
    "What are the elements of a table?"
   ]
  },
  {
   "cell_type": "code",
   "execution_count": 22,
   "metadata": {},
   "outputs": [],
   "source": [
    "# Pandas DataFrames as table elements\n",
    "import pandas as pd"
   ]
  },
  {
   "cell_type": "markdown",
   "metadata": {},
   "source": [
    "What operations do we perform on tables?"
   ]
  },
  {
   "cell_type": "code",
   "execution_count": 30,
   "metadata": {},
   "outputs": [
    {
     "data": {
      "text/html": [
       "<div>\n",
       "<style scoped>\n",
       "    .dataframe tbody tr th:only-of-type {\n",
       "        vertical-align: middle;\n",
       "    }\n",
       "\n",
       "    .dataframe tbody tr th {\n",
       "        vertical-align: top;\n",
       "    }\n",
       "\n",
       "    .dataframe thead th {\n",
       "        text-align: right;\n",
       "    }\n",
       "</style>\n",
       "<table border=\"1\" class=\"dataframe\">\n",
       "  <thead>\n",
       "    <tr style=\"text-align: right;\">\n",
       "      <th></th>\n",
       "      <th>A</th>\n",
       "      <th>B</th>\n",
       "      <th>ccc</th>\n",
       "    </tr>\n",
       "  </thead>\n",
       "  <tbody>\n",
       "    <tr>\n",
       "      <th>0</th>\n",
       "      <td>1</td>\n",
       "      <td>2</td>\n",
       "      <td>1.0</td>\n",
       "    </tr>\n",
       "    <tr>\n",
       "      <th>1</th>\n",
       "      <td>2</td>\n",
       "      <td>4</td>\n",
       "      <td>33.0</td>\n",
       "    </tr>\n",
       "    <tr>\n",
       "      <th>2</th>\n",
       "      <td>3</td>\n",
       "      <td>6</td>\n",
       "      <td>4.0</td>\n",
       "    </tr>\n",
       "  </tbody>\n",
       "</table>\n",
       "</div>"
      ],
      "text/plain": [
       "   A  B   ccc\n",
       "0  1  2   1.0\n",
       "1  2  4  33.0\n",
       "2  3  6   4.0"
      ]
     },
     "execution_count": 30,
     "metadata": {},
     "output_type": "execute_result"
    }
   ],
   "source": [
    "df = pd.DataFrame({'A': [1,2,3], 'B': [2, 4, 6], 'ccc': [1.0, 33, 4]})\n",
    "df          "
   ]
  },
  {
   "cell_type": "code",
   "execution_count": 31,
   "metadata": {},
   "outputs": [
    {
     "data": {
      "text/html": [
       "<div>\n",
       "<style scoped>\n",
       "    .dataframe tbody tr th:only-of-type {\n",
       "        vertical-align: middle;\n",
       "    }\n",
       "\n",
       "    .dataframe tbody tr th {\n",
       "        vertical-align: top;\n",
       "    }\n",
       "\n",
       "    .dataframe thead th {\n",
       "        text-align: right;\n",
       "    }\n",
       "</style>\n",
       "<table border=\"1\" class=\"dataframe\">\n",
       "  <thead>\n",
       "    <tr style=\"text-align: right;\">\n",
       "      <th></th>\n",
       "      <th>A</th>\n",
       "      <th>ccc</th>\n",
       "    </tr>\n",
       "  </thead>\n",
       "  <tbody>\n",
       "    <tr>\n",
       "      <th>0</th>\n",
       "      <td>1</td>\n",
       "      <td>1.0</td>\n",
       "    </tr>\n",
       "    <tr>\n",
       "      <th>1</th>\n",
       "      <td>2</td>\n",
       "      <td>33.0</td>\n",
       "    </tr>\n",
       "    <tr>\n",
       "      <th>2</th>\n",
       "      <td>3</td>\n",
       "      <td>4.0</td>\n",
       "    </tr>\n",
       "  </tbody>\n",
       "</table>\n",
       "</div>"
      ],
      "text/plain": [
       "   A   ccc\n",
       "0  1   1.0\n",
       "1  2  33.0\n",
       "2  3   4.0"
      ]
     },
     "execution_count": 31,
     "metadata": {},
     "output_type": "execute_result"
    }
   ],
   "source": [
    "sub_df = df[['A', 'ccc']]\n",
    "sub_df"
   ]
  },
  {
   "cell_type": "code",
   "execution_count": 33,
   "metadata": {},
   "outputs": [
    {
     "data": {
      "text/plain": [
       "0     5\n",
       "1    10\n",
       "2    15\n",
       "dtype: int64"
      ]
     },
     "execution_count": 33,
     "metadata": {},
     "output_type": "execute_result"
    }
   ],
   "source": [
    "df['A'] + 2*df['B']"
   ]
  },
  {
   "cell_type": "code",
   "execution_count": null,
   "metadata": {},
   "outputs": [],
   "source": [
    "# Operations on a Pandas DataFrame"
   ]
  },
  {
   "cell_type": "markdown",
   "metadata": {},
   "source": [
    "## 5. Manipulating Data with DataFrames"
   ]
  },
  {
   "cell_type": "markdown",
   "metadata": {},
   "source": [
    "### Downloading the data\n",
    "\n",
    "shell commands can be run from the notebook by preceding them with an exclamation point:"
   ]
  },
  {
   "cell_type": "code",
   "execution_count": 34,
   "metadata": {},
   "outputs": [
    {
     "name": "stdout",
     "output_type": "stream",
     "text": [
      "Lecture-Python-And-Data.ipynb\t\tpronto.csv\r\n",
      "procedural_programming_in_python.ipynb\r\n"
     ]
    }
   ],
   "source": [
    "!ls"
   ]
  },
  {
   "cell_type": "markdown",
   "metadata": {},
   "source": [
    "uncomment this to download the data:"
   ]
  },
  {
   "cell_type": "code",
   "execution_count": null,
   "metadata": {},
   "outputs": [],
   "source": [
    "#!curl -o pronto.csv https://data.seattle.gov/api/views/tw7j-dfaw/rows.csv?accessType=DOWNLOAD"
   ]
  },
  {
   "cell_type": "markdown",
   "metadata": {},
   "source": [
    "### Loading Data into a DataFrame"
   ]
  },
  {
   "cell_type": "markdown",
   "metadata": {},
   "source": [
    "Because we'll use it so much, we often import under a shortened name using the ``import ... as ...`` pattern:"
   ]
  },
  {
   "cell_type": "code",
   "execution_count": 35,
   "metadata": {},
   "outputs": [],
   "source": [
    "import pandas as pd\n",
    "df = pd.read_csv('pronto.csv')"
   ]
  },
  {
   "cell_type": "code",
   "execution_count": 36,
   "metadata": {},
   "outputs": [
    {
     "data": {
      "text/plain": [
       "pandas.core.frame.DataFrame"
      ]
     },
     "execution_count": 36,
     "metadata": {},
     "output_type": "execute_result"
    }
   ],
   "source": [
    "type(df)"
   ]
  },
  {
   "cell_type": "code",
   "execution_count": 37,
   "metadata": {},
   "outputs": [
    {
     "data": {
      "text/plain": [
       "275091"
      ]
     },
     "execution_count": 37,
     "metadata": {},
     "output_type": "execute_result"
    }
   ],
   "source": [
    "len(df)"
   ]
  },
  {
   "cell_type": "markdown",
   "metadata": {},
   "source": [
    "Now we can use the ``read_csv`` command to read the comma-separated-value data:"
   ]
  },
  {
   "cell_type": "markdown",
   "metadata": {},
   "source": [
    "*Note: strings in Python can be defined either with double quotes or single quotes*"
   ]
  },
  {
   "cell_type": "markdown",
   "metadata": {},
   "source": [
    "### Viewing Pandas Dataframes"
   ]
  },
  {
   "cell_type": "markdown",
   "metadata": {},
   "source": [
    "The ``head()`` and ``tail()`` methods show us the first and last rows of the data"
   ]
  },
  {
   "cell_type": "code",
   "execution_count": 38,
   "metadata": {},
   "outputs": [
    {
     "data": {
      "text/html": [
       "<div>\n",
       "<style scoped>\n",
       "    .dataframe tbody tr th:only-of-type {\n",
       "        vertical-align: middle;\n",
       "    }\n",
       "\n",
       "    .dataframe tbody tr th {\n",
       "        vertical-align: top;\n",
       "    }\n",
       "\n",
       "    .dataframe thead th {\n",
       "        text-align: right;\n",
       "    }\n",
       "</style>\n",
       "<table border=\"1\" class=\"dataframe\">\n",
       "  <thead>\n",
       "    <tr style=\"text-align: right;\">\n",
       "      <th></th>\n",
       "      <th>trip_id</th>\n",
       "      <th>starttime</th>\n",
       "      <th>stoptime</th>\n",
       "      <th>bikeid</th>\n",
       "      <th>tripduration</th>\n",
       "      <th>from_station_name</th>\n",
       "      <th>to_station_name</th>\n",
       "      <th>from_station_id</th>\n",
       "      <th>to_station_id</th>\n",
       "      <th>usertype</th>\n",
       "      <th>gender</th>\n",
       "      <th>birthyear</th>\n",
       "    </tr>\n",
       "  </thead>\n",
       "  <tbody>\n",
       "    <tr>\n",
       "      <th>0</th>\n",
       "      <td>431</td>\n",
       "      <td>10/13/2014 10:31:00 AM</td>\n",
       "      <td>10/13/2014 10:48:00 AM</td>\n",
       "      <td>SEA00298</td>\n",
       "      <td>985.935</td>\n",
       "      <td>2nd Ave &amp; Spring St</td>\n",
       "      <td>Occidental Park / Occidental Ave S &amp; S Washing...</td>\n",
       "      <td>CBD-06</td>\n",
       "      <td>PS-04</td>\n",
       "      <td>Member</td>\n",
       "      <td>Male</td>\n",
       "      <td>1960.0</td>\n",
       "    </tr>\n",
       "    <tr>\n",
       "      <th>1</th>\n",
       "      <td>432</td>\n",
       "      <td>10/13/2014 10:32:00 AM</td>\n",
       "      <td>10/13/2014 10:48:00 AM</td>\n",
       "      <td>SEA00195</td>\n",
       "      <td>926.375</td>\n",
       "      <td>2nd Ave &amp; Spring St</td>\n",
       "      <td>Occidental Park / Occidental Ave S &amp; S Washing...</td>\n",
       "      <td>CBD-06</td>\n",
       "      <td>PS-04</td>\n",
       "      <td>Member</td>\n",
       "      <td>Male</td>\n",
       "      <td>1970.0</td>\n",
       "    </tr>\n",
       "    <tr>\n",
       "      <th>2</th>\n",
       "      <td>433</td>\n",
       "      <td>10/13/2014 10:33:00 AM</td>\n",
       "      <td>10/13/2014 10:48:00 AM</td>\n",
       "      <td>SEA00486</td>\n",
       "      <td>883.831</td>\n",
       "      <td>2nd Ave &amp; Spring St</td>\n",
       "      <td>Occidental Park / Occidental Ave S &amp; S Washing...</td>\n",
       "      <td>CBD-06</td>\n",
       "      <td>PS-04</td>\n",
       "      <td>Member</td>\n",
       "      <td>Female</td>\n",
       "      <td>1988.0</td>\n",
       "    </tr>\n",
       "    <tr>\n",
       "      <th>3</th>\n",
       "      <td>434</td>\n",
       "      <td>10/13/2014 10:34:00 AM</td>\n",
       "      <td>10/13/2014 10:48:00 AM</td>\n",
       "      <td>SEA00333</td>\n",
       "      <td>865.937</td>\n",
       "      <td>2nd Ave &amp; Spring St</td>\n",
       "      <td>Occidental Park / Occidental Ave S &amp; S Washing...</td>\n",
       "      <td>CBD-06</td>\n",
       "      <td>PS-04</td>\n",
       "      <td>Member</td>\n",
       "      <td>Female</td>\n",
       "      <td>1977.0</td>\n",
       "    </tr>\n",
       "    <tr>\n",
       "      <th>4</th>\n",
       "      <td>435</td>\n",
       "      <td>10/13/2014 10:34:00 AM</td>\n",
       "      <td>10/13/2014 10:49:00 AM</td>\n",
       "      <td>SEA00202</td>\n",
       "      <td>923.923</td>\n",
       "      <td>2nd Ave &amp; Spring St</td>\n",
       "      <td>Occidental Park / Occidental Ave S &amp; S Washing...</td>\n",
       "      <td>CBD-06</td>\n",
       "      <td>PS-04</td>\n",
       "      <td>Member</td>\n",
       "      <td>Male</td>\n",
       "      <td>1971.0</td>\n",
       "    </tr>\n",
       "  </tbody>\n",
       "</table>\n",
       "</div>"
      ],
      "text/plain": [
       "   trip_id               starttime                stoptime    bikeid  \\\n",
       "0      431  10/13/2014 10:31:00 AM  10/13/2014 10:48:00 AM  SEA00298   \n",
       "1      432  10/13/2014 10:32:00 AM  10/13/2014 10:48:00 AM  SEA00195   \n",
       "2      433  10/13/2014 10:33:00 AM  10/13/2014 10:48:00 AM  SEA00486   \n",
       "3      434  10/13/2014 10:34:00 AM  10/13/2014 10:48:00 AM  SEA00333   \n",
       "4      435  10/13/2014 10:34:00 AM  10/13/2014 10:49:00 AM  SEA00202   \n",
       "\n",
       "   tripduration    from_station_name  \\\n",
       "0       985.935  2nd Ave & Spring St   \n",
       "1       926.375  2nd Ave & Spring St   \n",
       "2       883.831  2nd Ave & Spring St   \n",
       "3       865.937  2nd Ave & Spring St   \n",
       "4       923.923  2nd Ave & Spring St   \n",
       "\n",
       "                                     to_station_name from_station_id  \\\n",
       "0  Occidental Park / Occidental Ave S & S Washing...          CBD-06   \n",
       "1  Occidental Park / Occidental Ave S & S Washing...          CBD-06   \n",
       "2  Occidental Park / Occidental Ave S & S Washing...          CBD-06   \n",
       "3  Occidental Park / Occidental Ave S & S Washing...          CBD-06   \n",
       "4  Occidental Park / Occidental Ave S & S Washing...          CBD-06   \n",
       "\n",
       "  to_station_id usertype  gender  birthyear  \n",
       "0         PS-04   Member    Male     1960.0  \n",
       "1         PS-04   Member    Male     1970.0  \n",
       "2         PS-04   Member  Female     1988.0  \n",
       "3         PS-04   Member  Female     1977.0  \n",
       "4         PS-04   Member    Male     1971.0  "
      ]
     },
     "execution_count": 38,
     "metadata": {},
     "output_type": "execute_result"
    }
   ],
   "source": [
    "df.head()"
   ]
  },
  {
   "cell_type": "code",
   "execution_count": 39,
   "metadata": {},
   "outputs": [
    {
     "data": {
      "text/plain": [
       "Index(['trip_id', 'starttime', 'stoptime', 'bikeid', 'tripduration',\n",
       "       'from_station_name', 'to_station_name', 'from_station_id',\n",
       "       'to_station_id', 'usertype', 'gender', 'birthyear'],\n",
       "      dtype='object')"
      ]
     },
     "execution_count": 39,
     "metadata": {},
     "output_type": "execute_result"
    }
   ],
   "source": [
    "df.columns"
   ]
  },
  {
   "cell_type": "code",
   "execution_count": null,
   "metadata": {},
   "outputs": [],
   "source": []
  },
  {
   "cell_type": "markdown",
   "metadata": {},
   "source": [
    "The ``shape`` attribute shows us the number of elements:"
   ]
  },
  {
   "cell_type": "code",
   "execution_count": 40,
   "metadata": {},
   "outputs": [
    {
     "data": {
      "text/plain": [
       "(275091, 12)"
      ]
     },
     "execution_count": 40,
     "metadata": {},
     "output_type": "execute_result"
    }
   ],
   "source": [
    "df.shape"
   ]
  },
  {
   "cell_type": "markdown",
   "metadata": {},
   "source": [
    "The ``columns`` attribute gives us the column names"
   ]
  },
  {
   "cell_type": "code",
   "execution_count": null,
   "metadata": {},
   "outputs": [],
   "source": []
  },
  {
   "cell_type": "markdown",
   "metadata": {},
   "source": [
    "The ``index`` attribute gives us the index names"
   ]
  },
  {
   "cell_type": "code",
   "execution_count": null,
   "metadata": {},
   "outputs": [],
   "source": []
  },
  {
   "cell_type": "markdown",
   "metadata": {},
   "source": [
    "The ``dtypes`` attribute gives the data types of each column:"
   ]
  },
  {
   "cell_type": "code",
   "execution_count": 41,
   "metadata": {},
   "outputs": [
    {
     "data": {
      "text/plain": [
       "trip_id                int64\n",
       "starttime             object\n",
       "stoptime              object\n",
       "bikeid                object\n",
       "tripduration         float64\n",
       "from_station_name     object\n",
       "to_station_name       object\n",
       "from_station_id       object\n",
       "to_station_id         object\n",
       "usertype              object\n",
       "gender                object\n",
       "birthyear            float64\n",
       "dtype: object"
      ]
     },
     "execution_count": 41,
     "metadata": {},
     "output_type": "execute_result"
    }
   ],
   "source": [
    "df.dtypes"
   ]
  },
  {
   "cell_type": "markdown",
   "metadata": {},
   "source": [
    "### Sophisticated Data Manipulation\n",
    "\n",
    "Here we'll cover some key features of manipulating data with pandas"
   ]
  },
  {
   "cell_type": "markdown",
   "metadata": {},
   "source": [
    "Access columns by name using square-bracket indexing:"
   ]
  },
  {
   "cell_type": "code",
   "execution_count": 42,
   "metadata": {},
   "outputs": [],
   "source": [
    "df_small = df[ 'stoptime']"
   ]
  },
  {
   "cell_type": "code",
   "execution_count": 43,
   "metadata": {},
   "outputs": [
    {
     "data": {
      "text/plain": [
       "pandas.core.series.Series"
      ]
     },
     "execution_count": 43,
     "metadata": {},
     "output_type": "execute_result"
    }
   ],
   "source": [
    "type(df_small)"
   ]
  },
  {
   "cell_type": "code",
   "execution_count": 45,
   "metadata": {},
   "outputs": [
    {
     "data": {
      "text/plain": [
       "['10/13/2014 10:48:00 AM',\n",
       " '10/13/2014 10:48:00 AM',\n",
       " '10/13/2014 10:48:00 AM',\n",
       " '10/13/2014 10:48:00 AM',\n",
       " '10/13/2014 10:49:00 AM',\n",
       " '10/13/2014 10:47:00 AM',\n",
       " '10/13/2014 11:45:00 AM',\n",
       " '10/13/2014 11:45:00 AM',\n",
       " '10/13/2014 11:45:00 AM',\n",
       " '10/13/2014 11:45:00 AM',\n",
       " '10/13/2014 11:45:00 AM',\n",
       " '10/13/2014 11:47:00 AM',\n",
       " '10/13/2014 11:47:00 AM',\n",
       " '10/13/2014 11:47:00 AM',\n",
       " '10/13/2014 11:47:00 AM',\n",
       " '10/13/2014 11:47:00 AM',\n",
       " '10/13/2014 11:47:00 AM',\n",
       " '10/13/2014 11:47:00 AM',\n",
       " '10/13/2014 11:49:00 AM',\n",
       " '10/13/2014 11:51:00 AM',\n",
       " '10/13/2014 11:51:00 AM',\n",
       " '10/13/2014 11:51:00 AM',\n",
       " '10/13/2014 11:49:00 AM',\n",
       " '10/13/2014 11:51:00 AM',\n",
       " '10/13/2014 11:51:00 AM',\n",
       " '10/13/2014 11:52:00 AM',\n",
       " '10/13/2014 11:51:00 AM',\n",
       " '10/13/2014 11:51:00 AM',\n",
       " '10/13/2014 11:51:00 AM',\n",
       " '10/13/2014 11:55:00 AM',\n",
       " '10/13/2014 12:00:00 PM',\n",
       " '10/13/2014 12:00:00 PM',\n",
       " '10/13/2014 12:00:00 PM',\n",
       " '10/13/2014 12:02:00 PM',\n",
       " '10/13/2014 12:00:00 PM',\n",
       " '10/13/2014 12:00:00 PM',\n",
       " '10/13/2014 11:51:00 AM',\n",
       " '10/13/2014 11:59:00 AM',\n",
       " '10/13/2014 12:00:00 PM',\n",
       " '10/13/2014 11:59:00 AM',\n",
       " '10/13/2014 11:59:00 AM',\n",
       " '10/13/2014 11:59:00 AM',\n",
       " '10/13/2014 12:06:00 PM',\n",
       " '10/13/2014 12:01:00 PM',\n",
       " '10/13/2014 12:04:00 PM',\n",
       " '10/13/2014 12:01:00 PM',\n",
       " '10/13/2014 12:11:00 PM',\n",
       " '10/13/2014 12:11:00 PM',\n",
       " '10/13/2014 12:04:00 PM',\n",
       " '10/13/2014 12:01:00 PM',\n",
       " '10/13/2014 12:04:00 PM',\n",
       " '10/13/2014 12:05:00 PM',\n",
       " '10/13/2014 12:04:00 PM',\n",
       " '10/13/2014 11:55:00 AM',\n",
       " '10/13/2014 12:02:00 PM',\n",
       " '10/13/2014 12:39:00 PM',\n",
       " '10/13/2014 12:39:00 PM',\n",
       " '10/13/2014 12:05:00 PM',\n",
       " '10/13/2014 12:39:00 PM',\n",
       " '10/13/2014 12:19:00 PM',\n",
       " '10/13/2014 12:40:00 PM',\n",
       " '10/13/2014 12:20:00 PM',\n",
       " '10/13/2014 02:28:00 PM',\n",
       " '10/13/2014 12:10:00 PM',\n",
       " '10/13/2014 12:13:00 PM',\n",
       " '10/13/2014 12:13:00 PM',\n",
       " '10/13/2014 12:16:00 PM',\n",
       " '10/13/2014 12:45:00 PM',\n",
       " '10/13/2014 07:07:00 PM',\n",
       " '10/13/2014 12:16:00 PM',\n",
       " '10/13/2014 12:25:00 PM',\n",
       " '10/13/2014 12:20:00 PM',\n",
       " '10/13/2014 12:31:00 PM',\n",
       " '10/13/2014 12:31:00 PM',\n",
       " '10/13/2014 12:31:00 PM',\n",
       " '10/13/2014 12:22:00 PM',\n",
       " '10/13/2014 12:21:00 PM',\n",
       " '10/13/2014 12:34:00 PM',\n",
       " '10/13/2014 12:31:00 PM',\n",
       " '10/13/2014 12:26:00 PM',\n",
       " '10/13/2014 12:32:00 PM',\n",
       " '10/13/2014 12:57:00 PM',\n",
       " '10/13/2014 12:57:00 PM',\n",
       " '10/13/2014 01:21:00 PM',\n",
       " '10/13/2014 12:36:00 PM',\n",
       " '10/13/2014 12:40:00 PM',\n",
       " '10/13/2014 12:40:00 PM',\n",
       " '10/13/2014 12:47:00 PM',\n",
       " '10/13/2014 12:46:00 PM',\n",
       " '10/13/2014 12:45:00 PM',\n",
       " '10/13/2014 12:48:00 PM',\n",
       " '10/13/2014 12:47:00 PM',\n",
       " '10/13/2014 12:51:00 PM',\n",
       " '10/13/2014 12:58:00 PM',\n",
       " '10/13/2014 12:52:00 PM',\n",
       " '10/13/2014 12:58:00 PM',\n",
       " '10/13/2014 12:59:00 PM',\n",
       " '10/13/2014 01:15:00 PM',\n",
       " '10/13/2014 01:04:00 PM',\n",
       " '10/13/2014 01:18:00 PM',\n",
       " '10/13/2014 01:16:00 PM',\n",
       " '10/13/2014 01:13:00 PM',\n",
       " '10/13/2014 01:10:00 PM',\n",
       " '10/13/2014 01:12:00 PM',\n",
       " '10/13/2014 01:16:00 PM',\n",
       " '10/13/2014 01:14:00 PM',\n",
       " '10/13/2014 01:30:00 PM',\n",
       " '10/13/2014 01:22:00 PM',\n",
       " '10/13/2014 01:22:00 PM',\n",
       " '10/13/2014 01:15:00 PM',\n",
       " '10/13/2014 01:09:00 PM',\n",
       " '10/13/2014 01:18:00 PM',\n",
       " '10/13/2014 01:27:00 PM',\n",
       " '10/13/2014 01:24:00 PM',\n",
       " '10/13/2014 01:30:00 PM',\n",
       " '10/13/2014 01:33:00 PM',\n",
       " '10/13/2014 01:33:00 PM',\n",
       " '10/13/2014 01:33:00 PM',\n",
       " '10/13/2014 01:42:00 PM',\n",
       " '10/13/2014 01:42:00 PM',\n",
       " '10/13/2014 01:42:00 PM',\n",
       " '10/13/2014 12:47:00 PM',\n",
       " '10/13/2014 12:49:00 PM',\n",
       " '10/13/2014 01:44:00 PM',\n",
       " '10/13/2014 02:29:00 PM',\n",
       " '10/13/2014 01:52:00 PM',\n",
       " '10/13/2014 02:22:00 PM',\n",
       " '10/13/2014 01:45:00 PM',\n",
       " '10/13/2014 01:55:00 PM',\n",
       " '10/13/2014 01:56:00 PM',\n",
       " '10/13/2014 02:03:00 PM',\n",
       " '10/13/2014 01:52:00 PM',\n",
       " '10/13/2014 02:09:00 PM',\n",
       " '10/13/2014 02:09:00 PM',\n",
       " '10/13/2014 01:49:00 PM',\n",
       " '10/13/2014 02:09:00 PM',\n",
       " '10/13/2014 01:56:00 PM',\n",
       " '10/13/2014 01:59:00 PM',\n",
       " '10/13/2014 02:08:00 PM',\n",
       " '10/13/2014 02:05:00 PM',\n",
       " '10/13/2014 02:12:00 PM',\n",
       " '10/13/2014 02:07:00 PM',\n",
       " '10/13/2014 02:35:00 PM',\n",
       " '10/13/2014 02:35:00 PM',\n",
       " '10/13/2014 02:07:00 PM',\n",
       " '10/13/2014 02:11:00 PM',\n",
       " '10/13/2014 02:12:00 PM',\n",
       " '10/13/2014 02:35:00 PM',\n",
       " '10/13/2014 02:18:00 PM',\n",
       " '10/13/2014 02:18:00 PM',\n",
       " '10/13/2014 02:18:00 PM',\n",
       " '10/13/2014 02:18:00 PM',\n",
       " '10/13/2014 02:39:00 PM',\n",
       " '10/13/2014 02:39:00 PM',\n",
       " '10/13/2014 02:16:00 PM',\n",
       " '10/13/2014 02:39:00 PM',\n",
       " '10/13/2014 02:39:00 PM',\n",
       " '10/13/2014 03:08:00 PM',\n",
       " '10/13/2014 02:38:00 PM',\n",
       " '10/13/2014 02:38:00 PM',\n",
       " '10/13/2014 02:20:00 PM',\n",
       " '10/13/2014 02:24:00 PM',\n",
       " '10/13/2014 02:38:00 PM',\n",
       " '10/13/2014 02:26:00 PM',\n",
       " '10/13/2014 02:34:00 PM',\n",
       " '10/13/2014 02:34:00 PM',\n",
       " '10/13/2014 02:31:00 PM',\n",
       " '10/13/2014 02:26:00 PM',\n",
       " '10/13/2014 02:29:00 PM',\n",
       " '10/13/2014 02:48:00 PM',\n",
       " '10/13/2014 02:48:00 PM',\n",
       " '10/13/2014 02:51:00 PM',\n",
       " '10/13/2014 02:37:00 PM',\n",
       " '10/13/2014 02:33:00 PM',\n",
       " '10/13/2014 02:34:00 PM',\n",
       " '10/13/2014 02:31:00 PM',\n",
       " '10/13/2014 02:30:00 PM',\n",
       " '10/13/2014 02:49:00 PM',\n",
       " '10/13/2014 02:40:00 PM',\n",
       " '10/13/2014 02:56:00 PM',\n",
       " '10/13/2014 02:56:00 PM',\n",
       " '10/13/2014 02:39:00 PM',\n",
       " '10/13/2014 02:49:00 PM',\n",
       " '10/13/2014 02:56:00 PM',\n",
       " '10/13/2014 02:55:00 PM',\n",
       " '10/13/2014 02:56:00 PM',\n",
       " '10/13/2014 02:56:00 PM',\n",
       " '10/13/2014 03:01:00 PM',\n",
       " '10/13/2014 02:54:00 PM',\n",
       " '10/13/2014 02:56:00 PM',\n",
       " '10/13/2014 02:56:00 PM',\n",
       " '10/13/2014 03:09:00 PM',\n",
       " '10/13/2014 03:10:00 PM',\n",
       " '10/13/2014 05:59:00 PM',\n",
       " '10/13/2014 03:02:00 PM',\n",
       " '10/13/2014 03:13:00 PM',\n",
       " '10/13/2014 03:10:00 PM',\n",
       " '10/13/2014 03:16:00 PM',\n",
       " '10/13/2014 03:11:00 PM',\n",
       " '10/13/2014 03:11:00 PM',\n",
       " '10/13/2014 03:23:00 PM',\n",
       " '10/13/2014 03:23:00 PM',\n",
       " '10/13/2014 03:25:00 PM',\n",
       " '10/13/2014 03:53:00 PM',\n",
       " '10/13/2014 03:47:00 PM',\n",
       " '10/13/2014 03:20:00 PM',\n",
       " '10/13/2014 03:53:00 PM',\n",
       " '10/13/2014 03:57:00 PM',\n",
       " '10/13/2014 05:16:00 PM',\n",
       " '10/13/2014 03:27:00 PM',\n",
       " '10/13/2014 03:36:00 PM',\n",
       " '10/13/2014 03:50:00 PM',\n",
       " '10/13/2014 03:48:00 PM',\n",
       " '10/13/2014 03:37:00 PM',\n",
       " '10/13/2014 03:47:00 PM',\n",
       " '10/13/2014 03:48:00 PM',\n",
       " '10/13/2014 03:48:00 PM',\n",
       " '10/13/2014 03:57:00 PM',\n",
       " '10/13/2014 03:59:00 PM',\n",
       " '10/13/2014 04:05:00 PM',\n",
       " '10/13/2014 04:08:00 PM',\n",
       " '10/13/2014 04:07:00 PM',\n",
       " '10/13/2014 03:57:00 PM',\n",
       " '10/13/2014 04:00:00 PM',\n",
       " '10/13/2014 04:16:00 PM',\n",
       " '10/13/2014 05:08:00 PM',\n",
       " '10/13/2014 04:22:00 PM',\n",
       " '10/13/2014 04:10:00 PM',\n",
       " '10/13/2014 04:10:00 PM',\n",
       " '10/13/2014 04:05:00 PM',\n",
       " '10/13/2014 04:05:00 PM',\n",
       " '10/13/2014 04:13:00 PM',\n",
       " '10/13/2014 04:20:00 PM',\n",
       " '10/13/2014 04:10:00 PM',\n",
       " '10/13/2014 04:15:00 PM',\n",
       " '10/13/2014 04:15:00 PM',\n",
       " '10/13/2014 04:30:00 PM',\n",
       " '10/13/2014 04:19:00 PM',\n",
       " '10/13/2014 04:28:00 PM',\n",
       " '10/13/2014 04:24:00 PM',\n",
       " '10/13/2014 04:47:00 PM',\n",
       " '10/13/2014 04:46:00 PM',\n",
       " '10/13/2014 04:22:00 PM',\n",
       " '10/13/2014 04:24:00 PM',\n",
       " '10/13/2014 04:22:00 PM',\n",
       " '10/13/2014 04:42:00 PM',\n",
       " '10/13/2014 04:37:00 PM',\n",
       " '10/13/2014 04:37:00 PM',\n",
       " '10/13/2014 04:47:00 PM',\n",
       " '10/13/2014 04:32:00 PM',\n",
       " '10/13/2014 04:47:00 PM',\n",
       " '10/13/2014 04:48:00 PM',\n",
       " '10/13/2014 04:40:00 PM',\n",
       " '10/13/2014 04:33:00 PM',\n",
       " '10/13/2014 04:33:00 PM',\n",
       " '10/13/2014 04:39:00 PM',\n",
       " '10/13/2014 04:42:00 PM',\n",
       " '10/13/2014 04:51:00 PM',\n",
       " '10/13/2014 04:51:00 PM',\n",
       " '10/13/2014 04:45:00 PM',\n",
       " '10/13/2014 04:48:00 PM',\n",
       " '10/13/2014 04:50:00 PM',\n",
       " '10/13/2014 04:58:00 PM',\n",
       " '10/13/2014 05:11:00 PM',\n",
       " '10/13/2014 05:14:00 PM',\n",
       " '10/13/2014 04:54:00 PM',\n",
       " '10/13/2014 05:14:00 PM',\n",
       " '10/13/2014 05:14:00 PM',\n",
       " '10/13/2014 05:03:00 PM',\n",
       " '10/13/2014 05:07:00 PM',\n",
       " '10/13/2014 05:14:00 PM',\n",
       " '10/13/2014 05:19:00 PM',\n",
       " '10/13/2014 05:01:00 PM',\n",
       " '10/13/2014 05:12:00 PM',\n",
       " '10/13/2014 05:16:00 PM',\n",
       " '10/13/2014 05:10:00 PM',\n",
       " '10/13/2014 05:19:00 PM',\n",
       " '10/13/2014 05:20:00 PM',\n",
       " '10/13/2014 05:19:00 PM',\n",
       " '10/13/2014 05:19:00 PM',\n",
       " '10/13/2014 05:16:00 PM',\n",
       " '10/13/2014 05:07:00 PM',\n",
       " '10/13/2014 05:21:00 PM',\n",
       " '10/13/2014 05:20:00 PM',\n",
       " '10/13/2014 05:18:00 PM',\n",
       " '10/13/2014 05:20:00 PM',\n",
       " '10/13/2014 05:15:00 PM',\n",
       " '10/13/2014 05:15:00 PM',\n",
       " '10/13/2014 05:27:00 PM',\n",
       " '10/13/2014 05:20:00 PM',\n",
       " '10/13/2014 05:25:00 PM',\n",
       " '10/13/2014 05:23:00 PM',\n",
       " '10/13/2014 05:32:00 PM',\n",
       " '10/13/2014 05:31:00 PM',\n",
       " '10/13/2014 05:30:00 PM',\n",
       " '10/13/2014 05:39:00 PM',\n",
       " '10/13/2014 05:43:00 PM',\n",
       " '10/13/2014 05:52:00 PM',\n",
       " '10/13/2014 05:52:00 PM',\n",
       " '10/13/2014 05:32:00 PM',\n",
       " '10/13/2014 05:52:00 PM',\n",
       " '10/13/2014 06:09:00 PM',\n",
       " '10/13/2014 05:52:00 PM',\n",
       " '10/13/2014 05:53:00 PM',\n",
       " '10/13/2014 05:47:00 PM',\n",
       " '10/13/2014 05:47:00 PM',\n",
       " '10/13/2014 05:47:00 PM',\n",
       " '10/13/2014 05:48:00 PM',\n",
       " '10/13/2014 05:55:00 PM',\n",
       " '10/13/2014 05:58:00 PM',\n",
       " '10/13/2014 05:51:00 PM',\n",
       " '10/13/2014 05:44:00 PM',\n",
       " '10/13/2014 05:55:00 PM',\n",
       " '10/13/2014 05:49:00 PM',\n",
       " '10/13/2014 06:06:00 PM',\n",
       " '10/13/2014 05:52:00 PM',\n",
       " '10/13/2014 05:58:00 PM',\n",
       " '10/13/2014 05:49:00 PM',\n",
       " '10/13/2014 06:00:00 PM',\n",
       " '10/13/2014 06:02:00 PM',\n",
       " '10/13/2014 06:11:00 PM',\n",
       " '10/13/2014 06:01:00 PM',\n",
       " '10/13/2014 06:03:00 PM',\n",
       " '10/13/2014 06:18:00 PM',\n",
       " '10/13/2014 06:03:00 PM',\n",
       " '10/13/2014 07:28:00 PM',\n",
       " '10/13/2014 06:27:00 PM',\n",
       " '10/13/2014 06:27:00 PM',\n",
       " '10/13/2014 06:07:00 PM',\n",
       " '10/13/2014 06:28:00 PM',\n",
       " '10/13/2014 06:19:00 PM',\n",
       " '10/13/2014 06:27:00 PM',\n",
       " '10/13/2014 06:08:00 PM',\n",
       " '10/13/2014 06:15:00 PM',\n",
       " '10/13/2014 06:11:00 PM',\n",
       " '10/13/2014 06:16:00 PM',\n",
       " '10/13/2014 06:13:00 PM',\n",
       " '10/13/2014 06:13:00 PM',\n",
       " '10/13/2014 06:34:00 PM',\n",
       " '10/13/2014 06:19:00 PM',\n",
       " '10/13/2014 06:30:00 PM',\n",
       " '10/13/2014 06:35:00 PM',\n",
       " '10/13/2014 06:28:00 PM',\n",
       " '10/13/2014 06:31:00 PM',\n",
       " '10/13/2014 06:30:00 PM',\n",
       " '10/13/2014 06:43:00 PM',\n",
       " '10/13/2014 06:32:00 PM',\n",
       " '10/13/2014 06:44:00 PM',\n",
       " '10/13/2014 06:44:00 PM',\n",
       " '10/13/2014 06:33:00 PM',\n",
       " '10/13/2014 06:46:00 PM',\n",
       " '10/13/2014 06:46:00 PM',\n",
       " '10/13/2014 06:38:00 PM',\n",
       " '10/13/2014 06:46:00 PM',\n",
       " '10/13/2014 06:46:00 PM',\n",
       " '10/13/2014 06:38:00 PM',\n",
       " '10/13/2014 06:43:00 PM',\n",
       " '10/13/2014 06:43:00 PM',\n",
       " '10/13/2014 06:54:00 PM',\n",
       " '10/13/2014 06:49:00 PM',\n",
       " '10/13/2014 06:54:00 PM',\n",
       " '10/13/2014 07:10:00 PM',\n",
       " '10/13/2014 07:47:00 PM',\n",
       " '10/13/2014 07:48:00 PM',\n",
       " '10/13/2014 06:53:00 PM',\n",
       " '10/13/2014 07:05:00 PM',\n",
       " '10/13/2014 06:54:00 PM',\n",
       " '10/13/2014 07:05:00 PM',\n",
       " '10/13/2014 07:19:00 PM',\n",
       " '10/13/2014 07:47:00 PM',\n",
       " '10/13/2014 07:46:00 PM',\n",
       " '10/13/2014 07:39:00 PM',\n",
       " '10/13/2014 07:39:00 PM',\n",
       " '10/13/2014 07:47:00 PM',\n",
       " '10/13/2014 07:46:00 PM',\n",
       " '10/13/2014 07:56:00 PM',\n",
       " '10/13/2014 07:45:00 PM',\n",
       " '10/13/2014 08:12:00 PM',\n",
       " '10/13/2014 08:15:00 PM',\n",
       " '10/13/2014 08:14:00 PM',\n",
       " '10/13/2014 08:08:00 PM',\n",
       " '10/13/2014 08:22:00 PM',\n",
       " '10/13/2014 08:19:00 PM',\n",
       " '10/13/2014 08:28:00 PM',\n",
       " '10/13/2014 08:33:00 PM',\n",
       " '10/13/2014 09:24:00 PM',\n",
       " '10/13/2014 08:52:00 PM',\n",
       " '10/13/2014 08:38:00 PM',\n",
       " '10/13/2014 08:52:00 PM',\n",
       " '10/13/2014 08:57:00 PM',\n",
       " '10/13/2014 08:49:00 PM',\n",
       " '10/13/2014 09:18:00 PM',\n",
       " '10/13/2014 09:26:00 PM',\n",
       " '10/13/2014 09:11:00 PM',\n",
       " '10/13/2014 09:21:00 PM',\n",
       " '10/13/2014 09:20:00 PM',\n",
       " '10/13/2014 09:39:00 PM',\n",
       " '10/13/2014 09:28:00 PM',\n",
       " '10/13/2014 09:41:00 PM',\n",
       " '10/13/2014 09:54:00 PM',\n",
       " '10/13/2014 09:59:00 PM',\n",
       " '10/13/2014 09:57:00 PM',\n",
       " '10/13/2014 10:05:00 PM',\n",
       " '10/13/2014 10:08:00 PM',\n",
       " '10/13/2014 10:22:00 PM',\n",
       " '10/13/2014 10:32:00 PM',\n",
       " '10/13/2014 11:17:00 PM',\n",
       " '10/13/2014 11:15:00 PM',\n",
       " '10/14/2014 06:52:00 AM',\n",
       " '10/14/2014 05:57:00 AM',\n",
       " '10/14/2014 06:14:00 AM',\n",
       " '10/14/2014 06:36:00 AM',\n",
       " '10/14/2014 06:42:00 AM',\n",
       " '10/14/2014 06:50:00 AM',\n",
       " '10/14/2014 06:50:00 AM',\n",
       " '10/14/2014 07:21:00 AM',\n",
       " '10/14/2014 07:28:00 AM',\n",
       " '10/14/2014 07:29:00 AM',\n",
       " '10/14/2014 07:36:00 AM',\n",
       " '10/14/2014 07:34:00 AM',\n",
       " '10/14/2014 07:34:00 AM',\n",
       " '10/14/2014 07:39:00 AM',\n",
       " '10/14/2014 07:50:00 AM',\n",
       " '10/14/2014 07:50:00 AM',\n",
       " '10/14/2014 07:48:00 AM',\n",
       " '10/14/2014 07:45:00 AM',\n",
       " '10/14/2014 07:48:00 AM',\n",
       " '10/14/2014 07:58:00 AM',\n",
       " '10/14/2014 08:00:00 AM',\n",
       " '10/14/2014 07:50:00 AM',\n",
       " '10/14/2014 07:55:00 AM',\n",
       " '10/14/2014 08:05:00 AM',\n",
       " '10/14/2014 08:01:00 AM',\n",
       " '10/14/2014 08:18:00 AM',\n",
       " '10/14/2014 08:03:00 AM',\n",
       " '10/14/2014 08:14:00 AM',\n",
       " '10/14/2014 08:06:00 AM',\n",
       " '10/14/2014 08:06:00 AM',\n",
       " '10/14/2014 08:09:00 AM',\n",
       " '10/14/2014 08:12:00 AM',\n",
       " '10/14/2014 08:16:00 AM',\n",
       " '10/14/2014 08:11:00 AM',\n",
       " '10/14/2014 08:09:00 AM',\n",
       " '10/14/2014 08:14:00 AM',\n",
       " '10/14/2014 08:19:00 AM',\n",
       " '10/14/2014 08:37:00 AM',\n",
       " '10/14/2014 08:19:00 AM',\n",
       " '10/14/2014 10:11:00 AM',\n",
       " '10/14/2014 08:17:00 AM',\n",
       " '10/14/2014 08:29:00 AM',\n",
       " '10/14/2014 08:26:00 AM',\n",
       " '10/14/2014 08:30:00 AM',\n",
       " '10/14/2014 08:41:00 AM',\n",
       " '10/14/2014 08:31:00 AM',\n",
       " '10/14/2014 08:33:00 AM',\n",
       " '10/14/2014 08:33:00 AM',\n",
       " '10/14/2014 08:38:00 AM',\n",
       " '10/14/2014 08:44:00 AM',\n",
       " '10/14/2014 08:39:00 AM',\n",
       " '10/14/2014 08:54:00 AM',\n",
       " '10/14/2014 08:46:00 AM',\n",
       " '10/14/2014 08:45:00 AM',\n",
       " '10/14/2014 08:48:00 AM',\n",
       " '10/14/2014 09:00:00 AM',\n",
       " '10/14/2014 09:14:00 AM',\n",
       " '10/14/2014 08:50:00 AM',\n",
       " '10/14/2014 08:59:00 AM',\n",
       " '10/14/2014 08:54:00 AM',\n",
       " '10/14/2014 09:17:00 AM',\n",
       " '10/14/2014 09:26:00 AM',\n",
       " '10/14/2014 09:04:00 AM',\n",
       " '10/14/2014 09:02:00 AM',\n",
       " '10/14/2014 09:18:00 AM',\n",
       " '10/14/2014 09:10:00 AM',\n",
       " '10/14/2014 09:17:00 AM',\n",
       " '10/14/2014 01:20:00 PM',\n",
       " '10/14/2014 09:26:00 AM',\n",
       " '10/14/2014 09:20:00 AM',\n",
       " '10/14/2014 09:30:00 AM',\n",
       " '10/14/2014 09:37:00 AM',\n",
       " '10/14/2014 09:32:00 AM',\n",
       " '10/14/2014 09:38:00 AM',\n",
       " '10/14/2014 09:41:00 AM',\n",
       " '10/14/2014 09:40:00 AM',\n",
       " '10/14/2014 09:45:00 AM',\n",
       " '10/14/2014 09:40:00 AM',\n",
       " '10/14/2014 10:15:00 AM',\n",
       " '10/14/2014 10:15:00 AM',\n",
       " '10/14/2014 09:44:00 AM',\n",
       " '10/14/2014 09:54:00 AM',\n",
       " '10/14/2014 11:59:00 AM',\n",
       " '10/14/2014 09:54:00 AM',\n",
       " '10/14/2014 10:00:00 AM',\n",
       " '10/14/2014 10:10:00 AM',\n",
       " '10/14/2014 10:05:00 AM',\n",
       " '10/14/2014 10:01:00 AM',\n",
       " '10/14/2014 10:08:00 AM',\n",
       " '10/14/2014 10:09:00 AM',\n",
       " '10/14/2014 10:27:00 AM',\n",
       " '10/14/2014 10:08:00 AM',\n",
       " '10/14/2014 10:17:00 AM',\n",
       " '10/14/2014 10:10:00 AM',\n",
       " '10/14/2014 10:30:00 AM',\n",
       " '10/14/2014 10:30:00 AM',\n",
       " '10/14/2014 10:23:00 AM',\n",
       " '10/14/2014 10:24:00 AM',\n",
       " '10/14/2014 10:34:00 AM',\n",
       " '10/14/2014 10:53:00 AM',\n",
       " '10/14/2014 10:53:00 AM',\n",
       " '10/14/2014 10:51:00 AM',\n",
       " '10/14/2014 10:48:00 AM',\n",
       " '10/14/2014 10:53:00 AM',\n",
       " '10/14/2014 05:19:00 PM',\n",
       " '10/14/2014 11:01:00 AM',\n",
       " '10/14/2014 11:01:00 AM',\n",
       " '10/14/2014 11:07:00 AM',\n",
       " '10/14/2014 11:27:00 AM',\n",
       " '10/14/2014 11:25:00 AM',\n",
       " '10/14/2014 11:13:00 AM',\n",
       " '10/14/2014 11:13:00 AM',\n",
       " '10/14/2014 11:17:00 AM',\n",
       " '10/14/2014 11:18:00 AM',\n",
       " '10/14/2014 11:18:00 AM',\n",
       " '10/14/2014 11:20:00 AM',\n",
       " '10/14/2014 11:27:00 AM',\n",
       " '10/14/2014 11:27:00 AM',\n",
       " '10/14/2014 11:27:00 AM',\n",
       " '10/14/2014 11:32:00 AM',\n",
       " '10/14/2014 11:26:00 AM',\n",
       " '10/14/2014 11:35:00 AM',\n",
       " '10/14/2014 12:16:00 PM',\n",
       " '10/14/2014 12:16:00 PM',\n",
       " '10/14/2014 11:38:00 AM',\n",
       " '10/14/2014 11:43:00 AM',\n",
       " '10/14/2014 11:43:00 AM',\n",
       " '10/14/2014 11:43:00 AM',\n",
       " '10/14/2014 11:54:00 AM',\n",
       " '10/14/2014 11:54:00 AM',\n",
       " '10/14/2014 11:54:00 AM',\n",
       " '10/14/2014 11:54:00 AM',\n",
       " '10/14/2014 11:49:00 AM',\n",
       " '10/14/2014 11:55:00 AM',\n",
       " '10/14/2014 11:54:00 AM',\n",
       " '10/14/2014 11:57:00 AM',\n",
       " '10/14/2014 11:56:00 AM',\n",
       " '10/14/2014 12:02:00 PM',\n",
       " '10/14/2014 12:06:00 PM',\n",
       " '10/14/2014 11:56:00 AM',\n",
       " '10/14/2014 12:11:00 PM',\n",
       " '10/14/2014 02:11:00 PM',\n",
       " '10/14/2014 02:11:00 PM',\n",
       " '10/14/2014 12:11:00 PM',\n",
       " '10/14/2014 12:11:00 PM',\n",
       " '10/14/2014 11:58:00 AM',\n",
       " '10/14/2014 12:11:00 PM',\n",
       " '10/14/2014 12:00:00 PM',\n",
       " '10/14/2014 12:26:00 PM',\n",
       " '10/14/2014 12:13:00 PM',\n",
       " '10/14/2014 12:11:00 PM',\n",
       " '10/14/2014 12:11:00 PM',\n",
       " '10/14/2014 12:11:00 PM',\n",
       " '10/14/2014 12:10:00 PM',\n",
       " '10/14/2014 12:11:00 PM',\n",
       " '10/14/2014 12:17:00 PM',\n",
       " '10/14/2014 12:21:00 PM',\n",
       " '10/14/2014 12:54:00 PM',\n",
       " '10/14/2014 12:45:00 PM',\n",
       " '10/14/2014 01:17:00 PM',\n",
       " '10/14/2014 12:21:00 PM',\n",
       " '10/14/2014 12:26:00 PM',\n",
       " '10/14/2014 12:44:00 PM',\n",
       " '10/14/2014 12:29:00 PM',\n",
       " '10/14/2014 12:30:00 PM',\n",
       " '10/14/2014 12:29:00 PM',\n",
       " '10/14/2014 12:37:00 PM',\n",
       " '10/14/2014 12:54:00 PM',\n",
       " '10/14/2014 12:38:00 PM',\n",
       " '10/14/2014 12:54:00 PM',\n",
       " '10/14/2014 12:35:00 PM',\n",
       " '10/14/2014 12:41:00 PM',\n",
       " '10/14/2014 12:34:00 PM',\n",
       " '10/14/2014 12:46:00 PM',\n",
       " '10/14/2014 12:49:00 PM',\n",
       " '10/14/2014 01:09:00 PM',\n",
       " '10/14/2014 12:40:00 PM',\n",
       " '10/14/2014 12:44:00 PM',\n",
       " '10/14/2014 01:09:00 PM',\n",
       " '10/14/2014 12:52:00 PM',\n",
       " '10/14/2014 12:55:00 PM',\n",
       " '10/14/2014 12:58:00 PM',\n",
       " '10/14/2014 12:58:00 PM',\n",
       " '10/14/2014 12:55:00 PM',\n",
       " '10/14/2014 12:54:00 PM',\n",
       " '10/14/2014 12:58:00 PM',\n",
       " '10/14/2014 01:02:00 PM',\n",
       " '10/14/2014 01:01:00 PM',\n",
       " '10/14/2014 12:59:00 PM',\n",
       " '10/14/2014 12:59:00 PM',\n",
       " '10/14/2014 01:10:00 PM',\n",
       " '10/14/2014 01:11:00 PM',\n",
       " '10/14/2014 01:01:00 PM',\n",
       " '10/14/2014 01:10:00 PM',\n",
       " '10/14/2014 02:05:00 PM',\n",
       " '10/14/2014 01:09:00 PM',\n",
       " '10/14/2014 01:31:00 PM',\n",
       " '10/14/2014 01:22:00 PM',\n",
       " '10/14/2014 01:38:00 PM',\n",
       " '10/14/2014 01:10:00 PM',\n",
       " '10/14/2014 01:20:00 PM',\n",
       " '10/14/2014 01:10:00 PM',\n",
       " '10/14/2014 01:10:00 PM',\n",
       " '10/14/2014 01:16:00 PM',\n",
       " '10/14/2014 01:17:00 PM',\n",
       " '10/14/2014 01:19:00 PM',\n",
       " '10/14/2014 01:17:00 PM',\n",
       " '10/14/2014 01:27:00 PM',\n",
       " '10/14/2014 01:30:00 PM',\n",
       " '10/14/2014 01:29:00 PM',\n",
       " '10/14/2014 01:23:00 PM',\n",
       " '10/14/2014 01:26:00 PM',\n",
       " '10/14/2014 01:30:00 PM',\n",
       " '10/14/2014 01:30:00 PM',\n",
       " '10/14/2014 01:26:00 PM',\n",
       " '10/14/2014 01:26:00 PM',\n",
       " '10/14/2014 01:25:00 PM',\n",
       " '10/14/2014 01:30:00 PM',\n",
       " '10/14/2014 01:25:00 PM',\n",
       " '10/14/2014 01:38:00 PM',\n",
       " '10/14/2014 01:42:00 PM',\n",
       " '10/14/2014 01:33:00 PM',\n",
       " '10/14/2014 01:29:00 PM',\n",
       " '10/14/2014 01:39:00 PM',\n",
       " '10/14/2014 02:15:00 PM',\n",
       " '10/14/2014 01:43:00 PM',\n",
       " '10/14/2014 01:41:00 PM',\n",
       " '10/14/2014 01:40:00 PM',\n",
       " '10/14/2014 01:43:00 PM',\n",
       " '10/14/2014 01:43:00 PM',\n",
       " '10/14/2014 03:52:00 PM',\n",
       " '10/14/2014 01:42:00 PM',\n",
       " '10/14/2014 01:56:00 PM',\n",
       " '10/14/2014 01:53:00 PM',\n",
       " '10/14/2014 01:41:00 PM',\n",
       " '10/14/2014 01:53:00 PM',\n",
       " '10/14/2014 01:55:00 PM',\n",
       " '10/14/2014 01:51:00 PM',\n",
       " '10/14/2014 02:10:00 PM',\n",
       " '10/14/2014 01:43:00 PM',\n",
       " '10/14/2014 01:44:00 PM',\n",
       " '10/14/2014 01:54:00 PM',\n",
       " '10/14/2014 01:54:00 PM',\n",
       " '10/14/2014 01:56:00 PM',\n",
       " '10/14/2014 02:27:00 PM',\n",
       " '10/14/2014 02:09:00 PM',\n",
       " '10/14/2014 02:30:00 PM',\n",
       " '10/14/2014 02:29:00 PM',\n",
       " '10/14/2014 02:10:00 PM',\n",
       " '10/14/2014 02:38:00 PM',\n",
       " '10/14/2014 02:18:00 PM',\n",
       " '10/14/2014 02:38:00 PM',\n",
       " '10/14/2014 02:16:00 PM',\n",
       " '10/14/2014 02:22:00 PM',\n",
       " '10/14/2014 02:26:00 PM',\n",
       " '10/14/2014 02:32:00 PM',\n",
       " '10/14/2014 03:51:00 PM',\n",
       " '10/14/2014 02:22:00 PM',\n",
       " '10/14/2014 02:35:00 PM',\n",
       " '10/14/2014 02:40:00 PM',\n",
       " '10/14/2014 02:31:00 PM',\n",
       " '10/14/2014 02:36:00 PM',\n",
       " '10/14/2014 02:38:00 PM',\n",
       " '10/14/2014 02:52:00 PM',\n",
       " '10/14/2014 02:54:00 PM',\n",
       " '10/14/2014 02:52:00 PM',\n",
       " '10/14/2014 03:01:00 PM',\n",
       " '10/14/2014 03:00:00 PM',\n",
       " '10/14/2014 03:09:00 PM',\n",
       " '10/14/2014 03:09:00 PM',\n",
       " '10/14/2014 02:57:00 PM',\n",
       " '10/14/2014 02:57:00 PM',\n",
       " '10/14/2014 03:03:00 PM',\n",
       " '10/14/2014 03:06:00 PM',\n",
       " '10/14/2014 03:10:00 PM',\n",
       " '10/14/2014 03:17:00 PM',\n",
       " '10/14/2014 03:17:00 PM',\n",
       " '10/14/2014 03:20:00 PM',\n",
       " '10/14/2014 03:21:00 PM',\n",
       " '10/14/2014 03:32:00 PM',\n",
       " '10/14/2014 03:42:00 PM',\n",
       " '10/14/2014 03:42:00 PM',\n",
       " '10/14/2014 03:34:00 PM',\n",
       " '10/14/2014 03:46:00 PM',\n",
       " '10/14/2014 03:45:00 PM',\n",
       " '10/14/2014 03:47:00 PM',\n",
       " '10/14/2014 03:52:00 PM',\n",
       " '10/14/2014 03:46:00 PM',\n",
       " '10/14/2014 03:46:00 PM',\n",
       " '10/14/2014 03:48:00 PM',\n",
       " '10/14/2014 04:23:00 PM',\n",
       " '10/14/2014 03:49:00 PM',\n",
       " '10/14/2014 03:48:00 PM',\n",
       " '10/14/2014 06:41:00 PM',\n",
       " '10/14/2014 03:48:00 PM',\n",
       " '10/14/2014 04:50:00 PM',\n",
       " '10/14/2014 04:00:00 PM',\n",
       " '10/14/2014 04:25:00 PM',\n",
       " '10/14/2014 06:40:00 PM',\n",
       " '10/14/2014 04:24:00 PM',\n",
       " '10/14/2014 04:25:00 PM',\n",
       " '10/14/2014 04:00:00 PM',\n",
       " '10/14/2014 04:25:00 PM',\n",
       " '10/14/2014 04:25:00 PM',\n",
       " '10/14/2014 03:57:00 PM',\n",
       " '10/14/2014 04:09:00 PM',\n",
       " '10/14/2014 04:25:00 PM',\n",
       " '10/14/2014 04:21:00 PM',\n",
       " '10/14/2014 04:21:00 PM',\n",
       " '10/14/2014 04:27:00 PM',\n",
       " '10/14/2014 04:08:00 PM',\n",
       " '10/14/2014 04:14:00 PM',\n",
       " '10/14/2014 04:17:00 PM',\n",
       " '10/14/2014 04:16:00 PM',\n",
       " '10/14/2014 05:54:00 PM',\n",
       " '10/14/2014 04:20:00 PM',\n",
       " '10/14/2014 04:41:00 PM',\n",
       " '10/14/2014 04:41:00 PM',\n",
       " '10/14/2014 04:26:00 PM',\n",
       " '10/14/2014 04:47:00 PM',\n",
       " '10/14/2014 04:39:00 PM',\n",
       " '10/14/2014 04:49:00 PM',\n",
       " '10/14/2014 04:40:00 PM',\n",
       " '10/14/2014 04:43:00 PM',\n",
       " '10/14/2014 04:46:00 PM',\n",
       " '10/14/2014 04:51:00 PM',\n",
       " '10/14/2014 04:52:00 PM',\n",
       " '10/14/2014 04:50:00 PM',\n",
       " '10/14/2014 04:50:00 PM',\n",
       " '10/14/2014 05:07:00 PM',\n",
       " '10/14/2014 05:18:00 PM',\n",
       " '10/14/2014 05:04:00 PM',\n",
       " '10/14/2014 05:01:00 PM',\n",
       " '10/14/2014 05:03:00 PM',\n",
       " '10/14/2014 04:58:00 PM',\n",
       " '10/14/2014 05:09:00 PM',\n",
       " '10/14/2014 05:08:00 PM',\n",
       " '10/14/2014 05:12:00 PM',\n",
       " '10/14/2014 05:11:00 PM',\n",
       " '10/14/2014 05:13:00 PM',\n",
       " '10/14/2014 05:07:00 PM',\n",
       " '10/14/2014 05:14:00 PM',\n",
       " '10/14/2014 05:21:00 PM',\n",
       " '10/14/2014 05:56:00 PM',\n",
       " '10/14/2014 05:25:00 PM',\n",
       " '10/14/2014 05:24:00 PM',\n",
       " '10/14/2014 05:18:00 PM',\n",
       " '10/14/2014 05:33:00 PM',\n",
       " '10/14/2014 05:26:00 PM',\n",
       " '10/14/2014 05:22:00 PM',\n",
       " '10/14/2014 05:34:00 PM',\n",
       " '10/14/2014 05:32:00 PM',\n",
       " '10/14/2014 06:55:00 PM',\n",
       " '10/14/2014 05:29:00 PM',\n",
       " '10/14/2014 05:24:00 PM',\n",
       " '10/14/2014 05:32:00 PM',\n",
       " '10/14/2014 05:30:00 PM',\n",
       " '10/14/2014 05:42:00 PM',\n",
       " '10/14/2014 05:41:00 PM',\n",
       " '10/14/2014 05:36:00 PM',\n",
       " '10/14/2014 05:37:00 PM',\n",
       " '10/14/2014 05:45:00 PM',\n",
       " '10/14/2014 05:49:00 PM',\n",
       " '10/14/2014 05:45:00 PM',\n",
       " '10/14/2014 05:44:00 PM',\n",
       " '10/14/2014 05:54:00 PM',\n",
       " '10/14/2014 05:51:00 PM',\n",
       " '10/14/2014 05:52:00 PM',\n",
       " '10/14/2014 05:47:00 PM',\n",
       " '10/14/2014 05:56:00 PM',\n",
       " '10/14/2014 05:48:00 PM',\n",
       " '10/14/2014 05:56:00 PM',\n",
       " '10/14/2014 05:56:00 PM',\n",
       " '10/14/2014 05:54:00 PM',\n",
       " '10/14/2014 05:54:00 PM',\n",
       " '10/14/2014 06:07:00 PM',\n",
       " '10/14/2014 06:10:00 PM',\n",
       " '10/14/2014 06:07:00 PM',\n",
       " '10/14/2014 06:02:00 PM',\n",
       " '10/14/2014 06:09:00 PM',\n",
       " '10/14/2014 06:04:00 PM',\n",
       " '10/14/2014 06:02:00 PM',\n",
       " '10/14/2014 07:03:00 PM',\n",
       " '10/14/2014 06:36:00 PM',\n",
       " '10/14/2014 06:06:00 PM',\n",
       " '10/14/2014 06:06:00 PM',\n",
       " '10/14/2014 06:09:00 PM',\n",
       " '10/14/2014 06:14:00 PM',\n",
       " '10/14/2014 07:04:00 PM',\n",
       " '10/14/2014 07:03:00 PM',\n",
       " '10/14/2014 06:10:00 PM',\n",
       " '10/14/2014 06:47:00 PM',\n",
       " '10/14/2014 06:24:00 PM',\n",
       " '10/14/2014 06:35:00 PM',\n",
       " '10/14/2014 06:35:00 PM',\n",
       " '10/14/2014 06:27:00 PM',\n",
       " '10/14/2014 06:27:00 PM',\n",
       " '10/14/2014 06:28:00 PM',\n",
       " '10/14/2014 06:26:00 PM',\n",
       " '10/14/2014 06:30:00 PM',\n",
       " '10/14/2014 06:29:00 PM',\n",
       " '10/14/2014 06:32:00 PM',\n",
       " '10/14/2014 06:35:00 PM',\n",
       " '10/14/2014 06:37:00 PM',\n",
       " '10/14/2014 06:30:00 PM',\n",
       " '10/14/2014 06:35:00 PM',\n",
       " '10/14/2014 06:29:00 PM',\n",
       " '10/14/2014 06:39:00 PM',\n",
       " '10/14/2014 06:34:00 PM',\n",
       " '10/14/2014 06:53:00 PM',\n",
       " '10/14/2014 06:44:00 PM',\n",
       " '10/14/2014 06:40:00 PM',\n",
       " '10/14/2014 07:09:00 PM',\n",
       " '10/14/2014 06:45:00 PM',\n",
       " '10/14/2014 06:51:00 PM',\n",
       " '10/14/2014 06:49:00 PM',\n",
       " '10/14/2014 06:52:00 PM',\n",
       " '10/14/2014 06:53:00 PM',\n",
       " '10/14/2014 06:55:00 PM',\n",
       " '10/14/2014 06:55:00 PM',\n",
       " '10/14/2014 07:02:00 PM',\n",
       " '10/14/2014 06:59:00 PM',\n",
       " '10/14/2014 06:59:00 PM',\n",
       " '10/14/2014 06:59:00 PM',\n",
       " '10/14/2014 07:03:00 PM',\n",
       " '10/14/2014 07:07:00 PM',\n",
       " '10/14/2014 07:05:00 PM',\n",
       " '10/14/2014 07:22:00 PM',\n",
       " '10/14/2014 07:12:00 PM',\n",
       " '10/14/2014 07:28:00 PM',\n",
       " '10/14/2014 07:28:00 PM',\n",
       " '10/14/2014 07:25:00 PM',\n",
       " '10/14/2014 07:16:00 PM',\n",
       " '10/14/2014 07:36:00 PM',\n",
       " '10/14/2014 07:24:00 PM',\n",
       " '10/14/2014 07:29:00 PM',\n",
       " '10/14/2014 07:47:00 PM',\n",
       " '10/14/2014 07:44:00 PM',\n",
       " '10/14/2014 07:44:00 PM',\n",
       " '10/14/2014 07:48:00 PM',\n",
       " '10/14/2014 07:48:00 PM',\n",
       " '10/14/2014 07:42:00 PM',\n",
       " '10/14/2014 07:45:00 PM',\n",
       " '10/14/2014 07:55:00 PM',\n",
       " '10/14/2014 07:48:00 PM',\n",
       " '10/14/2014 07:51:00 PM',\n",
       " '10/14/2014 08:26:00 PM',\n",
       " '10/14/2014 08:26:00 PM',\n",
       " '10/14/2014 07:51:00 PM',\n",
       " '10/14/2014 07:53:00 PM',\n",
       " '10/14/2014 09:27:00 PM',\n",
       " '10/14/2014 09:37:00 PM',\n",
       " '10/14/2014 09:26:00 PM',\n",
       " '10/14/2014 08:11:00 PM',\n",
       " '10/14/2014 08:36:00 PM',\n",
       " '10/14/2014 08:17:00 PM',\n",
       " '10/14/2014 08:36:00 PM',\n",
       " '10/14/2014 08:36:00 PM',\n",
       " '10/14/2014 08:14:00 PM',\n",
       " '10/14/2014 08:22:00 PM',\n",
       " '10/14/2014 08:22:00 PM',\n",
       " '10/14/2014 08:42:00 PM',\n",
       " '10/14/2014 08:32:00 PM',\n",
       " '10/14/2014 08:49:00 PM',\n",
       " '10/14/2014 09:39:00 PM',\n",
       " '10/14/2014 08:57:00 PM',\n",
       " '10/14/2014 09:01:00 PM',\n",
       " '10/14/2014 09:02:00 PM',\n",
       " '10/14/2014 09:04:00 PM',\n",
       " '10/14/2014 09:04:00 PM',\n",
       " '10/14/2014 09:08:00 PM',\n",
       " '10/14/2014 09:06:00 PM',\n",
       " '10/14/2014 09:16:00 PM',\n",
       " '10/14/2014 09:23:00 PM',\n",
       " '10/14/2014 09:19:00 PM',\n",
       " '10/14/2014 10:46:00 PM',\n",
       " '10/14/2014 09:26:00 PM',\n",
       " '10/14/2014 09:26:00 PM',\n",
       " '10/14/2014 09:33:00 PM',\n",
       " '10/14/2014 09:43:00 PM',\n",
       " '10/14/2014 09:46:00 PM',\n",
       " '10/14/2014 09:48:00 PM',\n",
       " '10/14/2014 10:02:00 PM',\n",
       " '10/14/2014 10:16:00 PM',\n",
       " '10/14/2014 10:30:00 PM',\n",
       " '10/14/2014 10:30:00 PM',\n",
       " '10/15/2014 04:29:00 AM',\n",
       " '10/15/2014 04:29:00 AM',\n",
       " '10/14/2014 10:50:00 PM',\n",
       " '10/14/2014 10:55:00 PM',\n",
       " '10/14/2014 11:20:00 PM',\n",
       " '10/15/2014 12:01:00 AM',\n",
       " '10/15/2014 12:18:00 AM',\n",
       " '10/15/2014 12:22:00 AM',\n",
       " '10/15/2014 12:53:00 AM',\n",
       " '10/15/2014 01:13:00 AM',\n",
       " '10/15/2014 01:59:00 AM',\n",
       " '10/15/2014 02:12:00 AM',\n",
       " '10/15/2014 06:16:00 AM',\n",
       " '10/15/2014 06:20:00 AM',\n",
       " '10/15/2014 06:47:00 AM',\n",
       " '10/15/2014 06:40:00 AM',\n",
       " '10/15/2014 06:44:00 AM',\n",
       " '10/15/2014 06:39:00 AM',\n",
       " '10/15/2014 06:47:00 AM',\n",
       " '10/15/2014 07:03:00 AM',\n",
       " '10/15/2014 07:21:00 AM',\n",
       " '10/15/2014 07:24:00 AM',\n",
       " '10/15/2014 07:22:00 AM',\n",
       " '10/15/2014 07:44:00 AM',\n",
       " '10/15/2014 07:49:00 AM',\n",
       " '10/15/2014 07:52:00 AM',\n",
       " '10/15/2014 08:01:00 AM',\n",
       " '10/15/2014 08:02:00 AM',\n",
       " '10/15/2014 08:15:00 AM',\n",
       " '10/15/2014 08:16:00 AM',\n",
       " '10/15/2014 08:13:00 AM',\n",
       " '10/15/2014 08:18:00 AM',\n",
       " '10/15/2014 08:19:00 AM',\n",
       " '10/15/2014 08:38:00 AM',\n",
       " '10/15/2014 08:35:00 AM',\n",
       " '10/15/2014 08:35:00 AM',\n",
       " '10/15/2014 08:47:00 AM',\n",
       " '10/15/2014 08:36:00 AM',\n",
       " '10/15/2014 08:52:00 AM',\n",
       " '10/15/2014 08:56:00 AM',\n",
       " '10/15/2014 09:16:00 AM',\n",
       " '10/15/2014 09:16:00 AM',\n",
       " '10/15/2014 09:09:00 AM',\n",
       " '10/15/2014 09:14:00 AM',\n",
       " '10/15/2014 09:26:00 AM',\n",
       " '10/15/2014 09:19:00 AM',\n",
       " '10/15/2014 09:23:00 AM',\n",
       " '10/15/2014 09:28:00 AM',\n",
       " '10/15/2014 09:31:00 AM',\n",
       " '10/15/2014 09:34:00 AM',\n",
       " '10/15/2014 09:27:00 AM',\n",
       " '10/15/2014 09:39:00 AM',\n",
       " '10/15/2014 09:29:00 AM',\n",
       " '10/15/2014 09:37:00 AM',\n",
       " '10/15/2014 09:30:00 AM',\n",
       " '10/15/2014 09:39:00 AM',\n",
       " '10/15/2014 09:57:00 AM',\n",
       " '10/15/2014 09:54:00 AM',\n",
       " '10/15/2014 10:01:00 AM',\n",
       " '10/15/2014 09:57:00 AM',\n",
       " '10/15/2014 09:58:00 AM',\n",
       " '10/15/2014 10:09:00 AM',\n",
       " '10/15/2014 10:15:00 AM',\n",
       " '10/15/2014 10:22:00 AM',\n",
       " '10/15/2014 10:08:00 AM',\n",
       " '10/15/2014 10:13:00 AM',\n",
       " '10/15/2014 10:15:00 AM',\n",
       " '10/15/2014 10:41:00 AM',\n",
       " '10/15/2014 10:28:00 AM',\n",
       " '10/15/2014 10:33:00 AM',\n",
       " '10/15/2014 10:38:00 AM',\n",
       " '10/15/2014 10:34:00 AM',\n",
       " '10/15/2014 10:42:00 AM',\n",
       " '10/15/2014 10:37:00 AM',\n",
       " '10/15/2014 11:06:00 AM',\n",
       " '10/15/2014 11:06:00 AM',\n",
       " '10/15/2014 10:49:00 AM',\n",
       " '10/15/2014 10:52:00 AM',\n",
       " '10/15/2014 10:53:00 AM',\n",
       " '10/15/2014 11:11:00 AM',\n",
       " '10/15/2014 11:03:00 AM',\n",
       " '10/15/2014 11:05:00 AM',\n",
       " '10/15/2014 11:03:00 AM',\n",
       " '10/15/2014 11:03:00 AM',\n",
       " '10/15/2014 11:05:00 AM',\n",
       " '10/15/2014 11:07:00 AM',\n",
       " '10/15/2014 11:24:00 AM',\n",
       " '10/15/2014 11:29:00 AM',\n",
       " '10/15/2014 11:32:00 AM',\n",
       " '10/15/2014 11:21:00 AM',\n",
       " '10/15/2014 11:42:00 AM',\n",
       " '10/15/2014 11:34:00 AM',\n",
       " '10/15/2014 11:42:00 AM',\n",
       " '10/15/2014 11:53:00 AM',\n",
       " '10/15/2014 11:44:00 AM',\n",
       " '10/15/2014 12:01:00 PM',\n",
       " '10/15/2014 11:52:00 AM',\n",
       " '10/15/2014 12:05:00 PM',\n",
       " '10/15/2014 12:05:00 PM',\n",
       " '10/15/2014 12:40:00 PM',\n",
       " '10/15/2014 12:40:00 PM',\n",
       " '10/15/2014 12:52:00 PM',\n",
       " '10/15/2014 12:34:00 PM',\n",
       " '10/15/2014 12:32:00 PM',\n",
       " '10/15/2014 12:38:00 PM',\n",
       " '10/15/2014 12:53:00 PM',\n",
       " ...]"
      ]
     },
     "execution_count": 45,
     "metadata": {},
     "output_type": "execute_result"
    }
   ],
   "source": [
    "df_small.tolist()"
   ]
  },
  {
   "cell_type": "markdown",
   "metadata": {},
   "source": [
    "Mathematical operations on columns happen *element-wise*:"
   ]
  },
  {
   "cell_type": "code",
   "execution_count": 46,
   "metadata": {},
   "outputs": [
    {
     "data": {
      "text/plain": [
       "0    0.273871\n",
       "1    0.257326\n",
       "2    0.245509\n",
       "Name: tripduration, dtype: float64"
      ]
     },
     "execution_count": 46,
     "metadata": {},
     "output_type": "execute_result"
    }
   ],
   "source": [
    "trip_duration_hours = df['tripduration']/3600\n",
    "trip_duration_hours[:3]"
   ]
  },
  {
   "cell_type": "code",
   "execution_count": null,
   "metadata": {},
   "outputs": [],
   "source": [
    "df['trip_duration_hours'] = df['tripduration']/3600"
   ]
  },
  {
   "cell_type": "code",
   "execution_count": null,
   "metadata": {},
   "outputs": [],
   "source": [
    "del df['trip_duration_hours']"
   ]
  },
  {
   "cell_type": "code",
   "execution_count": null,
   "metadata": {},
   "outputs": [],
   "source": [
    "df.head()"
   ]
  },
  {
   "cell_type": "code",
   "execution_count": null,
   "metadata": {},
   "outputs": [],
   "source": [
    "df.loc[[0,1],:]"
   ]
  },
  {
   "cell_type": "code",
   "execution_count": null,
   "metadata": {},
   "outputs": [],
   "source": [
    "df_long_trips = df[df['tripduration'] >10000]"
   ]
  },
  {
   "cell_type": "code",
   "execution_count": null,
   "metadata": {},
   "outputs": [],
   "source": [
    "sel = df['tripduration'] >10000 \n",
    "df_long_trips = df[sel]"
   ]
  },
  {
   "cell_type": "code",
   "execution_count": null,
   "metadata": {},
   "outputs": [],
   "source": [
    "len(df)"
   ]
  },
  {
   "cell_type": "code",
   "execution_count": null,
   "metadata": {},
   "outputs": [],
   "source": [
    "# Make a copy of a slice\n",
    "df_subset = df[['starttime', 'stoptime']].copy()\n",
    "df_subset['trip_hours'] = df['tripduration']/3600"
   ]
  },
  {
   "cell_type": "markdown",
   "metadata": {},
   "source": [
    "Columns can be created (or overwritten) with the assignment operator.\n",
    "Let's create a *tripminutes* column with the number of minutes for each trip"
   ]
  },
  {
   "cell_type": "code",
   "execution_count": null,
   "metadata": {},
   "outputs": [],
   "source": []
  },
  {
   "cell_type": "markdown",
   "metadata": {},
   "source": [
    "More complicated mathematical operations can be done with tools in the ``numpy`` package:"
   ]
  },
  {
   "cell_type": "code",
   "execution_count": null,
   "metadata": {},
   "outputs": [],
   "source": []
  },
  {
   "cell_type": "markdown",
   "metadata": {},
   "source": [
    "### Working with Times"
   ]
  },
  {
   "cell_type": "markdown",
   "metadata": {},
   "source": [
    "One trick to know when working with columns of times is that Pandas ``DateTimeIndex`` provides a nice interface for working with columns of times.\n",
    "\n",
    "For a dataset of this size, using ``pd.to_datetime`` and specifying the date format can make things much faster (from the [strftime reference](http://strftime.org/), we see that the pronto data has format ``\"%m/%d/%Y %I:%M:%S %p\"``"
   ]
  },
  {
   "cell_type": "code",
   "execution_count": null,
   "metadata": {},
   "outputs": [],
   "source": []
  },
  {
   "cell_type": "markdown",
   "metadata": {},
   "source": [
    "(Note: you can also use ``infer_datetime_format=True`` in most cases to automatically infer the correct format, though due to a bug it doesn't work when AM/PM are present)"
   ]
  },
  {
   "cell_type": "markdown",
   "metadata": {},
   "source": [
    "With it, we can extract, the hour of the day, the day of the week, the month, and a wide range of other views of the time:"
   ]
  },
  {
   "cell_type": "code",
   "execution_count": null,
   "metadata": {},
   "outputs": [],
   "source": []
  },
  {
   "cell_type": "code",
   "execution_count": null,
   "metadata": {},
   "outputs": [],
   "source": []
  },
  {
   "cell_type": "code",
   "execution_count": null,
   "metadata": {},
   "outputs": [],
   "source": []
  },
  {
   "cell_type": "markdown",
   "metadata": {},
   "source": [
    "### Simple Grouping of Data\n",
    "\n",
    "The real power of Pandas comes in its tools for grouping and aggregating data. Here we'll look at *value counts* and the basics of *group-by* operations."
   ]
  },
  {
   "cell_type": "markdown",
   "metadata": {},
   "source": [
    "#### Value Counts"
   ]
  },
  {
   "cell_type": "markdown",
   "metadata": {},
   "source": [
    "Pandas includes an array of useful functionality for manipulating and analyzing tabular data.\n",
    "We'll take a look at two of these here."
   ]
  },
  {
   "cell_type": "markdown",
   "metadata": {},
   "source": [
    "The ``pandas.value_counts`` returns statistics on the unique values within each column.\n",
    "\n",
    "We can use it, for example, to break down rides by gender:"
   ]
  },
  {
   "cell_type": "code",
   "execution_count": null,
   "metadata": {},
   "outputs": [],
   "source": []
  },
  {
   "cell_type": "markdown",
   "metadata": {},
   "source": [
    "Or to break down rides by age:"
   ]
  },
  {
   "cell_type": "code",
   "execution_count": null,
   "metadata": {},
   "outputs": [],
   "source": []
  },
  {
   "cell_type": "markdown",
   "metadata": {},
   "source": [
    "By default, the values rather than the index are sorted. Use ``sort=False`` to turn this behavior off:"
   ]
  },
  {
   "cell_type": "code",
   "execution_count": null,
   "metadata": {},
   "outputs": [],
   "source": []
  },
  {
   "cell_type": "markdown",
   "metadata": {},
   "source": [
    "We can explore other things as well: day of week, hour of day, etc."
   ]
  },
  {
   "cell_type": "code",
   "execution_count": null,
   "metadata": {},
   "outputs": [],
   "source": []
  },
  {
   "cell_type": "markdown",
   "metadata": {},
   "source": [
    "### Group-by Operation\n",
    "\n",
    "One of the killer features of the Pandas dataframe is the ability to do group-by operations.\n",
    "You can visualize the group-by like this (image borrowed from the [Python Data Science Handbook](http://shop.oreilly.com/product/0636920034919.do))"
   ]
  },
  {
   "cell_type": "code",
   "execution_count": null,
   "metadata": {},
   "outputs": [],
   "source": [
    "df.head()"
   ]
  },
  {
   "cell_type": "code",
   "execution_count": 52,
   "metadata": {},
   "outputs": [
    {
     "data": {
      "text/html": [
       "<div>\n",
       "<style scoped>\n",
       "    .dataframe tbody tr th:only-of-type {\n",
       "        vertical-align: middle;\n",
       "    }\n",
       "\n",
       "    .dataframe tbody tr th {\n",
       "        vertical-align: top;\n",
       "    }\n",
       "\n",
       "    .dataframe thead th {\n",
       "        text-align: right;\n",
       "    }\n",
       "</style>\n",
       "<table border=\"1\" class=\"dataframe\">\n",
       "  <thead>\n",
       "    <tr style=\"text-align: right;\">\n",
       "      <th></th>\n",
       "      <th>trip_id</th>\n",
       "      <th>starttime</th>\n",
       "      <th>stoptime</th>\n",
       "      <th>bikeid</th>\n",
       "      <th>tripduration</th>\n",
       "      <th>from_station_name</th>\n",
       "      <th>to_station_name</th>\n",
       "      <th>to_station_id</th>\n",
       "      <th>usertype</th>\n",
       "      <th>gender</th>\n",
       "      <th>birthyear</th>\n",
       "    </tr>\n",
       "    <tr>\n",
       "      <th>from_station_id</th>\n",
       "      <th></th>\n",
       "      <th></th>\n",
       "      <th></th>\n",
       "      <th></th>\n",
       "      <th></th>\n",
       "      <th></th>\n",
       "      <th></th>\n",
       "      <th></th>\n",
       "      <th></th>\n",
       "      <th></th>\n",
       "      <th></th>\n",
       "    </tr>\n",
       "  </thead>\n",
       "  <tbody>\n",
       "    <tr>\n",
       "      <th>BT-01</th>\n",
       "      <td>10463</td>\n",
       "      <td>10463</td>\n",
       "      <td>10463</td>\n",
       "      <td>10463</td>\n",
       "      <td>10463</td>\n",
       "      <td>10463</td>\n",
       "      <td>10463</td>\n",
       "      <td>10463</td>\n",
       "      <td>10463</td>\n",
       "      <td>4162</td>\n",
       "      <td>4162</td>\n",
       "    </tr>\n",
       "    <tr>\n",
       "      <th>BT-03</th>\n",
       "      <td>7334</td>\n",
       "      <td>7334</td>\n",
       "      <td>7334</td>\n",
       "      <td>7334</td>\n",
       "      <td>7334</td>\n",
       "      <td>7334</td>\n",
       "      <td>7334</td>\n",
       "      <td>7334</td>\n",
       "      <td>7334</td>\n",
       "      <td>4862</td>\n",
       "      <td>4862</td>\n",
       "    </tr>\n",
       "    <tr>\n",
       "      <th>BT-04</th>\n",
       "      <td>4666</td>\n",
       "      <td>4666</td>\n",
       "      <td>4666</td>\n",
       "      <td>4666</td>\n",
       "      <td>4666</td>\n",
       "      <td>4666</td>\n",
       "      <td>4666</td>\n",
       "      <td>4666</td>\n",
       "      <td>4666</td>\n",
       "      <td>3424</td>\n",
       "      <td>3424</td>\n",
       "    </tr>\n",
       "    <tr>\n",
       "      <th>BT-05</th>\n",
       "      <td>5699</td>\n",
       "      <td>5699</td>\n",
       "      <td>5699</td>\n",
       "      <td>5699</td>\n",
       "      <td>5699</td>\n",
       "      <td>5699</td>\n",
       "      <td>5699</td>\n",
       "      <td>5699</td>\n",
       "      <td>5699</td>\n",
       "      <td>2975</td>\n",
       "      <td>2975</td>\n",
       "    </tr>\n",
       "    <tr>\n",
       "      <th>BT-06</th>\n",
       "      <td>150</td>\n",
       "      <td>150</td>\n",
       "      <td>150</td>\n",
       "      <td>150</td>\n",
       "      <td>150</td>\n",
       "      <td>150</td>\n",
       "      <td>150</td>\n",
       "      <td>150</td>\n",
       "      <td>150</td>\n",
       "      <td>130</td>\n",
       "      <td>130</td>\n",
       "    </tr>\n",
       "  </tbody>\n",
       "</table>\n",
       "</div>"
      ],
      "text/plain": [
       "                 trip_id  starttime  stoptime  bikeid  tripduration  \\\n",
       "from_station_id                                                       \n",
       "BT-01              10463      10463     10463   10463         10463   \n",
       "BT-03               7334       7334      7334    7334          7334   \n",
       "BT-04               4666       4666      4666    4666          4666   \n",
       "BT-05               5699       5699      5699    5699          5699   \n",
       "BT-06                150        150       150     150           150   \n",
       "\n",
       "                 from_station_name  to_station_name  to_station_id  usertype  \\\n",
       "from_station_id                                                                \n",
       "BT-01                        10463            10463          10463     10463   \n",
       "BT-03                         7334             7334           7334      7334   \n",
       "BT-04                         4666             4666           4666      4666   \n",
       "BT-05                         5699             5699           5699      5699   \n",
       "BT-06                          150              150            150       150   \n",
       "\n",
       "                 gender  birthyear  \n",
       "from_station_id                     \n",
       "BT-01              4162       4162  \n",
       "BT-03              4862       4862  \n",
       "BT-04              3424       3424  \n",
       "BT-05              2975       2975  \n",
       "BT-06               130        130  "
      ]
     },
     "execution_count": 52,
     "metadata": {},
     "output_type": "execute_result"
    }
   ],
   "source": [
    "df_count = df.groupby(['from_station_id']).count()\n",
    "df_count.head()"
   ]
  },
  {
   "cell_type": "code",
   "execution_count": 54,
   "metadata": {},
   "outputs": [
    {
     "ename": "KeyError",
     "evalue": "'trip_id'",
     "output_type": "error",
     "traceback": [
      "\u001b[0;31m-------------------------------------------------------------------------\u001b[0m",
      "\u001b[0;31mTypeError\u001b[0m                               Traceback (most recent call last)",
      "\u001b[0;32m~/miniconda3/lib/python3.6/site-packages/pandas/core/indexes/base.py\u001b[0m in \u001b[0;36mget_value\u001b[0;34m(self, series, key)\u001b[0m\n\u001b[1;32m   2565\u001b[0m             \u001b[0;32mtry\u001b[0m\u001b[0;34m:\u001b[0m\u001b[0;34m\u001b[0m\u001b[0m\n\u001b[0;32m-> 2566\u001b[0;31m                 \u001b[0;32mreturn\u001b[0m \u001b[0mlibts\u001b[0m\u001b[0;34m.\u001b[0m\u001b[0mget_value_box\u001b[0m\u001b[0;34m(\u001b[0m\u001b[0ms\u001b[0m\u001b[0;34m,\u001b[0m \u001b[0mkey\u001b[0m\u001b[0;34m)\u001b[0m\u001b[0;34m\u001b[0m\u001b[0m\n\u001b[0m\u001b[1;32m   2567\u001b[0m             \u001b[0;32mexcept\u001b[0m \u001b[0mIndexError\u001b[0m\u001b[0;34m:\u001b[0m\u001b[0;34m\u001b[0m\u001b[0m\n",
      "\u001b[0;32mpandas/_libs/tslib.pyx\u001b[0m in \u001b[0;36mpandas._libs.tslib.get_value_box\u001b[0;34m()\u001b[0m\n",
      "\u001b[0;32mpandas/_libs/tslib.pyx\u001b[0m in \u001b[0;36mpandas._libs.tslib.get_value_box\u001b[0;34m()\u001b[0m\n",
      "\u001b[0;31mTypeError\u001b[0m: 'str' object cannot be interpreted as an integer",
      "\nDuring handling of the above exception, another exception occurred:\n",
      "\u001b[0;31mKeyError\u001b[0m                                Traceback (most recent call last)",
      "\u001b[0;32m<ipython-input-54-73394bb9793b>\u001b[0m in \u001b[0;36m<module>\u001b[0;34m()\u001b[0m\n\u001b[0;32m----> 1\u001b[0;31m \u001b[0mdf_count\u001b[0m \u001b[0;34m=\u001b[0m \u001b[0mdf_count\u001b[0m\u001b[0;34m[\u001b[0m\u001b[0;34m'trip_id'\u001b[0m\u001b[0;34m]\u001b[0m\u001b[0;34m\u001b[0m\u001b[0m\n\u001b[0m\u001b[1;32m      2\u001b[0m \u001b[0mtype\u001b[0m\u001b[0;34m(\u001b[0m\u001b[0mdf_count\u001b[0m\u001b[0;34m)\u001b[0m\u001b[0;34m\u001b[0m\u001b[0m\n",
      "\u001b[0;32m~/miniconda3/lib/python3.6/site-packages/pandas/core/series.py\u001b[0m in \u001b[0;36m__getitem__\u001b[0;34m(self, key)\u001b[0m\n\u001b[1;32m    621\u001b[0m         \u001b[0mkey\u001b[0m \u001b[0;34m=\u001b[0m \u001b[0mcom\u001b[0m\u001b[0;34m.\u001b[0m\u001b[0m_apply_if_callable\u001b[0m\u001b[0;34m(\u001b[0m\u001b[0mkey\u001b[0m\u001b[0;34m,\u001b[0m \u001b[0mself\u001b[0m\u001b[0;34m)\u001b[0m\u001b[0;34m\u001b[0m\u001b[0m\n\u001b[1;32m    622\u001b[0m         \u001b[0;32mtry\u001b[0m\u001b[0;34m:\u001b[0m\u001b[0;34m\u001b[0m\u001b[0m\n\u001b[0;32m--> 623\u001b[0;31m             \u001b[0mresult\u001b[0m \u001b[0;34m=\u001b[0m \u001b[0mself\u001b[0m\u001b[0;34m.\u001b[0m\u001b[0mindex\u001b[0m\u001b[0;34m.\u001b[0m\u001b[0mget_value\u001b[0m\u001b[0;34m(\u001b[0m\u001b[0mself\u001b[0m\u001b[0;34m,\u001b[0m \u001b[0mkey\u001b[0m\u001b[0;34m)\u001b[0m\u001b[0;34m\u001b[0m\u001b[0m\n\u001b[0m\u001b[1;32m    624\u001b[0m \u001b[0;34m\u001b[0m\u001b[0m\n\u001b[1;32m    625\u001b[0m             \u001b[0;32mif\u001b[0m \u001b[0;32mnot\u001b[0m \u001b[0mis_scalar\u001b[0m\u001b[0;34m(\u001b[0m\u001b[0mresult\u001b[0m\u001b[0;34m)\u001b[0m\u001b[0;34m:\u001b[0m\u001b[0;34m\u001b[0m\u001b[0m\n",
      "\u001b[0;32m~/miniconda3/lib/python3.6/site-packages/pandas/core/indexes/base.py\u001b[0m in \u001b[0;36mget_value\u001b[0;34m(self, series, key)\u001b[0m\n\u001b[1;32m   2572\u001b[0m                     \u001b[0;32mraise\u001b[0m \u001b[0mInvalidIndexError\u001b[0m\u001b[0;34m(\u001b[0m\u001b[0mkey\u001b[0m\u001b[0;34m)\u001b[0m\u001b[0;34m\u001b[0m\u001b[0m\n\u001b[1;32m   2573\u001b[0m                 \u001b[0;32melse\u001b[0m\u001b[0;34m:\u001b[0m\u001b[0;34m\u001b[0m\u001b[0m\n\u001b[0;32m-> 2574\u001b[0;31m                     \u001b[0;32mraise\u001b[0m \u001b[0me1\u001b[0m\u001b[0;34m\u001b[0m\u001b[0m\n\u001b[0m\u001b[1;32m   2575\u001b[0m             \u001b[0;32mexcept\u001b[0m \u001b[0mException\u001b[0m\u001b[0;34m:\u001b[0m  \u001b[0;31m# pragma: no cover\u001b[0m\u001b[0;34m\u001b[0m\u001b[0m\n\u001b[1;32m   2576\u001b[0m                 \u001b[0;32mraise\u001b[0m \u001b[0me1\u001b[0m\u001b[0;34m\u001b[0m\u001b[0m\n",
      "\u001b[0;32m~/miniconda3/lib/python3.6/site-packages/pandas/core/indexes/base.py\u001b[0m in \u001b[0;36mget_value\u001b[0;34m(self, series, key)\u001b[0m\n\u001b[1;32m   2558\u001b[0m         \u001b[0;32mtry\u001b[0m\u001b[0;34m:\u001b[0m\u001b[0;34m\u001b[0m\u001b[0m\n\u001b[1;32m   2559\u001b[0m             return self._engine.get_value(s, k,\n\u001b[0;32m-> 2560\u001b[0;31m                                           tz=getattr(series.dtype, 'tz', None))\n\u001b[0m\u001b[1;32m   2561\u001b[0m         \u001b[0;32mexcept\u001b[0m \u001b[0mKeyError\u001b[0m \u001b[0;32mas\u001b[0m \u001b[0me1\u001b[0m\u001b[0;34m:\u001b[0m\u001b[0;34m\u001b[0m\u001b[0m\n\u001b[1;32m   2562\u001b[0m             \u001b[0;32mif\u001b[0m \u001b[0mlen\u001b[0m\u001b[0;34m(\u001b[0m\u001b[0mself\u001b[0m\u001b[0;34m)\u001b[0m \u001b[0;34m>\u001b[0m \u001b[0;36m0\u001b[0m \u001b[0;32mand\u001b[0m \u001b[0mself\u001b[0m\u001b[0;34m.\u001b[0m\u001b[0minferred_type\u001b[0m \u001b[0;32min\u001b[0m \u001b[0;34m[\u001b[0m\u001b[0;34m'integer'\u001b[0m\u001b[0;34m,\u001b[0m \u001b[0;34m'boolean'\u001b[0m\u001b[0;34m]\u001b[0m\u001b[0;34m:\u001b[0m\u001b[0;34m\u001b[0m\u001b[0m\n",
      "\u001b[0;32mpandas/_libs/index.pyx\u001b[0m in \u001b[0;36mpandas._libs.index.IndexEngine.get_value\u001b[0;34m()\u001b[0m\n",
      "\u001b[0;32mpandas/_libs/index.pyx\u001b[0m in \u001b[0;36mpandas._libs.index.IndexEngine.get_value\u001b[0;34m()\u001b[0m\n",
      "\u001b[0;32mpandas/_libs/index.pyx\u001b[0m in \u001b[0;36mpandas._libs.index.IndexEngine.get_loc\u001b[0;34m()\u001b[0m\n",
      "\u001b[0;32mpandas/_libs/hashtable_class_helper.pxi\u001b[0m in \u001b[0;36mpandas._libs.hashtable.PyObjectHashTable.get_item\u001b[0;34m()\u001b[0m\n",
      "\u001b[0;32mpandas/_libs/hashtable_class_helper.pxi\u001b[0m in \u001b[0;36mpandas._libs.hashtable.PyObjectHashTable.get_item\u001b[0;34m()\u001b[0m\n",
      "\u001b[0;31mKeyError\u001b[0m: 'trip_id'"
     ]
    }
   ],
   "source": [
    "df_count = df_count['trip_id']\n",
    "type(df_count)"
   ]
  },
  {
   "cell_type": "code",
   "execution_count": 57,
   "metadata": {},
   "outputs": [
    {
     "data": {
      "text/plain": [
       "from_station_id\n",
       "BT-06       150\n",
       "UW-01       480\n",
       "WF-03       646\n",
       "UW-12       689\n",
       "CD-01       958\n",
       "SLU-21     1114\n",
       "UW-10      1175\n",
       "UW-11      1237\n",
       "UD-02      1417\n",
       "DPD-03     1423\n",
       "SLU-22     1748\n",
       "UW-07      1905\n",
       "UW-02      2002\n",
       "CH-16      2089\n",
       "FH-01      2349\n",
       "UW-06      2383\n",
       "UD-07      2429\n",
       "SLU-20     2452\n",
       "ID-04      2474\n",
       "UW-04      2688\n",
       "CBD-07     3263\n",
       "EL-05      3400\n",
       "CBD-04     3440\n",
       "SLU-18     3461\n",
       "UD-04      3534\n",
       "EL-01      3604\n",
       "CH-06      3765\n",
       "UD-01      3889\n",
       "PS-05      3969\n",
       "FH-04      4208\n",
       "BT-04      4666\n",
       "CBD-03     4822\n",
       "DPD-01     4822\n",
       "CBD-06     4911\n",
       "SLU-16     5045\n",
       "CBD-05     5068\n",
       "SLU-04     5226\n",
       "CH-09      5246\n",
       "PS-04      5409\n",
       "BT-05      5699\n",
       "SLU-23     5739\n",
       "EL-03      5788\n",
       "CH-12      5857\n",
       "CH-03      6218\n",
       "WF-04      6271\n",
       "SLU-07     6339\n",
       "CH-01      6409\n",
       "CH-15      6550\n",
       "CH-05      6948\n",
       "SLU-02     7018\n",
       "SLU-01     7084\n",
       "SLU-19     7285\n",
       "BT-03      7334\n",
       "CH-02      8546\n",
       "CH-08      8573\n",
       "CBD-13     9067\n",
       "SLU-15     9741\n",
       "BT-01     10463\n",
       "CH-07     11568\n",
       "WF-01     13038\n",
       "Name: trip_id, dtype: int64"
      ]
     },
     "execution_count": 57,
     "metadata": {},
     "output_type": "execute_result"
    }
   ],
   "source": [
    "df_count.sort_values()"
   ]
  },
  {
   "cell_type": "code",
   "execution_count": null,
   "metadata": {},
   "outputs": [],
   "source": [
    "df_count1 = df_count[['trip_id']]\n",
    "df_count2 = df_count1.rename(columns={'trip_id': 'count'})\n",
    "df_count2['new'] = 1\n",
    "df_count2.head()"
   ]
  },
  {
   "cell_type": "code",
   "execution_count": null,
   "metadata": {},
   "outputs": [],
   "source": [
    "df_mean = df.groupby(['from_station_id']).mean()\n",
    "df_mean.head()"
   ]
  },
  {
   "cell_type": "code",
   "execution_count": null,
   "metadata": {},
   "outputs": [],
   "source": [
    "dfgroup = df.groupby(['from_station_id'])\n",
    "dfgroup.groups"
   ]
  },
  {
   "cell_type": "markdown",
   "metadata": {},
   "source": [
    "The simplest version of a groupby looks like this, and you can use almost any aggregation function you wish (mean, median, sum, minimum, maximum, standard deviation, count, etc.)\n",
    "\n",
    "```\n",
    "<data object>.groupby(<grouping values>).<aggregate>()\n",
    "```\n",
    "\n",
    "for example, we can group by gender and find the average of all numerical columns:"
   ]
  },
  {
   "cell_type": "code",
   "execution_count": null,
   "metadata": {},
   "outputs": [],
   "source": []
  },
  {
   "cell_type": "markdown",
   "metadata": {},
   "source": [
    "It's also possible to indes the grouped object like it is a dataframe:"
   ]
  },
  {
   "cell_type": "code",
   "execution_count": null,
   "metadata": {},
   "outputs": [],
   "source": []
  },
  {
   "cell_type": "markdown",
   "metadata": {},
   "source": [
    "You can even group by multiple values: for example we can look at the trip duration by time of day and by gender:"
   ]
  },
  {
   "cell_type": "code",
   "execution_count": null,
   "metadata": {},
   "outputs": [],
   "source": []
  },
  {
   "cell_type": "markdown",
   "metadata": {},
   "source": [
    "The ``unstack()`` operation can help make sense of this type of multiply-grouped data. What this technically does is split a multiple-valued index into an index plus columns:"
   ]
  },
  {
   "cell_type": "code",
   "execution_count": null,
   "metadata": {},
   "outputs": [],
   "source": []
  },
  {
   "cell_type": "markdown",
   "metadata": {},
   "source": [
    "### Visualizing data with ``pandas``\n",
    "\n",
    "Of course, looking at tables of data is not very intuitive.\n",
    "Fortunately Pandas has many useful plotting functions built-in, all of which make use of the ``matplotlib`` library to generate plots.\n",
    "\n",
    "Whenever you do plotting in the IPython notebook, you will want to first run this *magic command* which configures the notebook to work well with plots:"
   ]
  },
  {
   "cell_type": "code",
   "execution_count": 58,
   "metadata": {},
   "outputs": [],
   "source": [
    "%matplotlib inline"
   ]
  },
  {
   "cell_type": "markdown",
   "metadata": {},
   "source": [
    "Now we can simply call the ``plot()`` method of any series or dataframe to get a reasonable view of the data:"
   ]
  },
  {
   "cell_type": "code",
   "execution_count": 59,
   "metadata": {},
   "outputs": [
    {
     "data": {
      "text/plain": [
       "<matplotlib.axes._subplots.AxesSubplot at 0x7f6bf202c8d0>"
      ]
     },
     "execution_count": 59,
     "metadata": {},
     "output_type": "execute_result"
    },
    {
     "data": {
      "image/png": "[encoded data removed]",
      "text/plain": [
       "<Figure size 432x288 with 1 Axes>"
      ]
     },
     "metadata": {},
     "output_type": "display_data"
    }
   ],
   "source": [
    "import matplotlib.pyplot as plt\n",
    "df['tripduration'].hist()"
   ]
  },
  {
   "cell_type": "markdown",
   "metadata": {},
   "source": [
    "### Adjusting the Plot Style\n",
    "\n",
    "Matplotlib has a number of plot styles you can use. For example, if you like R you might use the ggplot style:"
   ]
  },
  {
   "cell_type": "code",
   "execution_count": null,
   "metadata": {},
   "outputs": [],
   "source": []
  },
  {
   "cell_type": "markdown",
   "metadata": {},
   "source": [
    "### Other plot types\n",
    "\n",
    "Pandas supports a range of other plotting types; you can find these by using the <TAB> autocomplete on the ``plot`` method:"
   ]
  },
  {
   "cell_type": "code",
   "execution_count": null,
   "metadata": {},
   "outputs": [],
   "source": []
  },
  {
   "cell_type": "markdown",
   "metadata": {},
   "source": [
    "For example, we can create a histogram of trip durations:"
   ]
  },
  {
   "cell_type": "code",
   "execution_count": null,
   "metadata": {},
   "outputs": [],
   "source": []
  },
  {
   "cell_type": "markdown",
   "metadata": {},
   "source": [
    "If you'd like to adjust the x and y limits of the plot, you can use the ``set_xlim()`` and ``set_ylim()`` method of the resulting object:"
   ]
  },
  {
   "cell_type": "code",
   "execution_count": null,
   "metadata": {},
   "outputs": [],
   "source": [
    "\n"
   ]
  },
  {
   "cell_type": "markdown",
   "metadata": {},
   "source": [
    "## Breakout: Exploring the Data\n",
    "\n",
    "Make a plot of the total number of rides as a function of month of the year (You'll need to extract the month, use a ``groupby``, and find the appropriate aggregation to count the number in each group)."
   ]
  },
  {
   "cell_type": "code",
   "execution_count": null,
   "metadata": {},
   "outputs": [],
   "source": []
  },
  {
   "cell_type": "markdown",
   "metadata": {},
   "source": [
    "Split this plot by gender. Do you see any seasonal ridership patterns by gender?"
   ]
  },
  {
   "cell_type": "code",
   "execution_count": null,
   "metadata": {},
   "outputs": [],
   "source": []
  },
  {
   "cell_type": "markdown",
   "metadata": {},
   "source": [
    "Split this plot by user type. Do you see any seasonal ridership patterns by usertype?"
   ]
  },
  {
   "cell_type": "code",
   "execution_count": null,
   "metadata": {},
   "outputs": [],
   "source": []
  },
  {
   "cell_type": "markdown",
   "metadata": {},
   "source": [
    "Repeat the above three steps, counting the number of rides by time of day rather thatn by month."
   ]
  },
  {
   "cell_type": "code",
   "execution_count": null,
   "metadata": {},
   "outputs": [],
   "source": []
  },
  {
   "cell_type": "markdown",
   "metadata": {},
   "source": [
    "Are there any other interesting insights you can discover in the data using these tools?"
   ]
  },
  {
   "cell_type": "code",
   "execution_count": null,
   "metadata": {},
   "outputs": [],
   "source": []
  },
  {
   "cell_type": "markdown",
   "metadata": {},
   "source": [
    "### Using Files\n",
    "- Writing and running python modules\n",
    "- Using python modules in your Jupyter Notebook"
   ]
  },
  {
   "cell_type": "code",
   "execution_count": null,
   "metadata": {},
   "outputs": [],
   "source": [
    "# A script for creating a dataframe with counts of the occurrence of a columns' values\n",
    "df_count = df.groupby('from_station_id').count()\n",
    "df_count1 = df_count[['trip_id']]\n",
    "df_count2 = df_count1.rename(columns={'trip_id': 'count'})"
   ]
  },
  {
   "cell_type": "code",
   "execution_count": null,
   "metadata": {},
   "outputs": [],
   "source": [
    "df_count2.head()"
   ]
  },
  {
   "cell_type": "code",
   "execution_count": null,
   "metadata": {},
   "outputs": [],
   "source": [
    "def make_table_count(df_arg, groupby_column):\n",
    "    df_count = df_arg.groupby(groupby_column).count()\n",
    "    column_name = df.columns[0]\n",
    "    df_count1 = df_count[[column_name]]\n",
    "    df_count2 = df_count1.rename(columns={column_name: 'count'})\n",
    "    return df_count2"
   ]
  },
  {
   "cell_type": "code",
   "execution_count": null,
   "metadata": {},
   "outputs": [],
   "source": [
    "dff = make_table_count(df, 'from_station_id')\n",
    "dff.head()"
   ]
  }
 ],
 "metadata": {
  "anaconda-cloud": {},
  "kernelspec": {
   "display_name": "Python 3",
   "language": "python",
   "name": "python3"
  },
  "language_info": {
   "codemirror_mode": {
    "name": "ipython",
    "version": 3
   },
   "file_extension": ".py",
   "mimetype": "text/x-python",
   "name": "python",
   "nbconvert_exporter": "python",
   "pygments_lexer": "ipython3",
   "version": "3.6.4"
  }
 },
 "nbformat": 4,
 "nbformat_minor": 1
}
