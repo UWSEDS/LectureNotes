{
 "cells": [
  {
   "cell_type": "markdown",
   "metadata": {},
   "source": [
    "# Procedural programming in python\n",
    "\n",
    "## Topics\n",
    "* Flow control, part 1\n",
    " * If\n",
    " * For\n",
    "   * range() function\n",
    "* Some hacky hack time\n",
    "* Exercises"
   ]
  },
  {
   "cell_type": "markdown",
   "metadata": {},
   "source": [
    "<hr>"
   ]
  },
  {
   "cell_type": "markdown",
   "metadata": {},
   "source": [
    "<hr>\n",
    "### Review of Data Types\n",
    "\n",
    "| type | description |\n",
    "|------|------------|\n",
    "| primitive | int, float, string, bool |\n",
    "| tuple | An immutable collection of ordered objects |\n",
    "| list | A mutable collection of ordered objects |\n",
    "| dictionary | A mutable collection of named objects |\n"
   ]
  },
  {
   "cell_type": "markdown",
   "metadata": {},
   "source": [
    "<hr>\n",
    "## Flow control\n",
    "\n",
    "<img src=\"https://docs.oracle.com/cd/B19306_01/appdev.102/b14261/lnpls008.gif\">Flow control figure</img>\n",
    "\n",
    "Flow control refers how to programs do loops, conditional execution, and order of functional operations.  Let's start with conditionals, or the venerable ``if`` statement.\n",
    "\n",
    "Let's start with a simple list of instructors for these classes."
   ]
  },
  {
   "cell_type": "code",
   "execution_count": 2,
   "metadata": {},
   "outputs": [
    {
     "data": {
      "text/plain": [
       "['Dave', 'Joe', 'Bernease', 'Dorkus the Clown']"
      ]
     },
     "execution_count": 2,
     "metadata": {},
     "output_type": "execute_result"
    }
   ],
   "source": [
    "instructors = ['Dave', 'Joe', 'Bernease', 'Dorkus the Clown']\n",
    "instructors"
   ]
  },
  {
   "cell_type": "markdown",
   "metadata": {},
   "source": [
    "### If\n",
    "If statements can be use to execute some lines or block of code if a particular condition is satisfied.  E.g. Let's print something based on the entries in the list."
   ]
  },
  {
   "cell_type": "code",
   "execution_count": 3,
   "metadata": {},
   "outputs": [
    {
     "name": "stdout",
     "output_type": "stream",
     "text": [
      "#fakeinstructor\n"
     ]
    }
   ],
   "source": [
    "if 'Dorkus the Clown' in instructors:\n",
    "    print('#fakeinstructor')"
   ]
  },
  {
   "cell_type": "markdown",
   "metadata": {},
   "source": [
    "Usually we want conditional logic on both sides of a binary condition, e.g. some action when ``True`` and some when ``False``"
   ]
  },
  {
   "cell_type": "code",
   "execution_count": null,
   "metadata": {},
   "outputs": [],
   "source": [
    "if 'Dorkus the Clown' in instructors:\n",
    "    print('There are fake names for class instructors in your list!')\n",
    "else:\n",
    "    print(\"Nothing to see here\")"
   ]
  },
  {
   "cell_type": "markdown",
   "metadata": {},
   "source": [
    "There is a special do nothing word: `pass` that skips over some arm of a conditional, e.g."
   ]
  },
  {
   "cell_type": "code",
   "execution_count": null,
   "metadata": {},
   "outputs": [],
   "source": [
    "if 'Joe' in instructors:\n",
    "    print(\"Congratulations!  Joe is teaching, your class won't stink!\")\n",
    "else:\n",
    "    pass"
   ]
  },
  {
   "cell_type": "markdown",
   "metadata": {},
   "source": [
    "_Note_: what have you noticed in this session about quotes?  What is the difference between ``'`` and ``\"``?\n",
    "\n",
    "\n",
    "Another simple example:"
   ]
  },
  {
   "cell_type": "code",
   "execution_count": null,
   "metadata": {
    "scrolled": true
   },
   "outputs": [],
   "source": [
    "if True is False:\n",
    "    print(\"I'm so confused\")\n",
    "else:\n",
    "    print(\"Everything is right with the world\")"
   ]
  },
  {
   "cell_type": "markdown",
   "metadata": {},
   "source": [
    "It is always good practice to handle all cases explicity.  `Conditional fall through` is a common source of bugs.\n",
    "\n",
    "Sometimes we wish to test multiple conditions.  Use `if`, `elif`, and `else`."
   ]
  },
  {
   "cell_type": "code",
   "execution_count": null,
   "metadata": {},
   "outputs": [],
   "source": [
    "my_favorite = 'pie'\n",
    "\n",
    "if my_favorite is 'cake':\n",
    "    print(\"He likes cake!  I'll start making a double chocolate velvet cake right now!\")\n",
    "elif my_favorite is 'pie':\n",
    "    print(\"He likes pie!  I'll start making a cherry pie right now!\")\n",
    "else:\n",
    "    print(\"He likes \" + my_favorite + \".  I don't know how to make that.\")"
   ]
  },
  {
   "cell_type": "markdown",
   "metadata": {},
   "source": [
    "Conditionals can take ``and`` and ``or`` and ``not``.  E.g."
   ]
  },
  {
   "cell_type": "code",
   "execution_count": null,
   "metadata": {},
   "outputs": [],
   "source": [
    "my_favorite = 'pie'\n",
    "\n",
    "if my_favorite is 'cake' or my_favorite is 'pie':\n",
    "    print(my_favorite + \" : I have a recipe for that!\")\n",
    "else:\n",
    "    print(\"Ew!  Who eats that?\")"
   ]
  },
  {
   "cell_type": "markdown",
   "metadata": {},
   "source": [
    "## For\n",
    "\n",
    "For loops are the standard loop, though `while` is also common.  For has the general form:\n",
    "```\n",
    "for items in list:\n",
    "    do stuff\n",
    "```\n",
    "\n",
    "For loops and collections like tuples, lists and dictionaries are natural friends."
   ]
  },
  {
   "cell_type": "code",
   "execution_count": null,
   "metadata": {},
   "outputs": [],
   "source": [
    "for instructor in instructors:\n",
    "    print(instructor)"
   ]
  },
  {
   "cell_type": "markdown",
   "metadata": {},
   "source": [
    "You can combine loops and conditionals:"
   ]
  },
  {
   "cell_type": "code",
   "execution_count": null,
   "metadata": {},
   "outputs": [],
   "source": [
    "for instructor in instructors:\n",
    "    if instructor.endswith('Clown'):\n",
    "        print(instructor + \" doesn't sound like a real instructor name!\")\n",
    "    else:\n",
    "        print(instructor + \" is so smart... all those gooey brains!\")"
   ]
  },
  {
   "cell_type": "markdown",
   "metadata": {},
   "source": [
    "Dictionaries can use the `keys` method for iterating."
   ]
  },
  {
   "cell_type": "code",
   "execution_count": null,
   "metadata": {},
   "outputs": [],
   "source": [
    "for key in my_dict.keys():\n",
    "    if len(key) > 5:\n",
    "        print(my_dict[key])"
   ]
  },
  {
   "cell_type": "markdown",
   "metadata": {},
   "source": [
    "### range()\n",
    "\n",
    "Since for operates over lists, it is common to want to do something like:\n",
    "```\n",
    "NOTE: C-like\n",
    "for (i = 0; i < 3; ++i) {\n",
    "    print(i);\n",
    "}\n",
    "```\n",
    "\n",
    "The Python equivalent is:\n",
    "\n",
    "```\n",
    "for i in [0, 1, 2]:\n",
    "    do something with i\n",
    "```\n",
    "\n",
    "What happens when the range you want to sample is big, e.g.\n",
    "```\n",
    "NOTE: C-like\n",
    "for (i = 0; i < 1000000000; ++i) {\n",
    "    print(i);\n",
    "}\n",
    "```\n",
    "\n",
    "That would be a real pain in the rear to have to write out the entire list from 1 to 1000000000.\n",
    "\n",
    "Enter, the `range()` function.  E.g.\n",
    " ```range(3) is [0, 1, 2]```"
   ]
  },
  {
   "cell_type": "code",
   "execution_count": null,
   "metadata": {},
   "outputs": [],
   "source": [
    "range(3)"
   ]
  },
  {
   "cell_type": "markdown",
   "metadata": {},
   "source": [
    "Notice that Python (in the newest versions, e.g. 3+) has an object type that is a range.  This saves memory and speeds up calculations vs. an explicit representation of a range as a list - but it can be automagically converted to a list on the fly by Python.  To show the contents as a `list` we can use the type case like with the tuple above.\n",
    "\n",
    "Sometimes, in older Python docs, you will see `xrange`.  This used the range object back in Python 2 and `range` returned an actual list.  Beware of this!"
   ]
  },
  {
   "cell_type": "code",
   "execution_count": null,
   "metadata": {},
   "outputs": [],
   "source": [
    "list(range(3))"
   ]
  },
  {
   "cell_type": "markdown",
   "metadata": {},
   "source": [
    "Remember earlier with slicing, the syntax `:3` meant `[0, 1, 2]`?  Well, the same upper bound philosophy applies here.\n"
   ]
  },
  {
   "cell_type": "code",
   "execution_count": null,
   "metadata": {},
   "outputs": [],
   "source": [
    "for index in range(3):\n",
    "    instructor = instructors[index]\n",
    "    if instructor.endswith('Clown'):\n",
    "        print(instructor + \" doesn't sound like a real instructor name!\")\n",
    "    else:\n",
    "        print(instructor + \" is so smart... all those gooey brains!\")"
   ]
  },
  {
   "cell_type": "markdown",
   "metadata": {},
   "source": [
    "This would probably be better written as"
   ]
  },
  {
   "cell_type": "code",
   "execution_count": null,
   "metadata": {},
   "outputs": [],
   "source": [
    "for index in range(len(instructors)):\n",
    "    instructor = instructors[index]\n",
    "    if instructor.endswith('Clown'):\n",
    "        print(instructor + \" doesn't sound like a real instructor name!\")\n",
    "    else:\n",
    "        print(instructor + \" is so smart... all those gooey brains!\")"
   ]
  },
  {
   "cell_type": "markdown",
   "metadata": {},
   "source": [
    "But in all, it isn't very Pythonesque to use indexes like that (unless you have another reason in the loop) and you would opt instead for the `instructor in instructors` form.  \n",
    "\n",
    "More often, you are doing something with the numbers that requires them to be integers, e.g. math."
   ]
  },
  {
   "cell_type": "code",
   "execution_count": null,
   "metadata": {},
   "outputs": [],
   "source": [
    "sum = 0\n",
    "for i in range(10):\n",
    "    sum += i\n",
    "print(sum)"
   ]
  },
  {
   "cell_type": "markdown",
   "metadata": {},
   "source": [
    "#### For loops can be nested\n",
    "\n",
    "_Note_: for more on formatting strings, see: [https://pyformat.info](https://pyformat.info)"
   ]
  },
  {
   "cell_type": "code",
   "execution_count": null,
   "metadata": {},
   "outputs": [],
   "source": [
    "for i in range(1, 4):\n",
    "    for j in range(1, 4):\n",
    "        print('%d * %d = %d' % (i, j, i*j))  # Note string formatting here, %d means an integer"
   ]
  },
  {
   "cell_type": "markdown",
   "metadata": {},
   "source": [
    "#### You can exit loops early if a condition is met:"
   ]
  },
  {
   "cell_type": "code",
   "execution_count": null,
   "metadata": {},
   "outputs": [],
   "source": [
    "for i in range(10):\n",
    "    if i == 4:\n",
    "        break\n",
    "i"
   ]
  },
  {
   "cell_type": "markdown",
   "metadata": {},
   "source": [
    "#### You can skip stuff in a loop with `continue`"
   ]
  },
  {
   "cell_type": "code",
   "execution_count": null,
   "metadata": {},
   "outputs": [],
   "source": [
    "sum = 0\n",
    "for i in range(10):\n",
    "    if (i == 5):\n",
    "        continue\n",
    "    else:\n",
    "        sum += i\n",
    "print(sum)"
   ]
  },
  {
   "cell_type": "markdown",
   "metadata": {},
   "source": [
    "#### There is a unique language feature call ``for...else``"
   ]
  },
  {
   "cell_type": "code",
   "execution_count": null,
   "metadata": {},
   "outputs": [],
   "source": [
    "sum = 0\n",
    "for i in range(10):\n",
    "    sum += i\n",
    "else:\n",
    "    print('final i = %d, and sum = %d' % (i, sum))"
   ]
  },
  {
   "cell_type": "markdown",
   "metadata": {},
   "source": [
    "#### You can iterate over letters in a string"
   ]
  },
  {
   "cell_type": "code",
   "execution_count": null,
   "metadata": {},
   "outputs": [],
   "source": [
    "my_string = \"DIRECT\"\n",
    "for c in my_string:\n",
    "    print(c)"
   ]
  },
  {
   "cell_type": "markdown",
   "metadata": {},
   "source": [
    "<hr>\n",
    "## Exercise\n",
    "\n",
    "Objective: Replace the `bash magic` bits for downloading the Pronto data and uncompressing it with Python code.  Since the download is big, check if the zip file exists first before downloading it again.  Then load it into a pandas dataframe.\n",
    "\n",
    "Notes:\n",
    "* The `os` package has tools for checking if a file exists: ``os.path.exists``\n",
    "```\n",
    "import os\n",
    "filename = 'pronto.csv'\n",
    "if os.path.exists(filename):\n",
    "    print(\"wahoo!\")\n",
    "```\n",
    "* Use the `requests` package to get the file given a url (got this from the requests docs)\n",
    "```\n",
    "import requests\n",
    "url = 'https://s3.amazonaws.com/pronto-data/open_data_year_two.zip'\n",
    "req = requests.get(url)\n",
    "assert req.status_code == 200 # if the download failed, this line will generate an error\n",
    "with open(filename, 'wb') as f:\n",
    "    f.write(req.content)\n",
    "```\n",
    "* Use the `zipfile` package to decompress the file while reading it into `pandas`\n",
    "```\n",
    "import pandas as pd\n",
    "import zipfile\n",
    "csv_filename = '2016_trip_data.csv'\n",
    "zf = zipfile.ZipFile(filename)\n",
    "data = pd.read_csv(zf.open(csv_filename))\n",
    "```\n"
   ]
  },
  {
   "cell_type": "markdown",
   "metadata": {},
   "source": [
    "### Now, use your code from above for the following URLs and filenames\n",
    "\n",
    "| URL | filename | csv_filename |\n",
    "|-----|----------|--------------|\n",
    "| https://github.com/UWSEDS/LectureNotes/blob/master/open_data_year_two_set1.zip?raw=true | open_data_year_two_set1.zip | 2016_trip_data_set1.csv |\n",
    "| https://github.com/UWSEDS/LectureNotes/blob/master/open_data_year_two_set2.zip?raw=true | open_data_year_two_set2.zip | 2016_trip_data_set2.csv |\n",
    "| https://github.com/UWSEDS/LectureNotes/blob/master/open_data_year_two_set3.zip?raw=true | open_data_year_two_set3.zip | 2016_trip_data_set3.csv |\n",
    "\n",
    "What pieces of the data structures and flow control that we talked about earlier can you use?"
   ]
  },
  {
   "cell_type": "markdown",
   "metadata": {},
   "source": [
    "<hr>"
   ]
  },
  {
   "cell_type": "markdown",
   "metadata": {},
   "source": [
    "## Functions\n",
    "\n",
    "For loops let you repeat some code for every item in a list.  Functions are similar in that they run the same lines of code for new values of some variable.  They are different in that functions are not limited to looping over items.\n",
    "\n",
    "Functions are a critical part of writing easy to read, reusable code.\n",
    "\n",
    "Create a function like:\n",
    "```\n",
    "def function_name (parameters):\n",
    "    \"\"\"\n",
    "    optional docstring\n",
    "    \"\"\"\n",
    "    function expressions\n",
    "    return [variable]\n",
    "```\n",
    "\n",
    "_Note:_ Sometimes I use the word argument in place of parameter.\n",
    "\n",
    "Here is a simple example.  It prints a string that was passed in and returns nothing."
   ]
  },
  {
   "cell_type": "code",
   "execution_count": null,
   "metadata": {
    "collapsed": true
   },
   "outputs": [],
   "source": [
    "def print_string(str):\n",
    "    \"\"\"This prints out a string passed as the parameter.\"\"\"\n",
    "    print(str)\n",
    "    return"
   ]
  },
  {
   "cell_type": "markdown",
   "metadata": {},
   "source": [
    "To call the function, use:\n",
    "```\n",
    "print_string(\"Dave is awesome!\")\n",
    "```\n",
    "\n",
    "_Note:_ The function has to be defined before you can call it!"
   ]
  },
  {
   "cell_type": "code",
   "execution_count": null,
   "metadata": {},
   "outputs": [],
   "source": [
    "print_string(\"Dave is awesome!\")"
   ]
  },
  {
   "cell_type": "markdown",
   "metadata": {},
   "source": [
    "If you don't provide an argument or too many, you get an error."
   ]
  },
  {
   "cell_type": "code",
   "execution_count": null,
   "metadata": {
    "collapsed": true
   },
   "outputs": [],
   "source": []
  },
  {
   "cell_type": "markdown",
   "metadata": {},
   "source": [
    "Parameters (or arguments) in Python are all passed by reference.  This means that if you modify the parameters in the function, they are modified outside of the function.\n",
    "\n",
    "See the following example:\n",
    "\n",
    "```\n",
    "def change_list(my_list):\n",
    "   \"\"\"This changes a passed list into this function\"\"\"\n",
    "   my_list.append('four');\n",
    "   print('list inside the function: ', my_list)\n",
    "   return\n",
    "\n",
    "my_list = [1, 2, 3];\n",
    "print('list before the function: ', my_list)\n",
    "change_list(my_list);\n",
    "print('list after the function: ', my_list)\n",
    "```"
   ]
  },
  {
   "cell_type": "code",
   "execution_count": null,
   "metadata": {},
   "outputs": [],
   "source": [
    "def change_list(my_list):\n",
    "   \"\"\"This changes a passed list into this function\"\"\"\n",
    "   my_list.append('four');\n",
    "   print('list inside the function: ', my_list)\n",
    "   return\n",
    "\n",
    "my_list = [1, 2, 3];\n",
    "print('list before the function: ', my_list)\n",
    "change_list(my_list);\n",
    "print('list after the function: ', my_list)"
   ]
  },
  {
   "cell_type": "markdown",
   "metadata": {},
   "source": [
    "Variables have scope: `global` and `local`\n",
    "\n",
    "In a function, new variables that you create are not saved when the function returns - these are `local` variables.  Variables defined outside of the function can be accessed but not changed - these are `global` variables, _Note_ there is a way to do this with the `global` keyword.  Generally, the use of `global` variables is not encouraged, instead use parameters.\n",
    "\n",
    "```\n",
    "my_global_1 = 'bad idea'\n",
    "my_global_2 = 'another bad one'\n",
    "my_global_3 = 'better idea'\n",
    "\n",
    "def my_function():\n",
    "    print(my_global)\n",
    "    my_global_2 = 'broke your global, man!'\n",
    "    global my_global_3\n",
    "    my_global_3 = 'still a better idea'\n",
    "    return\n",
    "    \n",
    "my_function()\n",
    "print(my_global_2)\n",
    "print(my_global_3)\n",
    "```"
   ]
  },
  {
   "cell_type": "code",
   "execution_count": null,
   "metadata": {
    "collapsed": true
   },
   "outputs": [],
   "source": []
  },
  {
   "cell_type": "markdown",
   "metadata": {},
   "source": [
    "In general, you want to use parameters to provide data to a function and return a result with the `return`. E.g.\n",
    "\n",
    "```\n",
    "def sum(x, y):\n",
    "    my_sum = x + y\n",
    "    return my_sum\n",
    "```\n",
    "\n",
    "If you are going to return multiple objects, what data structure that we talked about can be used?  Give and example below."
   ]
  },
  {
   "cell_type": "code",
   "execution_count": null,
   "metadata": {
    "collapsed": true
   },
   "outputs": [],
   "source": []
  },
  {
   "cell_type": "markdown",
   "metadata": {},
   "source": [
    "### Parameters have four different types:\n",
    "\n",
    "| type | behavior |\n",
    "|------|----------|\n",
    "| required | positional, must be present or error, e.g. `my_func(first_name, last_name)` |\n",
    "| keyword | position independent, e.g. `my_func(first_name, last_name)` can be called `my_func(first_name='Dave', last_name='Beck')` or `my_func(last_name='Beck', first_name='Dave')` |\n",
    "| default | keyword params that default to a value if not provided |\n"
   ]
  },
  {
   "cell_type": "code",
   "execution_count": null,
   "metadata": {
    "collapsed": true
   },
   "outputs": [],
   "source": [
    "def print_name(first, last='the Clown'):\n",
    "    print('Your name is %s %s' % (first, last))\n",
    "    return"
   ]
  },
  {
   "cell_type": "markdown",
   "metadata": {},
   "source": [
    "Play around with the above function."
   ]
  },
  {
   "cell_type": "code",
   "execution_count": null,
   "metadata": {
    "collapsed": true
   },
   "outputs": [],
   "source": []
  },
  {
   "cell_type": "code",
   "execution_count": null,
   "metadata": {
    "collapsed": true
   },
   "outputs": [],
   "source": []
  },
  {
   "cell_type": "code",
   "execution_count": null,
   "metadata": {
    "collapsed": true
   },
   "outputs": [],
   "source": []
  },
  {
   "cell_type": "markdown",
   "metadata": {},
   "source": [
    "Functions can contain any code that you put anywhere else including:\n",
    "* if...elif...else\n",
    "* for...else\n",
    "* while\n",
    "* other function calls"
   ]
  },
  {
   "cell_type": "code",
   "execution_count": null,
   "metadata": {},
   "outputs": [],
   "source": [
    "def print_name_age(first, last, age):\n",
    "    print_name(first, last)\n",
    "    print('Your age is %d' % (age))\n",
    "    if age > 35:\n",
    "        print('You are really old.')\n",
    "    return"
   ]
  },
  {
   "cell_type": "code",
   "execution_count": null,
   "metadata": {},
   "outputs": [],
   "source": [
    "print_name_age(age=40, last='Beck', first='Dave')"
   ]
  },
  {
   "cell_type": "code",
   "execution_count": null,
   "metadata": {
    "collapsed": true
   },
   "outputs": [],
   "source": []
  },
  {
   "cell_type": "markdown",
   "metadata": {},
   "source": [
    "#### How would you functionalize the above code for downloading, unzipping, and making a dataframe?"
   ]
  },
  {
   "cell_type": "code",
   "execution_count": null,
   "metadata": {
    "collapsed": true
   },
   "outputs": [],
   "source": []
  },
  {
   "cell_type": "code",
   "execution_count": null,
   "metadata": {
    "collapsed": true
   },
   "outputs": [],
   "source": []
  },
  {
   "cell_type": "markdown",
   "metadata": {},
   "source": [
    "Once you have some code that is functionalized and not going to change, you can move it to a file that ends in `.py`, check it into version control, import it into your notebook and use it!\n",
    "\n"
   ]
  },
  {
   "cell_type": "code",
   "execution_count": null,
   "metadata": {
    "collapsed": true
   },
   "outputs": [],
   "source": []
  },
  {
   "cell_type": "code",
   "execution_count": null,
   "metadata": {
    "collapsed": true
   },
   "outputs": [],
   "source": []
  },
  {
   "cell_type": "markdown",
   "metadata": {},
   "source": [
    "Homework:\n",
    "Save your functions to `pronto_utils.py`.  Import the functions and use them to rewrite HW1.  This will be laid out in the homework repo for HW2.  Check the website."
   ]
  },
  {
   "cell_type": "code",
   "execution_count": null,
   "metadata": {
    "collapsed": true
   },
   "outputs": [],
   "source": []
  }
 ],
 "metadata": {
  "kernelspec": {
   "display_name": "Python 3",
   "language": "python",
   "name": "python3"
  },
  "language_info": {
   "codemirror_mode": {
    "name": "ipython",
    "version": 3
   },
   "file_extension": ".py",
   "mimetype": "text/x-python",
   "name": "python",
   "nbconvert_exporter": "python",
   "pygments_lexer": "ipython3",
   "version": "3.6.4"
  }
 },
 "nbformat": 4,
 "nbformat_minor": 1
}
