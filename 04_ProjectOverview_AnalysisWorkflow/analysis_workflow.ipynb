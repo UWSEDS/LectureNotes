{
 "cells": [
  {
   "cell_type": "markdown",
   "metadata": {},
   "source": [
    "# Analysis Workflow\n",
    "\n",
    "This lecture takes some of the ideas we developed last week, and organizes them into a workflow. We'll do this by example, analyzing the pronto data. Topics will include:\n",
    "\n",
    "- Retrieving data\n",
    "- Encapsulating repeated code into functions\n",
    "- Creating python modules\n",
    "- Organizing the analysis directory with multiple directories\n",
    "\n",
    "These topics provide a rough outline for an analysis workflow."
   ]
  },
  {
   "cell_type": "markdown",
   "metadata": {},
   "source": [
    "## Retrieving Data"
   ]
  },
  {
   "cell_type": "code",
   "execution_count": 1,
   "metadata": {},
   "outputs": [],
   "source": [
    "# Packages\n",
    "from urllib import request\n",
    "import os\n",
    "import pandas as pd"
   ]
  },
  {
   "cell_type": "code",
   "execution_count": 2,
   "metadata": {},
   "outputs": [],
   "source": [
    "# Constants used in analysis\n",
    "TRIP_DATA = \"https://data.seattle.gov/api/views/tw7j-dfaw/rows.csv?accessType=DOWNLOAD\"\n",
    "TRIP_FILE = \"pronto_trips.csv\"\n",
    "\n",
    "WEATHER_DATA = \"http://uwseds.github.io/data/pronto_weather.csv\"\n",
    "WEATHER_FILE = \"pronto_weather.csv\""
   ]
  },
  {
   "cell_type": "code",
   "execution_count": 3,
   "metadata": {},
   "outputs": [],
   "source": [
    "# Get the URL data\n",
    "#request.urlretrieve(TRIP_DATA, TRIP_FILE)"
   ]
  },
  {
   "cell_type": "code",
   "execution_count": 4,
   "metadata": {},
   "outputs": [
    {
     "name": "stdout",
     "output_type": "stream",
     "text": [
      "total 44M\r\n",
      "-rw-rw-r-- 1 ubuntu ubuntu 6.1K Oct  4 14:53 analysis_workflow.ipynb\r\n",
      "-rw-rw-r-- 1 ubuntu ubuntu 556K Oct  4 14:15 Project-overview.pptx\r\n",
      "-rw-rw-r-- 1 ubuntu ubuntu  43M Oct  4 14:43 pronto_trips.csv\r\n"
     ]
    }
   ],
   "source": [
    "!ls -lh"
   ]
  },
  {
   "cell_type": "markdown",
   "metadata": {},
   "source": [
    "Two challenges\n",
    "1. The file is big. We don't want to download it if it's already present.\n",
    "1. We're going to repeatedly download files. We don't want to just copy and paste the same code."
   ]
  },
  {
   "cell_type": "markdown",
   "metadata": {},
   "source": [
    "## Encapsulating Repeated Code In Functions\n",
    "A function is code that can be invoked by many callers. A function may have arguments that are specified by the caller, and returns values created by the function."
   ]
  },
  {
   "cell_type": "code",
   "execution_count": 5,
   "metadata": {},
   "outputs": [
    {
     "name": "stdout",
     "output_type": "stream",
     "text": [
      "4\n",
      "5\n"
     ]
    }
   ],
   "source": [
    "# Example function\n",
    "def func(input):     # The function's name is \"func\". It has one argument \"input\".\n",
    "    return input + 1 # The function returns one value, input + 1\n",
    "\n",
    "print (func(3))\n",
    "a = func(3)\n",
    "print (func(a))"
   ]
  },
  {
   "cell_type": "code",
   "execution_count": 6,
   "metadata": {},
   "outputs": [
    {
     "data": {
      "text/plain": [
       "3"
      ]
     },
     "execution_count": 6,
     "metadata": {},
     "output_type": "execute_result"
    }
   ],
   "source": [
    "def addTwo(input1, input2):\n",
    "    return input1 + input2\n",
    "#\n",
    "addTwo(1, 2)"
   ]
  },
  {
   "cell_type": "markdown",
   "metadata": {},
   "source": [
    "Colin will provide more details about function, such as variable scope, and multiple return values."
   ]
  },
  {
   "cell_type": "code",
   "execution_count": 7,
   "metadata": {},
   "outputs": [],
   "source": [
    "# Function to download from a URL\n",
    "def download(url, filename):\n",
    "    print(\"Downloading\", filename)\n",
    "    request.urlretrieve(url, filename)"
   ]
  },
  {
   "cell_type": "code",
   "execution_count": 8,
   "metadata": {},
   "outputs": [],
   "source": [
    "#download(TRIP_DATA, TRIP_FILE)"
   ]
  },
  {
   "cell_type": "code",
   "execution_count": 9,
   "metadata": {},
   "outputs": [],
   "source": [
    "# Enhancing function to detect file already present"
   ]
  },
  {
   "cell_type": "markdown",
   "metadata": {},
   "source": [
    "## Creating A Python Module\n",
    "We'll leave the Jupyter notebook and start using a file editor."
   ]
  },
  {
   "cell_type": "markdown",
   "metadata": {},
   "source": [
    "## Using the Python Module\n",
    "We have moved the download function to an external file. Now, we want to use that file."
   ]
  },
  {
   "cell_type": "markdown",
   "metadata": {},
   "source": [
    "## Accessing a Python Module in Another Directory"
   ]
  },
  {
   "cell_type": "markdown",
   "metadata": {},
   "source": [
    "## Advanced Pandas\n",
    "- Pivot tables\n",
    "- Plotting"
   ]
  }
 ],
 "metadata": {
  "anaconda-cloud": {},
  "kernelspec": {
   "display_name": "Python 3",
   "language": "python",
   "name": "python3"
  },
  "language_info": {
   "codemirror_mode": {
    "name": "ipython",
    "version": 3
   },
   "file_extension": ".py",
   "mimetype": "text/x-python",
   "name": "python",
   "nbconvert_exporter": "python",
   "pygments_lexer": "ipython3",
   "version": "3.6.4"
  }
 },
 "nbformat": 4,
 "nbformat_minor": 1
}
