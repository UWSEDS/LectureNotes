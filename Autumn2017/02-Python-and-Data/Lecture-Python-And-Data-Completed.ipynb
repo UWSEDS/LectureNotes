{
 "cells": [
  {
   "cell_type": "markdown",
   "metadata": {
    "deletable": true,
    "editable": true
   },
   "source": [
    "# Software Engineering for Data Scientists\n",
    "\n",
    "## *Manipulating Data with Python*\n",
    "## CSE 583"
   ]
  },
  {
   "cell_type": "markdown",
   "metadata": {
    "deletable": true,
    "editable": true
   },
   "source": [
    "## Today's Objectives\n",
    "\n",
    "#### 1. Opening & Navigating the Jupyter Notebook\n",
    "\n",
    "#### 2. Simple Math in the Jupyter Notebook\n",
    "\n",
    "#### 3. Loading data with ``pandas``\n",
    "\n",
    "#### 4. Cleaning and Manipulating data with ``pandas``\n",
    "\n",
    "#### 5. Visualizing data with ``pandas`` & ``matplotlib``"
   ]
  },
  {
   "cell_type": "markdown",
   "metadata": {
    "deletable": true,
    "editable": true
   },
   "source": [
    "## 1. Opening and Navigating the IPython Notebook\n",
    "\n",
    "We will start today with the interactive environment that we will be using often through the course: the [Jupyter Notebook](http://jupyter.org).\n",
    "\n",
    "We will walk through the following steps together:\n",
    "\n",
    "1. Download [miniconda](https://conda.io/miniconda.html) (be sure to get Version 3.6) and install it on your system (hopefully you have done this before coming to class)\n",
    "   ```\n",
    "   ```\n",
    "\n",
    "2. Use the ``conda`` command-line tool to update your package listing and install the IPython notebook:\n",
    "\n",
    "   Update ``conda``'s listing of packages for your system:\n",
    "   ```\n",
    "   $ conda update conda\n",
    "   ```\n",
    "   \n",
    "   Install IPython notebook and all its requirements\n",
    "   ```\n",
    "   $ conda install jupyter notebook\n",
    "   ```\n",
    "   \n",
    "3. Navigate to the directory containing the course material. For example:\n",
    "\n",
    "   ```\n",
    "   $ cd ~/courses/CSE583/\n",
    "   ```\n",
    "   \n",
    "   You should see a number of files in the directory, including these:\n",
    "   \n",
    "   ```\n",
    "   $ ls\n",
    "   ...\n",
    "   Breakout-Simple-Math.ipynb\n",
    "   Lecture-Python-And-Data.ipynb\n",
    "   ...\n",
    "   ```\n",
    "\n",
    "4. Type ``jupyter notebook`` in the terminal to start the notebook\n",
    "\n",
    "   ```\n",
    "   $ jupyter notebook\n",
    "   ```\n",
    "   \n",
    "   If everything has worked correctly, it should automatically launch your default browser\n",
    "   ```\n",
    "   ```\n",
    "   \n",
    "5. Click on ``Lecture-Python-And-Data.ipynb`` to open the notebook containing the content for this lecture.\n",
    "\n",
    "With that, you're set up to use the Jupyter notebook!"
   ]
  },
  {
   "cell_type": "markdown",
   "metadata": {
    "deletable": true,
    "editable": true
   },
   "source": [
    "## 2. Simple Math in the Jupyter Notebook"
   ]
  },
  {
   "cell_type": "markdown",
   "metadata": {
    "deletable": true,
    "editable": true
   },
   "source": [
    "Now that we have the Jupyter notebook up and running, we're going to do a short breakout exploring some of the mathematical functionality that Python offers.\n",
    "\n",
    "Please open [Breakout-Simple-Math.ipynb](Breakout-Simple-Math.ipynb), find a partner, and make your way through that notebook, typing and executing code along the way."
   ]
  },
  {
   "cell_type": "markdown",
   "metadata": {
    "deletable": true,
    "editable": true
   },
   "source": [
    "## 3. Loading data with ``pandas``\n",
    "\n",
    "With this simple Python computation experience under our belt, we can now move to doing some more interesting analysis."
   ]
  },
  {
   "cell_type": "markdown",
   "metadata": {
    "deletable": true,
    "editable": true
   },
   "source": [
    "### Python's Data Science Ecosystem\n",
    "\n",
    "In addition to Python's built-in modules like the ``math`` module we explored above, there are also many often-used third-party modules that are core tools for doing data science with Python.\n",
    "Some of the most important ones are:\n",
    "\n",
    "#### [``numpy``](http://numpy.org/): Numerical Python\n",
    "\n",
    "Numpy is short for \"Numerical Python\", and contains tools for efficient manipulation of arrays of data.\n",
    "If you have used other computational tools like IDL or MatLab, Numpy should feel very familiar.\n",
    "\n",
    "#### [``scipy``](http://scipy.org/): Scientific Python\n",
    "\n",
    "Scipy is short for \"Scientific Python\", and contains a wide range of functionality for accomplishing common scientific tasks, such as optimization/minimization, numerical integration, interpolation, and much more.\n",
    "We will not look closely at Scipy today, but we will use its functionality later in the course.\n",
    "\n",
    "#### [``pandas``](http://pandas.pydata.org/): Labeled Data Manipulation in Python\n",
    "\n",
    "Pandas is short for \"Panel Data\", and contains tools for doing more advanced manipulation of labeled data in Python, in particular with a columnar data structure called a *Data Frame*.\n",
    "If you've used the [R](http://rstats.org) statistical language (and in particular the so-called \"Hadley Stack\"), much of the functionality in Pandas should feel very familiar.\n",
    "\n",
    "#### [``matplotlib``](http://matplotlib.org): Visualization in Python\n",
    "\n",
    "Matplotlib started out as a Matlab plotting clone in Python, and has grown from there in the 15 years since its creation. It is the most popular data visualization tool currently in the Python data world (though other recent packages are starting to encroach on its monopoly)."
   ]
  },
  {
   "cell_type": "markdown",
   "metadata": {
    "deletable": true,
    "editable": true
   },
   "source": [
    "### Installing Pandas & friends\n",
    "\n",
    "Because the above packages are not included in Python itself, you need to install them separately. While it is possible to install these from source (compiling the C and/or Fortran code that does the heavy lifting under the hood) it is much easier to use a package manager like ``conda``. All it takes is to run\n",
    "\n",
    "```\n",
    "$ conda install numpy scipy pandas matplotlib\n",
    "```\n",
    "\n",
    "and (so long as your conda setup is working) the packages will be downloaded and installed on your system."
   ]
  },
  {
   "cell_type": "markdown",
   "metadata": {
    "deletable": true,
    "editable": true
   },
   "source": [
    "### Downloading the data\n",
    "\n",
    "shell commands can be run from the notebook by preceding them with an exclamation point:"
   ]
  },
  {
   "cell_type": "code",
   "execution_count": 1,
   "metadata": {
    "collapsed": false,
    "deletable": true,
    "editable": true
   },
   "outputs": [
    {
     "name": "stdout",
     "output_type": "stream",
     "text": [
      "\u001b[31mBreakout-Simple-Math-Completed.ipynb\u001b[m\u001b[m    pronto-new.csv\r\n",
      "Breakout-Simple-Math.ipynb              pronto.csv\r\n",
      "Lecture-Python-And-Data-Completed.ipynb split_apply_combine.png\r\n",
      "\u001b[31mLecture-Python-And-Data.ipynb\u001b[m\u001b[m\r\n"
     ]
    }
   ],
   "source": [
    "!ls"
   ]
  },
  {
   "cell_type": "markdown",
   "metadata": {
    "deletable": true,
    "editable": true
   },
   "source": [
    "uncomment this to download the data:"
   ]
  },
  {
   "cell_type": "code",
   "execution_count": 2,
   "metadata": {
    "collapsed": false,
    "deletable": true,
    "editable": true
   },
   "outputs": [],
   "source": [
    "# !curl -o pronto.csv https://data.seattle.gov/api/views/tw7j-dfaw/rows.csv?accessType=DOWNLOAD"
   ]
  },
  {
   "cell_type": "markdown",
   "metadata": {
    "deletable": true,
    "editable": true
   },
   "source": [
    "### Loading Data with Pandas"
   ]
  },
  {
   "cell_type": "code",
   "execution_count": 3,
   "metadata": {
    "collapsed": false,
    "deletable": true,
    "editable": true
   },
   "outputs": [],
   "source": [
    "import pandas"
   ]
  },
  {
   "cell_type": "markdown",
   "metadata": {
    "deletable": true,
    "editable": true
   },
   "source": [
    "Because we'll use it so much, we often import under a shortened name using the ``import ... as ...`` pattern:"
   ]
  },
  {
   "cell_type": "code",
   "execution_count": 4,
   "metadata": {
    "collapsed": false,
    "deletable": true,
    "editable": true
   },
   "outputs": [],
   "source": [
    "import pandas as pd"
   ]
  },
  {
   "cell_type": "markdown",
   "metadata": {
    "deletable": true,
    "editable": true
   },
   "source": [
    "Now we can use the ``read_csv`` command to read the comma-separated-value data:"
   ]
  },
  {
   "cell_type": "code",
   "execution_count": 5,
   "metadata": {
    "collapsed": false,
    "deletable": true,
    "editable": true
   },
   "outputs": [],
   "source": [
    "data = pd.read_csv('pronto.csv')"
   ]
  },
  {
   "cell_type": "markdown",
   "metadata": {
    "deletable": true,
    "editable": true
   },
   "source": [
    "*Note: strings in Python can be defined either with double quotes or single quotes*"
   ]
  },
  {
   "cell_type": "markdown",
   "metadata": {
    "deletable": true,
    "editable": true
   },
   "source": [
    "### Viewing Pandas Dataframes"
   ]
  },
  {
   "cell_type": "markdown",
   "metadata": {
    "deletable": true,
    "editable": true
   },
   "source": [
    "The ``head()`` and ``tail()`` methods show us the first and last rows of the data"
   ]
  },
  {
   "cell_type": "code",
   "execution_count": 6,
   "metadata": {
    "collapsed": false,
    "deletable": true,
    "editable": true
   },
   "outputs": [
    {
     "data": {
      "text/html": [
       "<div>\n",
       "<style>\n",
       "    .dataframe thead tr:only-child th {\n",
       "        text-align: right;\n",
       "    }\n",
       "\n",
       "    .dataframe thead th {\n",
       "        text-align: left;\n",
       "    }\n",
       "\n",
       "    .dataframe tbody tr th {\n",
       "        vertical-align: top;\n",
       "    }\n",
       "</style>\n",
       "<table border=\"1\" class=\"dataframe\">\n",
       "  <thead>\n",
       "    <tr style=\"text-align: right;\">\n",
       "      <th></th>\n",
       "      <th>trip_id</th>\n",
       "      <th>starttime</th>\n",
       "      <th>stoptime</th>\n",
       "      <th>bikeid</th>\n",
       "      <th>tripduration</th>\n",
       "      <th>from_station_name</th>\n",
       "      <th>to_station_name</th>\n",
       "      <th>from_station_id</th>\n",
       "      <th>to_station_id</th>\n",
       "      <th>usertype</th>\n",
       "      <th>gender</th>\n",
       "      <th>birthyear</th>\n",
       "    </tr>\n",
       "  </thead>\n",
       "  <tbody>\n",
       "    <tr>\n",
       "      <th>0</th>\n",
       "      <td>431</td>\n",
       "      <td>10/13/2014 10:31:00 AM</td>\n",
       "      <td>10/13/2014 10:48:00 AM</td>\n",
       "      <td>SEA00298</td>\n",
       "      <td>985.935</td>\n",
       "      <td>2nd Ave &amp; Spring St</td>\n",
       "      <td>Occidental Park / Occidental Ave S &amp; S Washing...</td>\n",
       "      <td>CBD-06</td>\n",
       "      <td>PS-04</td>\n",
       "      <td>Member</td>\n",
       "      <td>Male</td>\n",
       "      <td>1960.0</td>\n",
       "    </tr>\n",
       "    <tr>\n",
       "      <th>1</th>\n",
       "      <td>432</td>\n",
       "      <td>10/13/2014 10:32:00 AM</td>\n",
       "      <td>10/13/2014 10:48:00 AM</td>\n",
       "      <td>SEA00195</td>\n",
       "      <td>926.375</td>\n",
       "      <td>2nd Ave &amp; Spring St</td>\n",
       "      <td>Occidental Park / Occidental Ave S &amp; S Washing...</td>\n",
       "      <td>CBD-06</td>\n",
       "      <td>PS-04</td>\n",
       "      <td>Member</td>\n",
       "      <td>Male</td>\n",
       "      <td>1970.0</td>\n",
       "    </tr>\n",
       "    <tr>\n",
       "      <th>2</th>\n",
       "      <td>433</td>\n",
       "      <td>10/13/2014 10:33:00 AM</td>\n",
       "      <td>10/13/2014 10:48:00 AM</td>\n",
       "      <td>SEA00486</td>\n",
       "      <td>883.831</td>\n",
       "      <td>2nd Ave &amp; Spring St</td>\n",
       "      <td>Occidental Park / Occidental Ave S &amp; S Washing...</td>\n",
       "      <td>CBD-06</td>\n",
       "      <td>PS-04</td>\n",
       "      <td>Member</td>\n",
       "      <td>Female</td>\n",
       "      <td>1988.0</td>\n",
       "    </tr>\n",
       "    <tr>\n",
       "      <th>3</th>\n",
       "      <td>434</td>\n",
       "      <td>10/13/2014 10:34:00 AM</td>\n",
       "      <td>10/13/2014 10:48:00 AM</td>\n",
       "      <td>SEA00333</td>\n",
       "      <td>865.937</td>\n",
       "      <td>2nd Ave &amp; Spring St</td>\n",
       "      <td>Occidental Park / Occidental Ave S &amp; S Washing...</td>\n",
       "      <td>CBD-06</td>\n",
       "      <td>PS-04</td>\n",
       "      <td>Member</td>\n",
       "      <td>Female</td>\n",
       "      <td>1977.0</td>\n",
       "    </tr>\n",
       "    <tr>\n",
       "      <th>4</th>\n",
       "      <td>435</td>\n",
       "      <td>10/13/2014 10:34:00 AM</td>\n",
       "      <td>10/13/2014 10:49:00 AM</td>\n",
       "      <td>SEA00202</td>\n",
       "      <td>923.923</td>\n",
       "      <td>2nd Ave &amp; Spring St</td>\n",
       "      <td>Occidental Park / Occidental Ave S &amp; S Washing...</td>\n",
       "      <td>CBD-06</td>\n",
       "      <td>PS-04</td>\n",
       "      <td>Member</td>\n",
       "      <td>Male</td>\n",
       "      <td>1971.0</td>\n",
       "    </tr>\n",
       "  </tbody>\n",
       "</table>\n",
       "</div>"
      ],
      "text/plain": [
       "   trip_id               starttime                stoptime    bikeid  \\\n",
       "0      431  10/13/2014 10:31:00 AM  10/13/2014 10:48:00 AM  SEA00298   \n",
       "1      432  10/13/2014 10:32:00 AM  10/13/2014 10:48:00 AM  SEA00195   \n",
       "2      433  10/13/2014 10:33:00 AM  10/13/2014 10:48:00 AM  SEA00486   \n",
       "3      434  10/13/2014 10:34:00 AM  10/13/2014 10:48:00 AM  SEA00333   \n",
       "4      435  10/13/2014 10:34:00 AM  10/13/2014 10:49:00 AM  SEA00202   \n",
       "\n",
       "   tripduration    from_station_name  \\\n",
       "0       985.935  2nd Ave & Spring St   \n",
       "1       926.375  2nd Ave & Spring St   \n",
       "2       883.831  2nd Ave & Spring St   \n",
       "3       865.937  2nd Ave & Spring St   \n",
       "4       923.923  2nd Ave & Spring St   \n",
       "\n",
       "                                     to_station_name from_station_id  \\\n",
       "0  Occidental Park / Occidental Ave S & S Washing...          CBD-06   \n",
       "1  Occidental Park / Occidental Ave S & S Washing...          CBD-06   \n",
       "2  Occidental Park / Occidental Ave S & S Washing...          CBD-06   \n",
       "3  Occidental Park / Occidental Ave S & S Washing...          CBD-06   \n",
       "4  Occidental Park / Occidental Ave S & S Washing...          CBD-06   \n",
       "\n",
       "  to_station_id usertype  gender  birthyear  \n",
       "0         PS-04   Member    Male     1960.0  \n",
       "1         PS-04   Member    Male     1970.0  \n",
       "2         PS-04   Member  Female     1988.0  \n",
       "3         PS-04   Member  Female     1977.0  \n",
       "4         PS-04   Member    Male     1971.0  "
      ]
     },
     "execution_count": 6,
     "metadata": {},
     "output_type": "execute_result"
    }
   ],
   "source": [
    "data.head()"
   ]
  },
  {
   "cell_type": "code",
   "execution_count": 7,
   "metadata": {
    "collapsed": false,
    "deletable": true,
    "editable": true,
    "scrolled": true
   },
   "outputs": [
    {
     "data": {
      "text/html": [
       "<div>\n",
       "<style>\n",
       "    .dataframe thead tr:only-child th {\n",
       "        text-align: right;\n",
       "    }\n",
       "\n",
       "    .dataframe thead th {\n",
       "        text-align: left;\n",
       "    }\n",
       "\n",
       "    .dataframe tbody tr th {\n",
       "        vertical-align: top;\n",
       "    }\n",
       "</style>\n",
       "<table border=\"1\" class=\"dataframe\">\n",
       "  <thead>\n",
       "    <tr style=\"text-align: right;\">\n",
       "      <th></th>\n",
       "      <th>trip_id</th>\n",
       "      <th>starttime</th>\n",
       "      <th>stoptime</th>\n",
       "      <th>bikeid</th>\n",
       "      <th>tripduration</th>\n",
       "      <th>from_station_name</th>\n",
       "      <th>to_station_name</th>\n",
       "      <th>from_station_id</th>\n",
       "      <th>to_station_id</th>\n",
       "      <th>usertype</th>\n",
       "      <th>gender</th>\n",
       "      <th>birthyear</th>\n",
       "    </tr>\n",
       "  </thead>\n",
       "  <tbody>\n",
       "    <tr>\n",
       "      <th>275086</th>\n",
       "      <td>295463</td>\n",
       "      <td>03/31/2017 11:16:00 PM</td>\n",
       "      <td>04/01/2017 02:11:00 AM</td>\n",
       "      <td>SEA00347</td>\n",
       "      <td>10487.475</td>\n",
       "      <td>NE 42nd St &amp; University Way NE</td>\n",
       "      <td>E Harrison St &amp; Broadway Ave E</td>\n",
       "      <td>UD-02</td>\n",
       "      <td>CH-02</td>\n",
       "      <td>Short-Term Pass Holder</td>\n",
       "      <td>NaN</td>\n",
       "      <td>NaN</td>\n",
       "    </tr>\n",
       "    <tr>\n",
       "      <th>275087</th>\n",
       "      <td>295464</td>\n",
       "      <td>03/31/2017 11:16:00 PM</td>\n",
       "      <td>04/01/2017 02:11:00 AM</td>\n",
       "      <td>SEA00031</td>\n",
       "      <td>10487.366</td>\n",
       "      <td>NE 42nd St &amp; University Way NE</td>\n",
       "      <td>E Harrison St &amp; Broadway Ave E</td>\n",
       "      <td>UD-02</td>\n",
       "      <td>CH-02</td>\n",
       "      <td>Member</td>\n",
       "      <td>Female</td>\n",
       "      <td>1982.0</td>\n",
       "    </tr>\n",
       "    <tr>\n",
       "      <th>275088</th>\n",
       "      <td>295465</td>\n",
       "      <td>03/31/2017 11:44:00 PM</td>\n",
       "      <td>04/01/2017 12:04:00 AM</td>\n",
       "      <td>SEA00240</td>\n",
       "      <td>1205.656</td>\n",
       "      <td>Bellevue Ave &amp; E Pine St</td>\n",
       "      <td>Lake Union Park / Westlake Ave &amp; Aloha St</td>\n",
       "      <td>CH-12</td>\n",
       "      <td>SLU-23</td>\n",
       "      <td>Member</td>\n",
       "      <td>Male</td>\n",
       "      <td>1990.0</td>\n",
       "    </tr>\n",
       "    <tr>\n",
       "      <th>275089</th>\n",
       "      <td>295466</td>\n",
       "      <td>03/31/2017 11:46:00 PM</td>\n",
       "      <td>04/01/2017 12:04:00 AM</td>\n",
       "      <td>SEA00121</td>\n",
       "      <td>1115.658</td>\n",
       "      <td>Bellevue Ave &amp; E Pine St</td>\n",
       "      <td>Lake Union Park / Westlake Ave &amp; Aloha St</td>\n",
       "      <td>CH-12</td>\n",
       "      <td>SLU-23</td>\n",
       "      <td>Member</td>\n",
       "      <td>Female</td>\n",
       "      <td>1987.0</td>\n",
       "    </tr>\n",
       "    <tr>\n",
       "      <th>275090</th>\n",
       "      <td>295467</td>\n",
       "      <td>03/31/2017 11:52:00 PM</td>\n",
       "      <td>04/01/2017 02:33:00 AM</td>\n",
       "      <td>SEA00151</td>\n",
       "      <td>9667.679</td>\n",
       "      <td>Cal Anderson Park / 11th Ave &amp; Pine St</td>\n",
       "      <td>Broadway and E Denny Way</td>\n",
       "      <td>CH-08</td>\n",
       "      <td>CH-16</td>\n",
       "      <td>Member</td>\n",
       "      <td>Male</td>\n",
       "      <td>1988.0</td>\n",
       "    </tr>\n",
       "  </tbody>\n",
       "</table>\n",
       "</div>"
      ],
      "text/plain": [
       "        trip_id               starttime                stoptime    bikeid  \\\n",
       "275086   295463  03/31/2017 11:16:00 PM  04/01/2017 02:11:00 AM  SEA00347   \n",
       "275087   295464  03/31/2017 11:16:00 PM  04/01/2017 02:11:00 AM  SEA00031   \n",
       "275088   295465  03/31/2017 11:44:00 PM  04/01/2017 12:04:00 AM  SEA00240   \n",
       "275089   295466  03/31/2017 11:46:00 PM  04/01/2017 12:04:00 AM  SEA00121   \n",
       "275090   295467  03/31/2017 11:52:00 PM  04/01/2017 02:33:00 AM  SEA00151   \n",
       "\n",
       "        tripduration                       from_station_name  \\\n",
       "275086     10487.475          NE 42nd St & University Way NE   \n",
       "275087     10487.366          NE 42nd St & University Way NE   \n",
       "275088      1205.656                Bellevue Ave & E Pine St   \n",
       "275089      1115.658                Bellevue Ave & E Pine St   \n",
       "275090      9667.679  Cal Anderson Park / 11th Ave & Pine St   \n",
       "\n",
       "                                  to_station_name from_station_id  \\\n",
       "275086             E Harrison St & Broadway Ave E           UD-02   \n",
       "275087             E Harrison St & Broadway Ave E           UD-02   \n",
       "275088  Lake Union Park / Westlake Ave & Aloha St           CH-12   \n",
       "275089  Lake Union Park / Westlake Ave & Aloha St           CH-12   \n",
       "275090                   Broadway and E Denny Way           CH-08   \n",
       "\n",
       "       to_station_id                usertype  gender  birthyear  \n",
       "275086         CH-02  Short-Term Pass Holder     NaN        NaN  \n",
       "275087         CH-02                  Member  Female     1982.0  \n",
       "275088        SLU-23                  Member    Male     1990.0  \n",
       "275089        SLU-23                  Member  Female     1987.0  \n",
       "275090         CH-16                  Member    Male     1988.0  "
      ]
     },
     "execution_count": 7,
     "metadata": {},
     "output_type": "execute_result"
    }
   ],
   "source": [
    "data.tail()"
   ]
  },
  {
   "cell_type": "markdown",
   "metadata": {
    "deletable": true,
    "editable": true
   },
   "source": [
    "The ``shape`` attribute shows us the number of elements:"
   ]
  },
  {
   "cell_type": "code",
   "execution_count": 8,
   "metadata": {
    "collapsed": false,
    "deletable": true,
    "editable": true
   },
   "outputs": [
    {
     "data": {
      "text/plain": [
       "(275091, 12)"
      ]
     },
     "execution_count": 8,
     "metadata": {},
     "output_type": "execute_result"
    }
   ],
   "source": [
    "data.shape"
   ]
  },
  {
   "cell_type": "markdown",
   "metadata": {
    "deletable": true,
    "editable": true
   },
   "source": [
    "The ``columns`` attribute gives us the column names"
   ]
  },
  {
   "cell_type": "code",
   "execution_count": 9,
   "metadata": {
    "collapsed": false,
    "deletable": true,
    "editable": true
   },
   "outputs": [
    {
     "data": {
      "text/plain": [
       "Index(['trip_id', 'starttime', 'stoptime', 'bikeid', 'tripduration',\n",
       "       'from_station_name', 'to_station_name', 'from_station_id',\n",
       "       'to_station_id', 'usertype', 'gender', 'birthyear'],\n",
       "      dtype='object')"
      ]
     },
     "execution_count": 9,
     "metadata": {},
     "output_type": "execute_result"
    }
   ],
   "source": [
    "data.columns"
   ]
  },
  {
   "cell_type": "markdown",
   "metadata": {
    "deletable": true,
    "editable": true
   },
   "source": [
    "The ``index`` attribute gives us the index names"
   ]
  },
  {
   "cell_type": "code",
   "execution_count": 10,
   "metadata": {
    "collapsed": false,
    "deletable": true,
    "editable": true
   },
   "outputs": [
    {
     "data": {
      "text/plain": [
       "RangeIndex(start=0, stop=275091, step=1)"
      ]
     },
     "execution_count": 10,
     "metadata": {},
     "output_type": "execute_result"
    }
   ],
   "source": [
    "data.index"
   ]
  },
  {
   "cell_type": "markdown",
   "metadata": {
    "deletable": true,
    "editable": true
   },
   "source": [
    "The ``dtypes`` attribute gives the data types of each column:"
   ]
  },
  {
   "cell_type": "code",
   "execution_count": 11,
   "metadata": {
    "collapsed": false,
    "deletable": true,
    "editable": true
   },
   "outputs": [
    {
     "data": {
      "text/plain": [
       "trip_id                int64\n",
       "starttime             object\n",
       "stoptime              object\n",
       "bikeid                object\n",
       "tripduration         float64\n",
       "from_station_name     object\n",
       "to_station_name       object\n",
       "from_station_id       object\n",
       "to_station_id         object\n",
       "usertype              object\n",
       "gender                object\n",
       "birthyear            float64\n",
       "dtype: object"
      ]
     },
     "execution_count": 11,
     "metadata": {},
     "output_type": "execute_result"
    }
   ],
   "source": [
    "data.dtypes"
   ]
  },
  {
   "cell_type": "markdown",
   "metadata": {
    "deletable": true,
    "editable": true
   },
   "source": [
    "## 4. Manipulating data with ``pandas``\n",
    "\n",
    "Here we'll cover some key features of manipulating data with pandas"
   ]
  },
  {
   "cell_type": "markdown",
   "metadata": {
    "deletable": true,
    "editable": true
   },
   "source": [
    "Access columns by name using square-bracket indexing:"
   ]
  },
  {
   "cell_type": "code",
   "execution_count": 12,
   "metadata": {
    "collapsed": false,
    "deletable": true,
    "editable": true
   },
   "outputs": [
    {
     "data": {
      "text/plain": [
       "Index(['trip_id', 'starttime', 'stoptime', 'bikeid', 'tripduration',\n",
       "       'from_station_name', 'to_station_name', 'from_station_id',\n",
       "       'to_station_id', 'usertype', 'gender', 'birthyear'],\n",
       "      dtype='object')"
      ]
     },
     "execution_count": 12,
     "metadata": {},
     "output_type": "execute_result"
    }
   ],
   "source": [
    "data.columns"
   ]
  },
  {
   "cell_type": "code",
   "execution_count": 13,
   "metadata": {
    "collapsed": false,
    "deletable": true,
    "editable": true
   },
   "outputs": [
    {
     "data": {
      "text/plain": [
       "0           985.935\n",
       "1           926.375\n",
       "2           883.831\n",
       "3           865.937\n",
       "4           923.923\n",
       "5           808.805\n",
       "6           596.715\n",
       "7           592.131\n",
       "8           586.347\n",
       "9           587.634\n",
       "10          564.899\n",
       "11          620.141\n",
       "12          634.087\n",
       "13          614.336\n",
       "14          601.463\n",
       "15          618.781\n",
       "16          617.085\n",
       "17          600.050\n",
       "18          499.734\n",
       "19          575.307\n",
       "20          571.807\n",
       "21          563.763\n",
       "22          437.689\n",
       "23          483.154\n",
       "24          479.382\n",
       "25          533.532\n",
       "26          481.629\n",
       "27          460.772\n",
       "28          459.165\n",
       "29          680.457\n",
       "            ...    \n",
       "275061      233.627\n",
       "275062      170.281\n",
       "275063      410.204\n",
       "275064     1090.674\n",
       "275065     1005.061\n",
       "275066      333.232\n",
       "275067       86.369\n",
       "275068     1284.502\n",
       "275069      238.621\n",
       "275070      236.414\n",
       "275071      106.445\n",
       "275072      393.022\n",
       "275073      988.551\n",
       "275074      142.367\n",
       "275075     1235.963\n",
       "275076     1192.023\n",
       "275077      307.980\n",
       "275078     1999.496\n",
       "275079     1987.516\n",
       "275080      124.661\n",
       "275081     1224.929\n",
       "275082      975.687\n",
       "275083      276.866\n",
       "275084     1451.506\n",
       "275085     1389.709\n",
       "275086    10487.475\n",
       "275087    10487.366\n",
       "275088     1205.656\n",
       "275089     1115.658\n",
       "275090     9667.679\n",
       "Name: tripduration, Length: 275091, dtype: float64"
      ]
     },
     "execution_count": 13,
     "metadata": {},
     "output_type": "execute_result"
    }
   ],
   "source": [
    "data['tripduration']"
   ]
  },
  {
   "cell_type": "markdown",
   "metadata": {
    "deletable": true,
    "editable": true
   },
   "source": [
    "Mathematical operations on columns happen *element-wise*:"
   ]
  },
  {
   "cell_type": "code",
   "execution_count": 14,
   "metadata": {
    "collapsed": false,
    "deletable": true,
    "editable": true
   },
   "outputs": [
    {
     "data": {
      "text/plain": [
       "0          16.432250\n",
       "1          15.439583\n",
       "2          14.730517\n",
       "3          14.432283\n",
       "4          15.398717\n",
       "5          13.480083\n",
       "6           9.945250\n",
       "7           9.868850\n",
       "8           9.772450\n",
       "9           9.793900\n",
       "10          9.414983\n",
       "11         10.335683\n",
       "12         10.568117\n",
       "13         10.238933\n",
       "14         10.024383\n",
       "15         10.313017\n",
       "16         10.284750\n",
       "17         10.000833\n",
       "18          8.328900\n",
       "19          9.588450\n",
       "20          9.530117\n",
       "21          9.396050\n",
       "22          7.294817\n",
       "23          8.052567\n",
       "24          7.989700\n",
       "25          8.892200\n",
       "26          8.027150\n",
       "27          7.679533\n",
       "28          7.652750\n",
       "29         11.340950\n",
       "             ...    \n",
       "275061      3.893783\n",
       "275062      2.838017\n",
       "275063      6.836733\n",
       "275064     18.177900\n",
       "275065     16.751017\n",
       "275066      5.553867\n",
       "275067      1.439483\n",
       "275068     21.408367\n",
       "275069      3.977017\n",
       "275070      3.940233\n",
       "275071      1.774083\n",
       "275072      6.550367\n",
       "275073     16.475850\n",
       "275074      2.372783\n",
       "275075     20.599383\n",
       "275076     19.867050\n",
       "275077      5.133000\n",
       "275078     33.324933\n",
       "275079     33.125267\n",
       "275080      2.077683\n",
       "275081     20.415483\n",
       "275082     16.261450\n",
       "275083      4.614433\n",
       "275084     24.191767\n",
       "275085     23.161817\n",
       "275086    174.791250\n",
       "275087    174.789433\n",
       "275088     20.094267\n",
       "275089     18.594300\n",
       "275090    161.127983\n",
       "Name: tripduration, Length: 275091, dtype: float64"
      ]
     },
     "execution_count": 14,
     "metadata": {},
     "output_type": "execute_result"
    }
   ],
   "source": [
    "data['tripduration'] / 60"
   ]
  },
  {
   "cell_type": "markdown",
   "metadata": {
    "deletable": true,
    "editable": true
   },
   "source": [
    "Columns can be created (or overwritten) with the assignment operator.\n",
    "Let's create a *tripminutes* column with the number of minutes for each trip"
   ]
  },
  {
   "cell_type": "code",
   "execution_count": 15,
   "metadata": {
    "collapsed": false,
    "deletable": true,
    "editable": true
   },
   "outputs": [],
   "source": [
    "data['tripminutes'] = data['tripduration'] / 60"
   ]
  },
  {
   "cell_type": "code",
   "execution_count": 16,
   "metadata": {
    "collapsed": false,
    "deletable": true,
    "editable": true
   },
   "outputs": [
    {
     "data": {
      "text/html": [
       "<div>\n",
       "<style>\n",
       "    .dataframe thead tr:only-child th {\n",
       "        text-align: right;\n",
       "    }\n",
       "\n",
       "    .dataframe thead th {\n",
       "        text-align: left;\n",
       "    }\n",
       "\n",
       "    .dataframe tbody tr th {\n",
       "        vertical-align: top;\n",
       "    }\n",
       "</style>\n",
       "<table border=\"1\" class=\"dataframe\">\n",
       "  <thead>\n",
       "    <tr style=\"text-align: right;\">\n",
       "      <th></th>\n",
       "      <th>trip_id</th>\n",
       "      <th>starttime</th>\n",
       "      <th>stoptime</th>\n",
       "      <th>bikeid</th>\n",
       "      <th>tripduration</th>\n",
       "      <th>from_station_name</th>\n",
       "      <th>to_station_name</th>\n",
       "      <th>from_station_id</th>\n",
       "      <th>to_station_id</th>\n",
       "      <th>usertype</th>\n",
       "      <th>gender</th>\n",
       "      <th>birthyear</th>\n",
       "      <th>tripminutes</th>\n",
       "    </tr>\n",
       "  </thead>\n",
       "  <tbody>\n",
       "    <tr>\n",
       "      <th>0</th>\n",
       "      <td>431</td>\n",
       "      <td>10/13/2014 10:31:00 AM</td>\n",
       "      <td>10/13/2014 10:48:00 AM</td>\n",
       "      <td>SEA00298</td>\n",
       "      <td>985.935</td>\n",
       "      <td>2nd Ave &amp; Spring St</td>\n",
       "      <td>Occidental Park / Occidental Ave S &amp; S Washing...</td>\n",
       "      <td>CBD-06</td>\n",
       "      <td>PS-04</td>\n",
       "      <td>Member</td>\n",
       "      <td>Male</td>\n",
       "      <td>1960.0</td>\n",
       "      <td>16.432250</td>\n",
       "    </tr>\n",
       "    <tr>\n",
       "      <th>1</th>\n",
       "      <td>432</td>\n",
       "      <td>10/13/2014 10:32:00 AM</td>\n",
       "      <td>10/13/2014 10:48:00 AM</td>\n",
       "      <td>SEA00195</td>\n",
       "      <td>926.375</td>\n",
       "      <td>2nd Ave &amp; Spring St</td>\n",
       "      <td>Occidental Park / Occidental Ave S &amp; S Washing...</td>\n",
       "      <td>CBD-06</td>\n",
       "      <td>PS-04</td>\n",
       "      <td>Member</td>\n",
       "      <td>Male</td>\n",
       "      <td>1970.0</td>\n",
       "      <td>15.439583</td>\n",
       "    </tr>\n",
       "    <tr>\n",
       "      <th>2</th>\n",
       "      <td>433</td>\n",
       "      <td>10/13/2014 10:33:00 AM</td>\n",
       "      <td>10/13/2014 10:48:00 AM</td>\n",
       "      <td>SEA00486</td>\n",
       "      <td>883.831</td>\n",
       "      <td>2nd Ave &amp; Spring St</td>\n",
       "      <td>Occidental Park / Occidental Ave S &amp; S Washing...</td>\n",
       "      <td>CBD-06</td>\n",
       "      <td>PS-04</td>\n",
       "      <td>Member</td>\n",
       "      <td>Female</td>\n",
       "      <td>1988.0</td>\n",
       "      <td>14.730517</td>\n",
       "    </tr>\n",
       "    <tr>\n",
       "      <th>3</th>\n",
       "      <td>434</td>\n",
       "      <td>10/13/2014 10:34:00 AM</td>\n",
       "      <td>10/13/2014 10:48:00 AM</td>\n",
       "      <td>SEA00333</td>\n",
       "      <td>865.937</td>\n",
       "      <td>2nd Ave &amp; Spring St</td>\n",
       "      <td>Occidental Park / Occidental Ave S &amp; S Washing...</td>\n",
       "      <td>CBD-06</td>\n",
       "      <td>PS-04</td>\n",
       "      <td>Member</td>\n",
       "      <td>Female</td>\n",
       "      <td>1977.0</td>\n",
       "      <td>14.432283</td>\n",
       "    </tr>\n",
       "    <tr>\n",
       "      <th>4</th>\n",
       "      <td>435</td>\n",
       "      <td>10/13/2014 10:34:00 AM</td>\n",
       "      <td>10/13/2014 10:49:00 AM</td>\n",
       "      <td>SEA00202</td>\n",
       "      <td>923.923</td>\n",
       "      <td>2nd Ave &amp; Spring St</td>\n",
       "      <td>Occidental Park / Occidental Ave S &amp; S Washing...</td>\n",
       "      <td>CBD-06</td>\n",
       "      <td>PS-04</td>\n",
       "      <td>Member</td>\n",
       "      <td>Male</td>\n",
       "      <td>1971.0</td>\n",
       "      <td>15.398717</td>\n",
       "    </tr>\n",
       "  </tbody>\n",
       "</table>\n",
       "</div>"
      ],
      "text/plain": [
       "   trip_id               starttime                stoptime    bikeid  \\\n",
       "0      431  10/13/2014 10:31:00 AM  10/13/2014 10:48:00 AM  SEA00298   \n",
       "1      432  10/13/2014 10:32:00 AM  10/13/2014 10:48:00 AM  SEA00195   \n",
       "2      433  10/13/2014 10:33:00 AM  10/13/2014 10:48:00 AM  SEA00486   \n",
       "3      434  10/13/2014 10:34:00 AM  10/13/2014 10:48:00 AM  SEA00333   \n",
       "4      435  10/13/2014 10:34:00 AM  10/13/2014 10:49:00 AM  SEA00202   \n",
       "\n",
       "   tripduration    from_station_name  \\\n",
       "0       985.935  2nd Ave & Spring St   \n",
       "1       926.375  2nd Ave & Spring St   \n",
       "2       883.831  2nd Ave & Spring St   \n",
       "3       865.937  2nd Ave & Spring St   \n",
       "4       923.923  2nd Ave & Spring St   \n",
       "\n",
       "                                     to_station_name from_station_id  \\\n",
       "0  Occidental Park / Occidental Ave S & S Washing...          CBD-06   \n",
       "1  Occidental Park / Occidental Ave S & S Washing...          CBD-06   \n",
       "2  Occidental Park / Occidental Ave S & S Washing...          CBD-06   \n",
       "3  Occidental Park / Occidental Ave S & S Washing...          CBD-06   \n",
       "4  Occidental Park / Occidental Ave S & S Washing...          CBD-06   \n",
       "\n",
       "  to_station_id usertype  gender  birthyear  tripminutes  \n",
       "0         PS-04   Member    Male     1960.0    16.432250  \n",
       "1         PS-04   Member    Male     1970.0    15.439583  \n",
       "2         PS-04   Member  Female     1988.0    14.730517  \n",
       "3         PS-04   Member  Female     1977.0    14.432283  \n",
       "4         PS-04   Member    Male     1971.0    15.398717  "
      ]
     },
     "execution_count": 16,
     "metadata": {},
     "output_type": "execute_result"
    }
   ],
   "source": [
    "data.head()"
   ]
  },
  {
   "cell_type": "markdown",
   "metadata": {},
   "source": [
    "Note that this manipulation only modifies the data frame in memory; if you want to save the modified dataframe to CSV, you can use the ``to_csv()`` method:"
   ]
  },
  {
   "cell_type": "code",
   "execution_count": 17,
   "metadata": {
    "collapsed": true,
    "deletable": true,
    "editable": true
   },
   "outputs": [],
   "source": [
    "data.to_csv('pronto-new.csv')"
   ]
  },
  {
   "cell_type": "code",
   "execution_count": 18,
   "metadata": {
    "collapsed": false,
    "deletable": true,
    "editable": true
   },
   "outputs": [
    {
     "name": "stdout",
     "output_type": "stream",
     "text": [
      "\u001b[31mBreakout-Simple-Math-Completed.ipynb\u001b[m\u001b[m    pronto-new.csv\r\n",
      "Breakout-Simple-Math.ipynb              pronto.csv\r\n",
      "Lecture-Python-And-Data-Completed.ipynb split_apply_combine.png\r\n",
      "\u001b[31mLecture-Python-And-Data.ipynb\u001b[m\u001b[m\r\n"
     ]
    }
   ],
   "source": [
    "!ls"
   ]
  },
  {
   "cell_type": "markdown",
   "metadata": {
    "deletable": true,
    "editable": true
   },
   "source": [
    "More complicated mathematical operations can be done with tools in the ``numpy`` package:"
   ]
  },
  {
   "cell_type": "code",
   "execution_count": 19,
   "metadata": {
    "collapsed": false,
    "deletable": true,
    "editable": true
   },
   "outputs": [
    {
     "data": {
      "text/plain": [
       "0         1.369101e+07\n",
       "1         5.073712e+06\n",
       "2         2.496791e+06\n",
       "3         1.852939e+06\n",
       "4         4.870546e+06\n",
       "5         7.150325e+05\n",
       "6         2.085294e+04\n",
       "7         1.931911e+04\n",
       "8         1.754370e+04\n",
       "9         1.792407e+04\n",
       "10        1.227087e+04\n",
       "11        3.081273e+04\n",
       "12        3.887539e+04\n",
       "13        2.797127e+04\n",
       "14        2.257015e+04\n",
       "15        3.012217e+04\n",
       "16        2.928264e+04\n",
       "17        2.204483e+04\n",
       "18        4.141859e+03\n",
       "19        1.459523e+04\n",
       "20        1.376820e+04\n",
       "21        1.204073e+04\n",
       "22        1.472647e+03\n",
       "23        3.141849e+03\n",
       "24        2.950412e+03\n",
       "25        7.275007e+03\n",
       "26        3.063000e+03\n",
       "27        2.163610e+03\n",
       "28        2.106430e+03\n",
       "29        8.419998e+04\n",
       "              ...     \n",
       "275061    4.909628e+01\n",
       "275062    1.708185e+01\n",
       "275063    9.314415e+02\n",
       "275064    7.844435e+07\n",
       "275065    1.883103e+07\n",
       "275066    2.582341e+02\n",
       "275067    4.218516e+00\n",
       "275068    1.983972e+09\n",
       "275069    5.335761e+01\n",
       "275070    5.143060e+01\n",
       "275071    5.894875e+00\n",
       "275072    6.995006e+02\n",
       "275073    1.430114e+07\n",
       "275074    1.072721e+01\n",
       "275075    8.834836e+08\n",
       "275076    4.247664e+08\n",
       "275077    1.695249e+02\n",
       "275078    2.970535e+14\n",
       "275079    2.432879e+14\n",
       "275080    7.985947e+00\n",
       "275081    7.350752e+08\n",
       "275082    1.154139e+07\n",
       "275083    1.009306e+02\n",
       "275084    3.208860e+10\n",
       "275085    1.145643e+10\n",
       "275086    8.144705e+75\n",
       "275087    8.129922e+75\n",
       "275088    5.331251e+08\n",
       "275089    1.189603e+08\n",
       "275090    9.484055e+69\n",
       "Name: tripminutes, Length: 275091, dtype: float64"
      ]
     },
     "execution_count": 19,
     "metadata": {},
     "output_type": "execute_result"
    }
   ],
   "source": [
    "import numpy as np\n",
    "np.exp(data['tripminutes'])"
   ]
  },
  {
   "cell_type": "markdown",
   "metadata": {
    "deletable": true,
    "editable": true
   },
   "source": [
    "### Working with Times"
   ]
  },
  {
   "cell_type": "markdown",
   "metadata": {
    "deletable": true,
    "editable": true
   },
   "source": [
    "One trick to know when working with columns of times is that Pandas ``DateTimeIndex`` provides a nice interface for working with columns of times.\n",
    "\n",
    "For a dataset of this size, using ``pd.to_datetime`` and specifying the date format can make things much faster (from the [strftime reference](http://strftime.org/), we see that the pronto data has format ``\"%m/%d/%Y %I:%M:%S %p\"``"
   ]
  },
  {
   "cell_type": "code",
   "execution_count": 20,
   "metadata": {
    "collapsed": false,
    "deletable": true,
    "editable": true
   },
   "outputs": [
    {
     "data": {
      "text/plain": [
       "0    10/13/2014 10:31:00 AM\n",
       "1    10/13/2014 10:32:00 AM\n",
       "2    10/13/2014 10:33:00 AM\n",
       "3    10/13/2014 10:34:00 AM\n",
       "4    10/13/2014 10:34:00 AM\n",
       "Name: starttime, dtype: object"
      ]
     },
     "execution_count": 20,
     "metadata": {},
     "output_type": "execute_result"
    }
   ],
   "source": [
    "data['starttime'].head()"
   ]
  },
  {
   "cell_type": "code",
   "execution_count": 21,
   "metadata": {
    "collapsed": false,
    "deletable": true,
    "editable": true
   },
   "outputs": [
    {
     "data": {
      "text/plain": [
       "0   2014-10-13 10:31:00\n",
       "1   2014-10-13 10:32:00\n",
       "2   2014-10-13 10:33:00\n",
       "3   2014-10-13 10:34:00\n",
       "4   2014-10-13 10:34:00\n",
       "Name: starttime, dtype: datetime64[ns]"
      ]
     },
     "execution_count": 21,
     "metadata": {},
     "output_type": "execute_result"
    }
   ],
   "source": [
    "pd.to_datetime(data['starttime'].head())"
   ]
  },
  {
   "cell_type": "code",
   "execution_count": 22,
   "metadata": {
    "collapsed": false,
    "deletable": true,
    "editable": true
   },
   "outputs": [
    {
     "data": {
      "text/plain": [
       "Int64Index([0, 0, 0, 0, 0], dtype='int64', name='starttime')"
      ]
     },
     "execution_count": 22,
     "metadata": {},
     "output_type": "execute_result"
    }
   ],
   "source": [
    "times = pd.DatetimeIndex(data['starttime'].head())\n",
    "times.dayofweek"
   ]
  },
  {
   "cell_type": "code",
   "execution_count": 23,
   "metadata": {
    "collapsed": false,
    "deletable": true,
    "editable": true
   },
   "outputs": [
    {
     "data": {
      "text/plain": [
       "0         10/13/2014 10:31:00 AM\n",
       "1         10/13/2014 10:32:00 AM\n",
       "2         10/13/2014 10:33:00 AM\n",
       "3         10/13/2014 10:34:00 AM\n",
       "4         10/13/2014 10:34:00 AM\n",
       "5         10/13/2014 10:34:00 AM\n",
       "6         10/13/2014 11:35:00 AM\n",
       "7         10/13/2014 11:35:00 AM\n",
       "8         10/13/2014 11:35:00 AM\n",
       "9         10/13/2014 11:35:00 AM\n",
       "10        10/13/2014 11:36:00 AM\n",
       "11        10/13/2014 11:37:00 AM\n",
       "12        10/13/2014 11:37:00 AM\n",
       "13        10/13/2014 11:37:00 AM\n",
       "14        10/13/2014 11:37:00 AM\n",
       "15        10/13/2014 11:37:00 AM\n",
       "16        10/13/2014 11:37:00 AM\n",
       "17        10/13/2014 11:37:00 AM\n",
       "18        10/13/2014 11:40:00 AM\n",
       "19        10/13/2014 11:41:00 AM\n",
       "20        10/13/2014 11:41:00 AM\n",
       "21        10/13/2014 11:41:00 AM\n",
       "22        10/13/2014 11:42:00 AM\n",
       "23        10/13/2014 11:43:00 AM\n",
       "24        10/13/2014 11:43:00 AM\n",
       "25        10/13/2014 11:43:00 AM\n",
       "26        10/13/2014 11:43:00 AM\n",
       "27        10/13/2014 11:43:00 AM\n",
       "28        10/13/2014 11:43:00 AM\n",
       "29        10/13/2014 11:44:00 AM\n",
       "                   ...          \n",
       "275061    03/31/2017 07:55:00 PM\n",
       "275062    03/31/2017 08:10:00 PM\n",
       "275063    03/31/2017 08:11:00 PM\n",
       "275064    03/31/2017 08:22:00 PM\n",
       "275065    03/31/2017 08:24:00 PM\n",
       "275066    03/31/2017 08:29:00 PM\n",
       "275067    03/31/2017 08:40:00 PM\n",
       "275068    03/31/2017 08:58:00 PM\n",
       "275069    03/31/2017 09:01:00 PM\n",
       "275070    03/31/2017 09:01:00 PM\n",
       "275071    03/31/2017 09:11:00 PM\n",
       "275072    03/31/2017 09:16:00 PM\n",
       "275073    03/31/2017 09:19:00 PM\n",
       "275074    03/31/2017 09:20:00 PM\n",
       "275075    03/31/2017 09:37:00 PM\n",
       "275076    03/31/2017 09:37:00 PM\n",
       "275077    03/31/2017 09:41:00 PM\n",
       "275078    03/31/2017 09:41:00 PM\n",
       "275079    03/31/2017 09:42:00 PM\n",
       "275080    03/31/2017 10:15:00 PM\n",
       "275081    03/31/2017 10:16:00 PM\n",
       "275082    03/31/2017 10:20:00 PM\n",
       "275083    03/31/2017 10:35:00 PM\n",
       "275084    03/31/2017 10:52:00 PM\n",
       "275085    03/31/2017 10:53:00 PM\n",
       "275086    03/31/2017 11:16:00 PM\n",
       "275087    03/31/2017 11:16:00 PM\n",
       "275088    03/31/2017 11:44:00 PM\n",
       "275089    03/31/2017 11:46:00 PM\n",
       "275090    03/31/2017 11:52:00 PM\n",
       "Name: starttime, Length: 275091, dtype: object"
      ]
     },
     "execution_count": 23,
     "metadata": {},
     "output_type": "execute_result"
    }
   ],
   "source": [
    "data['starttime']"
   ]
  },
  {
   "cell_type": "code",
   "execution_count": 24,
   "metadata": {
    "collapsed": false,
    "deletable": true,
    "editable": true
   },
   "outputs": [],
   "source": [
    "times = pd.DatetimeIndex(pd.to_datetime(data['starttime'], format=\"%m/%d/%Y %I:%M:%S %p\"))"
   ]
  },
  {
   "cell_type": "markdown",
   "metadata": {
    "deletable": true,
    "editable": true
   },
   "source": [
    "(Note: you can also use ``infer_datetime_format=True`` in most cases to automatically infer the correct format, though due to a bug it doesn't work when AM/PM are present)"
   ]
  },
  {
   "cell_type": "markdown",
   "metadata": {
    "deletable": true,
    "editable": true
   },
   "source": [
    "With it, we can extract, the hour of the day, the day of the week, the month, and a wide range of other views of the time:"
   ]
  },
  {
   "cell_type": "code",
   "execution_count": 25,
   "metadata": {
    "collapsed": false,
    "deletable": true,
    "editable": true
   },
   "outputs": [
    {
     "data": {
      "text/plain": [
       "Int64Index([0, 0, 0, 0, 0, 0, 0, 0, 0, 0,\n",
       "            ...\n",
       "            4, 4, 4, 4, 4, 4, 4, 4, 4, 4],\n",
       "           dtype='int64', name='starttime', length=275091)"
      ]
     },
     "execution_count": 25,
     "metadata": {},
     "output_type": "execute_result"
    }
   ],
   "source": [
    "times.dayofweek"
   ]
  },
  {
   "cell_type": "code",
   "execution_count": 26,
   "metadata": {
    "collapsed": false,
    "deletable": true,
    "editable": true
   },
   "outputs": [
    {
     "data": {
      "text/plain": [
       "Int64Index([10, 10, 10, 10, 10, 10, 10, 10, 10, 10,\n",
       "            ...\n",
       "             3,  3,  3,  3,  3,  3,  3,  3,  3,  3],\n",
       "           dtype='int64', name='starttime', length=275091)"
      ]
     },
     "execution_count": 26,
     "metadata": {},
     "output_type": "execute_result"
    }
   ],
   "source": [
    "times.month"
   ]
  },
  {
   "cell_type": "code",
   "execution_count": 27,
   "metadata": {
    "collapsed": false,
    "deletable": true,
    "editable": true
   },
   "outputs": [
    {
     "data": {
      "text/plain": [
       "DatetimeIndex(['2014-10-13 10:31:00', '2014-10-13 10:32:00',\n",
       "               '2014-10-13 10:33:00', '2014-10-13 10:34:00',\n",
       "               '2014-10-13 10:34:00', '2014-10-13 10:34:00',\n",
       "               '2014-10-13 11:35:00', '2014-10-13 11:35:00',\n",
       "               '2014-10-13 11:35:00', '2014-10-13 11:35:00',\n",
       "               ...\n",
       "               '2017-03-31 22:16:00', '2017-03-31 22:20:00',\n",
       "               '2017-03-31 22:35:00', '2017-03-31 22:52:00',\n",
       "               '2017-03-31 22:53:00', '2017-03-31 23:16:00',\n",
       "               '2017-03-31 23:16:00', '2017-03-31 23:44:00',\n",
       "               '2017-03-31 23:46:00', '2017-03-31 23:52:00'],\n",
       "              dtype='datetime64[ns]', name='starttime', length=275091, freq=None)"
      ]
     },
     "execution_count": 27,
     "metadata": {},
     "output_type": "execute_result"
    }
   ],
   "source": [
    "times"
   ]
  },
  {
   "cell_type": "markdown",
   "metadata": {
    "deletable": true,
    "editable": true
   },
   "source": [
    "### Simple Grouping of Data\n",
    "\n",
    "The real power of Pandas comes in its tools for grouping and aggregating data. Here we'll look at *value counts* and the basics of *group-by* operations."
   ]
  },
  {
   "cell_type": "code",
   "execution_count": 28,
   "metadata": {
    "collapsed": false,
    "deletable": true,
    "editable": true
   },
   "outputs": [
    {
     "data": {
      "text/html": [
       "<div>\n",
       "<style>\n",
       "    .dataframe thead tr:only-child th {\n",
       "        text-align: right;\n",
       "    }\n",
       "\n",
       "    .dataframe thead th {\n",
       "        text-align: left;\n",
       "    }\n",
       "\n",
       "    .dataframe tbody tr th {\n",
       "        vertical-align: top;\n",
       "    }\n",
       "</style>\n",
       "<table border=\"1\" class=\"dataframe\">\n",
       "  <thead>\n",
       "    <tr style=\"text-align: right;\">\n",
       "      <th></th>\n",
       "      <th>trip_id</th>\n",
       "      <th>starttime</th>\n",
       "      <th>stoptime</th>\n",
       "      <th>bikeid</th>\n",
       "      <th>tripduration</th>\n",
       "      <th>from_station_name</th>\n",
       "      <th>to_station_name</th>\n",
       "      <th>from_station_id</th>\n",
       "      <th>to_station_id</th>\n",
       "      <th>usertype</th>\n",
       "      <th>gender</th>\n",
       "      <th>birthyear</th>\n",
       "      <th>tripminutes</th>\n",
       "    </tr>\n",
       "  </thead>\n",
       "  <tbody>\n",
       "    <tr>\n",
       "      <th>0</th>\n",
       "      <td>431</td>\n",
       "      <td>10/13/2014 10:31:00 AM</td>\n",
       "      <td>10/13/2014 10:48:00 AM</td>\n",
       "      <td>SEA00298</td>\n",
       "      <td>985.935</td>\n",
       "      <td>2nd Ave &amp; Spring St</td>\n",
       "      <td>Occidental Park / Occidental Ave S &amp; S Washing...</td>\n",
       "      <td>CBD-06</td>\n",
       "      <td>PS-04</td>\n",
       "      <td>Member</td>\n",
       "      <td>Male</td>\n",
       "      <td>1960.0</td>\n",
       "      <td>16.432250</td>\n",
       "    </tr>\n",
       "    <tr>\n",
       "      <th>1</th>\n",
       "      <td>432</td>\n",
       "      <td>10/13/2014 10:32:00 AM</td>\n",
       "      <td>10/13/2014 10:48:00 AM</td>\n",
       "      <td>SEA00195</td>\n",
       "      <td>926.375</td>\n",
       "      <td>2nd Ave &amp; Spring St</td>\n",
       "      <td>Occidental Park / Occidental Ave S &amp; S Washing...</td>\n",
       "      <td>CBD-06</td>\n",
       "      <td>PS-04</td>\n",
       "      <td>Member</td>\n",
       "      <td>Male</td>\n",
       "      <td>1970.0</td>\n",
       "      <td>15.439583</td>\n",
       "    </tr>\n",
       "    <tr>\n",
       "      <th>2</th>\n",
       "      <td>433</td>\n",
       "      <td>10/13/2014 10:33:00 AM</td>\n",
       "      <td>10/13/2014 10:48:00 AM</td>\n",
       "      <td>SEA00486</td>\n",
       "      <td>883.831</td>\n",
       "      <td>2nd Ave &amp; Spring St</td>\n",
       "      <td>Occidental Park / Occidental Ave S &amp; S Washing...</td>\n",
       "      <td>CBD-06</td>\n",
       "      <td>PS-04</td>\n",
       "      <td>Member</td>\n",
       "      <td>Female</td>\n",
       "      <td>1988.0</td>\n",
       "      <td>14.730517</td>\n",
       "    </tr>\n",
       "    <tr>\n",
       "      <th>3</th>\n",
       "      <td>434</td>\n",
       "      <td>10/13/2014 10:34:00 AM</td>\n",
       "      <td>10/13/2014 10:48:00 AM</td>\n",
       "      <td>SEA00333</td>\n",
       "      <td>865.937</td>\n",
       "      <td>2nd Ave &amp; Spring St</td>\n",
       "      <td>Occidental Park / Occidental Ave S &amp; S Washing...</td>\n",
       "      <td>CBD-06</td>\n",
       "      <td>PS-04</td>\n",
       "      <td>Member</td>\n",
       "      <td>Female</td>\n",
       "      <td>1977.0</td>\n",
       "      <td>14.432283</td>\n",
       "    </tr>\n",
       "    <tr>\n",
       "      <th>4</th>\n",
       "      <td>435</td>\n",
       "      <td>10/13/2014 10:34:00 AM</td>\n",
       "      <td>10/13/2014 10:49:00 AM</td>\n",
       "      <td>SEA00202</td>\n",
       "      <td>923.923</td>\n",
       "      <td>2nd Ave &amp; Spring St</td>\n",
       "      <td>Occidental Park / Occidental Ave S &amp; S Washing...</td>\n",
       "      <td>CBD-06</td>\n",
       "      <td>PS-04</td>\n",
       "      <td>Member</td>\n",
       "      <td>Male</td>\n",
       "      <td>1971.0</td>\n",
       "      <td>15.398717</td>\n",
       "    </tr>\n",
       "  </tbody>\n",
       "</table>\n",
       "</div>"
      ],
      "text/plain": [
       "   trip_id               starttime                stoptime    bikeid  \\\n",
       "0      431  10/13/2014 10:31:00 AM  10/13/2014 10:48:00 AM  SEA00298   \n",
       "1      432  10/13/2014 10:32:00 AM  10/13/2014 10:48:00 AM  SEA00195   \n",
       "2      433  10/13/2014 10:33:00 AM  10/13/2014 10:48:00 AM  SEA00486   \n",
       "3      434  10/13/2014 10:34:00 AM  10/13/2014 10:48:00 AM  SEA00333   \n",
       "4      435  10/13/2014 10:34:00 AM  10/13/2014 10:49:00 AM  SEA00202   \n",
       "\n",
       "   tripduration    from_station_name  \\\n",
       "0       985.935  2nd Ave & Spring St   \n",
       "1       926.375  2nd Ave & Spring St   \n",
       "2       883.831  2nd Ave & Spring St   \n",
       "3       865.937  2nd Ave & Spring St   \n",
       "4       923.923  2nd Ave & Spring St   \n",
       "\n",
       "                                     to_station_name from_station_id  \\\n",
       "0  Occidental Park / Occidental Ave S & S Washing...          CBD-06   \n",
       "1  Occidental Park / Occidental Ave S & S Washing...          CBD-06   \n",
       "2  Occidental Park / Occidental Ave S & S Washing...          CBD-06   \n",
       "3  Occidental Park / Occidental Ave S & S Washing...          CBD-06   \n",
       "4  Occidental Park / Occidental Ave S & S Washing...          CBD-06   \n",
       "\n",
       "  to_station_id usertype  gender  birthyear  tripminutes  \n",
       "0         PS-04   Member    Male     1960.0    16.432250  \n",
       "1         PS-04   Member    Male     1970.0    15.439583  \n",
       "2         PS-04   Member  Female     1988.0    14.730517  \n",
       "3         PS-04   Member  Female     1977.0    14.432283  \n",
       "4         PS-04   Member    Male     1971.0    15.398717  "
      ]
     },
     "execution_count": 28,
     "metadata": {},
     "output_type": "execute_result"
    }
   ],
   "source": [
    "data.head()"
   ]
  },
  {
   "cell_type": "markdown",
   "metadata": {
    "deletable": true,
    "editable": true
   },
   "source": [
    "#### Value Counts"
   ]
  },
  {
   "cell_type": "markdown",
   "metadata": {
    "deletable": true,
    "editable": true
   },
   "source": [
    "Pandas includes an array of useful functionality for manipulating and analyzing tabular data.\n",
    "We'll take a look at two of these here."
   ]
  },
  {
   "cell_type": "markdown",
   "metadata": {
    "deletable": true,
    "editable": true
   },
   "source": [
    "The ``pandas.value_counts`` returns statistics on the unique values within each column.\n",
    "\n",
    "We can use it, for example, to break down rides by gender:"
   ]
  },
  {
   "cell_type": "code",
   "execution_count": 29,
   "metadata": {
    "collapsed": false,
    "deletable": true,
    "editable": true
   },
   "outputs": [
    {
     "data": {
      "text/plain": [
       "Male      135171\n",
       "Female     34997\n",
       "Other       3647\n",
       "Name: gender, dtype: int64"
      ]
     },
     "execution_count": 29,
     "metadata": {},
     "output_type": "execute_result"
    }
   ],
   "source": [
    "pd.value_counts(data['gender'])"
   ]
  },
  {
   "cell_type": "markdown",
   "metadata": {
    "deletable": true,
    "editable": true
   },
   "source": [
    "Or to break down rides by age:"
   ]
  },
  {
   "cell_type": "code",
   "execution_count": 30,
   "metadata": {
    "collapsed": false,
    "deletable": true,
    "editable": true
   },
   "outputs": [
    {
     "data": {
      "text/plain": [
       "1987.0    15381\n",
       "1985.0    10491\n",
       "1981.0     9028\n",
       "1982.0     8950\n",
       "1984.0     8699\n",
       "1988.0     8228\n",
       "1986.0     7568\n",
       "1983.0     7288\n",
       "1989.0     7121\n",
       "1990.0     6936\n",
       "1991.0     5405\n",
       "1980.0     5135\n",
       "1992.0     4920\n",
       "1977.0     4187\n",
       "1978.0     4030\n",
       "1975.0     3638\n",
       "1971.0     3471\n",
       "1979.0     3187\n",
       "1993.0     3157\n",
       "1974.0     3085\n",
       "1976.0     3037\n",
       "1972.0     2938\n",
       "1962.0     2838\n",
       "1970.0     2741\n",
       "1964.0     2671\n",
       "1965.0     2349\n",
       "1968.0     2335\n",
       "1969.0     2290\n",
       "1967.0     2255\n",
       "1966.0     2064\n",
       "          ...  \n",
       "1961.0     1655\n",
       "1963.0     1583\n",
       "1959.0     1460\n",
       "1995.0     1437\n",
       "1994.0     1243\n",
       "1960.0     1118\n",
       "1950.0     1010\n",
       "1947.0      962\n",
       "1956.0      910\n",
       "1953.0      717\n",
       "1957.0      668\n",
       "1951.0      593\n",
       "1996.0      547\n",
       "1955.0      523\n",
       "1952.0      425\n",
       "1949.0      335\n",
       "1958.0      314\n",
       "1997.0      285\n",
       "1954.0      250\n",
       "1945.0      148\n",
       "1946.0      138\n",
       "1998.0      124\n",
       "1939.0       47\n",
       "1948.0       36\n",
       "1943.0       11\n",
       "1936.0        7\n",
       "1999.0        6\n",
       "1942.0        2\n",
       "1944.0        1\n",
       "1931.0        1\n",
       "Name: birthyear, Length: 61, dtype: int64"
      ]
     },
     "execution_count": 30,
     "metadata": {},
     "output_type": "execute_result"
    }
   ],
   "source": [
    "pd.value_counts(data['birthyear'])"
   ]
  },
  {
   "cell_type": "markdown",
   "metadata": {
    "deletable": true,
    "editable": true
   },
   "source": [
    "By default, the values rather than the index are sorted. Use ``sort=False`` to turn this behavior off:"
   ]
  },
  {
   "cell_type": "code",
   "execution_count": 31,
   "metadata": {
    "collapsed": false,
    "deletable": true,
    "editable": true
   },
   "outputs": [
    {
     "data": {
      "text/plain": [
       "1931.0        1\n",
       "1936.0        7\n",
       "1939.0       47\n",
       "1942.0        2\n",
       "1943.0       11\n",
       "1944.0        1\n",
       "1945.0      148\n",
       "1946.0      138\n",
       "1947.0      962\n",
       "1948.0       36\n",
       "1949.0      335\n",
       "1950.0     1010\n",
       "1951.0      593\n",
       "1952.0      425\n",
       "1953.0      717\n",
       "1954.0      250\n",
       "1955.0      523\n",
       "1956.0      910\n",
       "1957.0      668\n",
       "1958.0      314\n",
       "1959.0     1460\n",
       "1960.0     1118\n",
       "1961.0     1655\n",
       "1962.0     2838\n",
       "1963.0     1583\n",
       "1964.0     2671\n",
       "1965.0     2349\n",
       "1966.0     2064\n",
       "1967.0     2255\n",
       "1968.0     2335\n",
       "          ...  \n",
       "1970.0     2741\n",
       "1971.0     3471\n",
       "1972.0     2938\n",
       "1973.0     1832\n",
       "1974.0     3085\n",
       "1975.0     3638\n",
       "1976.0     3037\n",
       "1977.0     4187\n",
       "1978.0     4030\n",
       "1979.0     3187\n",
       "1980.0     5135\n",
       "1981.0     9028\n",
       "1982.0     8950\n",
       "1983.0     7288\n",
       "1984.0     8699\n",
       "1985.0    10491\n",
       "1986.0     7568\n",
       "1987.0    15381\n",
       "1988.0     8228\n",
       "1989.0     7121\n",
       "1990.0     6936\n",
       "1991.0     5405\n",
       "1992.0     4920\n",
       "1993.0     3157\n",
       "1994.0     1243\n",
       "1995.0     1437\n",
       "1996.0      547\n",
       "1997.0      285\n",
       "1998.0      124\n",
       "1999.0        6\n",
       "Name: birthyear, Length: 61, dtype: int64"
      ]
     },
     "execution_count": 31,
     "metadata": {},
     "output_type": "execute_result"
    }
   ],
   "source": [
    "pd.value_counts(data['birthyear'], sort=False)"
   ]
  },
  {
   "cell_type": "markdown",
   "metadata": {
    "deletable": true,
    "editable": true
   },
   "source": [
    "We can explore other things as well: day of week, hour of day, etc."
   ]
  },
  {
   "cell_type": "code",
   "execution_count": 32,
   "metadata": {
    "collapsed": false,
    "deletable": true,
    "editable": true
   },
   "outputs": [
    {
     "data": {
      "text/plain": [
       "0    40267\n",
       "1    41050\n",
       "2    41016\n",
       "3    42633\n",
       "4    42390\n",
       "5    36030\n",
       "6    31705\n",
       "Name: starttime, dtype: int64"
      ]
     },
     "execution_count": 32,
     "metadata": {},
     "output_type": "execute_result"
    }
   ],
   "source": [
    "pd.value_counts(times.dayofweek, sort=False)"
   ]
  },
  {
   "cell_type": "code",
   "execution_count": 33,
   "metadata": {
    "collapsed": false,
    "deletable": true,
    "editable": true
   },
   "outputs": [
    {
     "data": {
      "text/plain": [
       "1     16558\n",
       "2     16683\n",
       "3     21310\n",
       "4     21927\n",
       "5     26033\n",
       "6     27541\n",
       "7     32143\n",
       "8     30237\n",
       "9     24205\n",
       "10    24166\n",
       "11    19968\n",
       "12    14320\n",
       "Name: starttime, dtype: int64"
      ]
     },
     "execution_count": 33,
     "metadata": {},
     "output_type": "execute_result"
    }
   ],
   "source": [
    "pd.value_counts(times.month, sort=False)"
   ]
  },
  {
   "cell_type": "code",
   "execution_count": 34,
   "metadata": {
    "collapsed": false,
    "deletable": true,
    "editable": true
   },
   "outputs": [
    {
     "data": {
      "text/plain": [
       "Male      135171\n",
       "NaN       101276\n",
       "Female     34997\n",
       "Other       3647\n",
       "Name: gender, dtype: int64"
      ]
     },
     "execution_count": 34,
     "metadata": {},
     "output_type": "execute_result"
    }
   ],
   "source": [
    "pd.value_counts(data['gender'], dropna=False)"
   ]
  },
  {
   "cell_type": "markdown",
   "metadata": {
    "deletable": true,
    "editable": true
   },
   "source": [
    "### Group-by Operation\n",
    "\n",
    "One of the killer features of the Pandas dataframe is the ability to do group-by operations.\n",
    "You can visualize the group-by like this (image borrowed from the [Python Data Science Handbook](http://shop.oreilly.com/product/0636920034919.do))"
   ]
  },
  {
   "cell_type": "code",
   "execution_count": 35,
   "metadata": {
    "collapsed": false,
    "deletable": true,
    "editable": true
   },
   "outputs": [
    {
     "data": {
      "image/png": "[encoded data removed]",
      "text/plain": [
       "<IPython.core.display.Image object>"
      ]
     },
     "execution_count": 35,
     "metadata": {},
     "output_type": "execute_result"
    }
   ],
   "source": [
    "from IPython.display import Image\n",
    "Image('split_apply_combine.png')"
   ]
  },
  {
   "cell_type": "markdown",
   "metadata": {
    "deletable": true,
    "editable": true
   },
   "source": [
    "The simplest version of a groupby looks like this, and you can use almost any aggregation function you wish (mean, median, sum, minimum, maximum, standard deviation, count, etc.)\n",
    "\n",
    "```\n",
    "<data object>.groupby(<grouping values>).<aggregate>()\n",
    "```\n",
    "\n",
    "for example, we can group by gender and find the average of all numerical columns:"
   ]
  },
  {
   "cell_type": "code",
   "execution_count": 36,
   "metadata": {
    "collapsed": false,
    "deletable": true,
    "editable": true
   },
   "outputs": [
    {
     "data": {
      "text/html": [
       "<div>\n",
       "<style>\n",
       "    .dataframe thead tr:only-child th {\n",
       "        text-align: right;\n",
       "    }\n",
       "\n",
       "    .dataframe thead th {\n",
       "        text-align: left;\n",
       "    }\n",
       "\n",
       "    .dataframe tbody tr th {\n",
       "        vertical-align: top;\n",
       "    }\n",
       "</style>\n",
       "<table border=\"1\" class=\"dataframe\">\n",
       "  <thead>\n",
       "    <tr style=\"text-align: right;\">\n",
       "      <th></th>\n",
       "      <th>trip_id</th>\n",
       "      <th>starttime</th>\n",
       "      <th>stoptime</th>\n",
       "      <th>bikeid</th>\n",
       "      <th>tripduration</th>\n",
       "      <th>from_station_name</th>\n",
       "      <th>to_station_name</th>\n",
       "      <th>from_station_id</th>\n",
       "      <th>to_station_id</th>\n",
       "      <th>usertype</th>\n",
       "      <th>birthyear</th>\n",
       "      <th>tripminutes</th>\n",
       "    </tr>\n",
       "    <tr>\n",
       "      <th>gender</th>\n",
       "      <th></th>\n",
       "      <th></th>\n",
       "      <th></th>\n",
       "      <th></th>\n",
       "      <th></th>\n",
       "      <th></th>\n",
       "      <th></th>\n",
       "      <th></th>\n",
       "      <th></th>\n",
       "      <th></th>\n",
       "      <th></th>\n",
       "      <th></th>\n",
       "    </tr>\n",
       "  </thead>\n",
       "  <tbody>\n",
       "    <tr>\n",
       "      <th>Female</th>\n",
       "      <td>34997</td>\n",
       "      <td>34997</td>\n",
       "      <td>34997</td>\n",
       "      <td>34997</td>\n",
       "      <td>34997</td>\n",
       "      <td>34997</td>\n",
       "      <td>34997</td>\n",
       "      <td>34997</td>\n",
       "      <td>34997</td>\n",
       "      <td>34997</td>\n",
       "      <td>34993</td>\n",
       "      <td>34997</td>\n",
       "    </tr>\n",
       "    <tr>\n",
       "      <th>Male</th>\n",
       "      <td>135171</td>\n",
       "      <td>135171</td>\n",
       "      <td>135171</td>\n",
       "      <td>135171</td>\n",
       "      <td>135171</td>\n",
       "      <td>135171</td>\n",
       "      <td>135171</td>\n",
       "      <td>135171</td>\n",
       "      <td>135171</td>\n",
       "      <td>135171</td>\n",
       "      <td>135171</td>\n",
       "      <td>135171</td>\n",
       "    </tr>\n",
       "    <tr>\n",
       "      <th>Other</th>\n",
       "      <td>3647</td>\n",
       "      <td>3647</td>\n",
       "      <td>3647</td>\n",
       "      <td>3647</td>\n",
       "      <td>3647</td>\n",
       "      <td>3647</td>\n",
       "      <td>3647</td>\n",
       "      <td>3647</td>\n",
       "      <td>3647</td>\n",
       "      <td>3647</td>\n",
       "      <td>3647</td>\n",
       "      <td>3647</td>\n",
       "    </tr>\n",
       "  </tbody>\n",
       "</table>\n",
       "</div>"
      ],
      "text/plain": [
       "        trip_id  starttime  stoptime  bikeid  tripduration  from_station_name  \\\n",
       "gender                                                                          \n",
       "Female    34997      34997     34997   34997         34997              34997   \n",
       "Male     135171     135171    135171  135171        135171             135171   \n",
       "Other      3647       3647      3647    3647          3647               3647   \n",
       "\n",
       "        to_station_name  from_station_id  to_station_id  usertype  birthyear  \\\n",
       "gender                                                                         \n",
       "Female            34997            34997          34997     34997      34993   \n",
       "Male             135171           135171         135171    135171     135171   \n",
       "Other              3647             3647           3647      3647       3647   \n",
       "\n",
       "        tripminutes  \n",
       "gender               \n",
       "Female        34997  \n",
       "Male         135171  \n",
       "Other          3647  "
      ]
     },
     "execution_count": 36,
     "metadata": {},
     "output_type": "execute_result"
    }
   ],
   "source": [
    "data.groupby('gender').count()"
   ]
  },
  {
   "cell_type": "code",
   "execution_count": 37,
   "metadata": {
    "collapsed": false,
    "deletable": true,
    "editable": true
   },
   "outputs": [
    {
     "data": {
      "text/html": [
       "<div>\n",
       "<style>\n",
       "    .dataframe thead tr:only-child th {\n",
       "        text-align: right;\n",
       "    }\n",
       "\n",
       "    .dataframe thead th {\n",
       "        text-align: left;\n",
       "    }\n",
       "\n",
       "    .dataframe tbody tr th {\n",
       "        vertical-align: top;\n",
       "    }\n",
       "</style>\n",
       "<table border=\"1\" class=\"dataframe\">\n",
       "  <thead>\n",
       "    <tr style=\"text-align: right;\">\n",
       "      <th></th>\n",
       "      <th>trip_id</th>\n",
       "      <th>tripduration</th>\n",
       "      <th>birthyear</th>\n",
       "      <th>tripminutes</th>\n",
       "    </tr>\n",
       "    <tr>\n",
       "      <th>gender</th>\n",
       "      <th></th>\n",
       "      <th></th>\n",
       "      <th></th>\n",
       "      <th></th>\n",
       "    </tr>\n",
       "  </thead>\n",
       "  <tbody>\n",
       "    <tr>\n",
       "      <th>Female</th>\n",
       "      <td>145929.823499</td>\n",
       "      <td>697.919834</td>\n",
       "      <td>1978.425056</td>\n",
       "      <td>11.631997</td>\n",
       "    </tr>\n",
       "    <tr>\n",
       "      <th>Male</th>\n",
       "      <td>151446.703864</td>\n",
       "      <td>558.367672</td>\n",
       "      <td>1980.282169</td>\n",
       "      <td>9.306128</td>\n",
       "    </tr>\n",
       "    <tr>\n",
       "      <th>Other</th>\n",
       "      <td>169321.573348</td>\n",
       "      <td>605.837092</td>\n",
       "      <td>1980.524267</td>\n",
       "      <td>10.097285</td>\n",
       "    </tr>\n",
       "  </tbody>\n",
       "</table>\n",
       "</div>"
      ],
      "text/plain": [
       "              trip_id  tripduration    birthyear  tripminutes\n",
       "gender                                                       \n",
       "Female  145929.823499    697.919834  1978.425056    11.631997\n",
       "Male    151446.703864    558.367672  1980.282169     9.306128\n",
       "Other   169321.573348    605.837092  1980.524267    10.097285"
      ]
     },
     "execution_count": 37,
     "metadata": {},
     "output_type": "execute_result"
    }
   ],
   "source": [
    "data.groupby('gender').mean()"
   ]
  },
  {
   "cell_type": "markdown",
   "metadata": {
    "deletable": true,
    "editable": true
   },
   "source": [
    "It's also possible to indes the grouped object like it is a dataframe:"
   ]
  },
  {
   "cell_type": "code",
   "execution_count": 38,
   "metadata": {
    "collapsed": false,
    "deletable": true,
    "editable": true
   },
   "outputs": [
    {
     "data": {
      "text/plain": [
       "gender\n",
       "Female    11.631997\n",
       "Male       9.306128\n",
       "Other     10.097285\n",
       "Name: tripminutes, dtype: float64"
      ]
     },
     "execution_count": 38,
     "metadata": {},
     "output_type": "execute_result"
    }
   ],
   "source": [
    "data.groupby('gender')['tripminutes'].mean()"
   ]
  },
  {
   "cell_type": "markdown",
   "metadata": {
    "deletable": true,
    "editable": true
   },
   "source": [
    "You can even group by multiple values: for example we can look at the trip duration by time of day and by gender:"
   ]
  },
  {
   "cell_type": "code",
   "execution_count": 39,
   "metadata": {
    "collapsed": false,
    "deletable": true,
    "editable": true
   },
   "outputs": [
    {
     "data": {
      "text/plain": [
       "starttime  gender\n",
       "0          Female     9.856338\n",
       "           Male       8.599553\n",
       "           Other      8.213818\n",
       "1          Female     8.479629\n",
       "           Male       8.811528\n",
       "           Other     13.765683\n",
       "2          Female     8.417830\n",
       "           Male       9.158685\n",
       "           Other      7.344022\n",
       "3          Female     7.224982\n",
       "           Male       7.071405\n",
       "           Other      5.643350\n",
       "4          Female     8.424358\n",
       "           Male      11.371598\n",
       "           Other      2.810767\n",
       "5          Female    10.692131\n",
       "           Male       8.521851\n",
       "6          Female     9.762105\n",
       "           Male       7.851311\n",
       "           Other      9.325292\n",
       "7          Female    11.510770\n",
       "           Male       9.186592\n",
       "           Other      8.093608\n",
       "8          Female    11.184155\n",
       "           Male       8.958290\n",
       "           Other      9.785313\n",
       "9          Female    10.782919\n",
       "           Male       8.802831\n",
       "           Other     10.774822\n",
       "10         Female    11.780812\n",
       "                       ...    \n",
       "14         Female    12.494148\n",
       "           Male       9.637869\n",
       "           Other     11.421314\n",
       "15         Female    12.189781\n",
       "           Male      10.486652\n",
       "           Other     11.968386\n",
       "16         Female    11.624460\n",
       "           Male      10.477622\n",
       "           Other     11.561369\n",
       "17         Female    12.197890\n",
       "           Male      10.102046\n",
       "           Other      9.469460\n",
       "18         Female    12.019092\n",
       "           Male       9.402604\n",
       "           Other      9.090640\n",
       "19         Female    11.418717\n",
       "           Male       8.818914\n",
       "           Other      9.975588\n",
       "20         Female    11.370777\n",
       "           Male       9.030511\n",
       "           Other      9.357454\n",
       "21         Female    10.555890\n",
       "           Male       8.426243\n",
       "           Other      7.235531\n",
       "22         Female    10.380284\n",
       "           Male       8.422939\n",
       "           Other      6.198837\n",
       "23         Female    13.207619\n",
       "           Male       8.256001\n",
       "           Other      6.913517\n",
       "Name: tripminutes, Length: 71, dtype: float64"
      ]
     },
     "execution_count": 39,
     "metadata": {},
     "output_type": "execute_result"
    }
   ],
   "source": [
    "data.groupby([times.hour, 'gender'])['tripminutes'].mean()"
   ]
  },
  {
   "cell_type": "markdown",
   "metadata": {
    "deletable": true,
    "editable": true
   },
   "source": [
    "The ``unstack()`` operation can help make sense of this type of multiply-grouped data. What this technically does is split a multiple-valued index into an index plus columns:"
   ]
  },
  {
   "cell_type": "code",
   "execution_count": 40,
   "metadata": {
    "collapsed": false,
    "deletable": true,
    "editable": true
   },
   "outputs": [
    {
     "data": {
      "text/html": [
       "<div>\n",
       "<style>\n",
       "    .dataframe thead tr:only-child th {\n",
       "        text-align: right;\n",
       "    }\n",
       "\n",
       "    .dataframe thead th {\n",
       "        text-align: left;\n",
       "    }\n",
       "\n",
       "    .dataframe tbody tr th {\n",
       "        vertical-align: top;\n",
       "    }\n",
       "</style>\n",
       "<table border=\"1\" class=\"dataframe\">\n",
       "  <thead>\n",
       "    <tr style=\"text-align: right;\">\n",
       "      <th>gender</th>\n",
       "      <th>Female</th>\n",
       "      <th>Male</th>\n",
       "      <th>Other</th>\n",
       "    </tr>\n",
       "    <tr>\n",
       "      <th>starttime</th>\n",
       "      <th></th>\n",
       "      <th></th>\n",
       "      <th></th>\n",
       "    </tr>\n",
       "  </thead>\n",
       "  <tbody>\n",
       "    <tr>\n",
       "      <th>0</th>\n",
       "      <td>9.856338</td>\n",
       "      <td>8.599553</td>\n",
       "      <td>8.213818</td>\n",
       "    </tr>\n",
       "    <tr>\n",
       "      <th>1</th>\n",
       "      <td>8.479629</td>\n",
       "      <td>8.811528</td>\n",
       "      <td>13.765683</td>\n",
       "    </tr>\n",
       "    <tr>\n",
       "      <th>2</th>\n",
       "      <td>8.417830</td>\n",
       "      <td>9.158685</td>\n",
       "      <td>7.344022</td>\n",
       "    </tr>\n",
       "    <tr>\n",
       "      <th>3</th>\n",
       "      <td>7.224982</td>\n",
       "      <td>7.071405</td>\n",
       "      <td>5.643350</td>\n",
       "    </tr>\n",
       "    <tr>\n",
       "      <th>4</th>\n",
       "      <td>8.424358</td>\n",
       "      <td>11.371598</td>\n",
       "      <td>2.810767</td>\n",
       "    </tr>\n",
       "    <tr>\n",
       "      <th>5</th>\n",
       "      <td>10.692131</td>\n",
       "      <td>8.521851</td>\n",
       "      <td>NaN</td>\n",
       "    </tr>\n",
       "    <tr>\n",
       "      <th>6</th>\n",
       "      <td>9.762105</td>\n",
       "      <td>7.851311</td>\n",
       "      <td>9.325292</td>\n",
       "    </tr>\n",
       "    <tr>\n",
       "      <th>7</th>\n",
       "      <td>11.510770</td>\n",
       "      <td>9.186592</td>\n",
       "      <td>8.093608</td>\n",
       "    </tr>\n",
       "    <tr>\n",
       "      <th>8</th>\n",
       "      <td>11.184155</td>\n",
       "      <td>8.958290</td>\n",
       "      <td>9.785313</td>\n",
       "    </tr>\n",
       "    <tr>\n",
       "      <th>9</th>\n",
       "      <td>10.782919</td>\n",
       "      <td>8.802831</td>\n",
       "      <td>10.774822</td>\n",
       "    </tr>\n",
       "    <tr>\n",
       "      <th>10</th>\n",
       "      <td>11.780812</td>\n",
       "      <td>8.599367</td>\n",
       "      <td>11.582616</td>\n",
       "    </tr>\n",
       "    <tr>\n",
       "      <th>11</th>\n",
       "      <td>12.146175</td>\n",
       "      <td>8.911791</td>\n",
       "      <td>10.886383</td>\n",
       "    </tr>\n",
       "    <tr>\n",
       "      <th>12</th>\n",
       "      <td>12.128998</td>\n",
       "      <td>9.415381</td>\n",
       "      <td>10.466542</td>\n",
       "    </tr>\n",
       "    <tr>\n",
       "      <th>13</th>\n",
       "      <td>12.801765</td>\n",
       "      <td>9.678109</td>\n",
       "      <td>10.241742</td>\n",
       "    </tr>\n",
       "    <tr>\n",
       "      <th>14</th>\n",
       "      <td>12.494148</td>\n",
       "      <td>9.637869</td>\n",
       "      <td>11.421314</td>\n",
       "    </tr>\n",
       "    <tr>\n",
       "      <th>15</th>\n",
       "      <td>12.189781</td>\n",
       "      <td>10.486652</td>\n",
       "      <td>11.968386</td>\n",
       "    </tr>\n",
       "    <tr>\n",
       "      <th>16</th>\n",
       "      <td>11.624460</td>\n",
       "      <td>10.477622</td>\n",
       "      <td>11.561369</td>\n",
       "    </tr>\n",
       "    <tr>\n",
       "      <th>17</th>\n",
       "      <td>12.197890</td>\n",
       "      <td>10.102046</td>\n",
       "      <td>9.469460</td>\n",
       "    </tr>\n",
       "    <tr>\n",
       "      <th>18</th>\n",
       "      <td>12.019092</td>\n",
       "      <td>9.402604</td>\n",
       "      <td>9.090640</td>\n",
       "    </tr>\n",
       "    <tr>\n",
       "      <th>19</th>\n",
       "      <td>11.418717</td>\n",
       "      <td>8.818914</td>\n",
       "      <td>9.975588</td>\n",
       "    </tr>\n",
       "    <tr>\n",
       "      <th>20</th>\n",
       "      <td>11.370777</td>\n",
       "      <td>9.030511</td>\n",
       "      <td>9.357454</td>\n",
       "    </tr>\n",
       "    <tr>\n",
       "      <th>21</th>\n",
       "      <td>10.555890</td>\n",
       "      <td>8.426243</td>\n",
       "      <td>7.235531</td>\n",
       "    </tr>\n",
       "    <tr>\n",
       "      <th>22</th>\n",
       "      <td>10.380284</td>\n",
       "      <td>8.422939</td>\n",
       "      <td>6.198837</td>\n",
       "    </tr>\n",
       "    <tr>\n",
       "      <th>23</th>\n",
       "      <td>13.207619</td>\n",
       "      <td>8.256001</td>\n",
       "      <td>6.913517</td>\n",
       "    </tr>\n",
       "  </tbody>\n",
       "</table>\n",
       "</div>"
      ],
      "text/plain": [
       "gender        Female       Male      Other\n",
       "starttime                                 \n",
       "0           9.856338   8.599553   8.213818\n",
       "1           8.479629   8.811528  13.765683\n",
       "2           8.417830   9.158685   7.344022\n",
       "3           7.224982   7.071405   5.643350\n",
       "4           8.424358  11.371598   2.810767\n",
       "5          10.692131   8.521851        NaN\n",
       "6           9.762105   7.851311   9.325292\n",
       "7          11.510770   9.186592   8.093608\n",
       "8          11.184155   8.958290   9.785313\n",
       "9          10.782919   8.802831  10.774822\n",
       "10         11.780812   8.599367  11.582616\n",
       "11         12.146175   8.911791  10.886383\n",
       "12         12.128998   9.415381  10.466542\n",
       "13         12.801765   9.678109  10.241742\n",
       "14         12.494148   9.637869  11.421314\n",
       "15         12.189781  10.486652  11.968386\n",
       "16         11.624460  10.477622  11.561369\n",
       "17         12.197890  10.102046   9.469460\n",
       "18         12.019092   9.402604   9.090640\n",
       "19         11.418717   8.818914   9.975588\n",
       "20         11.370777   9.030511   9.357454\n",
       "21         10.555890   8.426243   7.235531\n",
       "22         10.380284   8.422939   6.198837\n",
       "23         13.207619   8.256001   6.913517"
      ]
     },
     "execution_count": 40,
     "metadata": {},
     "output_type": "execute_result"
    }
   ],
   "source": [
    "grouped = data.groupby([times.hour, 'gender'])['tripminutes'].mean().unstack()\n",
    "grouped"
   ]
  },
  {
   "cell_type": "markdown",
   "metadata": {
    "deletable": true,
    "editable": true
   },
   "source": [
    "## 5. Visualizing data with ``pandas``\n",
    "\n",
    "Of course, looking at tables of data is not very intuitive.\n",
    "Fortunately Pandas has many useful plotting functions built-in, all of which make use of the ``matplotlib`` library to generate plots.\n",
    "\n",
    "Whenever you do plotting in the IPython notebook, you will want to first run this *magic command* which configures the notebook to work well with plots:"
   ]
  },
  {
   "cell_type": "code",
   "execution_count": 41,
   "metadata": {
    "collapsed": true,
    "deletable": true,
    "editable": true
   },
   "outputs": [],
   "source": [
    "%matplotlib inline"
   ]
  },
  {
   "cell_type": "markdown",
   "metadata": {
    "deletable": true,
    "editable": true
   },
   "source": [
    "Now we can simply call the ``plot()`` method of any series or dataframe to get a reasonable view of the data:"
   ]
  },
  {
   "cell_type": "code",
   "execution_count": 42,
   "metadata": {
    "collapsed": false,
    "deletable": true,
    "editable": true
   },
   "outputs": [
    {
     "data": {
      "text/plain": [
       "<matplotlib.axes._subplots.AxesSubplot at 0x11029d860>"
      ]
     },
     "execution_count": 42,
     "metadata": {},
     "output_type": "execute_result"
    },
    {
     "data": {
      "image/png": "[encoded data removed]",
      "text/plain": [
       "<matplotlib.figure.Figure at 0x10c4364e0>"
      ]
     },
     "metadata": {},
     "output_type": "display_data"
    }
   ],
   "source": [
    "grouped.plot()"
   ]
  },
  {
   "cell_type": "markdown",
   "metadata": {
    "deletable": true,
    "editable": true
   },
   "source": [
    "### Adjusting the Plot Style\n",
    "\n",
    "Matplotlib has a number of plot styles you can use. For example, if you like R you might use the ``'ggplot'`` style.\n",
    "I like the ``'seaborn'`` style:"
   ]
  },
  {
   "cell_type": "code",
   "execution_count": 43,
   "metadata": {
    "collapsed": false,
    "deletable": true,
    "editable": true
   },
   "outputs": [],
   "source": [
    "import matplotlib.pyplot as plt\n",
    "plt.style.use('seaborn')"
   ]
  },
  {
   "cell_type": "code",
   "execution_count": 44,
   "metadata": {
    "collapsed": false,
    "deletable": true,
    "editable": true
   },
   "outputs": [
    {
     "data": {
      "text/plain": [
       "<matplotlib.axes._subplots.AxesSubplot at 0x1102c1320>"
      ]
     },
     "execution_count": 44,
     "metadata": {},
     "output_type": "execute_result"
    },
    {
     "data": {
      "image/png": "[encoded data removed]",
      "text/plain": [
       "<matplotlib.figure.Figure at 0x10c436ef0>"
      ]
     },
     "metadata": {},
     "output_type": "display_data"
    }
   ],
   "source": [
    "grouped.plot()"
   ]
  },
  {
   "cell_type": "markdown",
   "metadata": {
    "deletable": true,
    "editable": true
   },
   "source": [
    "### Other plot types\n",
    "\n",
    "Pandas supports a range of other plotting types; you can find these by using the <TAB> autocomplete on the ``plot`` method:"
   ]
  },
  {
   "cell_type": "markdown",
   "metadata": {
    "deletable": true,
    "editable": true
   },
   "source": [
    "For example, we can create a histogram of trip durations:"
   ]
  },
  {
   "cell_type": "code",
   "execution_count": 45,
   "metadata": {
    "collapsed": false,
    "deletable": true,
    "editable": true
   },
   "outputs": [
    {
     "data": {
      "text/plain": [
       "<matplotlib.axes._subplots.AxesSubplot at 0x11071d160>"
      ]
     },
     "execution_count": 45,
     "metadata": {},
     "output_type": "execute_result"
    },
    {
     "data": {
      "image/png": "[encoded data removed]",
      "text/plain": [
       "<matplotlib.figure.Figure at 0x10fef7630>"
      ]
     },
     "metadata": {},
     "output_type": "display_data"
    }
   ],
   "source": [
    "grouped.plot.bar()"
   ]
  },
  {
   "cell_type": "markdown",
   "metadata": {
    "deletable": true,
    "editable": true
   },
   "source": [
    "If you'd like to adjust the x and y limits of the plot, you can use the ``set_xlim()`` and ``set_ylim()`` method of the resulting object:"
   ]
  },
  {
   "cell_type": "code",
   "execution_count": 46,
   "metadata": {
    "collapsed": false,
    "deletable": true,
    "editable": true
   },
   "outputs": [
    {
     "data": {
      "text/plain": [
       "(-1, 10)"
      ]
     },
     "execution_count": 46,
     "metadata": {},
     "output_type": "execute_result"
    },
    {
     "data": {
      "image/png": "[encoded data removed]",
      "text/plain": [
       "<matplotlib.figure.Figure at 0x1109e3208>"
      ]
     },
     "metadata": {},
     "output_type": "display_data"
    }
   ],
   "source": [
    "ax = grouped.plot.bar()\n",
    "ax.set_xlim(-1, 10)"
   ]
  },
  {
   "cell_type": "markdown",
   "metadata": {},
   "source": [
    "## Breakout: Exploring the Data\n",
    "\n",
    "Make a plot of the total number of rides as a function of month of the year (You'll need to extract the month, use a ``groupby``, and find the appropriate aggregation to count the number in each group)."
   ]
  },
  {
   "cell_type": "code",
   "execution_count": 47,
   "metadata": {
    "collapsed": true
   },
   "outputs": [],
   "source": [
    "data['month'] = times.month"
   ]
  },
  {
   "cell_type": "code",
   "execution_count": 48,
   "metadata": {
    "collapsed": false,
    "deletable": true,
    "editable": true
   },
   "outputs": [
    {
     "data": {
      "image/png": "[encoded data removed]",
      "text/plain": [
       "<matplotlib.figure.Figure at 0x11154c1d0>"
      ]
     },
     "metadata": {},
     "output_type": "display_data"
    }
   ],
   "source": [
    "ax = data.groupby('month')['trip_id'].count().plot.bar();"
   ]
  },
  {
   "cell_type": "markdown",
   "metadata": {
    "deletable": true,
    "editable": true
   },
   "source": [
    "Split this plot by gender. Do you see any seasonal ridership patterns by gender?"
   ]
  },
  {
   "cell_type": "code",
   "execution_count": 49,
   "metadata": {
    "collapsed": false,
    "deletable": true,
    "editable": true
   },
   "outputs": [
    {
     "data": {
      "image/png": "[encoded data removed]",
      "text/plain": [
       "<matplotlib.figure.Figure at 0x1119b4c18>"
      ]
     },
     "metadata": {},
     "output_type": "display_data"
    }
   ],
   "source": [
    "data.groupby(['month','gender'])['trip_id'].count().unstack().plot();"
   ]
  },
  {
   "cell_type": "markdown",
   "metadata": {
    "deletable": true,
    "editable": true
   },
   "source": [
    "Split this plot by user type. Do you see any seasonal ridership patterns by usertype?"
   ]
  },
  {
   "cell_type": "code",
   "execution_count": 50,
   "metadata": {
    "collapsed": false,
    "deletable": true,
    "editable": true
   },
   "outputs": [
    {
     "data": {
      "image/png": "[encoded data removed]",
      "text/plain": [
       "<matplotlib.figure.Figure at 0x11262c0f0>"
      ]
     },
     "metadata": {},
     "output_type": "display_data"
    }
   ],
   "source": [
    "data.groupby(['month','usertype'])['trip_id'].count().unstack().plot();"
   ]
  },
  {
   "cell_type": "markdown",
   "metadata": {
    "deletable": true,
    "editable": true
   },
   "source": [
    "Repeat the above three steps, counting the number of rides by time of day rather thatn by month."
   ]
  },
  {
   "cell_type": "code",
   "execution_count": 51,
   "metadata": {
    "collapsed": true
   },
   "outputs": [],
   "source": [
    "data['hour'] = times.month"
   ]
  },
  {
   "cell_type": "code",
   "execution_count": 52,
   "metadata": {
    "collapsed": false,
    "deletable": true,
    "editable": true
   },
   "outputs": [
    {
     "data": {
      "image/png": "[encoded data removed]",
      "text/plain": [
       "<matplotlib.figure.Figure at 0x11157d0f0>"
      ]
     },
     "metadata": {},
     "output_type": "display_data"
    }
   ],
   "source": [
    "ax = data.groupby('hour')['trip_id'].count().plot.bar();"
   ]
  },
  {
   "cell_type": "code",
   "execution_count": 53,
   "metadata": {
    "collapsed": false
   },
   "outputs": [
    {
     "data": {
      "image/png": "[encoded data removed]",
      "text/plain": [
       "<matplotlib.figure.Figure at 0x114e3ebe0>"
      ]
     },
     "metadata": {},
     "output_type": "display_data"
    }
   ],
   "source": [
    "data.groupby(['hour','gender'])['trip_id'].count().unstack().plot();"
   ]
  },
  {
   "cell_type": "code",
   "execution_count": 54,
   "metadata": {
    "collapsed": false
   },
   "outputs": [
    {
     "data": {
      "image/png": "[encoded data removed]",
      "text/plain": [
       "<matplotlib.figure.Figure at 0x112688400>"
      ]
     },
     "metadata": {},
     "output_type": "display_data"
    }
   ],
   "source": [
    "data.groupby(['hour','usertype'])['trip_id'].count().unstack().plot();"
   ]
  },
  {
   "cell_type": "markdown",
   "metadata": {
    "deletable": true,
    "editable": true
   },
   "source": [
    "Are there any other interesting insights you can discover in the data using these tools?"
   ]
  },
  {
   "cell_type": "markdown",
   "metadata": {
    "collapsed": true,
    "deletable": true,
    "editable": true
   },
   "source": [
    "*A writeup of the analysis that Jake did on the first year of this data, using these same tools, can be found here: http://nbviewer.jupyter.org/github/jakevdp/ProntoData/blob/master/ProntoData.ipynb*"
   ]
  },
  {
   "cell_type": "markdown",
   "metadata": {
    "deletable": true,
    "editable": true
   },
   "source": [
    "### Looking Forward to Homework"
   ]
  },
  {
   "cell_type": "markdown",
   "metadata": {
    "deletable": true,
    "editable": true
   },
   "source": [
    "In the [homework this week](https://docs.google.com/document/d/1mxF8YyXCk4EPgfQF6xLXAZM1akhQ0WEg-Rp7Sp_BfYI/edit?usp=sharing), you will have a chance to apply some of these patterns to a brand new (but closely related) dataset."
   ]
  }
 ],
 "metadata": {
  "anaconda-cloud": {},
  "kernelspec": {
   "display_name": "Python 3",
   "language": "python",
   "name": "python3"
  },
  "language_info": {
   "codemirror_mode": {
    "name": "ipython",
    "version": 3
   },
   "file_extension": ".py",
   "mimetype": "text/x-python",
   "name": "python",
   "nbconvert_exporter": "python",
   "pygments_lexer": "ipython3",
   "version": "3.5.1"
  }
 },
 "nbformat": 4,
 "nbformat_minor": 0
}
