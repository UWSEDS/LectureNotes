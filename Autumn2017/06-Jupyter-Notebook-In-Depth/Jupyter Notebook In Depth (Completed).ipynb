{
 "cells": [
  {
   "cell_type": "markdown",
   "metadata": {},
   "source": [
    "# Jupyter Notebook In Depth\n",
    "\n",
    "Today we are going to dive into some of the interesting features of IPython and the Jupyter notebook, which are useful for a number of daily tasks in data-intensive science.\n",
    "\n",
    "We will work through these features \"live\"; feel free to type along with me as we go!"
   ]
  },
  {
   "cell_type": "markdown",
   "metadata": {},
   "source": [
    "## Outline\n",
    "\n",
    "- IPython command-line vs. Jupyter notebook\n",
    "- Input/Output History\n",
    "- Tab Completion\n",
    "- Getting help and accessing documentation\n",
    "- Useful Keyboard Shortcuts\n",
    "- Magic Commands\n",
    "- Shell commands\n",
    "- Interactivity with ``ipywidgets``"
   ]
  },
  {
   "cell_type": "markdown",
   "metadata": {},
   "source": [
    "## IPython Command Line and Jupyter Notebook"
   ]
  },
  {
   "cell_type": "markdown",
   "metadata": {},
   "source": [
    "### Launching the IPython Shell\n",
    "\n",
    "If you have installed IPython correctly, you should be able to type ``ipython`` in your command prompt and see something like this:\n",
    "```\n",
    "IPython 4.0.1 -- An enhanced Interactive Python.\n",
    "?         -> Introduction and overview of IPython's features.\n",
    "%quickref -> Quick reference.\n",
    "help      -> Python's own help system.\n",
    "object?   -> Details about 'object', use 'object??' for extra details.\n",
    "In [1]:\n",
    "```\n",
    "With that, you're ready to follow along."
   ]
  },
  {
   "cell_type": "markdown",
   "metadata": {},
   "source": [
    "### Launching the Jupyter Notebook\n",
    "\n",
    "The IPython notebook is a browser-based graphical interface to the IPython shell, and builds on it a rich set of dynamic display capabilities.\n",
    "As well as executing Python/IPython statements, the notebook allows the user to include formatted text, static and dynamic visualizations, mathematical equations, javascript widgets, and much more.\n",
    "Furthermore, these documents can be saved in a way that lets other people open them and execute the code on their own systems.\n",
    "\n",
    "Though the Jupyter notebook is viewed and edited through your web browser window, it must connect to a running Python process in order to execute code.\n",
    "This process (known as a \"kernel\") can be started by running the following command in your system shell:\n",
    "\n",
    "```\n",
    "$ jupyter notebook\n",
    "```\n",
    "\n",
    "This command will launch a local web server which will be visible to your browser.\n",
    "It immediately spits out a log showing what it is doing; that log will look something like this:\n",
    "\n",
    "```\n",
    "jakevdp$ jupyter notebook\n",
    "[I 11:02:44.237 NotebookApp] The port 8888 is already in use, trying another port.\n",
    "[I 11:02:44.251 NotebookApp] Serving notebooks from local directory: /Users/jakevdp/github/uwseds/LectureNotes-Autumn2017/06-Jupyter-Notebook-In-Depth\n",
    "[I 11:02:44.251 NotebookApp] 0 active kernels \n",
    "[I 11:02:44.251 NotebookApp] The Jupyter Notebook is running at: http://localhost:8888/?token=cf6e2acfe3bcf9f2f1529dedd59515560ae004ddeba6b882\n",
    "[I 11:02:44.251 NotebookApp] Use Control-C to stop this server and shut down all kernels (twice to skip confirmation)\n",
    "\n",
    "```\n",
    "\n",
    "At the command, your default browser should automatically open and navigate to the listed local URL;\n",
    "the exact address will depend on your system.\n",
    "If the browser does not open automatically, you can open a window and copy this address (here ``http://localhost:8888/`` with an authentication token) manually."
   ]
  },
  {
   "cell_type": "markdown",
   "metadata": {},
   "source": [
    "## Input/Output History\n",
    "\n",
    "A useful feature of IPython/Jupyter is the storage of input and output history."
   ]
  },
  {
   "cell_type": "markdown",
   "metadata": {},
   "source": [
    "### Terminal Only\n",
    "\n",
    "There are a few useful shortcuts that can be used only in the IPython terminal.\n",
    "We will demonstrate the following in the terminal:\n",
    "\n",
    "- up arrow for history\n",
    "- partial completion with up arrow\n",
    "- reverse search with ctrl-r"
   ]
  },
  {
   "cell_type": "markdown",
   "metadata": {},
   "source": [
    "### Terminal and Notebook\n",
    "\n",
    "- Previous results can be obtained using underscores: number of underscores is the number of the previous command:"
   ]
  },
  {
   "cell_type": "code",
   "execution_count": 1,
   "metadata": {
    "scrolled": true
   },
   "outputs": [
    {
     "data": {
      "text/plain": [
       "2"
      ]
     },
     "execution_count": 1,
     "metadata": {},
     "output_type": "execute_result"
    }
   ],
   "source": [
    "1 + 1"
   ]
  },
  {
   "cell_type": "code",
   "execution_count": 2,
   "metadata": {},
   "outputs": [
    {
     "data": {
      "text/plain": [
       "6"
      ]
     },
     "execution_count": 2,
     "metadata": {},
     "output_type": "execute_result"
    }
   ],
   "source": [
    "_ * 3"
   ]
  },
  {
   "cell_type": "code",
   "execution_count": 3,
   "metadata": {},
   "outputs": [
    {
     "data": {
      "text/plain": [
       "8"
      ]
     },
     "execution_count": 3,
     "metadata": {},
     "output_type": "execute_result"
    }
   ],
   "source": [
    "_ + __"
   ]
  },
  {
   "cell_type": "code",
   "execution_count": 4,
   "metadata": {},
   "outputs": [
    {
     "data": {
      "text/plain": [
       "16"
      ]
     },
     "execution_count": 4,
     "metadata": {},
     "output_type": "execute_result"
    }
   ],
   "source": [
    "_ + __ + ___"
   ]
  },
  {
   "cell_type": "markdown",
   "metadata": {},
   "source": [
    "Beyond three underscores, you can use underscore followed by a number to reference cell number:"
   ]
  },
  {
   "cell_type": "code",
   "execution_count": 5,
   "metadata": {},
   "outputs": [
    {
     "data": {
      "text/plain": [
       "6"
      ]
     },
     "execution_count": 5,
     "metadata": {},
     "output_type": "execute_result"
    }
   ],
   "source": [
    "_2"
   ]
  },
  {
   "cell_type": "markdown",
   "metadata": {},
   "source": [
    "More useful often is the ``Out`` array, which stores all previous results:"
   ]
  },
  {
   "cell_type": "code",
   "execution_count": 6,
   "metadata": {},
   "outputs": [
    {
     "data": {
      "text/plain": [
       "{1: 2, 2: 6, 3: 8, 4: 16, 5: 6}"
      ]
     },
     "execution_count": 6,
     "metadata": {},
     "output_type": "execute_result"
    }
   ],
   "source": [
    "Out"
   ]
  },
  {
   "cell_type": "code",
   "execution_count": 7,
   "metadata": {},
   "outputs": [
    {
     "data": {
      "text/plain": [
       "8"
      ]
     },
     "execution_count": 7,
     "metadata": {},
     "output_type": "execute_result"
    }
   ],
   "source": [
    "Out[3]"
   ]
  },
  {
   "cell_type": "markdown",
   "metadata": {},
   "source": [
    "Similarly, you can access the ``In`` array to see the code history:"
   ]
  },
  {
   "cell_type": "code",
   "execution_count": 8,
   "metadata": {},
   "outputs": [
    {
     "data": {
      "text/plain": [
       "['', '1 + 1', '_ * 3', '_ + __', '_ + __ + ___', '_2', 'Out', 'Out[3]', 'In']"
      ]
     },
     "execution_count": 8,
     "metadata": {},
     "output_type": "execute_result"
    }
   ],
   "source": [
    "In"
   ]
  },
  {
   "cell_type": "markdown",
   "metadata": {},
   "source": [
    "To see all history at once, use the ``%history`` magic command (more on magic commands below):"
   ]
  },
  {
   "cell_type": "code",
   "execution_count": 9,
   "metadata": {},
   "outputs": [
    {
     "name": "stdout",
     "output_type": "stream",
     "text": [
      "1 + 1\n",
      "_ * 3\n",
      "_ + __\n",
      "_ + __ + ___\n",
      "_2\n",
      "Out\n",
      "Out[3]\n",
      "In\n",
      "%history\n"
     ]
    }
   ],
   "source": [
    "%history"
   ]
  },
  {
   "cell_type": "markdown",
   "metadata": {},
   "source": [
    "## Tab Completion\n",
    "\n",
    "The feature of Jupyter that I use the most frequently is perhaps the tab completion functionality.\n",
    "\n",
    "Tab completion works for finishing built-in commands:"
   ]
  },
  {
   "cell_type": "code",
   "execution_count": 10,
   "metadata": {},
   "outputs": [
    {
     "data": {
      "text/plain": [
       "range(0, 4)"
      ]
     },
     "execution_count": 10,
     "metadata": {},
     "output_type": "execute_result"
    }
   ],
   "source": [
    "ra"
   ]
  },
  {
   "cell_type": "markdown",
   "metadata": {},
   "source": [
    "It works for variables that you have defined:"
   ]
  },
  {
   "cell_type": "code",
   "execution_count": 13,
   "metadata": {
    "collapsed": true
   },
   "outputs": [],
   "source": [
    "ThisIsALongVariable = 3.14"
   ]
  },
  {
   "cell_type": "code",
   "execution_count": 14,
   "metadata": {},
   "outputs": [
    {
     "data": {
      "text/plain": [
       "3.14"
      ]
     },
     "execution_count": 14,
     "metadata": {},
     "output_type": "execute_result"
    }
   ],
   "source": [
    "ThisIsALongVariable"
   ]
  },
  {
   "cell_type": "markdown",
   "metadata": {},
   "source": [
    "It works for importing packages:"
   ]
  },
  {
   "cell_type": "code",
   "execution_count": 15,
   "metadata": {
    "collapsed": true
   },
   "outputs": [],
   "source": [
    "import pa"
   ]
  },
  {
   "cell_type": "code",
   "execution_count": null,
   "metadata": {
    "collapsed": true
   },
   "outputs": [],
   "source": []
  },
  {
   "cell_type": "markdown",
   "metadata": {},
   "source": [
    "It works for finding attributes of packages and other objects:"
   ]
  },
  {
   "cell_type": "code",
   "execution_count": null,
   "metadata": {
    "collapsed": true
   },
   "outputs": [],
   "source": [
    "numpy.ra"
   ]
  },
  {
   "cell_type": "code",
   "execution_count": null,
   "metadata": {
    "collapsed": true
   },
   "outputs": [],
   "source": []
  },
  {
   "cell_type": "markdown",
   "metadata": {},
   "source": [
    "## Accessing Help and Documentation"
   ]
  },
  {
   "cell_type": "markdown",
   "metadata": {},
   "source": [
    "After tab completion, I think the next most useful feature of the notebook is the help functionality.\n",
    "\n",
    "One question mark after any valid object gives you access to its documentation string:"
   ]
  },
  {
   "cell_type": "code",
   "execution_count": 16,
   "metadata": {
    "collapsed": true
   },
   "outputs": [],
   "source": [
    "numpy.arange?"
   ]
  },
  {
   "cell_type": "code",
   "execution_count": null,
   "metadata": {
    "collapsed": true
   },
   "outputs": [],
   "source": []
  },
  {
   "cell_type": "markdown",
   "metadata": {},
   "source": [
    "Two question marks gives you access to its source code (if the object is implemented in Python):"
   ]
  },
  {
   "cell_type": "code",
   "execution_count": 17,
   "metadata": {
    "collapsed": true
   },
   "outputs": [],
   "source": [
    "import pandas\n",
    "pandas.DataFrame??"
   ]
  },
  {
   "cell_type": "code",
   "execution_count": null,
   "metadata": {
    "collapsed": true
   },
   "outputs": [],
   "source": []
  },
  {
   "cell_type": "markdown",
   "metadata": {},
   "source": [
    "This even works with user-defined functions:"
   ]
  },
  {
   "cell_type": "code",
   "execution_count": 18,
   "metadata": {
    "collapsed": true
   },
   "outputs": [],
   "source": [
    "def add_two_numbers(a, b):\n",
    "    \"\"\"Add two numbers and return the result\"\"\"\n",
    "    return a + b"
   ]
  },
  {
   "cell_type": "code",
   "execution_count": 19,
   "metadata": {
    "collapsed": true
   },
   "outputs": [],
   "source": [
    "add_two_numbers??"
   ]
  },
  {
   "cell_type": "markdown",
   "metadata": {},
   "source": [
    "In addition, you can use a single question mark with asterisks to do a wildcard match:"
   ]
  },
  {
   "cell_type": "code",
   "execution_count": 20,
   "metadata": {
    "collapsed": true
   },
   "outputs": [],
   "source": [
    "numpy.*cos*?"
   ]
  },
  {
   "cell_type": "code",
   "execution_count": 21,
   "metadata": {
    "collapsed": true
   },
   "outputs": [],
   "source": [
    "numpy.arccosh?"
   ]
  },
  {
   "cell_type": "markdown",
   "metadata": {},
   "source": [
    "If you are curious about the call signature for a funciton, you can type ``shift tab`` within the open-closed parentheses to see its argument list:"
   ]
  },
  {
   "cell_type": "code",
   "execution_count": null,
   "metadata": {},
   "outputs": [],
   "source": [
    "numpy.arccosh()"
   ]
  },
  {
   "cell_type": "markdown",
   "metadata": {},
   "source": [
    "Hitting ``shift tab`` multiple times will give you progressively more information about the function:"
   ]
  },
  {
   "cell_type": "code",
   "execution_count": null,
   "metadata": {},
   "outputs": [],
   "source": [
    "numpy.arccosh()"
   ]
  },
  {
   "cell_type": "markdown",
   "metadata": {},
   "source": [
    "Using a combination of these, you can quickly remind yourself of how to use various funcitons without ever leaving the terminal/notebook."
   ]
  },
  {
   "cell_type": "markdown",
   "metadata": {},
   "source": [
    "## Useful Keyboard Shortcuts\n",
    "\n",
    "One of the keys to working effectively with Jupyter is learning your way around the keyboard.\n",
    "Note: some of the shortcuts below will only work on Linux and Mac; many will work on windows as well"
   ]
  },
  {
   "cell_type": "markdown",
   "metadata": {},
   "source": [
    "### Terminal shortcuts\n",
    "\n",
    "If you are familiar with emacs, vim, and similar tools, many of the terminal-based keyboard shortcuts will feel very familiar to you:"
   ]
  },
  {
   "cell_type": "markdown",
   "metadata": {},
   "source": [
    "#### Navigation\n",
    "\n",
    "| Keystroke                     | Action                                     |\n",
    "|-------------------------------|--------------------------------------------|\n",
    "| ``Ctrl-a``                    | Move cursor to the beginning of the line   |\n",
    "| ``Ctrl-e``                    | Move cursor to the end of the line         |\n",
    "| ``Ctrl-b`` or ``left-arrow``  | Move cursor back one character             |\n",
    "| ``Ctrl-f`` or ``right-arrow`` | Move cursor forward one character          |"
   ]
  },
  {
   "cell_type": "markdown",
   "metadata": {},
   "source": [
    "#### Text Entry\n",
    "\n",
    "| Keystroke                     | Action                                          |\n",
    "|-------------------------------|-------------------------------------------------|\n",
    "| ``backspace``                 | Delete previous character in line               |\n",
    "| ``Ctrl-d``                    | Delete next character in line                   |\n",
    "| ``Ctrl-k``                    | Cut text from cursor to end of line             |\n",
    "| ``Ctrl-u``                    | Cut all text in line                            |\n",
    "| ``Ctrl-y``                    | Yank (i.e. Paste) text which was previously cut |\n",
    "| ``Ctrl-t``                    | Transpose (i.e. switch) previous two characters |"
   ]
  },
  {
   "cell_type": "markdown",
   "metadata": {},
   "source": [
    "#### Command History\n",
    "\n",
    "| Keystroke                     | Action                                     |\n",
    "|-------------------------------|--------------------------------------------|\n",
    "| ``Ctrl-p`` or ``up-arrow``    | Access previous command in history         |\n",
    "| ``Ctrl-n`` or ``down-arrow``  | Access next command in history             |\n",
    "| ``Ctrl-r``                    | Reverse-search through command history     |"
   ]
  },
  {
   "cell_type": "markdown",
   "metadata": {},
   "source": [
    "#### Miscellaneous\n",
    "\n",
    "| Keystroke                     | Action                                     |\n",
    "|-------------------------------|--------------------------------------------|\n",
    "| ``Ctrl-l``                    | Clear terminal screen                      |\n",
    "| ``Ctrl-c``                    | Interrupt current Python command           |\n",
    "| ``Ctrl-d``                    | Exit Jupyter session                       |"
   ]
  },
  {
   "cell_type": "markdown",
   "metadata": {},
   "source": [
    "### Notebook Shortcuts\n",
    "\n",
    "Depending on your operating system and browser, many of the navigation and text-entry shortcuts will work in the notebook as well. In addition, the notebook has many of its own shortcuts.\n",
    "\n",
    "First, though, we must mention that the notebook has two \"modes\" of operation: command mode and edit mode.\n",
    "\n",
    "- In **command mode**, you are doing operations that affect entire cells. You can enable command mode by pressing the escape key (or pressing ``ctrl m``). For example, in command mode, the up and down arrows will navigate from cell to cell.\n",
    "- In **edit mode**, you can do operations that affect the contents of a single cell. You can enable edit mode by pressing enter from the command mode. For example, in edit mode, the up and down arrows will navigate lines within the cell\n",
    "\n",
    "To get a listing of all available shortcuts, enter command mode and press \"h\""
   ]
  },
  {
   "cell_type": "markdown",
   "metadata": {},
   "source": [
    "## Magic Commands\n",
    "\n",
    "IPython & Jupyter extend the functionality of Python with so-called \"magic\" commands: these are marked with a ``%`` sign.\n",
    "We saw one of these above; the ``%history`` command.\n",
    "\n",
    "Magic commands come in two flavors: *line magics* start with one percent sign, and *cell magics* start with two percent signs.\n",
    "\n",
    "We'll go through a few examples of magic commands here, but first, using what you've seen above, how do you think you might get a list of all available magic commands? How do you think you might get help on any particular command?"
   ]
  },
  {
   "cell_type": "code",
   "execution_count": 24,
   "metadata": {},
   "outputs": [
    {
     "name": "stdout",
     "output_type": "stream",
     "text": [
      "1 + 1\n",
      "_ * 3\n",
      "_ + __\n",
      "_ + __ + ___\n",
      "_2\n",
      "Out\n",
      "Out[3]\n",
      "In\n",
      "%history\n",
      "range(4)\n",
      "import numpy\n",
      "numpy.ra\n",
      "ThisIsALongVariable = 3.14\n",
      "ThisIsALongVariable\n",
      "import pandas\n",
      "numpy.arange?\n",
      "import pandas\n",
      "pandas.DataFrame??\n",
      "def add_two_numbers(a, b):\n",
      "    \"\"\"Add two numbers and return the result\"\"\"\n",
      "    return a + b\n",
      "add_two_numbers??\n",
      "numpy.*cos*?\n",
      "numpy.arccosh?\n",
      "numpy.arccosh()\n",
      "numpy.arccosh()\n",
      "%history\n"
     ]
    }
   ],
   "source": [
    "%history"
   ]
  },
  {
   "cell_type": "markdown",
   "metadata": {},
   "source": [
    "### Profiling with ``timeit``\n",
    "\n",
    "For example, here's the ``%timeit``/``%%timeit`` magic, which can be very useful for quick profiling of your code:"
   ]
  },
  {
   "cell_type": "code",
   "execution_count": 25,
   "metadata": {},
   "outputs": [
    {
     "name": "stdout",
     "output_type": "stream",
     "text": [
      "142 ms ± 3.73 ms per loop (mean ± std. dev. of 7 runs, 10 loops each)\n"
     ]
    }
   ],
   "source": [
    "%%timeit\n",
    "val = 0\n",
    "for i in range(2000000):\n",
    "    val = val + i"
   ]
  },
  {
   "cell_type": "code",
   "execution_count": 26,
   "metadata": {},
   "outputs": [
    {
     "name": "stdout",
     "output_type": "stream",
     "text": [
      "6.67 ms ± 691 µs per loop (mean ± std. dev. of 7 runs, 100 loops each)\n"
     ]
    }
   ],
   "source": [
    "%timeit numpy.arange(2000000).sum()"
   ]
  },
  {
   "cell_type": "markdown",
   "metadata": {},
   "source": [
    "### Creating a file with ``%%file``\n",
    "\n",
    "Sometimes it's useful to create a file programatically from within the notebook"
   ]
  },
  {
   "cell_type": "code",
   "execution_count": 27,
   "metadata": {},
   "outputs": [
    {
     "name": "stdout",
     "output_type": "stream",
     "text": [
      "Overwriting test.py\n"
     ]
    }
   ],
   "source": [
    "%%file test.py\n",
    "x = 4\n",
    "print(\"the value of x is\", x)"
   ]
  },
  {
   "cell_type": "markdown",
   "metadata": {},
   "source": [
    "### Running a script with ``%run``"
   ]
  },
  {
   "cell_type": "code",
   "execution_count": 28,
   "metadata": {},
   "outputs": [
    {
     "name": "stdout",
     "output_type": "stream",
     "text": [
      "the value of x is 4\n"
     ]
    }
   ],
   "source": [
    "%run test.py"
   ]
  },
  {
   "cell_type": "markdown",
   "metadata": {},
   "source": [
    "### Controlling figures: ``%matplotlib``\n",
    "\n",
    "You can use the ``%matplotlib`` function to specify the matplotlib *backend* you would like to use.\n",
    "For example:\n",
    "\n",
    "- ``%matplotlib`` by itself uses the default system backend\n",
    "- ``%matplotlib inline`` creates inline, static figures (great for publication and/or sharing)\n",
    "- ``%matplotlib notebook`` creates inline, interactive figures (though in my experience it can be a bit unstable)"
   ]
  },
  {
   "cell_type": "code",
   "execution_count": 29,
   "metadata": {
    "collapsed": true
   },
   "outputs": [],
   "source": [
    "%matplotlib inline"
   ]
  },
  {
   "cell_type": "code",
   "execution_count": 30,
   "metadata": {},
   "outputs": [
    {
     "data": {
      "text/plain": [
       "[<matplotlib.lines.Line2D at 0x11a554550>]"
      ]
     },
     "execution_count": 30,
     "metadata": {},
     "output_type": "execute_result"
    },
    {
     "data": {
      "image/png": "[encoded data removed]",
      "text/plain": [
       "<matplotlib.figure.Figure at 0x114b43cf8>"
      ]
     },
     "metadata": {},
     "output_type": "display_data"
    }
   ],
   "source": [
    "import matplotlib.pyplot as plt\n",
    "plt.plot([1, 2, 3])"
   ]
  },
  {
   "cell_type": "markdown",
   "metadata": {},
   "source": [
    "``matplotlib notebook`` will give you an interactive figure:"
   ]
  },
  {
   "cell_type": "code",
   "execution_count": 31,
   "metadata": {},
   "outputs": [
    {
     "data": {
      "application/javascript": [
       "/* Put everything inside the global mpl namespace */\n",
       "window.mpl = {};\n",
       "\n",
       "\n",
       "mpl.get_websocket_type = function() {\n",
       "    if (typeof(WebSocket) !== 'undefined') {\n",
       "        return WebSocket;\n",
       "    } else if (typeof(MozWebSocket) !== 'undefined') {\n",
       "        return MozWebSocket;\n",
       "    } else {\n",
       "        alert('Your browser does not have WebSocket support.' +\n",
       "              'Please try Chrome, Safari or Firefox ≥ 6. ' +\n",
       "              'Firefox 4 and 5 are also supported but you ' +\n",
       "              'have to enable WebSockets in about:config.');\n",
       "    };\n",
       "}\n",
       "\n",
       "mpl.figure = function(figure_id, websocket, ondownload, parent_element) {\n",
       "    this.id = figure_id;\n",
       "\n",
       "    this.ws = websocket;\n",
       "\n",
       "    this.supports_binary = (this.ws.binaryType != undefined);\n",
       "\n",
       "    if (!this.supports_binary) {\n",
       "        var warnings = document.getElementById(\"mpl-warnings\");\n",
       "        if (warnings) {\n",
       "            warnings.style.display = 'block';\n",
       "            warnings.textContent = (\n",
       "                \"This browser does not support binary websocket messages. \" +\n",
       "                    \"Performance may be slow.\");\n",
       "        }\n",
       "    }\n",
       "\n",
       "    this.imageObj = new Image();\n",
       "\n",
       "    this.context = undefined;\n",
       "    this.message = undefined;\n",
       "    this.canvas = undefined;\n",
       "    this.rubberband_canvas = undefined;\n",
       "    this.rubberband_context = undefined;\n",
       "    this.format_dropdown = undefined;\n",
       "\n",
       "    this.image_mode = 'full';\n",
       "\n",
       "    this.root = $('<div/>');\n",
       "    this._root_extra_style(this.root)\n",
       "    this.root.attr('style', 'display: inline-block');\n",
       "\n",
       "    $(parent_element).append(this.root);\n",
       "\n",
       "    this._init_header(this);\n",
       "    this._init_canvas(this);\n",
       "    this._init_toolbar(this);\n",
       "\n",
       "    var fig = this;\n",
       "\n",
       "    this.waiting = false;\n",
       "\n",
       "    this.ws.onopen =  function () {\n",
       "            fig.send_message(\"supports_binary\", {value: fig.supports_binary});\n",
       "            fig.send_message(\"send_image_mode\", {});\n",
       "            if (mpl.ratio != 1) {\n",
       "                fig.send_message(\"set_dpi_ratio\", {'dpi_ratio': mpl.ratio});\n",
       "            }\n",
       "            fig.send_message(\"refresh\", {});\n",
       "        }\n",
       "\n",
       "    this.imageObj.onload = function() {\n",
       "            if (fig.image_mode == 'full') {\n",
       "                // Full images could contain transparency (where diff images\n",
       "                // almost always do), so we need to clear the canvas so that\n",
       "                // there is no ghosting.\n",
       "                fig.context.clearRect(0, 0, fig.canvas.width, fig.canvas.height);\n",
       "            }\n",
       "            fig.context.drawImage(fig.imageObj, 0, 0);\n",
       "        };\n",
       "\n",
       "    this.imageObj.onunload = function() {\n",
       "        this.ws.close();\n",
       "    }\n",
       "\n",
       "    this.ws.onmessage = this._make_on_message_function(this);\n",
       "\n",
       "    this.ondownload = ondownload;\n",
       "}\n",
       "\n",
       "mpl.figure.prototype._init_header = function() {\n",
       "    var titlebar = $(\n",
       "        '<div class=\"ui-dialog-titlebar ui-widget-header ui-corner-all ' +\n",
       "        'ui-helper-clearfix\"/>');\n",
       "    var titletext = $(\n",
       "        '<div class=\"ui-dialog-title\" style=\"width: 100%; ' +\n",
       "        'text-align: center; padding: 3px;\"/>');\n",
       "    titlebar.append(titletext)\n",
       "    this.root.append(titlebar);\n",
       "    this.header = titletext[0];\n",
       "}\n",
       "\n",
       "\n",
       "\n",
       "mpl.figure.prototype._canvas_extra_style = function(canvas_div) {\n",
       "\n",
       "}\n",
       "\n",
       "\n",
       "mpl.figure.prototype._root_extra_style = function(canvas_div) {\n",
       "\n",
       "}\n",
       "\n",
       "mpl.figure.prototype._init_canvas = function() {\n",
       "    var fig = this;\n",
       "\n",
       "    var canvas_div = $('<div/>');\n",
       "\n",
       "    canvas_div.attr('style', 'position: relative; clear: both; outline: 0');\n",
       "\n",
       "    function canvas_keyboard_event(event) {\n",
       "        return fig.key_event(event, event['data']);\n",
       "    }\n",
       "\n",
       "    canvas_div.keydown('key_press', canvas_keyboard_event);\n",
       "    canvas_div.keyup('key_release', canvas_keyboard_event);\n",
       "    this.canvas_div = canvas_div\n",
       "    this._canvas_extra_style(canvas_div)\n",
       "    this.root.append(canvas_div);\n",
       "\n",
       "    var canvas = $('<canvas/>');\n",
       "    canvas.addClass('mpl-canvas');\n",
       "    canvas.attr('style', \"left: 0; top: 0; z-index: 0; outline: 0\")\n",
       "\n",
       "    this.canvas = canvas[0];\n",
       "    this.context = canvas[0].getContext(\"2d\");\n",
       "\n",
       "    var backingStore = this.context.backingStorePixelRatio ||\n",
       "\tthis.context.webkitBackingStorePixelRatio ||\n",
       "\tthis.context.mozBackingStorePixelRatio ||\n",
       "\tthis.context.msBackingStorePixelRatio ||\n",
       "\tthis.context.oBackingStorePixelRatio ||\n",
       "\tthis.context.backingStorePixelRatio || 1;\n",
       "\n",
       "    mpl.ratio = (window.devicePixelRatio || 1) / backingStore;\n",
       "\n",
       "    var rubberband = $('<canvas/>');\n",
       "    rubberband.attr('style', \"position: absolute; left: 0; top: 0; z-index: 1;\")\n",
       "\n",
       "    var pass_mouse_events = true;\n",
       "\n",
       "    canvas_div.resizable({\n",
       "        start: function(event, ui) {\n",
       "            pass_mouse_events = false;\n",
       "        },\n",
       "        resize: function(event, ui) {\n",
       "            fig.request_resize(ui.size.width, ui.size.height);\n",
       "        },\n",
       "        stop: function(event, ui) {\n",
       "            pass_mouse_events = true;\n",
       "            fig.request_resize(ui.size.width, ui.size.height);\n",
       "        },\n",
       "    });\n",
       "\n",
       "    function mouse_event_fn(event) {\n",
       "        if (pass_mouse_events)\n",
       "            return fig.mouse_event(event, event['data']);\n",
       "    }\n",
       "\n",
       "    rubberband.mousedown('button_press', mouse_event_fn);\n",
       "    rubberband.mouseup('button_release', mouse_event_fn);\n",
       "    // Throttle sequential mouse events to 1 every 20ms.\n",
       "    rubberband.mousemove('motion_notify', mouse_event_fn);\n",
       "\n",
       "    rubberband.mouseenter('figure_enter', mouse_event_fn);\n",
       "    rubberband.mouseleave('figure_leave', mouse_event_fn);\n",
       "\n",
       "    canvas_div.on(\"wheel\", function (event) {\n",
       "        event = event.originalEvent;\n",
       "        event['data'] = 'scroll'\n",
       "        if (event.deltaY < 0) {\n",
       "            event.step = 1;\n",
       "        } else {\n",
       "            event.step = -1;\n",
       "        }\n",
       "        mouse_event_fn(event);\n",
       "    });\n",
       "\n",
       "    canvas_div.append(canvas);\n",
       "    canvas_div.append(rubberband);\n",
       "\n",
       "    this.rubberband = rubberband;\n",
       "    this.rubberband_canvas = rubberband[0];\n",
       "    this.rubberband_context = rubberband[0].getContext(\"2d\");\n",
       "    this.rubberband_context.strokeStyle = \"#000000\";\n",
       "\n",
       "    this._resize_canvas = function(width, height) {\n",
       "        // Keep the size of the canvas, canvas container, and rubber band\n",
       "        // canvas in synch.\n",
       "        canvas_div.css('width', width)\n",
       "        canvas_div.css('height', height)\n",
       "\n",
       "        canvas.attr('width', width * mpl.ratio);\n",
       "        canvas.attr('height', height * mpl.ratio);\n",
       "        canvas.attr('style', 'width: ' + width + 'px; height: ' + height + 'px;');\n",
       "\n",
       "        rubberband.attr('width', width);\n",
       "        rubberband.attr('height', height);\n",
       "    }\n",
       "\n",
       "    // Set the figure to an initial 600x600px, this will subsequently be updated\n",
       "    // upon first draw.\n",
       "    this._resize_canvas(600, 600);\n",
       "\n",
       "    // Disable right mouse context menu.\n",
       "    $(this.rubberband_canvas).bind(\"contextmenu\",function(e){\n",
       "        return false;\n",
       "    });\n",
       "\n",
       "    function set_focus () {\n",
       "        canvas.focus();\n",
       "        canvas_div.focus();\n",
       "    }\n",
       "\n",
       "    window.setTimeout(set_focus, 100);\n",
       "}\n",
       "\n",
       "mpl.figure.prototype._init_toolbar = function() {\n",
       "    var fig = this;\n",
       "\n",
       "    var nav_element = $('<div/>')\n",
       "    nav_element.attr('style', 'width: 100%');\n",
       "    this.root.append(nav_element);\n",
       "\n",
       "    // Define a callback function for later on.\n",
       "    function toolbar_event(event) {\n",
       "        return fig.toolbar_button_onclick(event['data']);\n",
       "    }\n",
       "    function toolbar_mouse_event(event) {\n",
       "        return fig.toolbar_button_onmouseover(event['data']);\n",
       "    }\n",
       "\n",
       "    for(var toolbar_ind in mpl.toolbar_items) {\n",
       "        var name = mpl.toolbar_items[toolbar_ind][0];\n",
       "        var tooltip = mpl.toolbar_items[toolbar_ind][1];\n",
       "        var image = mpl.toolbar_items[toolbar_ind][2];\n",
       "        var method_name = mpl.toolbar_items[toolbar_ind][3];\n",
       "\n",
       "        if (!name) {\n",
       "            // put a spacer in here.\n",
       "            continue;\n",
       "        }\n",
       "        var button = $('<button/>');\n",
       "        button.addClass('ui-button ui-widget ui-state-default ui-corner-all ' +\n",
       "                        'ui-button-icon-only');\n",
       "        button.attr('role', 'button');\n",
       "        button.attr('aria-disabled', 'false');\n",
       "        button.click(method_name, toolbar_event);\n",
       "        button.mouseover(tooltip, toolbar_mouse_event);\n",
       "\n",
       "        var icon_img = $('<span/>');\n",
       "        icon_img.addClass('ui-button-icon-primary ui-icon');\n",
       "        icon_img.addClass(image);\n",
       "        icon_img.addClass('ui-corner-all');\n",
       "\n",
       "        var tooltip_span = $('<span/>');\n",
       "        tooltip_span.addClass('ui-button-text');\n",
       "        tooltip_span.html(tooltip);\n",
       "\n",
       "        button.append(icon_img);\n",
       "        button.append(tooltip_span);\n",
       "\n",
       "        nav_element.append(button);\n",
       "    }\n",
       "\n",
       "    var fmt_picker_span = $('<span/>');\n",
       "\n",
       "    var fmt_picker = $('<select/>');\n",
       "    fmt_picker.addClass('mpl-toolbar-option ui-widget ui-widget-content');\n",
       "    fmt_picker_span.append(fmt_picker);\n",
       "    nav_element.append(fmt_picker_span);\n",
       "    this.format_dropdown = fmt_picker[0];\n",
       "\n",
       "    for (var ind in mpl.extensions) {\n",
       "        var fmt = mpl.extensions[ind];\n",
       "        var option = $(\n",
       "            '<option/>', {selected: fmt === mpl.default_extension}).html(fmt);\n",
       "        fmt_picker.append(option)\n",
       "    }\n",
       "\n",
       "    // Add hover states to the ui-buttons\n",
       "    $( \".ui-button\" ).hover(\n",
       "        function() { $(this).addClass(\"ui-state-hover\");},\n",
       "        function() { $(this).removeClass(\"ui-state-hover\");}\n",
       "    );\n",
       "\n",
       "    var status_bar = $('<span class=\"mpl-message\"/>');\n",
       "    nav_element.append(status_bar);\n",
       "    this.message = status_bar[0];\n",
       "}\n",
       "\n",
       "mpl.figure.prototype.request_resize = function(x_pixels, y_pixels) {\n",
       "    // Request matplotlib to resize the figure. Matplotlib will then trigger a resize in the client,\n",
       "    // which will in turn request a refresh of the image.\n",
       "    this.send_message('resize', {'width': x_pixels, 'height': y_pixels});\n",
       "}\n",
       "\n",
       "mpl.figure.prototype.send_message = function(type, properties) {\n",
       "    properties['type'] = type;\n",
       "    properties['figure_id'] = this.id;\n",
       "    this.ws.send(JSON.stringify(properties));\n",
       "}\n",
       "\n",
       "mpl.figure.prototype.send_draw_message = function() {\n",
       "    if (!this.waiting) {\n",
       "        this.waiting = true;\n",
       "        this.ws.send(JSON.stringify({type: \"draw\", figure_id: this.id}));\n",
       "    }\n",
       "}\n",
       "\n",
       "\n",
       "mpl.figure.prototype.handle_save = function(fig, msg) {\n",
       "    var format_dropdown = fig.format_dropdown;\n",
       "    var format = format_dropdown.options[format_dropdown.selectedIndex].value;\n",
       "    fig.ondownload(fig, format);\n",
       "}\n",
       "\n",
       "\n",
       "mpl.figure.prototype.handle_resize = function(fig, msg) {\n",
       "    var size = msg['size'];\n",
       "    if (size[0] != fig.canvas.width || size[1] != fig.canvas.height) {\n",
       "        fig._resize_canvas(size[0], size[1]);\n",
       "        fig.send_message(\"refresh\", {});\n",
       "    };\n",
       "}\n",
       "\n",
       "mpl.figure.prototype.handle_rubberband = function(fig, msg) {\n",
       "    var x0 = msg['x0'] / mpl.ratio;\n",
       "    var y0 = (fig.canvas.height - msg['y0']) / mpl.ratio;\n",
       "    var x1 = msg['x1'] / mpl.ratio;\n",
       "    var y1 = (fig.canvas.height - msg['y1']) / mpl.ratio;\n",
       "    x0 = Math.floor(x0) + 0.5;\n",
       "    y0 = Math.floor(y0) + 0.5;\n",
       "    x1 = Math.floor(x1) + 0.5;\n",
       "    y1 = Math.floor(y1) + 0.5;\n",
       "    var min_x = Math.min(x0, x1);\n",
       "    var min_y = Math.min(y0, y1);\n",
       "    var width = Math.abs(x1 - x0);\n",
       "    var height = Math.abs(y1 - y0);\n",
       "\n",
       "    fig.rubberband_context.clearRect(\n",
       "        0, 0, fig.canvas.width, fig.canvas.height);\n",
       "\n",
       "    fig.rubberband_context.strokeRect(min_x, min_y, width, height);\n",
       "}\n",
       "\n",
       "mpl.figure.prototype.handle_figure_label = function(fig, msg) {\n",
       "    // Updates the figure title.\n",
       "    fig.header.textContent = msg['label'];\n",
       "}\n",
       "\n",
       "mpl.figure.prototype.handle_cursor = function(fig, msg) {\n",
       "    var cursor = msg['cursor'];\n",
       "    switch(cursor)\n",
       "    {\n",
       "    case 0:\n",
       "        cursor = 'pointer';\n",
       "        break;\n",
       "    case 1:\n",
       "        cursor = 'default';\n",
       "        break;\n",
       "    case 2:\n",
       "        cursor = 'crosshair';\n",
       "        break;\n",
       "    case 3:\n",
       "        cursor = 'move';\n",
       "        break;\n",
       "    }\n",
       "    fig.rubberband_canvas.style.cursor = cursor;\n",
       "}\n",
       "\n",
       "mpl.figure.prototype.handle_message = function(fig, msg) {\n",
       "    fig.message.textContent = msg['message'];\n",
       "}\n",
       "\n",
       "mpl.figure.prototype.handle_draw = function(fig, msg) {\n",
       "    // Request the server to send over a new figure.\n",
       "    fig.send_draw_message();\n",
       "}\n",
       "\n",
       "mpl.figure.prototype.handle_image_mode = function(fig, msg) {\n",
       "    fig.image_mode = msg['mode'];\n",
       "}\n",
       "\n",
       "mpl.figure.prototype.updated_canvas_event = function() {\n",
       "    // Called whenever the canvas gets updated.\n",
       "    this.send_message(\"ack\", {});\n",
       "}\n",
       "\n",
       "// A function to construct a web socket function for onmessage handling.\n",
       "// Called in the figure constructor.\n",
       "mpl.figure.prototype._make_on_message_function = function(fig) {\n",
       "    return function socket_on_message(evt) {\n",
       "        if (evt.data instanceof Blob) {\n",
       "            /* FIXME: We get \"Resource interpreted as Image but\n",
       "             * transferred with MIME type text/plain:\" errors on\n",
       "             * Chrome.  But how to set the MIME type?  It doesn't seem\n",
       "             * to be part of the websocket stream */\n",
       "            evt.data.type = \"image/png\";\n",
       "\n",
       "            /* Free the memory for the previous frames */\n",
       "            if (fig.imageObj.src) {\n",
       "                (window.URL || window.webkitURL).revokeObjectURL(\n",
       "                    fig.imageObj.src);\n",
       "            }\n",
       "\n",
       "            fig.imageObj.src = (window.URL || window.webkitURL).createObjectURL(\n",
       "                evt.data);\n",
       "            fig.updated_canvas_event();\n",
       "            fig.waiting = false;\n",
       "            return;\n",
       "        }\n",
       "        else if (typeof evt.data === 'string' && evt.data.slice(0, 21) == \"data:image/png;base64\") {\n",
       "            fig.imageObj.src = evt.data;\n",
       "            fig.updated_canvas_event();\n",
       "            fig.waiting = false;\n",
       "            return;\n",
       "        }\n",
       "\n",
       "        var msg = JSON.parse(evt.data);\n",
       "        var msg_type = msg['type'];\n",
       "\n",
       "        // Call the  \"handle_{type}\" callback, which takes\n",
       "        // the figure and JSON message as its only arguments.\n",
       "        try {\n",
       "            var callback = fig[\"handle_\" + msg_type];\n",
       "        } catch (e) {\n",
       "            console.log(\"No handler for the '\" + msg_type + \"' message type: \", msg);\n",
       "            return;\n",
       "        }\n",
       "\n",
       "        if (callback) {\n",
       "            try {\n",
       "                // console.log(\"Handling '\" + msg_type + \"' message: \", msg);\n",
       "                callback(fig, msg);\n",
       "            } catch (e) {\n",
       "                console.log(\"Exception inside the 'handler_\" + msg_type + \"' callback:\", e, e.stack, msg);\n",
       "            }\n",
       "        }\n",
       "    };\n",
       "}\n",
       "\n",
       "// from http://stackoverflow.com/questions/1114465/getting-mouse-location-in-canvas\n",
       "mpl.findpos = function(e) {\n",
       "    //this section is from http://www.quirksmode.org/js/events_properties.html\n",
       "    var targ;\n",
       "    if (!e)\n",
       "        e = window.event;\n",
       "    if (e.target)\n",
       "        targ = e.target;\n",
       "    else if (e.srcElement)\n",
       "        targ = e.srcElement;\n",
       "    if (targ.nodeType == 3) // defeat Safari bug\n",
       "        targ = targ.parentNode;\n",
       "\n",
       "    // jQuery normalizes the pageX and pageY\n",
       "    // pageX,Y are the mouse positions relative to the document\n",
       "    // offset() returns the position of the element relative to the document\n",
       "    var x = e.pageX - $(targ).offset().left;\n",
       "    var y = e.pageY - $(targ).offset().top;\n",
       "\n",
       "    return {\"x\": x, \"y\": y};\n",
       "};\n",
       "\n",
       "/*\n",
       " * return a copy of an object with only non-object keys\n",
       " * we need this to avoid circular references\n",
       " * http://stackoverflow.com/a/24161582/3208463\n",
       " */\n",
       "function simpleKeys (original) {\n",
       "  return Object.keys(original).reduce(function (obj, key) {\n",
       "    if (typeof original[key] !== 'object')\n",
       "        obj[key] = original[key]\n",
       "    return obj;\n",
       "  }, {});\n",
       "}\n",
       "\n",
       "mpl.figure.prototype.mouse_event = function(event, name) {\n",
       "    var canvas_pos = mpl.findpos(event)\n",
       "\n",
       "    if (name === 'button_press')\n",
       "    {\n",
       "        this.canvas.focus();\n",
       "        this.canvas_div.focus();\n",
       "    }\n",
       "\n",
       "    var x = canvas_pos.x * mpl.ratio;\n",
       "    var y = canvas_pos.y * mpl.ratio;\n",
       "\n",
       "    this.send_message(name, {x: x, y: y, button: event.button,\n",
       "                             step: event.step,\n",
       "                             guiEvent: simpleKeys(event)});\n",
       "\n",
       "    /* This prevents the web browser from automatically changing to\n",
       "     * the text insertion cursor when the button is pressed.  We want\n",
       "     * to control all of the cursor setting manually through the\n",
       "     * 'cursor' event from matplotlib */\n",
       "    event.preventDefault();\n",
       "    return false;\n",
       "}\n",
       "\n",
       "mpl.figure.prototype._key_event_extra = function(event, name) {\n",
       "    // Handle any extra behaviour associated with a key event\n",
       "}\n",
       "\n",
       "mpl.figure.prototype.key_event = function(event, name) {\n",
       "\n",
       "    // Prevent repeat events\n",
       "    if (name == 'key_press')\n",
       "    {\n",
       "        if (event.which === this._key)\n",
       "            return;\n",
       "        else\n",
       "            this._key = event.which;\n",
       "    }\n",
       "    if (name == 'key_release')\n",
       "        this._key = null;\n",
       "\n",
       "    var value = '';\n",
       "    if (event.ctrlKey && event.which != 17)\n",
       "        value += \"ctrl+\";\n",
       "    if (event.altKey && event.which != 18)\n",
       "        value += \"alt+\";\n",
       "    if (event.shiftKey && event.which != 16)\n",
       "        value += \"shift+\";\n",
       "\n",
       "    value += 'k';\n",
       "    value += event.which.toString();\n",
       "\n",
       "    this._key_event_extra(event, name);\n",
       "\n",
       "    this.send_message(name, {key: value,\n",
       "                             guiEvent: simpleKeys(event)});\n",
       "    return false;\n",
       "}\n",
       "\n",
       "mpl.figure.prototype.toolbar_button_onclick = function(name) {\n",
       "    if (name == 'download') {\n",
       "        this.handle_save(this, null);\n",
       "    } else {\n",
       "        this.send_message(\"toolbar_button\", {name: name});\n",
       "    }\n",
       "};\n",
       "\n",
       "mpl.figure.prototype.toolbar_button_onmouseover = function(tooltip) {\n",
       "    this.message.textContent = tooltip;\n",
       "};\n",
       "mpl.toolbar_items = [[\"Home\", \"Reset original view\", \"fa fa-home icon-home\", \"home\"], [\"Back\", \"Back to  previous view\", \"fa fa-arrow-left icon-arrow-left\", \"back\"], [\"Forward\", \"Forward to next view\", \"fa fa-arrow-right icon-arrow-right\", \"forward\"], [\"\", \"\", \"\", \"\"], [\"Pan\", \"Pan axes with left mouse, zoom with right\", \"fa fa-arrows icon-move\", \"pan\"], [\"Zoom\", \"Zoom to rectangle\", \"fa fa-square-o icon-check-empty\", \"zoom\"], [\"\", \"\", \"\", \"\"], [\"Download\", \"Download plot\", \"fa fa-floppy-o icon-save\", \"download\"]];\n",
       "\n",
       "mpl.extensions = [\"eps\", \"jpeg\", \"pdf\", \"png\", \"ps\", \"raw\", \"svg\", \"tif\"];\n",
       "\n",
       "mpl.default_extension = \"png\";var comm_websocket_adapter = function(comm) {\n",
       "    // Create a \"websocket\"-like object which calls the given IPython comm\n",
       "    // object with the appropriate methods. Currently this is a non binary\n",
       "    // socket, so there is still some room for performance tuning.\n",
       "    var ws = {};\n",
       "\n",
       "    ws.close = function() {\n",
       "        comm.close()\n",
       "    };\n",
       "    ws.send = function(m) {\n",
       "        //console.log('sending', m);\n",
       "        comm.send(m);\n",
       "    };\n",
       "    // Register the callback with on_msg.\n",
       "    comm.on_msg(function(msg) {\n",
       "        //console.log('receiving', msg['content']['data'], msg);\n",
       "        // Pass the mpl event to the overriden (by mpl) onmessage function.\n",
       "        ws.onmessage(msg['content']['data'])\n",
       "    });\n",
       "    return ws;\n",
       "}\n",
       "\n",
       "mpl.mpl_figure_comm = function(comm, msg) {\n",
       "    // This is the function which gets called when the mpl process\n",
       "    // starts-up an IPython Comm through the \"matplotlib\" channel.\n",
       "\n",
       "    var id = msg.content.data.id;\n",
       "    // Get hold of the div created by the display call when the Comm\n",
       "    // socket was opened in Python.\n",
       "    var element = $(\"#\" + id);\n",
       "    var ws_proxy = comm_websocket_adapter(comm)\n",
       "\n",
       "    function ondownload(figure, format) {\n",
       "        window.open(figure.imageObj.src);\n",
       "    }\n",
       "\n",
       "    var fig = new mpl.figure(id, ws_proxy,\n",
       "                           ondownload,\n",
       "                           element.get(0));\n",
       "\n",
       "    // Call onopen now - mpl needs it, as it is assuming we've passed it a real\n",
       "    // web socket which is closed, not our websocket->open comm proxy.\n",
       "    ws_proxy.onopen();\n",
       "\n",
       "    fig.parent_element = element.get(0);\n",
       "    fig.cell_info = mpl.find_output_cell(\"<div id='\" + id + \"'></div>\");\n",
       "    if (!fig.cell_info) {\n",
       "        console.error(\"Failed to find cell for figure\", id, fig);\n",
       "        return;\n",
       "    }\n",
       "\n",
       "    var output_index = fig.cell_info[2]\n",
       "    var cell = fig.cell_info[0];\n",
       "\n",
       "};\n",
       "\n",
       "mpl.figure.prototype.handle_close = function(fig, msg) {\n",
       "    var width = fig.canvas.width/mpl.ratio\n",
       "    fig.root.unbind('remove')\n",
       "\n",
       "    // Update the output cell to use the data from the current canvas.\n",
       "    fig.push_to_output();\n",
       "    var dataURL = fig.canvas.toDataURL();\n",
       "    // Re-enable the keyboard manager in IPython - without this line, in FF,\n",
       "    // the notebook keyboard shortcuts fail.\n",
       "    IPython.keyboard_manager.enable()\n",
       "    $(fig.parent_element).html('<img src=\"' + dataURL + '\" width=\"' + width + '\">');\n",
       "    fig.close_ws(fig, msg);\n",
       "}\n",
       "\n",
       "mpl.figure.prototype.close_ws = function(fig, msg){\n",
       "    fig.send_message('closing', msg);\n",
       "    // fig.ws.close()\n",
       "}\n",
       "\n",
       "mpl.figure.prototype.push_to_output = function(remove_interactive) {\n",
       "    // Turn the data on the canvas into data in the output cell.\n",
       "    var width = this.canvas.width/mpl.ratio\n",
       "    var dataURL = this.canvas.toDataURL();\n",
       "    this.cell_info[1]['text/html'] = '<img src=\"' + dataURL + '\" width=\"' + width + '\">';\n",
       "}\n",
       "\n",
       "mpl.figure.prototype.updated_canvas_event = function() {\n",
       "    // Tell IPython that the notebook contents must change.\n",
       "    IPython.notebook.set_dirty(true);\n",
       "    this.send_message(\"ack\", {});\n",
       "    var fig = this;\n",
       "    // Wait a second, then push the new image to the DOM so\n",
       "    // that it is saved nicely (might be nice to debounce this).\n",
       "    setTimeout(function () { fig.push_to_output() }, 1000);\n",
       "}\n",
       "\n",
       "mpl.figure.prototype._init_toolbar = function() {\n",
       "    var fig = this;\n",
       "\n",
       "    var nav_element = $('<div/>')\n",
       "    nav_element.attr('style', 'width: 100%');\n",
       "    this.root.append(nav_element);\n",
       "\n",
       "    // Define a callback function for later on.\n",
       "    function toolbar_event(event) {\n",
       "        return fig.toolbar_button_onclick(event['data']);\n",
       "    }\n",
       "    function toolbar_mouse_event(event) {\n",
       "        return fig.toolbar_button_onmouseover(event['data']);\n",
       "    }\n",
       "\n",
       "    for(var toolbar_ind in mpl.toolbar_items){\n",
       "        var name = mpl.toolbar_items[toolbar_ind][0];\n",
       "        var tooltip = mpl.toolbar_items[toolbar_ind][1];\n",
       "        var image = mpl.toolbar_items[toolbar_ind][2];\n",
       "        var method_name = mpl.toolbar_items[toolbar_ind][3];\n",
       "\n",
       "        if (!name) { continue; };\n",
       "\n",
       "        var button = $('<button class=\"btn btn-default\" href=\"#\" title=\"' + name + '\"><i class=\"fa ' + image + ' fa-lg\"></i></button>');\n",
       "        button.click(method_name, toolbar_event);\n",
       "        button.mouseover(tooltip, toolbar_mouse_event);\n",
       "        nav_element.append(button);\n",
       "    }\n",
       "\n",
       "    // Add the status bar.\n",
       "    var status_bar = $('<span class=\"mpl-message\" style=\"text-align:right; float: right;\"/>');\n",
       "    nav_element.append(status_bar);\n",
       "    this.message = status_bar[0];\n",
       "\n",
       "    // Add the close button to the window.\n",
       "    var buttongrp = $('<div class=\"btn-group inline pull-right\"></div>');\n",
       "    var button = $('<button class=\"btn btn-mini btn-primary\" href=\"#\" title=\"Stop Interaction\"><i class=\"fa fa-power-off icon-remove icon-large\"></i></button>');\n",
       "    button.click(function (evt) { fig.handle_close(fig, {}); } );\n",
       "    button.mouseover('Stop Interaction', toolbar_mouse_event);\n",
       "    buttongrp.append(button);\n",
       "    var titlebar = this.root.find($('.ui-dialog-titlebar'));\n",
       "    titlebar.prepend(buttongrp);\n",
       "}\n",
       "\n",
       "mpl.figure.prototype._root_extra_style = function(el){\n",
       "    var fig = this\n",
       "    el.on(\"remove\", function(){\n",
       "\tfig.close_ws(fig, {});\n",
       "    });\n",
       "}\n",
       "\n",
       "mpl.figure.prototype._canvas_extra_style = function(el){\n",
       "    // this is important to make the div 'focusable\n",
       "    el.attr('tabindex', 0)\n",
       "    // reach out to IPython and tell the keyboard manager to turn it's self\n",
       "    // off when our div gets focus\n",
       "\n",
       "    // location in version 3\n",
       "    if (IPython.notebook.keyboard_manager) {\n",
       "        IPython.notebook.keyboard_manager.register_events(el);\n",
       "    }\n",
       "    else {\n",
       "        // location in version 2\n",
       "        IPython.keyboard_manager.register_events(el);\n",
       "    }\n",
       "\n",
       "}\n",
       "\n",
       "mpl.figure.prototype._key_event_extra = function(event, name) {\n",
       "    var manager = IPython.notebook.keyboard_manager;\n",
       "    if (!manager)\n",
       "        manager = IPython.keyboard_manager;\n",
       "\n",
       "    // Check for shift+enter\n",
       "    if (event.shiftKey && event.which == 13) {\n",
       "        this.canvas_div.blur();\n",
       "        // select the cell after this one\n",
       "        var index = IPython.notebook.find_cell_index(this.cell_info[0]);\n",
       "        IPython.notebook.select(index + 1);\n",
       "    }\n",
       "}\n",
       "\n",
       "mpl.figure.prototype.handle_save = function(fig, msg) {\n",
       "    fig.ondownload(fig, null);\n",
       "}\n",
       "\n",
       "\n",
       "mpl.find_output_cell = function(html_output) {\n",
       "    // Return the cell and output element which can be found *uniquely* in the notebook.\n",
       "    // Note - this is a bit hacky, but it is done because the \"notebook_saving.Notebook\"\n",
       "    // IPython event is triggered only after the cells have been serialised, which for\n",
       "    // our purposes (turning an active figure into a static one), is too late.\n",
       "    var cells = IPython.notebook.get_cells();\n",
       "    var ncells = cells.length;\n",
       "    for (var i=0; i<ncells; i++) {\n",
       "        var cell = cells[i];\n",
       "        if (cell.cell_type === 'code'){\n",
       "            for (var j=0; j<cell.output_area.outputs.length; j++) {\n",
       "                var data = cell.output_area.outputs[j];\n",
       "                if (data.data) {\n",
       "                    // IPython >= 3 moved mimebundle to data attribute of output\n",
       "                    data = data.data;\n",
       "                }\n",
       "                if (data['text/html'] == html_output) {\n",
       "                    return [cell, data, j];\n",
       "                }\n",
       "            }\n",
       "        }\n",
       "    }\n",
       "}\n",
       "\n",
       "// Register the function which deals with the matplotlib target/channel.\n",
       "// The kernel may be null if the page has been refreshed.\n",
       "if (IPython.notebook.kernel != null) {\n",
       "    IPython.notebook.kernel.comm_manager.register_target('matplotlib', mpl.mpl_figure_comm);\n",
       "}\n"
      ],
      "text/plain": [
       "<IPython.core.display.Javascript object>"
      ]
     },
     "metadata": {},
     "output_type": "display_data"
    },
    {
     "data": {
      "text/html": [
       "<img src=\"data:image/png;base64,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\" width=\"432\">"
      ],
      "text/plain": [
       "<IPython.core.display.HTML object>"
      ]
     },
     "metadata": {},
     "output_type": "display_data"
    },
    {
     "data": {
      "text/plain": [
       "[<matplotlib.lines.Line2D at 0x11a65af28>]"
      ]
     },
     "execution_count": 31,
     "metadata": {},
     "output_type": "execute_result"
    },
    {
     "data": {
      "application/javascript": [
       "/* Put everything inside the global mpl namespace */\n",
       "window.mpl = {};\n",
       "\n",
       "\n",
       "mpl.get_websocket_type = function() {\n",
       "    if (typeof(WebSocket) !== 'undefined') {\n",
       "        return WebSocket;\n",
       "    } else if (typeof(MozWebSocket) !== 'undefined') {\n",
       "        return MozWebSocket;\n",
       "    } else {\n",
       "        alert('Your browser does not have WebSocket support.' +\n",
       "              'Please try Chrome, Safari or Firefox ≥ 6. ' +\n",
       "              'Firefox 4 and 5 are also supported but you ' +\n",
       "              'have to enable WebSockets in about:config.');\n",
       "    };\n",
       "}\n",
       "\n",
       "mpl.figure = function(figure_id, websocket, ondownload, parent_element) {\n",
       "    this.id = figure_id;\n",
       "\n",
       "    this.ws = websocket;\n",
       "\n",
       "    this.supports_binary = (this.ws.binaryType != undefined);\n",
       "\n",
       "    if (!this.supports_binary) {\n",
       "        var warnings = document.getElementById(\"mpl-warnings\");\n",
       "        if (warnings) {\n",
       "            warnings.style.display = 'block';\n",
       "            warnings.textContent = (\n",
       "                \"This browser does not support binary websocket messages. \" +\n",
       "                    \"Performance may be slow.\");\n",
       "        }\n",
       "    }\n",
       "\n",
       "    this.imageObj = new Image();\n",
       "\n",
       "    this.context = undefined;\n",
       "    this.message = undefined;\n",
       "    this.canvas = undefined;\n",
       "    this.rubberband_canvas = undefined;\n",
       "    this.rubberband_context = undefined;\n",
       "    this.format_dropdown = undefined;\n",
       "\n",
       "    this.image_mode = 'full';\n",
       "\n",
       "    this.root = $('<div/>');\n",
       "    this._root_extra_style(this.root)\n",
       "    this.root.attr('style', 'display: inline-block');\n",
       "\n",
       "    $(parent_element).append(this.root);\n",
       "\n",
       "    this._init_header(this);\n",
       "    this._init_canvas(this);\n",
       "    this._init_toolbar(this);\n",
       "\n",
       "    var fig = this;\n",
       "\n",
       "    this.waiting = false;\n",
       "\n",
       "    this.ws.onopen =  function () {\n",
       "            fig.send_message(\"supports_binary\", {value: fig.supports_binary});\n",
       "            fig.send_message(\"send_image_mode\", {});\n",
       "            if (mpl.ratio != 1) {\n",
       "                fig.send_message(\"set_dpi_ratio\", {'dpi_ratio': mpl.ratio});\n",
       "            }\n",
       "            fig.send_message(\"refresh\", {});\n",
       "        }\n",
       "\n",
       "    this.imageObj.onload = function() {\n",
       "            if (fig.image_mode == 'full') {\n",
       "                // Full images could contain transparency (where diff images\n",
       "                // almost always do), so we need to clear the canvas so that\n",
       "                // there is no ghosting.\n",
       "                fig.context.clearRect(0, 0, fig.canvas.width, fig.canvas.height);\n",
       "            }\n",
       "            fig.context.drawImage(fig.imageObj, 0, 0);\n",
       "        };\n",
       "\n",
       "    this.imageObj.onunload = function() {\n",
       "        this.ws.close();\n",
       "    }\n",
       "\n",
       "    this.ws.onmessage = this._make_on_message_function(this);\n",
       "\n",
       "    this.ondownload = ondownload;\n",
       "}\n",
       "\n",
       "mpl.figure.prototype._init_header = function() {\n",
       "    var titlebar = $(\n",
       "        '<div class=\"ui-dialog-titlebar ui-widget-header ui-corner-all ' +\n",
       "        'ui-helper-clearfix\"/>');\n",
       "    var titletext = $(\n",
       "        '<div class=\"ui-dialog-title\" style=\"width: 100%; ' +\n",
       "        'text-align: center; padding: 3px;\"/>');\n",
       "    titlebar.append(titletext)\n",
       "    this.root.append(titlebar);\n",
       "    this.header = titletext[0];\n",
       "}\n",
       "\n",
       "\n",
       "\n",
       "mpl.figure.prototype._canvas_extra_style = function(canvas_div) {\n",
       "\n",
       "}\n",
       "\n",
       "\n",
       "mpl.figure.prototype._root_extra_style = function(canvas_div) {\n",
       "\n",
       "}\n",
       "\n",
       "mpl.figure.prototype._init_canvas = function() {\n",
       "    var fig = this;\n",
       "\n",
       "    var canvas_div = $('<div/>');\n",
       "\n",
       "    canvas_div.attr('style', 'position: relative; clear: both; outline: 0');\n",
       "\n",
       "    function canvas_keyboard_event(event) {\n",
       "        return fig.key_event(event, event['data']);\n",
       "    }\n",
       "\n",
       "    canvas_div.keydown('key_press', canvas_keyboard_event);\n",
       "    canvas_div.keyup('key_release', canvas_keyboard_event);\n",
       "    this.canvas_div = canvas_div\n",
       "    this._canvas_extra_style(canvas_div)\n",
       "    this.root.append(canvas_div);\n",
       "\n",
       "    var canvas = $('<canvas/>');\n",
       "    canvas.addClass('mpl-canvas');\n",
       "    canvas.attr('style', \"left: 0; top: 0; z-index: 0; outline: 0\")\n",
       "\n",
       "    this.canvas = canvas[0];\n",
       "    this.context = canvas[0].getContext(\"2d\");\n",
       "\n",
       "    var backingStore = this.context.backingStorePixelRatio ||\n",
       "\tthis.context.webkitBackingStorePixelRatio ||\n",
       "\tthis.context.mozBackingStorePixelRatio ||\n",
       "\tthis.context.msBackingStorePixelRatio ||\n",
       "\tthis.context.oBackingStorePixelRatio ||\n",
       "\tthis.context.backingStorePixelRatio || 1;\n",
       "\n",
       "    mpl.ratio = (window.devicePixelRatio || 1) / backingStore;\n",
       "\n",
       "    var rubberband = $('<canvas/>');\n",
       "    rubberband.attr('style', \"position: absolute; left: 0; top: 0; z-index: 1;\")\n",
       "\n",
       "    var pass_mouse_events = true;\n",
       "\n",
       "    canvas_div.resizable({\n",
       "        start: function(event, ui) {\n",
       "            pass_mouse_events = false;\n",
       "        },\n",
       "        resize: function(event, ui) {\n",
       "            fig.request_resize(ui.size.width, ui.size.height);\n",
       "        },\n",
       "        stop: function(event, ui) {\n",
       "            pass_mouse_events = true;\n",
       "            fig.request_resize(ui.size.width, ui.size.height);\n",
       "        },\n",
       "    });\n",
       "\n",
       "    function mouse_event_fn(event) {\n",
       "        if (pass_mouse_events)\n",
       "            return fig.mouse_event(event, event['data']);\n",
       "    }\n",
       "\n",
       "    rubberband.mousedown('button_press', mouse_event_fn);\n",
       "    rubberband.mouseup('button_release', mouse_event_fn);\n",
       "    // Throttle sequential mouse events to 1 every 20ms.\n",
       "    rubberband.mousemove('motion_notify', mouse_event_fn);\n",
       "\n",
       "    rubberband.mouseenter('figure_enter', mouse_event_fn);\n",
       "    rubberband.mouseleave('figure_leave', mouse_event_fn);\n",
       "\n",
       "    canvas_div.on(\"wheel\", function (event) {\n",
       "        event = event.originalEvent;\n",
       "        event['data'] = 'scroll'\n",
       "        if (event.deltaY < 0) {\n",
       "            event.step = 1;\n",
       "        } else {\n",
       "            event.step = -1;\n",
       "        }\n",
       "        mouse_event_fn(event);\n",
       "    });\n",
       "\n",
       "    canvas_div.append(canvas);\n",
       "    canvas_div.append(rubberband);\n",
       "\n",
       "    this.rubberband = rubberband;\n",
       "    this.rubberband_canvas = rubberband[0];\n",
       "    this.rubberband_context = rubberband[0].getContext(\"2d\");\n",
       "    this.rubberband_context.strokeStyle = \"#000000\";\n",
       "\n",
       "    this._resize_canvas = function(width, height) {\n",
       "        // Keep the size of the canvas, canvas container, and rubber band\n",
       "        // canvas in synch.\n",
       "        canvas_div.css('width', width)\n",
       "        canvas_div.css('height', height)\n",
       "\n",
       "        canvas.attr('width', width * mpl.ratio);\n",
       "        canvas.attr('height', height * mpl.ratio);\n",
       "        canvas.attr('style', 'width: ' + width + 'px; height: ' + height + 'px;');\n",
       "\n",
       "        rubberband.attr('width', width);\n",
       "        rubberband.attr('height', height);\n",
       "    }\n",
       "\n",
       "    // Set the figure to an initial 600x600px, this will subsequently be updated\n",
       "    // upon first draw.\n",
       "    this._resize_canvas(600, 600);\n",
       "\n",
       "    // Disable right mouse context menu.\n",
       "    $(this.rubberband_canvas).bind(\"contextmenu\",function(e){\n",
       "        return false;\n",
       "    });\n",
       "\n",
       "    function set_focus () {\n",
       "        canvas.focus();\n",
       "        canvas_div.focus();\n",
       "    }\n",
       "\n",
       "    window.setTimeout(set_focus, 100);\n",
       "}\n",
       "\n",
       "mpl.figure.prototype._init_toolbar = function() {\n",
       "    var fig = this;\n",
       "\n",
       "    var nav_element = $('<div/>')\n",
       "    nav_element.attr('style', 'width: 100%');\n",
       "    this.root.append(nav_element);\n",
       "\n",
       "    // Define a callback function for later on.\n",
       "    function toolbar_event(event) {\n",
       "        return fig.toolbar_button_onclick(event['data']);\n",
       "    }\n",
       "    function toolbar_mouse_event(event) {\n",
       "        return fig.toolbar_button_onmouseover(event['data']);\n",
       "    }\n",
       "\n",
       "    for(var toolbar_ind in mpl.toolbar_items) {\n",
       "        var name = mpl.toolbar_items[toolbar_ind][0];\n",
       "        var tooltip = mpl.toolbar_items[toolbar_ind][1];\n",
       "        var image = mpl.toolbar_items[toolbar_ind][2];\n",
       "        var method_name = mpl.toolbar_items[toolbar_ind][3];\n",
       "\n",
       "        if (!name) {\n",
       "            // put a spacer in here.\n",
       "            continue;\n",
       "        }\n",
       "        var button = $('<button/>');\n",
       "        button.addClass('ui-button ui-widget ui-state-default ui-corner-all ' +\n",
       "                        'ui-button-icon-only');\n",
       "        button.attr('role', 'button');\n",
       "        button.attr('aria-disabled', 'false');\n",
       "        button.click(method_name, toolbar_event);\n",
       "        button.mouseover(tooltip, toolbar_mouse_event);\n",
       "\n",
       "        var icon_img = $('<span/>');\n",
       "        icon_img.addClass('ui-button-icon-primary ui-icon');\n",
       "        icon_img.addClass(image);\n",
       "        icon_img.addClass('ui-corner-all');\n",
       "\n",
       "        var tooltip_span = $('<span/>');\n",
       "        tooltip_span.addClass('ui-button-text');\n",
       "        tooltip_span.html(tooltip);\n",
       "\n",
       "        button.append(icon_img);\n",
       "        button.append(tooltip_span);\n",
       "\n",
       "        nav_element.append(button);\n",
       "    }\n",
       "\n",
       "    var fmt_picker_span = $('<span/>');\n",
       "\n",
       "    var fmt_picker = $('<select/>');\n",
       "    fmt_picker.addClass('mpl-toolbar-option ui-widget ui-widget-content');\n",
       "    fmt_picker_span.append(fmt_picker);\n",
       "    nav_element.append(fmt_picker_span);\n",
       "    this.format_dropdown = fmt_picker[0];\n",
       "\n",
       "    for (var ind in mpl.extensions) {\n",
       "        var fmt = mpl.extensions[ind];\n",
       "        var option = $(\n",
       "            '<option/>', {selected: fmt === mpl.default_extension}).html(fmt);\n",
       "        fmt_picker.append(option)\n",
       "    }\n",
       "\n",
       "    // Add hover states to the ui-buttons\n",
       "    $( \".ui-button\" ).hover(\n",
       "        function() { $(this).addClass(\"ui-state-hover\");},\n",
       "        function() { $(this).removeClass(\"ui-state-hover\");}\n",
       "    );\n",
       "\n",
       "    var status_bar = $('<span class=\"mpl-message\"/>');\n",
       "    nav_element.append(status_bar);\n",
       "    this.message = status_bar[0];\n",
       "}\n",
       "\n",
       "mpl.figure.prototype.request_resize = function(x_pixels, y_pixels) {\n",
       "    // Request matplotlib to resize the figure. Matplotlib will then trigger a resize in the client,\n",
       "    // which will in turn request a refresh of the image.\n",
       "    this.send_message('resize', {'width': x_pixels, 'height': y_pixels});\n",
       "}\n",
       "\n",
       "mpl.figure.prototype.send_message = function(type, properties) {\n",
       "    properties['type'] = type;\n",
       "    properties['figure_id'] = this.id;\n",
       "    this.ws.send(JSON.stringify(properties));\n",
       "}\n",
       "\n",
       "mpl.figure.prototype.send_draw_message = function() {\n",
       "    if (!this.waiting) {\n",
       "        this.waiting = true;\n",
       "        this.ws.send(JSON.stringify({type: \"draw\", figure_id: this.id}));\n",
       "    }\n",
       "}\n",
       "\n",
       "\n",
       "mpl.figure.prototype.handle_save = function(fig, msg) {\n",
       "    var format_dropdown = fig.format_dropdown;\n",
       "    var format = format_dropdown.options[format_dropdown.selectedIndex].value;\n",
       "    fig.ondownload(fig, format);\n",
       "}\n",
       "\n",
       "\n",
       "mpl.figure.prototype.handle_resize = function(fig, msg) {\n",
       "    var size = msg['size'];\n",
       "    if (size[0] != fig.canvas.width || size[1] != fig.canvas.height) {\n",
       "        fig._resize_canvas(size[0], size[1]);\n",
       "        fig.send_message(\"refresh\", {});\n",
       "    };\n",
       "}\n",
       "\n",
       "mpl.figure.prototype.handle_rubberband = function(fig, msg) {\n",
       "    var x0 = msg['x0'] / mpl.ratio;\n",
       "    var y0 = (fig.canvas.height - msg['y0']) / mpl.ratio;\n",
       "    var x1 = msg['x1'] / mpl.ratio;\n",
       "    var y1 = (fig.canvas.height - msg['y1']) / mpl.ratio;\n",
       "    x0 = Math.floor(x0) + 0.5;\n",
       "    y0 = Math.floor(y0) + 0.5;\n",
       "    x1 = Math.floor(x1) + 0.5;\n",
       "    y1 = Math.floor(y1) + 0.5;\n",
       "    var min_x = Math.min(x0, x1);\n",
       "    var min_y = Math.min(y0, y1);\n",
       "    var width = Math.abs(x1 - x0);\n",
       "    var height = Math.abs(y1 - y0);\n",
       "\n",
       "    fig.rubberband_context.clearRect(\n",
       "        0, 0, fig.canvas.width, fig.canvas.height);\n",
       "\n",
       "    fig.rubberband_context.strokeRect(min_x, min_y, width, height);\n",
       "}\n",
       "\n",
       "mpl.figure.prototype.handle_figure_label = function(fig, msg) {\n",
       "    // Updates the figure title.\n",
       "    fig.header.textContent = msg['label'];\n",
       "}\n",
       "\n",
       "mpl.figure.prototype.handle_cursor = function(fig, msg) {\n",
       "    var cursor = msg['cursor'];\n",
       "    switch(cursor)\n",
       "    {\n",
       "    case 0:\n",
       "        cursor = 'pointer';\n",
       "        break;\n",
       "    case 1:\n",
       "        cursor = 'default';\n",
       "        break;\n",
       "    case 2:\n",
       "        cursor = 'crosshair';\n",
       "        break;\n",
       "    case 3:\n",
       "        cursor = 'move';\n",
       "        break;\n",
       "    }\n",
       "    fig.rubberband_canvas.style.cursor = cursor;\n",
       "}\n",
       "\n",
       "mpl.figure.prototype.handle_message = function(fig, msg) {\n",
       "    fig.message.textContent = msg['message'];\n",
       "}\n",
       "\n",
       "mpl.figure.prototype.handle_draw = function(fig, msg) {\n",
       "    // Request the server to send over a new figure.\n",
       "    fig.send_draw_message();\n",
       "}\n",
       "\n",
       "mpl.figure.prototype.handle_image_mode = function(fig, msg) {\n",
       "    fig.image_mode = msg['mode'];\n",
       "}\n",
       "\n",
       "mpl.figure.prototype.updated_canvas_event = function() {\n",
       "    // Called whenever the canvas gets updated.\n",
       "    this.send_message(\"ack\", {});\n",
       "}\n",
       "\n",
       "// A function to construct a web socket function for onmessage handling.\n",
       "// Called in the figure constructor.\n",
       "mpl.figure.prototype._make_on_message_function = function(fig) {\n",
       "    return function socket_on_message(evt) {\n",
       "        if (evt.data instanceof Blob) {\n",
       "            /* FIXME: We get \"Resource interpreted as Image but\n",
       "             * transferred with MIME type text/plain:\" errors on\n",
       "             * Chrome.  But how to set the MIME type?  It doesn't seem\n",
       "             * to be part of the websocket stream */\n",
       "            evt.data.type = \"image/png\";\n",
       "\n",
       "            /* Free the memory for the previous frames */\n",
       "            if (fig.imageObj.src) {\n",
       "                (window.URL || window.webkitURL).revokeObjectURL(\n",
       "                    fig.imageObj.src);\n",
       "            }\n",
       "\n",
       "            fig.imageObj.src = (window.URL || window.webkitURL).createObjectURL(\n",
       "                evt.data);\n",
       "            fig.updated_canvas_event();\n",
       "            fig.waiting = false;\n",
       "            return;\n",
       "        }\n",
       "        else if (typeof evt.data === 'string' && evt.data.slice(0, 21) == \"data:image/png;base64\") {\n",
       "            fig.imageObj.src = evt.data;\n",
       "            fig.updated_canvas_event();\n",
       "            fig.waiting = false;\n",
       "            return;\n",
       "        }\n",
       "\n",
       "        var msg = JSON.parse(evt.data);\n",
       "        var msg_type = msg['type'];\n",
       "\n",
       "        // Call the  \"handle_{type}\" callback, which takes\n",
       "        // the figure and JSON message as its only arguments.\n",
       "        try {\n",
       "            var callback = fig[\"handle_\" + msg_type];\n",
       "        } catch (e) {\n",
       "            console.log(\"No handler for the '\" + msg_type + \"' message type: \", msg);\n",
       "            return;\n",
       "        }\n",
       "\n",
       "        if (callback) {\n",
       "            try {\n",
       "                // console.log(\"Handling '\" + msg_type + \"' message: \", msg);\n",
       "                callback(fig, msg);\n",
       "            } catch (e) {\n",
       "                console.log(\"Exception inside the 'handler_\" + msg_type + \"' callback:\", e, e.stack, msg);\n",
       "            }\n",
       "        }\n",
       "    };\n",
       "}\n",
       "\n",
       "// from http://stackoverflow.com/questions/1114465/getting-mouse-location-in-canvas\n",
       "mpl.findpos = function(e) {\n",
       "    //this section is from http://www.quirksmode.org/js/events_properties.html\n",
       "    var targ;\n",
       "    if (!e)\n",
       "        e = window.event;\n",
       "    if (e.target)\n",
       "        targ = e.target;\n",
       "    else if (e.srcElement)\n",
       "        targ = e.srcElement;\n",
       "    if (targ.nodeType == 3) // defeat Safari bug\n",
       "        targ = targ.parentNode;\n",
       "\n",
       "    // jQuery normalizes the pageX and pageY\n",
       "    // pageX,Y are the mouse positions relative to the document\n",
       "    // offset() returns the position of the element relative to the document\n",
       "    var x = e.pageX - $(targ).offset().left;\n",
       "    var y = e.pageY - $(targ).offset().top;\n",
       "\n",
       "    return {\"x\": x, \"y\": y};\n",
       "};\n",
       "\n",
       "/*\n",
       " * return a copy of an object with only non-object keys\n",
       " * we need this to avoid circular references\n",
       " * http://stackoverflow.com/a/24161582/3208463\n",
       " */\n",
       "function simpleKeys (original) {\n",
       "  return Object.keys(original).reduce(function (obj, key) {\n",
       "    if (typeof original[key] !== 'object')\n",
       "        obj[key] = original[key]\n",
       "    return obj;\n",
       "  }, {});\n",
       "}\n",
       "\n",
       "mpl.figure.prototype.mouse_event = function(event, name) {\n",
       "    var canvas_pos = mpl.findpos(event)\n",
       "\n",
       "    if (name === 'button_press')\n",
       "    {\n",
       "        this.canvas.focus();\n",
       "        this.canvas_div.focus();\n",
       "    }\n",
       "\n",
       "    var x = canvas_pos.x * mpl.ratio;\n",
       "    var y = canvas_pos.y * mpl.ratio;\n",
       "\n",
       "    this.send_message(name, {x: x, y: y, button: event.button,\n",
       "                             step: event.step,\n",
       "                             guiEvent: simpleKeys(event)});\n",
       "\n",
       "    /* This prevents the web browser from automatically changing to\n",
       "     * the text insertion cursor when the button is pressed.  We want\n",
       "     * to control all of the cursor setting manually through the\n",
       "     * 'cursor' event from matplotlib */\n",
       "    event.preventDefault();\n",
       "    return false;\n",
       "}\n",
       "\n",
       "mpl.figure.prototype._key_event_extra = function(event, name) {\n",
       "    // Handle any extra behaviour associated with a key event\n",
       "}\n",
       "\n",
       "mpl.figure.prototype.key_event = function(event, name) {\n",
       "\n",
       "    // Prevent repeat events\n",
       "    if (name == 'key_press')\n",
       "    {\n",
       "        if (event.which === this._key)\n",
       "            return;\n",
       "        else\n",
       "            this._key = event.which;\n",
       "    }\n",
       "    if (name == 'key_release')\n",
       "        this._key = null;\n",
       "\n",
       "    var value = '';\n",
       "    if (event.ctrlKey && event.which != 17)\n",
       "        value += \"ctrl+\";\n",
       "    if (event.altKey && event.which != 18)\n",
       "        value += \"alt+\";\n",
       "    if (event.shiftKey && event.which != 16)\n",
       "        value += \"shift+\";\n",
       "\n",
       "    value += 'k';\n",
       "    value += event.which.toString();\n",
       "\n",
       "    this._key_event_extra(event, name);\n",
       "\n",
       "    this.send_message(name, {key: value,\n",
       "                             guiEvent: simpleKeys(event)});\n",
       "    return false;\n",
       "}\n",
       "\n",
       "mpl.figure.prototype.toolbar_button_onclick = function(name) {\n",
       "    if (name == 'download') {\n",
       "        this.handle_save(this, null);\n",
       "    } else {\n",
       "        this.send_message(\"toolbar_button\", {name: name});\n",
       "    }\n",
       "};\n",
       "\n",
       "mpl.figure.prototype.toolbar_button_onmouseover = function(tooltip) {\n",
       "    this.message.textContent = tooltip;\n",
       "};\n",
       "mpl.toolbar_items = [[\"Home\", \"Reset original view\", \"fa fa-home icon-home\", \"home\"], [\"Back\", \"Back to  previous view\", \"fa fa-arrow-left icon-arrow-left\", \"back\"], [\"Forward\", \"Forward to next view\", \"fa fa-arrow-right icon-arrow-right\", \"forward\"], [\"\", \"\", \"\", \"\"], [\"Pan\", \"Pan axes with left mouse, zoom with right\", \"fa fa-arrows icon-move\", \"pan\"], [\"Zoom\", \"Zoom to rectangle\", \"fa fa-square-o icon-check-empty\", \"zoom\"], [\"\", \"\", \"\", \"\"], [\"Download\", \"Download plot\", \"fa fa-floppy-o icon-save\", \"download\"]];\n",
       "\n",
       "mpl.extensions = [\"eps\", \"jpeg\", \"pdf\", \"png\", \"ps\", \"raw\", \"svg\", \"tif\"];\n",
       "\n",
       "mpl.default_extension = \"png\";var comm_websocket_adapter = function(comm) {\n",
       "    // Create a \"websocket\"-like object which calls the given IPython comm\n",
       "    // object with the appropriate methods. Currently this is a non binary\n",
       "    // socket, so there is still some room for performance tuning.\n",
       "    var ws = {};\n",
       "\n",
       "    ws.close = function() {\n",
       "        comm.close()\n",
       "    };\n",
       "    ws.send = function(m) {\n",
       "        //console.log('sending', m);\n",
       "        comm.send(m);\n",
       "    };\n",
       "    // Register the callback with on_msg.\n",
       "    comm.on_msg(function(msg) {\n",
       "        //console.log('receiving', msg['content']['data'], msg);\n",
       "        // Pass the mpl event to the overriden (by mpl) onmessage function.\n",
       "        ws.onmessage(msg['content']['data'])\n",
       "    });\n",
       "    return ws;\n",
       "}\n",
       "\n",
       "mpl.mpl_figure_comm = function(comm, msg) {\n",
       "    // This is the function which gets called when the mpl process\n",
       "    // starts-up an IPython Comm through the \"matplotlib\" channel.\n",
       "\n",
       "    var id = msg.content.data.id;\n",
       "    // Get hold of the div created by the display call when the Comm\n",
       "    // socket was opened in Python.\n",
       "    var element = $(\"#\" + id);\n",
       "    var ws_proxy = comm_websocket_adapter(comm)\n",
       "\n",
       "    function ondownload(figure, format) {\n",
       "        window.open(figure.imageObj.src);\n",
       "    }\n",
       "\n",
       "    var fig = new mpl.figure(id, ws_proxy,\n",
       "                           ondownload,\n",
       "                           element.get(0));\n",
       "\n",
       "    // Call onopen now - mpl needs it, as it is assuming we've passed it a real\n",
       "    // web socket which is closed, not our websocket->open comm proxy.\n",
       "    ws_proxy.onopen();\n",
       "\n",
       "    fig.parent_element = element.get(0);\n",
       "    fig.cell_info = mpl.find_output_cell(\"<div id='\" + id + \"'></div>\");\n",
       "    if (!fig.cell_info) {\n",
       "        console.error(\"Failed to find cell for figure\", id, fig);\n",
       "        return;\n",
       "    }\n",
       "\n",
       "    var output_index = fig.cell_info[2]\n",
       "    var cell = fig.cell_info[0];\n",
       "\n",
       "};\n",
       "\n",
       "mpl.figure.prototype.handle_close = function(fig, msg) {\n",
       "    var width = fig.canvas.width/mpl.ratio\n",
       "    fig.root.unbind('remove')\n",
       "\n",
       "    // Update the output cell to use the data from the current canvas.\n",
       "    fig.push_to_output();\n",
       "    var dataURL = fig.canvas.toDataURL();\n",
       "    // Re-enable the keyboard manager in IPython - without this line, in FF,\n",
       "    // the notebook keyboard shortcuts fail.\n",
       "    IPython.keyboard_manager.enable()\n",
       "    $(fig.parent_element).html('<img src=\"' + dataURL + '\" width=\"' + width + '\">');\n",
       "    fig.close_ws(fig, msg);\n",
       "}\n",
       "\n",
       "mpl.figure.prototype.close_ws = function(fig, msg){\n",
       "    fig.send_message('closing', msg);\n",
       "    // fig.ws.close()\n",
       "}\n",
       "\n",
       "mpl.figure.prototype.push_to_output = function(remove_interactive) {\n",
       "    // Turn the data on the canvas into data in the output cell.\n",
       "    var width = this.canvas.width/mpl.ratio\n",
       "    var dataURL = this.canvas.toDataURL();\n",
       "    this.cell_info[1]['text/html'] = '<img src=\"' + dataURL + '\" width=\"' + width + '\">';\n",
       "}\n",
       "\n",
       "mpl.figure.prototype.updated_canvas_event = function() {\n",
       "    // Tell IPython that the notebook contents must change.\n",
       "    IPython.notebook.set_dirty(true);\n",
       "    this.send_message(\"ack\", {});\n",
       "    var fig = this;\n",
       "    // Wait a second, then push the new image to the DOM so\n",
       "    // that it is saved nicely (might be nice to debounce this).\n",
       "    setTimeout(function () { fig.push_to_output() }, 1000);\n",
       "}\n",
       "\n",
       "mpl.figure.prototype._init_toolbar = function() {\n",
       "    var fig = this;\n",
       "\n",
       "    var nav_element = $('<div/>')\n",
       "    nav_element.attr('style', 'width: 100%');\n",
       "    this.root.append(nav_element);\n",
       "\n",
       "    // Define a callback function for later on.\n",
       "    function toolbar_event(event) {\n",
       "        return fig.toolbar_button_onclick(event['data']);\n",
       "    }\n",
       "    function toolbar_mouse_event(event) {\n",
       "        return fig.toolbar_button_onmouseover(event['data']);\n",
       "    }\n",
       "\n",
       "    for(var toolbar_ind in mpl.toolbar_items){\n",
       "        var name = mpl.toolbar_items[toolbar_ind][0];\n",
       "        var tooltip = mpl.toolbar_items[toolbar_ind][1];\n",
       "        var image = mpl.toolbar_items[toolbar_ind][2];\n",
       "        var method_name = mpl.toolbar_items[toolbar_ind][3];\n",
       "\n",
       "        if (!name) { continue; };\n",
       "\n",
       "        var button = $('<button class=\"btn btn-default\" href=\"#\" title=\"' + name + '\"><i class=\"fa ' + image + ' fa-lg\"></i></button>');\n",
       "        button.click(method_name, toolbar_event);\n",
       "        button.mouseover(tooltip, toolbar_mouse_event);\n",
       "        nav_element.append(button);\n",
       "    }\n",
       "\n",
       "    // Add the status bar.\n",
       "    var status_bar = $('<span class=\"mpl-message\" style=\"text-align:right; float: right;\"/>');\n",
       "    nav_element.append(status_bar);\n",
       "    this.message = status_bar[0];\n",
       "\n",
       "    // Add the close button to the window.\n",
       "    var buttongrp = $('<div class=\"btn-group inline pull-right\"></div>');\n",
       "    var button = $('<button class=\"btn btn-mini btn-primary\" href=\"#\" title=\"Stop Interaction\"><i class=\"fa fa-power-off icon-remove icon-large\"></i></button>');\n",
       "    button.click(function (evt) { fig.handle_close(fig, {}); } );\n",
       "    button.mouseover('Stop Interaction', toolbar_mouse_event);\n",
       "    buttongrp.append(button);\n",
       "    var titlebar = this.root.find($('.ui-dialog-titlebar'));\n",
       "    titlebar.prepend(buttongrp);\n",
       "}\n",
       "\n",
       "mpl.figure.prototype._root_extra_style = function(el){\n",
       "    var fig = this\n",
       "    el.on(\"remove\", function(){\n",
       "\tfig.close_ws(fig, {});\n",
       "    });\n",
       "}\n",
       "\n",
       "mpl.figure.prototype._canvas_extra_style = function(el){\n",
       "    // this is important to make the div 'focusable\n",
       "    el.attr('tabindex', 0)\n",
       "    // reach out to IPython and tell the keyboard manager to turn it's self\n",
       "    // off when our div gets focus\n",
       "\n",
       "    // location in version 3\n",
       "    if (IPython.notebook.keyboard_manager) {\n",
       "        IPython.notebook.keyboard_manager.register_events(el);\n",
       "    }\n",
       "    else {\n",
       "        // location in version 2\n",
       "        IPython.keyboard_manager.register_events(el);\n",
       "    }\n",
       "\n",
       "}\n",
       "\n",
       "mpl.figure.prototype._key_event_extra = function(event, name) {\n",
       "    var manager = IPython.notebook.keyboard_manager;\n",
       "    if (!manager)\n",
       "        manager = IPython.keyboard_manager;\n",
       "\n",
       "    // Check for shift+enter\n",
       "    if (event.shiftKey && event.which == 13) {\n",
       "        this.canvas_div.blur();\n",
       "        // select the cell after this one\n",
       "        var index = IPython.notebook.find_cell_index(this.cell_info[0]);\n",
       "        IPython.notebook.select(index + 1);\n",
       "    }\n",
       "}\n",
       "\n",
       "mpl.figure.prototype.handle_save = function(fig, msg) {\n",
       "    fig.ondownload(fig, null);\n",
       "}\n",
       "\n",
       "\n",
       "mpl.find_output_cell = function(html_output) {\n",
       "    // Return the cell and output element which can be found *uniquely* in the notebook.\n",
       "    // Note - this is a bit hacky, but it is done because the \"notebook_saving.Notebook\"\n",
       "    // IPython event is triggered only after the cells have been serialised, which for\n",
       "    // our purposes (turning an active figure into a static one), is too late.\n",
       "    var cells = IPython.notebook.get_cells();\n",
       "    var ncells = cells.length;\n",
       "    for (var i=0; i<ncells; i++) {\n",
       "        var cell = cells[i];\n",
       "        if (cell.cell_type === 'code'){\n",
       "            for (var j=0; j<cell.output_area.outputs.length; j++) {\n",
       "                var data = cell.output_area.outputs[j];\n",
       "                if (data.data) {\n",
       "                    // IPython >= 3 moved mimebundle to data attribute of output\n",
       "                    data = data.data;\n",
       "                }\n",
       "                if (data['text/html'] == html_output) {\n",
       "                    return [cell, data, j];\n",
       "                }\n",
       "            }\n",
       "        }\n",
       "    }\n",
       "}\n",
       "\n",
       "// Register the function which deals with the matplotlib target/channel.\n",
       "// The kernel may be null if the page has been refreshed.\n",
       "if (IPython.notebook.kernel != null) {\n",
       "    IPython.notebook.kernel.comm_manager.register_target('matplotlib', mpl.mpl_figure_comm);\n",
       "}\n"
      ],
      "text/plain": [
       "<IPython.core.display.Javascript object>"
      ]
     },
     "metadata": {},
     "output_type": "display_data"
    },
    {
     "data": {
      "text/html": [
       "<img src=\"data:image/png;base64,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\" width=\"432\">"
      ],
      "text/plain": [
       "<IPython.core.display.HTML object>"
      ]
     },
     "metadata": {},
     "output_type": "display_data"
    }
   ],
   "source": [
    "%matplotlib notebook\n",
    "plt.plot([1, 2, 3])"
   ]
  },
  {
   "cell_type": "markdown",
   "metadata": {},
   "source": [
    "### Help functions and more info\n",
    "\n",
    "- Tab completion after ``%`` works!\n",
    "- The ``%magic`` function will tell you all about magic commands\n",
    "- The ``%lsmagic`` function will list all available magic commands\n",
    "- Remember that the ``?`` can be used to get documentation!\n",
    "- Though we won't cover it here, it is possible to [create and activate your own magic commands](https://ipython.org/ipython-doc/stable/config/custommagics.html)"
   ]
  },
  {
   "cell_type": "code",
   "execution_count": 32,
   "metadata": {},
   "outputs": [
    {
     "data": {
      "application/json": {
       "cell": {
        "!": "OSMagics",
        "HTML": "Other",
        "SVG": "Other",
        "bash": "Other",
        "capture": "ExecutionMagics",
        "debug": "ExecutionMagics",
        "file": "Other",
        "html": "DisplayMagics",
        "javascript": "DisplayMagics",
        "js": "DisplayMagics",
        "latex": "DisplayMagics",
        "markdown": "DisplayMagics",
        "perl": "Other",
        "prun": "ExecutionMagics",
        "pypy": "Other",
        "python": "Other",
        "python2": "Other",
        "python3": "Other",
        "ruby": "Other",
        "script": "ScriptMagics",
        "sh": "Other",
        "svg": "DisplayMagics",
        "sx": "OSMagics",
        "system": "OSMagics",
        "time": "ExecutionMagics",
        "timeit": "ExecutionMagics",
        "writefile": "OSMagics"
       },
       "line": {
        "alias": "OSMagics",
        "alias_magic": "BasicMagics",
        "autocall": "AutoMagics",
        "automagic": "AutoMagics",
        "autosave": "KernelMagics",
        "bookmark": "OSMagics",
        "cat": "Other",
        "cd": "OSMagics",
        "clear": "KernelMagics",
        "colors": "BasicMagics",
        "config": "ConfigMagics",
        "connect_info": "KernelMagics",
        "cp": "Other",
        "debug": "ExecutionMagics",
        "dhist": "OSMagics",
        "dirs": "OSMagics",
        "doctest_mode": "BasicMagics",
        "ed": "Other",
        "edit": "KernelMagics",
        "env": "OSMagics",
        "gui": "BasicMagics",
        "hist": "Other",
        "history": "HistoryMagics",
        "killbgscripts": "ScriptMagics",
        "ldir": "Other",
        "less": "KernelMagics",
        "lf": "Other",
        "lk": "Other",
        "ll": "Other",
        "load": "CodeMagics",
        "load_ext": "ExtensionMagics",
        "loadpy": "CodeMagics",
        "logoff": "LoggingMagics",
        "logon": "LoggingMagics",
        "logstart": "LoggingMagics",
        "logstate": "LoggingMagics",
        "logstop": "LoggingMagics",
        "ls": "Other",
        "lsmagic": "BasicMagics",
        "lx": "Other",
        "macro": "ExecutionMagics",
        "magic": "BasicMagics",
        "man": "KernelMagics",
        "matplotlib": "PylabMagics",
        "mkdir": "Other",
        "more": "KernelMagics",
        "mv": "Other",
        "notebook": "BasicMagics",
        "page": "BasicMagics",
        "pastebin": "CodeMagics",
        "pdb": "ExecutionMagics",
        "pdef": "NamespaceMagics",
        "pdoc": "NamespaceMagics",
        "pfile": "NamespaceMagics",
        "pinfo": "NamespaceMagics",
        "pinfo2": "NamespaceMagics",
        "pip": "BasicMagics",
        "popd": "OSMagics",
        "pprint": "BasicMagics",
        "precision": "BasicMagics",
        "profile": "BasicMagics",
        "prun": "ExecutionMagics",
        "psearch": "NamespaceMagics",
        "psource": "NamespaceMagics",
        "pushd": "OSMagics",
        "pwd": "OSMagics",
        "pycat": "OSMagics",
        "pylab": "PylabMagics",
        "qtconsole": "KernelMagics",
        "quickref": "BasicMagics",
        "recall": "HistoryMagics",
        "rehashx": "OSMagics",
        "reload_ext": "ExtensionMagics",
        "rep": "Other",
        "rerun": "HistoryMagics",
        "reset": "NamespaceMagics",
        "reset_selective": "NamespaceMagics",
        "rm": "Other",
        "rmdir": "Other",
        "run": "ExecutionMagics",
        "save": "CodeMagics",
        "sc": "OSMagics",
        "set_env": "OSMagics",
        "store": "StoreMagics",
        "sx": "OSMagics",
        "system": "OSMagics",
        "tb": "ExecutionMagics",
        "time": "ExecutionMagics",
        "timeit": "ExecutionMagics",
        "unalias": "OSMagics",
        "unload_ext": "ExtensionMagics",
        "who": "NamespaceMagics",
        "who_ls": "NamespaceMagics",
        "whos": "NamespaceMagics",
        "xdel": "NamespaceMagics",
        "xmode": "BasicMagics"
       }
      },
      "text/plain": [
       "Available line magics:\n",
       "%alias  %alias_magic  %autocall  %automagic  %autosave  %bookmark  %cat  %cd  %clear  %colors  %config  %connect_info  %cp  %debug  %dhist  %dirs  %doctest_mode  %ed  %edit  %env  %gui  %hist  %history  %killbgscripts  %ldir  %less  %lf  %lk  %ll  %load  %load_ext  %loadpy  %logoff  %logon  %logstart  %logstate  %logstop  %ls  %lsmagic  %lx  %macro  %magic  %man  %matplotlib  %mkdir  %more  %mv  %notebook  %page  %pastebin  %pdb  %pdef  %pdoc  %pfile  %pinfo  %pinfo2  %popd  %pprint  %precision  %profile  %prun  %psearch  %psource  %pushd  %pwd  %pycat  %pylab  %qtconsole  %quickref  %recall  %rehashx  %reload_ext  %rep  %rerun  %reset  %reset_selective  %rm  %rmdir  %run  %save  %sc  %set_env  %store  %sx  %system  %tb  %time  %timeit  %unalias  %unload_ext  %who  %who_ls  %whos  %xdel  %xmode\n",
       "\n",
       "Available cell magics:\n",
       "%%!  %%HTML  %%SVG  %%bash  %%capture  %%debug  %%file  %%html  %%javascript  %%js  %%latex  %%markdown  %%perl  %%prun  %%pypy  %%python  %%python2  %%python3  %%ruby  %%script  %%sh  %%svg  %%sx  %%system  %%time  %%timeit  %%writefile\n",
       "\n",
       "Automagic is ON, % prefix IS NOT needed for line magics."
      ]
     },
     "execution_count": 32,
     "metadata": {},
     "output_type": "execute_result"
    }
   ],
   "source": [
    "%lsmagic"
   ]
  },
  {
   "cell_type": "markdown",
   "metadata": {},
   "source": [
    "## Shell Commands\n",
    "\n",
    "Jupyter is meant to be an all-purpose scientific computing environment, and access to the shell is critical.\n",
    "Any command that starts with an exclamation point will be passed to the shell.\n",
    "\n",
    "Note that because windows has a different kind of shell than Linux/OSX, shell commands will be different from operating system to operating system.\n",
    "\n",
    "All the commands you have learned previously will work here:"
   ]
  },
  {
   "cell_type": "code",
   "execution_count": 33,
   "metadata": {},
   "outputs": [
    {
     "name": "stdout",
     "output_type": "stream",
     "text": [
      "Jupyter Notebook In Depth (Completed).ipynb\r\n",
      "Jupyter Notebook In Depth.ipynb\r\n",
      "LorenzSystem.ipynb\r\n",
      "WidgetsDemo.ipynb\r\n",
      "test.py\r\n"
     ]
    }
   ],
   "source": [
    "!ls"
   ]
  },
  {
   "cell_type": "code",
   "execution_count": 34,
   "metadata": {},
   "outputs": [
    {
     "name": "stdout",
     "output_type": "stream",
     "text": [
      "/Users/karla/CSE583/LectureNotes-Autumn2017/06-Jupyter-Notebook-In-Depth\r\n"
     ]
    }
   ],
   "source": [
    "!pwd"
   ]
  },
  {
   "cell_type": "code",
   "execution_count": 35,
   "metadata": {},
   "outputs": [
    {
     "name": "stdout",
     "output_type": "stream",
     "text": [
      "x = 4\r\n",
      "print(\"the value of x is\", x)"
     ]
    }
   ],
   "source": [
    "!cat test.py"
   ]
  },
  {
   "cell_type": "markdown",
   "metadata": {},
   "source": [
    "You can even seamlessly pass values to and from the Python interpreter.\n",
    "For example, we can store the result of a directory listing:"
   ]
  },
  {
   "cell_type": "code",
   "execution_count": 36,
   "metadata": {
    "collapsed": true
   },
   "outputs": [],
   "source": [
    "x = !cat test.py"
   ]
  },
  {
   "cell_type": "code",
   "execution_count": 37,
   "metadata": {},
   "outputs": [
    {
     "data": {
      "text/plain": [
       "['x = 4', 'print(\"the value of x is\", x)']"
      ]
     },
     "execution_count": 37,
     "metadata": {},
     "output_type": "execute_result"
    }
   ],
   "source": [
    "x"
   ]
  },
  {
   "cell_type": "markdown",
   "metadata": {},
   "source": [
    "We can inject Python variables into a shell command with ``{}``:"
   ]
  },
  {
   "cell_type": "code",
   "execution_count": 38,
   "metadata": {
    "collapsed": true
   },
   "outputs": [],
   "source": [
    "filename = 'test.py'"
   ]
  },
  {
   "cell_type": "code",
   "execution_count": 39,
   "metadata": {
    "collapsed": true
   },
   "outputs": [],
   "source": [
    "x = !cat {filename}"
   ]
  },
  {
   "cell_type": "code",
   "execution_count": 40,
   "metadata": {},
   "outputs": [
    {
     "name": "stdout",
     "output_type": "stream",
     "text": [
      "0\n",
      "1\n",
      "2\n",
      "3\n",
      "4\n",
      "5\n",
      "6\n",
      "7\n",
      "8\n",
      "9\n"
     ]
    }
   ],
   "source": [
    "for i in range(10):\n",
    "    !echo {str(i)}"
   ]
  },
  {
   "cell_type": "markdown",
   "metadata": {},
   "source": [
    "With these tools, you should never have to switch from IPython to a terminal to run a command."
   ]
  },
  {
   "cell_type": "markdown",
   "metadata": {},
   "source": [
    "## Rich Display\n",
    "\n",
    "Many Python libraries are designed with Jupyter in mind, and use **rich display** hooks to improve the coding experience.\n",
    "One example we've seen is Pandas:"
   ]
  },
  {
   "cell_type": "code",
   "execution_count": 41,
   "metadata": {
    "collapsed": true
   },
   "outputs": [],
   "source": [
    "import pandas as pd"
   ]
  },
  {
   "cell_type": "code",
   "execution_count": 42,
   "metadata": {
    "collapsed": true
   },
   "outputs": [],
   "source": [
    "data = pd.DataFrame({'A': [1, 2, 3], 'B': [4, 5, 6]})"
   ]
  },
  {
   "cell_type": "code",
   "execution_count": 43,
   "metadata": {},
   "outputs": [
    {
     "data": {
      "text/html": [
       "<div>\n",
       "<style>\n",
       "    .dataframe thead tr:only-child th {\n",
       "        text-align: right;\n",
       "    }\n",
       "\n",
       "    .dataframe thead th {\n",
       "        text-align: left;\n",
       "    }\n",
       "\n",
       "    .dataframe tbody tr th {\n",
       "        vertical-align: top;\n",
       "    }\n",
       "</style>\n",
       "<table border=\"1\" class=\"dataframe\">\n",
       "  <thead>\n",
       "    <tr style=\"text-align: right;\">\n",
       "      <th></th>\n",
       "      <th>A</th>\n",
       "      <th>B</th>\n",
       "    </tr>\n",
       "  </thead>\n",
       "  <tbody>\n",
       "    <tr>\n",
       "      <th>0</th>\n",
       "      <td>1</td>\n",
       "      <td>4</td>\n",
       "    </tr>\n",
       "    <tr>\n",
       "      <th>1</th>\n",
       "      <td>2</td>\n",
       "      <td>5</td>\n",
       "    </tr>\n",
       "    <tr>\n",
       "      <th>2</th>\n",
       "      <td>3</td>\n",
       "      <td>6</td>\n",
       "    </tr>\n",
       "  </tbody>\n",
       "</table>\n",
       "</div>"
      ],
      "text/plain": [
       "   A  B\n",
       "0  1  4\n",
       "1  2  5\n",
       "2  3  6"
      ]
     },
     "execution_count": 43,
     "metadata": {},
     "output_type": "execute_result"
    }
   ],
   "source": [
    "data"
   ]
  },
  {
   "cell_type": "code",
   "execution_count": 44,
   "metadata": {},
   "outputs": [
    {
     "name": "stdout",
     "output_type": "stream",
     "text": [
      "   A  B\n",
      "0  1  4\n",
      "1  2  5\n",
      "2  3  6\n"
     ]
    }
   ],
   "source": [
    "print(data)"
   ]
  },
  {
   "cell_type": "code",
   "execution_count": 45,
   "metadata": {
    "collapsed": true
   },
   "outputs": [],
   "source": [
    "data._repr_html_??"
   ]
  },
  {
   "cell_type": "markdown",
   "metadata": {},
   "source": [
    "If you want to do this sort of thing for your own object, you can create a class which defines the ``_repr_html_`` method, and returns a string of HTML:"
   ]
  },
  {
   "cell_type": "code",
   "execution_count": 46,
   "metadata": {
    "collapsed": true
   },
   "outputs": [],
   "source": [
    "class RedText(object):\n",
    "    def __init__(self, text):\n",
    "        self.text = text\n",
    "        \n",
    "    def _repr_html_(self):\n",
    "        return \"<font color='red' size=24>\" + str(self.text) + \"</font>\""
   ]
  },
  {
   "cell_type": "code",
   "execution_count": 47,
   "metadata": {},
   "outputs": [
    {
     "data": {
      "text/html": [
       "<font color='red' size=24>hello there</font>"
      ],
      "text/plain": [
       "<__main__.RedText at 0x11a5fe908>"
      ]
     },
     "execution_count": 47,
     "metadata": {},
     "output_type": "execute_result"
    }
   ],
   "source": [
    "RedText('hello there')"
   ]
  },
  {
   "cell_type": "markdown",
   "metadata": {},
   "source": [
    "## Exercise:\n",
    "\n",
    "Try writing a class that, given a Python list, will display the contents of the list using formatted HTML (see example HTML lists at https://www.w3schools.com/html/html_lists.asp)\n",
    "\n",
    "Recall that a Python list looks like ``x = [\"a\", \"b\", \"c\"]``"
   ]
  },
  {
   "cell_type": "code",
   "execution_count": 48,
   "metadata": {},
   "outputs": [
    {
     "data": {
      "text/html": [
       "<ul><li>1</li><li>2</li><li>3</li></ul>"
      ],
      "text/plain": [
       "<__main__.ListDisplay at 0x11a662fd0>"
      ]
     },
     "execution_count": 48,
     "metadata": {},
     "output_type": "execute_result"
    }
   ],
   "source": [
    "class ListDisplay(object):\n",
    "    def __init__(self, L):\n",
    "        self.L = L\n",
    "        \n",
    "    def _repr_html_(self):\n",
    "        output = '<ul>'\n",
    "        for value in self.L:\n",
    "            output += \"<li>\" + str(value) + \"</li>\"\n",
    "        output += \"</ul>\"\n",
    "        return output\n",
    "    \n",
    "my_list = [1, 2, 3]\n",
    "ListDisplay(my_list)"
   ]
  },
  {
   "cell_type": "markdown",
   "metadata": {},
   "source": [
    "## IPython Widgets\n",
    "\n",
    "One incredibly useful feature of the notebook is the interactivity provided by the [``ipywidgets`` package](https://github.com/ipython/ipywidgets). You'll have to install this using, e.g.\n",
    "\n",
    "    $ conda install ipywidgets\n",
    "    \n",
    "You can find a full set of documentation notebooks [here](https://github.com/ipython/ipywidgets/blob/master/examples/notebooks/Index.ipynb).\n",
    "We're going to walk through a quick demonstration of the functionality in [WidgetsDemo.ipynb](WidgetsDemo.ipynb)"
   ]
  }
 ],
 "metadata": {
  "kernelspec": {
   "display_name": "Python 3",
   "language": "python",
   "name": "python3"
  },
  "language_info": {
   "codemirror_mode": {
    "name": "ipython",
    "version": 3
   },
   "file_extension": ".py",
   "mimetype": "text/x-python",
   "name": "python",
   "nbconvert_exporter": "python",
   "pygments_lexer": "ipython3",
   "version": "3.6.4"
  }
 },
 "nbformat": 4,
 "nbformat_minor": 1
}
