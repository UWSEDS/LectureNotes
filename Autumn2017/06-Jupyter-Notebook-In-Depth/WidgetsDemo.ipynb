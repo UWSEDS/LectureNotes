{
 "cells": [
  {
   "cell_type": "markdown",
   "metadata": {},
   "source": [
    "# Widgets Demo\n",
    "\n",
    "IPython widgets allow you to quickly and easily create interactive APIs with Python.\n",
    "\n",
    "To run this notebook, you'll first have to install ``ipywidgets`` using, e.g.\n",
    "\n",
    "    $ conda install ipywidgets\n",
    "    \n",
    "You can find a full set of documentation notebooks [here](https://github.com/ipython/ipywidgets/blob/master/examples/notebooks/Index.ipynb).\n",
    "\n",
    "### Troubleshooting\n",
    "\n",
    "If the widgets below do not show up in the notebook, try closing the notebook and running the following command in your shell:\n",
    "\n",
    "    $ jupyter nbextension enable --py widgetsnbextension\n",
    "    \n",
    "Then open the notebook again. This enables the widgets notebook extension in the case that it's disabled."
   ]
  },
  {
   "cell_type": "markdown",
   "metadata": {},
   "source": [
    "## ``interact``: simple interactive widgets\n",
    "\n",
    "The main idea of ipywidgets is to allow you to transform simple Python functions into interactive widgets.\n",
    "For example"
   ]
  },
  {
   "cell_type": "code",
   "execution_count": null,
   "metadata": {
    "collapsed": true
   },
   "outputs": [],
   "source": [
    "from ipywidgets import interact"
   ]
  },
  {
   "cell_type": "code",
   "execution_count": null,
   "metadata": {
    "collapsed": true
   },
   "outputs": [],
   "source": [
    "def times_ten(x):\n",
    "    return 10 * x"
   ]
  },
  {
   "cell_type": "code",
   "execution_count": null,
   "metadata": {
    "collapsed": true
   },
   "outputs": [],
   "source": [
    "interact(times_ten, x=10);"
   ]
  },
  {
   "cell_type": "code",
   "execution_count": null,
   "metadata": {
    "collapsed": true
   },
   "outputs": [],
   "source": [
    "interact(times_ten, x='(^_^)')"
   ]
  },
  {
   "cell_type": "code",
   "execution_count": null,
   "metadata": {
    "collapsed": true
   },
   "outputs": [],
   "source": [
    "interact(times_ten, x=True)"
   ]
  },
  {
   "cell_type": "markdown",
   "metadata": {},
   "source": [
    "### Specifying Ranges\n",
    "\n",
    "Using a tuple for the input, we can specify a range for our data:"
   ]
  },
  {
   "cell_type": "code",
   "execution_count": null,
   "metadata": {
    "collapsed": true
   },
   "outputs": [],
   "source": [
    "interact(times_ten, x=(100, 200))"
   ]
  },
  {
   "cell_type": "markdown",
   "metadata": {},
   "source": [
    "## Interact with Plotting\n",
    "\n",
    "This can become very powerful when interacting with a plotting command:"
   ]
  },
  {
   "cell_type": "code",
   "execution_count": null,
   "metadata": {
    "collapsed": true
   },
   "outputs": [],
   "source": [
    "%matplotlib inline\n",
    "\n",
    "import numpy as np\n",
    "import matplotlib.pyplot as plt\n",
    "\n",
    "x = np.linspace(0, 10, 1000)\n",
    "\n",
    "def plot_sine(amplitude, frequency, phase):\n",
    "    y = amplitude * np.sin(frequency * x - phase)\n",
    "    plt.plot(x, y)\n",
    "    plt.ylim(-6, 6)\n",
    "    \n",
    "interact(plot_sine,\n",
    "         amplitude=(0.0, 5.0),\n",
    "         frequency=(0.1, 10),\n",
    "         phase=(-5.0, 5.0));"
   ]
  },
  {
   "cell_type": "markdown",
   "metadata": {},
   "source": [
    "## More interesting example: the Lorenz System\n",
    "\n",
    "Let's walk through an example from the IPython widgets documentation: the [Lorenz System](LorenzSystem.ipynb)"
   ]
  }
 ],
 "metadata": {
  "kernelspec": {
   "display_name": "Python 3",
   "language": "python",
   "name": "python3"
  },
  "language_info": {
   "codemirror_mode": {
    "name": "ipython",
    "version": 3
   },
   "file_extension": ".py",
   "mimetype": "text/x-python",
   "name": "python",
   "nbconvert_exporter": "python",
   "pygments_lexer": "ipython3",
   "version": "3.6.1"
  }
 },
 "nbformat": 4,
 "nbformat_minor": 1
}
