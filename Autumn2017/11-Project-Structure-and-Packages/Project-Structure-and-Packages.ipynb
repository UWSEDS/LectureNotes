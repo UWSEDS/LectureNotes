{
 "cells": [
  {
   "cell_type": "markdown",
   "metadata": {},
   "source": [
    "# Project Structure & Creating Packages\n",
    "\n",
    "Today we will walk through creating a Python package from scratch, and walk through the following:"
   ]
  },
  {
   "cell_type": "markdown",
   "metadata": {},
   "source": [
    "- Creating a github repository\n",
    "  - Importance of adding a ``README``\n",
    "  - Importance of adding a ``LICENSE``\n",
    "  - Importance of adding a ``.gitignore``\n",
    "\n",
    "- Creating a Python package\n",
    "  - importance of the ``__init__.py`` file\n",
    "  - relative vs. absolute imports\n",
    "  \n",
    "- Creating and using test scripts\n",
    "  - the ``tests`` directory\n",
    "  - the ``nosetests`` command (``py.test`` is also very nice)\n",
    "\n",
    "- Making your package installable\n",
    "  - the ``setup.py`` script\n",
    "  - Python's install path\n",
    "\n",
    "- Creating and using sphinx documentation\n",
    "  - the ``doc`` directory\n",
    "  - installing ``sphinx`` and using ReStructured Text\n",
    "  - template: ``sphinx-quickstart`` or (better) copy ``shablona/doc`` template\n",
    "  \n",
    "- Continuous integration with Travis (if we have time)\n",
    "  - the ``.travis.yml`` file\n",
    "\n",
    "For more detail on all of this, you can refer back to the screen-capture video that I will create during the lecture."
   ]
  },
  {
   "cell_type": "markdown",
   "metadata": {},
   "source": [
    "## More Information\n",
    "\n",
    "- [shablona](https://github.com/uwescience/shablona/): a template that contains much of what we went through above\n",
    "\n",
    "- [sphinx](http://www.sphinx-doc.org/): Python documentation generator\n",
    "\n",
    "- [ReStructured Text Quick Reference](http://docutils.sourceforge.net/docs/user/rst/quickref.html): Learn how to format your docs\n",
    "\n",
    "- [Getting started with TravisCI](https://docs.travis-ci.com/user/getting-started/#To-get-started-with-Travis-CI%3A): set up your repository for automatic testing"
   ]
  }
 ],
 "metadata": {
  "kernelspec": {
   "display_name": "Python 3.5",
   "language": "python",
   "name": "python3.5"
  },
  "language_info": {
   "codemirror_mode": {
    "name": "ipython",
    "version": 3
   },
   "file_extension": ".py",
   "mimetype": "text/x-python",
   "name": "python",
   "nbconvert_exporter": "python",
   "pygments_lexer": "ipython3",
   "version": "3.5.1"
  }
 },
 "nbformat": 4,
 "nbformat_minor": 0
}
