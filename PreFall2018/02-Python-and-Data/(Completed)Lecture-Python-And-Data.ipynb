{
 "cells": [
  {
   "cell_type": "markdown",
   "metadata": {},
   "source": [
    "# Software Engineering for Data Scientists\n",
    "\n",
    "## *Manipulating Data with Python*\n",
    "## CSE 599 B1"
   ]
  },
  {
   "cell_type": "markdown",
   "metadata": {},
   "source": [
    "## Today's Objectives\n",
    "\n",
    "#### 1. Opening & Navigating the IPython Notebook\n",
    "\n",
    "#### 2. Simple Math in the IPython Notebook\n",
    "\n",
    "#### 3. Loading data with ``pandas``\n",
    "\n",
    "#### 4. Cleaning and Manipulating data with ``pandas``\n",
    "\n",
    "#### 5. Visualizing data with ``pandas``"
   ]
  },
  {
   "cell_type": "markdown",
   "metadata": {},
   "source": [
    "## 1. Opening and Navigating the IPython Notebook\n",
    "\n",
    "We will start today with the interactive environment that we will be using often through the course: the [IPython/Jupyter Notebook](http://ipython.org).\n",
    "\n",
    "We will walk through the following steps together:\n",
    "\n",
    "1. Download [miniconda]() (be sure to get Version 3.5) and install it on your system (hopefully you have done this before coming to class)\n",
    "   ```\n",
    "   ```\n",
    "\n",
    "2. Use the ``conda`` command-line tool to update your package listing and install the IPython notebook:\n",
    "\n",
    "   Update ``conda``'s listing of packages for your system:\n",
    "   ```\n",
    "   $ conda update conda\n",
    "   ```\n",
    "   \n",
    "   Install IPython notebook and all its requirements\n",
    "   ```\n",
    "   $ conda install ipython-notebook\n",
    "   ```\n",
    "   \n",
    "3. Navigate to the directory containing the course material. For example:\n",
    "\n",
    "   ```\n",
    "   $ cd ~/courses/CSE599/\n",
    "   ```\n",
    "   \n",
    "   You should see a number of files in the directory, including these:\n",
    "   \n",
    "   ```\n",
    "   $ ls\n",
    "   ...\n",
    "   Breakout-Simple-Math.ipynb\n",
    "   CSE599_Lecture_2.ipynb\n",
    "   ...\n",
    "   ```\n",
    "\n",
    "4. Type ``ipython notebook`` in the terminal to start the notebook\n",
    "\n",
    "   ```\n",
    "   $ ipython notebook\n",
    "   ```\n",
    "   \n",
    "   If everything has worked correctly, it should automatically launch your default browser\n",
    "   ```\n",
    "   ```\n",
    "   \n",
    "5. Click on ``CSE599_Lecture_2.ipynb`` to open the notebook containing the content for this lecture.\n",
    "\n",
    "With that, you're set up to use the IPython notebook!"
   ]
  },
  {
   "cell_type": "markdown",
   "metadata": {},
   "source": [
    "## 2. Simple Math in the IPython Notebook"
   ]
  },
  {
   "cell_type": "markdown",
   "metadata": {},
   "source": [
    "Now that we have the IPython notebook up and running, we're going to do a short breakout exploring some of the mathematical functionality that Python offers.\n",
    "\n",
    "Please open [Breakout-Simple-Math.ipynb](Breakout-Simple-Math.ipynb), find a partner, and make your way through that notebook, typing and executing code along the way."
   ]
  },
  {
   "cell_type": "markdown",
   "metadata": {},
   "source": [
    "## 3. Loading data with ``pandas``\n",
    "\n",
    "With this simple Python computation experience under our belt, we can now move to doing some more interesting analysis."
   ]
  },
  {
   "cell_type": "markdown",
   "metadata": {},
   "source": [
    "### Python's Data Science Ecosystem\n",
    "\n",
    "In addition to Python's built-in modules like the ``math`` module we explored above, there are also many often-used third-party modules that are core tools for doing data science with Python.\n",
    "Some of the most important ones are:\n",
    "\n",
    "#### [``numpy``](http://numpy.org/): Numerical Python\n",
    "\n",
    "Numpy is short for \"Numerical Python\", and contains tools for efficient manipulation of arrays of data.\n",
    "If you have used other computational tools like IDL or MatLab, Numpy should feel very familiar.\n",
    "\n",
    "#### [``scipy``](http://scipy.org/): Scientific Python\n",
    "\n",
    "Scipy is short for \"Scientific Python\", and contains a wide range of functionality for accomplishing common scientific tasks, such as optimization/minimization, numerical integration, interpolation, and much more.\n",
    "We will not look closely at Scipy today, but we will use its functionality later in the course.\n",
    "\n",
    "#### [``pandas``](http://pandas.pydata.org/): Labeled Data Manipulation in Python\n",
    "\n",
    "Pandas is short for \"Panel Data\", and contains tools for doing more advanced manipulation of labeled data in Python, in particular with a columnar data structure called a *Data Frame*.\n",
    "If you've used the [R](http://rstats.org) statistical language (and in particular the so-called \"Hadley Stack\"), much of the functionality in Pandas should feel very familiar.\n",
    "\n",
    "#### [``matplotlib``](http://matplotlib.org): Visualization in Python\n",
    "\n",
    "Matplotlib started out as a Matlab plotting clone in Python, and has grown from there in the 15 years since its creation. It is the most popular data visualization tool currently in the Python data world (though other recent packages are starting to encroach on its monopoly)."
   ]
  },
  {
   "cell_type": "markdown",
   "metadata": {},
   "source": [
    "### Installing Pandas & friends\n",
    "\n",
    "Because the above packages are not included in Python itself, you need to install them separately. While it is possible to install these from source (compiling the C and/or Fortran code that does the heavy lifting under the hood) it is much easier to use a package manager like ``conda``. All it takes is to run\n",
    "\n",
    "```\n",
    "$ conda install numpy scipy pandas matplotlib\n",
    "```\n",
    "\n",
    "and (so long as your conda setup is working) the packages will be downloaded and installed on your system."
   ]
  },
  {
   "cell_type": "markdown",
   "metadata": {},
   "source": [
    "### Loading Data with Pandas"
   ]
  },
  {
   "cell_type": "code",
   "execution_count": 1,
   "metadata": {
    "collapsed": false
   },
   "outputs": [
    {
     "data": {
      "text/plain": [
       "['/Users/jakevdp/anaconda/envs/python3.5/lib/python3.5/site-packages/numpy']"
      ]
     },
     "execution_count": 1,
     "metadata": {},
     "output_type": "execute_result"
    }
   ],
   "source": [
    "import numpy\n",
    "numpy.__path__"
   ]
  },
  {
   "cell_type": "code",
   "execution_count": 2,
   "metadata": {
    "collapsed": false
   },
   "outputs": [],
   "source": [
    "import pandas"
   ]
  },
  {
   "cell_type": "markdown",
   "metadata": {},
   "source": [
    "Because we'll use it so much, we often import under a shortened name using the ``import ... as ...`` pattern:"
   ]
  },
  {
   "cell_type": "code",
   "execution_count": 3,
   "metadata": {
    "collapsed": false
   },
   "outputs": [],
   "source": [
    "import pandas as pd"
   ]
  },
  {
   "cell_type": "markdown",
   "metadata": {},
   "source": [
    "Now we can use the ``read_csv`` command to read the comma-separated-value data:"
   ]
  },
  {
   "cell_type": "code",
   "execution_count": 4,
   "metadata": {
    "collapsed": false
   },
   "outputs": [],
   "source": [
    "data = pd.read_csv('2015_trip_data.csv')"
   ]
  },
  {
   "cell_type": "markdown",
   "metadata": {},
   "source": [
    "*Note: strings in Python can be defined either with double quotes or single quotes*"
   ]
  },
  {
   "cell_type": "markdown",
   "metadata": {},
   "source": [
    "### Viewing Pandas Dataframes"
   ]
  },
  {
   "cell_type": "markdown",
   "metadata": {},
   "source": [
    "The ``head()`` and ``tail()`` methods show us the first and last rows of the data"
   ]
  },
  {
   "cell_type": "code",
   "execution_count": 5,
   "metadata": {
    "collapsed": false
   },
   "outputs": [
    {
     "data": {
      "text/html": [
       "<div>\n",
       "<table border=\"1\" class=\"dataframe\">\n",
       "  <thead>\n",
       "    <tr style=\"text-align: right;\">\n",
       "      <th></th>\n",
       "      <th>trip_id</th>\n",
       "      <th>starttime</th>\n",
       "      <th>stoptime</th>\n",
       "      <th>bikeid</th>\n",
       "      <th>tripduration</th>\n",
       "      <th>from_station_name</th>\n",
       "      <th>to_station_name</th>\n",
       "      <th>from_station_id</th>\n",
       "      <th>to_station_id</th>\n",
       "      <th>usertype</th>\n",
       "      <th>gender</th>\n",
       "      <th>birthyear</th>\n",
       "    </tr>\n",
       "  </thead>\n",
       "  <tbody>\n",
       "    <tr>\n",
       "      <th>0</th>\n",
       "      <td>431</td>\n",
       "      <td>10/13/2014 10:31</td>\n",
       "      <td>10/13/2014 10:48</td>\n",
       "      <td>SEA00298</td>\n",
       "      <td>985.935</td>\n",
       "      <td>2nd Ave &amp; Spring St</td>\n",
       "      <td>Occidental Park / Occidental Ave S &amp; S Washing...</td>\n",
       "      <td>CBD-06</td>\n",
       "      <td>PS-04</td>\n",
       "      <td>Annual Member</td>\n",
       "      <td>Male</td>\n",
       "      <td>1960</td>\n",
       "    </tr>\n",
       "    <tr>\n",
       "      <th>1</th>\n",
       "      <td>432</td>\n",
       "      <td>10/13/2014 10:32</td>\n",
       "      <td>10/13/2014 10:48</td>\n",
       "      <td>SEA00195</td>\n",
       "      <td>926.375</td>\n",
       "      <td>2nd Ave &amp; Spring St</td>\n",
       "      <td>Occidental Park / Occidental Ave S &amp; S Washing...</td>\n",
       "      <td>CBD-06</td>\n",
       "      <td>PS-04</td>\n",
       "      <td>Annual Member</td>\n",
       "      <td>Male</td>\n",
       "      <td>1970</td>\n",
       "    </tr>\n",
       "    <tr>\n",
       "      <th>2</th>\n",
       "      <td>433</td>\n",
       "      <td>10/13/2014 10:33</td>\n",
       "      <td>10/13/2014 10:48</td>\n",
       "      <td>SEA00486</td>\n",
       "      <td>883.831</td>\n",
       "      <td>2nd Ave &amp; Spring St</td>\n",
       "      <td>Occidental Park / Occidental Ave S &amp; S Washing...</td>\n",
       "      <td>CBD-06</td>\n",
       "      <td>PS-04</td>\n",
       "      <td>Annual Member</td>\n",
       "      <td>Female</td>\n",
       "      <td>1988</td>\n",
       "    </tr>\n",
       "    <tr>\n",
       "      <th>3</th>\n",
       "      <td>434</td>\n",
       "      <td>10/13/2014 10:34</td>\n",
       "      <td>10/13/2014 10:48</td>\n",
       "      <td>SEA00333</td>\n",
       "      <td>865.937</td>\n",
       "      <td>2nd Ave &amp; Spring St</td>\n",
       "      <td>Occidental Park / Occidental Ave S &amp; S Washing...</td>\n",
       "      <td>CBD-06</td>\n",
       "      <td>PS-04</td>\n",
       "      <td>Annual Member</td>\n",
       "      <td>Female</td>\n",
       "      <td>1977</td>\n",
       "    </tr>\n",
       "    <tr>\n",
       "      <th>4</th>\n",
       "      <td>435</td>\n",
       "      <td>10/13/2014 10:34</td>\n",
       "      <td>10/13/2014 10:49</td>\n",
       "      <td>SEA00202</td>\n",
       "      <td>923.923</td>\n",
       "      <td>2nd Ave &amp; Spring St</td>\n",
       "      <td>Occidental Park / Occidental Ave S &amp; S Washing...</td>\n",
       "      <td>CBD-06</td>\n",
       "      <td>PS-04</td>\n",
       "      <td>Annual Member</td>\n",
       "      <td>Male</td>\n",
       "      <td>1971</td>\n",
       "    </tr>\n",
       "  </tbody>\n",
       "</table>\n",
       "</div>"
      ],
      "text/plain": [
       "   trip_id         starttime          stoptime    bikeid  tripduration  \\\n",
       "0      431  10/13/2014 10:31  10/13/2014 10:48  SEA00298       985.935   \n",
       "1      432  10/13/2014 10:32  10/13/2014 10:48  SEA00195       926.375   \n",
       "2      433  10/13/2014 10:33  10/13/2014 10:48  SEA00486       883.831   \n",
       "3      434  10/13/2014 10:34  10/13/2014 10:48  SEA00333       865.937   \n",
       "4      435  10/13/2014 10:34  10/13/2014 10:49  SEA00202       923.923   \n",
       "\n",
       "     from_station_name                                    to_station_name  \\\n",
       "0  2nd Ave & Spring St  Occidental Park / Occidental Ave S & S Washing...   \n",
       "1  2nd Ave & Spring St  Occidental Park / Occidental Ave S & S Washing...   \n",
       "2  2nd Ave & Spring St  Occidental Park / Occidental Ave S & S Washing...   \n",
       "3  2nd Ave & Spring St  Occidental Park / Occidental Ave S & S Washing...   \n",
       "4  2nd Ave & Spring St  Occidental Park / Occidental Ave S & S Washing...   \n",
       "\n",
       "  from_station_id to_station_id       usertype  gender  birthyear  \n",
       "0          CBD-06         PS-04  Annual Member    Male       1960  \n",
       "1          CBD-06         PS-04  Annual Member    Male       1970  \n",
       "2          CBD-06         PS-04  Annual Member  Female       1988  \n",
       "3          CBD-06         PS-04  Annual Member  Female       1977  \n",
       "4          CBD-06         PS-04  Annual Member    Male       1971  "
      ]
     },
     "execution_count": 5,
     "metadata": {},
     "output_type": "execute_result"
    }
   ],
   "source": [
    "data.head()"
   ]
  },
  {
   "cell_type": "code",
   "execution_count": 6,
   "metadata": {
    "collapsed": false
   },
   "outputs": [
    {
     "data": {
      "text/html": [
       "<div>\n",
       "<table border=\"1\" class=\"dataframe\">\n",
       "  <thead>\n",
       "    <tr style=\"text-align: right;\">\n",
       "      <th></th>\n",
       "      <th>trip_id</th>\n",
       "      <th>starttime</th>\n",
       "      <th>stoptime</th>\n",
       "      <th>bikeid</th>\n",
       "      <th>tripduration</th>\n",
       "      <th>from_station_name</th>\n",
       "      <th>to_station_name</th>\n",
       "      <th>from_station_id</th>\n",
       "      <th>to_station_id</th>\n",
       "      <th>usertype</th>\n",
       "      <th>gender</th>\n",
       "      <th>birthyear</th>\n",
       "    </tr>\n",
       "  </thead>\n",
       "  <tbody>\n",
       "    <tr>\n",
       "      <th>142841</th>\n",
       "      <td>156796</td>\n",
       "      <td>10/12/2015 20:41</td>\n",
       "      <td>10/12/2015 20:47</td>\n",
       "      <td>SEA00358</td>\n",
       "      <td>377.183</td>\n",
       "      <td>E Pine St &amp; 16th Ave</td>\n",
       "      <td>Summit Ave &amp; E Denny Way</td>\n",
       "      <td>CH-07</td>\n",
       "      <td>CH-01</td>\n",
       "      <td>Annual Member</td>\n",
       "      <td>Male</td>\n",
       "      <td>1990</td>\n",
       "    </tr>\n",
       "    <tr>\n",
       "      <th>142842</th>\n",
       "      <td>156797</td>\n",
       "      <td>10/12/2015 20:43</td>\n",
       "      <td>10/12/2015 20:48</td>\n",
       "      <td>SEA00399</td>\n",
       "      <td>303.330</td>\n",
       "      <td>Bellevue Ave &amp; E Pine St</td>\n",
       "      <td>Summit Ave E &amp; E Republican St</td>\n",
       "      <td>CH-12</td>\n",
       "      <td>CH-03</td>\n",
       "      <td>Annual Member</td>\n",
       "      <td>Male</td>\n",
       "      <td>1978</td>\n",
       "    </tr>\n",
       "    <tr>\n",
       "      <th>142843</th>\n",
       "      <td>156798</td>\n",
       "      <td>10/12/2015 21:03</td>\n",
       "      <td>10/12/2015 21:06</td>\n",
       "      <td>SEA00204</td>\n",
       "      <td>165.597</td>\n",
       "      <td>Harvard Ave &amp; E Pine St</td>\n",
       "      <td>E Harrison St &amp; Broadway Ave E</td>\n",
       "      <td>CH-09</td>\n",
       "      <td>CH-02</td>\n",
       "      <td>Annual Member</td>\n",
       "      <td>Male</td>\n",
       "      <td>1989</td>\n",
       "    </tr>\n",
       "    <tr>\n",
       "      <th>142844</th>\n",
       "      <td>156799</td>\n",
       "      <td>10/12/2015 21:35</td>\n",
       "      <td>10/12/2015 21:41</td>\n",
       "      <td>SEA00073</td>\n",
       "      <td>388.576</td>\n",
       "      <td>Pine St &amp; 9th Ave</td>\n",
       "      <td>3rd Ave &amp; Broad St</td>\n",
       "      <td>SLU-16</td>\n",
       "      <td>BT-01</td>\n",
       "      <td>Short-Term Pass Holder</td>\n",
       "      <td>NaN</td>\n",
       "      <td>NaN</td>\n",
       "    </tr>\n",
       "    <tr>\n",
       "      <th>142845</th>\n",
       "      <td>156800</td>\n",
       "      <td>10/12/2015 22:45</td>\n",
       "      <td>10/12/2015 22:51</td>\n",
       "      <td>SEA00033</td>\n",
       "      <td>391.885</td>\n",
       "      <td>NE 42nd St &amp; University Way NE</td>\n",
       "      <td>Eastlake Ave E &amp; E Allison St</td>\n",
       "      <td>UD-02</td>\n",
       "      <td>EL-05</td>\n",
       "      <td>Annual Member</td>\n",
       "      <td>Male</td>\n",
       "      <td>1985</td>\n",
       "    </tr>\n",
       "  </tbody>\n",
       "</table>\n",
       "</div>"
      ],
      "text/plain": [
       "        trip_id         starttime          stoptime    bikeid  tripduration  \\\n",
       "142841   156796  10/12/2015 20:41  10/12/2015 20:47  SEA00358       377.183   \n",
       "142842   156797  10/12/2015 20:43  10/12/2015 20:48  SEA00399       303.330   \n",
       "142843   156798  10/12/2015 21:03  10/12/2015 21:06  SEA00204       165.597   \n",
       "142844   156799  10/12/2015 21:35  10/12/2015 21:41  SEA00073       388.576   \n",
       "142845   156800  10/12/2015 22:45  10/12/2015 22:51  SEA00033       391.885   \n",
       "\n",
       "                     from_station_name                 to_station_name  \\\n",
       "142841            E Pine St & 16th Ave        Summit Ave & E Denny Way   \n",
       "142842        Bellevue Ave & E Pine St  Summit Ave E & E Republican St   \n",
       "142843         Harvard Ave & E Pine St  E Harrison St & Broadway Ave E   \n",
       "142844               Pine St & 9th Ave              3rd Ave & Broad St   \n",
       "142845  NE 42nd St & University Way NE   Eastlake Ave E & E Allison St   \n",
       "\n",
       "       from_station_id to_station_id                usertype gender  birthyear  \n",
       "142841           CH-07         CH-01           Annual Member   Male       1990  \n",
       "142842           CH-12         CH-03           Annual Member   Male       1978  \n",
       "142843           CH-09         CH-02           Annual Member   Male       1989  \n",
       "142844          SLU-16         BT-01  Short-Term Pass Holder    NaN        NaN  \n",
       "142845           UD-02         EL-05           Annual Member   Male       1985  "
      ]
     },
     "execution_count": 6,
     "metadata": {},
     "output_type": "execute_result"
    }
   ],
   "source": [
    "data.tail()"
   ]
  },
  {
   "cell_type": "markdown",
   "metadata": {},
   "source": [
    "The ``shape`` attribute shows us the number of elements:"
   ]
  },
  {
   "cell_type": "code",
   "execution_count": 7,
   "metadata": {
    "collapsed": false
   },
   "outputs": [
    {
     "data": {
      "text/plain": [
       "(142846, 12)"
      ]
     },
     "execution_count": 7,
     "metadata": {},
     "output_type": "execute_result"
    }
   ],
   "source": [
    "data.shape"
   ]
  },
  {
   "cell_type": "markdown",
   "metadata": {},
   "source": [
    "The ``columns`` attribute gives us the column names"
   ]
  },
  {
   "cell_type": "code",
   "execution_count": 8,
   "metadata": {
    "collapsed": false
   },
   "outputs": [
    {
     "data": {
      "text/plain": [
       "Index(['trip_id', 'starttime', 'stoptime', 'bikeid', 'tripduration',\n",
       "       'from_station_name', 'to_station_name', 'from_station_id',\n",
       "       'to_station_id', 'usertype', 'gender', 'birthyear'],\n",
       "      dtype='object')"
      ]
     },
     "execution_count": 8,
     "metadata": {},
     "output_type": "execute_result"
    }
   ],
   "source": [
    "data.columns"
   ]
  },
  {
   "cell_type": "markdown",
   "metadata": {},
   "source": [
    "The ``index`` attribute gives us the index names"
   ]
  },
  {
   "cell_type": "code",
   "execution_count": 9,
   "metadata": {
    "collapsed": false
   },
   "outputs": [
    {
     "data": {
      "text/plain": [
       "Int64Index([     0,      1,      2,      3,      4,      5,      6,      7,\n",
       "                 8,      9,\n",
       "            ...\n",
       "            142836, 142837, 142838, 142839, 142840, 142841, 142842, 142843,\n",
       "            142844, 142845],\n",
       "           dtype='int64', length=142846)"
      ]
     },
     "execution_count": 9,
     "metadata": {},
     "output_type": "execute_result"
    }
   ],
   "source": [
    "data.index"
   ]
  },
  {
   "cell_type": "markdown",
   "metadata": {},
   "source": [
    "The ``dtypes`` attribute gives the data types of each column:"
   ]
  },
  {
   "cell_type": "code",
   "execution_count": 10,
   "metadata": {
    "collapsed": false
   },
   "outputs": [
    {
     "data": {
      "text/plain": [
       "trip_id                int64\n",
       "starttime             object\n",
       "stoptime              object\n",
       "bikeid                object\n",
       "tripduration         float64\n",
       "from_station_name     object\n",
       "to_station_name       object\n",
       "from_station_id       object\n",
       "to_station_id         object\n",
       "usertype              object\n",
       "gender                object\n",
       "birthyear            float64\n",
       "dtype: object"
      ]
     },
     "execution_count": 10,
     "metadata": {},
     "output_type": "execute_result"
    }
   ],
   "source": [
    "data.dtypes"
   ]
  },
  {
   "cell_type": "markdown",
   "metadata": {},
   "source": [
    "## 4. Manipulating data with ``pandas``\n",
    "\n",
    "Here we'll cover some key features of manipulating data with pandas"
   ]
  },
  {
   "cell_type": "markdown",
   "metadata": {},
   "source": [
    "Access columns by name using square-bracket indexing:"
   ]
  },
  {
   "cell_type": "code",
   "execution_count": 11,
   "metadata": {
    "collapsed": false
   },
   "outputs": [
    {
     "data": {
      "text/plain": [
       "0                  Annual Member\n",
       "1                  Annual Member\n",
       "2                  Annual Member\n",
       "3                  Annual Member\n",
       "4                  Annual Member\n",
       "5                  Annual Member\n",
       "6                  Annual Member\n",
       "7                  Annual Member\n",
       "8                  Annual Member\n",
       "9                  Annual Member\n",
       "10                 Annual Member\n",
       "11                 Annual Member\n",
       "12                 Annual Member\n",
       "13                 Annual Member\n",
       "14                 Annual Member\n",
       "15                 Annual Member\n",
       "16                 Annual Member\n",
       "17                 Annual Member\n",
       "18                 Annual Member\n",
       "19                 Annual Member\n",
       "20                 Annual Member\n",
       "21                 Annual Member\n",
       "22                 Annual Member\n",
       "23                 Annual Member\n",
       "24                 Annual Member\n",
       "25                 Annual Member\n",
       "26                 Annual Member\n",
       "27                 Annual Member\n",
       "28                 Annual Member\n",
       "29                 Annual Member\n",
       "                   ...          \n",
       "142816             Annual Member\n",
       "142817             Annual Member\n",
       "142818             Annual Member\n",
       "142819             Annual Member\n",
       "142820    Short-Term Pass Holder\n",
       "142821    Short-Term Pass Holder\n",
       "142822    Short-Term Pass Holder\n",
       "142823    Short-Term Pass Holder\n",
       "142824             Annual Member\n",
       "142825             Annual Member\n",
       "142826             Annual Member\n",
       "142827             Annual Member\n",
       "142828             Annual Member\n",
       "142829             Annual Member\n",
       "142830             Annual Member\n",
       "142831             Annual Member\n",
       "142832             Annual Member\n",
       "142833    Short-Term Pass Holder\n",
       "142834             Annual Member\n",
       "142835             Annual Member\n",
       "142836             Annual Member\n",
       "142837             Annual Member\n",
       "142838             Annual Member\n",
       "142839             Annual Member\n",
       "142840             Annual Member\n",
       "142841             Annual Member\n",
       "142842             Annual Member\n",
       "142843             Annual Member\n",
       "142844    Short-Term Pass Holder\n",
       "142845             Annual Member\n",
       "Name: usertype, dtype: object"
      ]
     },
     "execution_count": 11,
     "metadata": {},
     "output_type": "execute_result"
    }
   ],
   "source": [
    "data[\"usertype\"]"
   ]
  },
  {
   "cell_type": "markdown",
   "metadata": {},
   "source": [
    "Mathematical operations on columns happen *element-wise*:"
   ]
  },
  {
   "cell_type": "code",
   "execution_count": 12,
   "metadata": {
    "collapsed": false
   },
   "outputs": [
    {
     "data": {
      "text/plain": [
       "0         16.432250\n",
       "1         15.439583\n",
       "2         14.730517\n",
       "3         14.432283\n",
       "4         15.398717\n",
       "5         13.480083\n",
       "6          9.945250\n",
       "7          9.868850\n",
       "8          9.772450\n",
       "9          9.793900\n",
       "10         9.414983\n",
       "11        10.335683\n",
       "12        10.568117\n",
       "13        10.238933\n",
       "14        10.024383\n",
       "15        10.313017\n",
       "16        10.284750\n",
       "17        10.000833\n",
       "18         8.328900\n",
       "19         9.588450\n",
       "20         9.530117\n",
       "21         9.396050\n",
       "22         7.294817\n",
       "23         8.052567\n",
       "24         7.989700\n",
       "25         8.892200\n",
       "26         8.027150\n",
       "27         7.679533\n",
       "28         7.652750\n",
       "29        11.340950\n",
       "            ...    \n",
       "142816     8.671450\n",
       "142817    14.607983\n",
       "142818     4.938550\n",
       "142819    11.882017\n",
       "142820    21.947550\n",
       "142821    21.883067\n",
       "142822    21.240667\n",
       "142823    18.747133\n",
       "142824    22.390117\n",
       "142825    12.643100\n",
       "142826     4.613267\n",
       "142827     6.036600\n",
       "142828     4.168183\n",
       "142829     4.278083\n",
       "142830     6.128367\n",
       "142831     7.455983\n",
       "142832     2.109933\n",
       "142833     9.045133\n",
       "142834     4.308700\n",
       "142835    15.671783\n",
       "142836    10.276817\n",
       "142837    10.726967\n",
       "142838     9.055200\n",
       "142839     3.375017\n",
       "142840     8.962267\n",
       "142841     6.286383\n",
       "142842     5.055500\n",
       "142843     2.759950\n",
       "142844     6.476267\n",
       "142845     6.531417\n",
       "Name: tripduration, dtype: float64"
      ]
     },
     "execution_count": 12,
     "metadata": {},
     "output_type": "execute_result"
    }
   ],
   "source": [
    "data['tripduration'] / 60"
   ]
  },
  {
   "cell_type": "markdown",
   "metadata": {},
   "source": [
    "Columns can be created (or overwritten) with the assignment operator.\n",
    "Let's create a *tripminutes* column with the number of minutes for each trip"
   ]
  },
  {
   "cell_type": "code",
   "execution_count": 13,
   "metadata": {
    "collapsed": false
   },
   "outputs": [],
   "source": [
    "data['tripminutes'] = data['tripduration'] / 60"
   ]
  },
  {
   "cell_type": "code",
   "execution_count": 14,
   "metadata": {
    "collapsed": false
   },
   "outputs": [
    {
     "data": {
      "text/html": [
       "<div>\n",
       "<table border=\"1\" class=\"dataframe\">\n",
       "  <thead>\n",
       "    <tr style=\"text-align: right;\">\n",
       "      <th></th>\n",
       "      <th>trip_id</th>\n",
       "      <th>starttime</th>\n",
       "      <th>stoptime</th>\n",
       "      <th>bikeid</th>\n",
       "      <th>tripduration</th>\n",
       "      <th>from_station_name</th>\n",
       "      <th>to_station_name</th>\n",
       "      <th>from_station_id</th>\n",
       "      <th>to_station_id</th>\n",
       "      <th>usertype</th>\n",
       "      <th>gender</th>\n",
       "      <th>birthyear</th>\n",
       "      <th>tripminutes</th>\n",
       "    </tr>\n",
       "  </thead>\n",
       "  <tbody>\n",
       "    <tr>\n",
       "      <th>0</th>\n",
       "      <td>431</td>\n",
       "      <td>10/13/2014 10:31</td>\n",
       "      <td>10/13/2014 10:48</td>\n",
       "      <td>SEA00298</td>\n",
       "      <td>985.935</td>\n",
       "      <td>2nd Ave &amp; Spring St</td>\n",
       "      <td>Occidental Park / Occidental Ave S &amp; S Washing...</td>\n",
       "      <td>CBD-06</td>\n",
       "      <td>PS-04</td>\n",
       "      <td>Annual Member</td>\n",
       "      <td>Male</td>\n",
       "      <td>1960</td>\n",
       "      <td>16.432250</td>\n",
       "    </tr>\n",
       "    <tr>\n",
       "      <th>1</th>\n",
       "      <td>432</td>\n",
       "      <td>10/13/2014 10:32</td>\n",
       "      <td>10/13/2014 10:48</td>\n",
       "      <td>SEA00195</td>\n",
       "      <td>926.375</td>\n",
       "      <td>2nd Ave &amp; Spring St</td>\n",
       "      <td>Occidental Park / Occidental Ave S &amp; S Washing...</td>\n",
       "      <td>CBD-06</td>\n",
       "      <td>PS-04</td>\n",
       "      <td>Annual Member</td>\n",
       "      <td>Male</td>\n",
       "      <td>1970</td>\n",
       "      <td>15.439583</td>\n",
       "    </tr>\n",
       "    <tr>\n",
       "      <th>2</th>\n",
       "      <td>433</td>\n",
       "      <td>10/13/2014 10:33</td>\n",
       "      <td>10/13/2014 10:48</td>\n",
       "      <td>SEA00486</td>\n",
       "      <td>883.831</td>\n",
       "      <td>2nd Ave &amp; Spring St</td>\n",
       "      <td>Occidental Park / Occidental Ave S &amp; S Washing...</td>\n",
       "      <td>CBD-06</td>\n",
       "      <td>PS-04</td>\n",
       "      <td>Annual Member</td>\n",
       "      <td>Female</td>\n",
       "      <td>1988</td>\n",
       "      <td>14.730517</td>\n",
       "    </tr>\n",
       "    <tr>\n",
       "      <th>3</th>\n",
       "      <td>434</td>\n",
       "      <td>10/13/2014 10:34</td>\n",
       "      <td>10/13/2014 10:48</td>\n",
       "      <td>SEA00333</td>\n",
       "      <td>865.937</td>\n",
       "      <td>2nd Ave &amp; Spring St</td>\n",
       "      <td>Occidental Park / Occidental Ave S &amp; S Washing...</td>\n",
       "      <td>CBD-06</td>\n",
       "      <td>PS-04</td>\n",
       "      <td>Annual Member</td>\n",
       "      <td>Female</td>\n",
       "      <td>1977</td>\n",
       "      <td>14.432283</td>\n",
       "    </tr>\n",
       "    <tr>\n",
       "      <th>4</th>\n",
       "      <td>435</td>\n",
       "      <td>10/13/2014 10:34</td>\n",
       "      <td>10/13/2014 10:49</td>\n",
       "      <td>SEA00202</td>\n",
       "      <td>923.923</td>\n",
       "      <td>2nd Ave &amp; Spring St</td>\n",
       "      <td>Occidental Park / Occidental Ave S &amp; S Washing...</td>\n",
       "      <td>CBD-06</td>\n",
       "      <td>PS-04</td>\n",
       "      <td>Annual Member</td>\n",
       "      <td>Male</td>\n",
       "      <td>1971</td>\n",
       "      <td>15.398717</td>\n",
       "    </tr>\n",
       "  </tbody>\n",
       "</table>\n",
       "</div>"
      ],
      "text/plain": [
       "   trip_id         starttime          stoptime    bikeid  tripduration  \\\n",
       "0      431  10/13/2014 10:31  10/13/2014 10:48  SEA00298       985.935   \n",
       "1      432  10/13/2014 10:32  10/13/2014 10:48  SEA00195       926.375   \n",
       "2      433  10/13/2014 10:33  10/13/2014 10:48  SEA00486       883.831   \n",
       "3      434  10/13/2014 10:34  10/13/2014 10:48  SEA00333       865.937   \n",
       "4      435  10/13/2014 10:34  10/13/2014 10:49  SEA00202       923.923   \n",
       "\n",
       "     from_station_name                                    to_station_name  \\\n",
       "0  2nd Ave & Spring St  Occidental Park / Occidental Ave S & S Washing...   \n",
       "1  2nd Ave & Spring St  Occidental Park / Occidental Ave S & S Washing...   \n",
       "2  2nd Ave & Spring St  Occidental Park / Occidental Ave S & S Washing...   \n",
       "3  2nd Ave & Spring St  Occidental Park / Occidental Ave S & S Washing...   \n",
       "4  2nd Ave & Spring St  Occidental Park / Occidental Ave S & S Washing...   \n",
       "\n",
       "  from_station_id to_station_id       usertype  gender  birthyear  tripminutes  \n",
       "0          CBD-06         PS-04  Annual Member    Male       1960    16.432250  \n",
       "1          CBD-06         PS-04  Annual Member    Male       1970    15.439583  \n",
       "2          CBD-06         PS-04  Annual Member  Female       1988    14.730517  \n",
       "3          CBD-06         PS-04  Annual Member  Female       1977    14.432283  \n",
       "4          CBD-06         PS-04  Annual Member    Male       1971    15.398717  "
      ]
     },
     "execution_count": 14,
     "metadata": {},
     "output_type": "execute_result"
    }
   ],
   "source": [
    "data.head()"
   ]
  },
  {
   "cell_type": "markdown",
   "metadata": {},
   "source": [
    "### Working with Times"
   ]
  },
  {
   "cell_type": "markdown",
   "metadata": {},
   "source": [
    "One trick to know when working with columns of times is that Pandas ``DateTimeIndex`` provides a nice interface for working with columns of times:"
   ]
  },
  {
   "cell_type": "code",
   "execution_count": 15,
   "metadata": {
    "collapsed": false
   },
   "outputs": [],
   "source": [
    "times = pd.DatetimeIndex(data['starttime'])"
   ]
  },
  {
   "cell_type": "markdown",
   "metadata": {},
   "source": [
    "With it, we can extract, the hour of the day, the day of the week, the month, and a wide range of other views of the time:"
   ]
  },
  {
   "cell_type": "code",
   "execution_count": 16,
   "metadata": {
    "collapsed": false
   },
   "outputs": [
    {
     "data": {
      "text/plain": [
       "DatetimeIndex(['2014-10-13 10:31:00', '2014-10-13 10:32:00',\n",
       "               '2014-10-13 10:33:00', '2014-10-13 10:34:00',\n",
       "               '2014-10-13 10:34:00', '2014-10-13 10:34:00',\n",
       "               '2014-10-13 11:35:00', '2014-10-13 11:35:00',\n",
       "               '2014-10-13 11:35:00', '2014-10-13 11:35:00',\n",
       "               ...\n",
       "               '2015-10-12 20:09:00', '2015-10-12 20:11:00',\n",
       "               '2015-10-12 20:18:00', '2015-10-12 20:39:00',\n",
       "               '2015-10-12 20:41:00', '2015-10-12 20:41:00',\n",
       "               '2015-10-12 20:43:00', '2015-10-12 21:03:00',\n",
       "               '2015-10-12 21:35:00', '2015-10-12 22:45:00'],\n",
       "              dtype='datetime64[ns]', length=142846, freq=None)"
      ]
     },
     "execution_count": 16,
     "metadata": {},
     "output_type": "execute_result"
    }
   ],
   "source": [
    "times"
   ]
  },
  {
   "cell_type": "code",
   "execution_count": 17,
   "metadata": {
    "collapsed": false
   },
   "outputs": [
    {
     "data": {
      "text/plain": [
       "array([0, 0, 0, ..., 0, 0, 0], dtype=int32)"
      ]
     },
     "execution_count": 17,
     "metadata": {},
     "output_type": "execute_result"
    }
   ],
   "source": [
    "times.dayofweek"
   ]
  },
  {
   "cell_type": "code",
   "execution_count": 18,
   "metadata": {
    "collapsed": false
   },
   "outputs": [
    {
     "data": {
      "text/plain": [
       "array([10, 10, 10, ..., 10, 10, 10], dtype=int32)"
      ]
     },
     "execution_count": 18,
     "metadata": {},
     "output_type": "execute_result"
    }
   ],
   "source": [
    "times.month"
   ]
  },
  {
   "cell_type": "markdown",
   "metadata": {},
   "source": [
    "*Note: math functionality can be applied to columns using the NumPy package: for example:*"
   ]
  },
  {
   "cell_type": "code",
   "execution_count": 19,
   "metadata": {
    "collapsed": false
   },
   "outputs": [
    {
     "data": {
      "text/plain": [
       "0         1.369101e+07\n",
       "1         5.073712e+06\n",
       "2         2.496791e+06\n",
       "3         1.852939e+06\n",
       "4         4.870546e+06\n",
       "5         7.150325e+05\n",
       "6         2.085294e+04\n",
       "7         1.931911e+04\n",
       "8         1.754370e+04\n",
       "9         1.792407e+04\n",
       "10        1.227087e+04\n",
       "11        3.081273e+04\n",
       "12        3.887539e+04\n",
       "13        2.797127e+04\n",
       "14        2.257015e+04\n",
       "15        3.012217e+04\n",
       "16        2.928264e+04\n",
       "17        2.204483e+04\n",
       "18        4.141859e+03\n",
       "19        1.459523e+04\n",
       "20        1.376820e+04\n",
       "21        1.204073e+04\n",
       "22        1.472647e+03\n",
       "23        3.141849e+03\n",
       "24        2.950412e+03\n",
       "25        7.275007e+03\n",
       "26        3.063000e+03\n",
       "27        2.163610e+03\n",
       "28        2.106430e+03\n",
       "29        8.419998e+04\n",
       "              ...     \n",
       "142816    5.833952e+03\n",
       "142817    2.208852e+06\n",
       "142818    1.395677e+02\n",
       "142819    1.446420e+05\n",
       "142820    3.401730e+09\n",
       "142821    3.189298e+09\n",
       "142822    1.677661e+09\n",
       "142823    1.386043e+08\n",
       "142824    5.295465e+09\n",
       "142825    3.096197e+05\n",
       "142826    1.008129e+02\n",
       "142827    4.184678e+02\n",
       "142828    6.459799e+01\n",
       "142829    7.210211e+01\n",
       "142830    4.586864e+02\n",
       "142831    1.730185e+03\n",
       "142832    8.247691e+00\n",
       "142833    8.477182e+03\n",
       "142834    7.434378e+01\n",
       "142835    6.399839e+06\n",
       "142836    2.905125e+04\n",
       "142837    4.556826e+04\n",
       "142838    8.562950e+03\n",
       "142839    2.922477e+01\n",
       "142840    7.803024e+03\n",
       "142841    5.372069e+02\n",
       "142842    1.568830e+02\n",
       "142843    1.579905e+01\n",
       "142844    6.495415e+02\n",
       "142845    6.863699e+02\n",
       "Name: tripminutes, dtype: float64"
      ]
     },
     "execution_count": 19,
     "metadata": {},
     "output_type": "execute_result"
    }
   ],
   "source": [
    "import numpy as np\n",
    "np.exp(data['tripminutes'])"
   ]
  },
  {
   "cell_type": "markdown",
   "metadata": {},
   "source": [
    "### Simple Grouping of Data\n",
    "\n",
    "The real power of Pandas comes in its tools for grouping and aggregating data. Here we'll look at *value counts* and the basics of *group-by* operations."
   ]
  },
  {
   "cell_type": "markdown",
   "metadata": {},
   "source": [
    "#### Value Counts"
   ]
  },
  {
   "cell_type": "markdown",
   "metadata": {},
   "source": [
    "Pandas includes an array of useful functionality for manipulating and analyzing tabular data.\n",
    "We'll take a look at two of these here."
   ]
  },
  {
   "cell_type": "markdown",
   "metadata": {},
   "source": [
    "The ``pandas.value_counts`` returns statistics on the unique values within each column.\n",
    "\n",
    "We can use it, for example, to break down rides by gender:"
   ]
  },
  {
   "cell_type": "code",
   "execution_count": 20,
   "metadata": {
    "collapsed": false
   },
   "outputs": [
    {
     "data": {
      "text/plain": [
       "Male      67608\n",
       "Female    18245\n",
       "Other      1507\n",
       "Name: gender, dtype: int64"
      ]
     },
     "execution_count": 20,
     "metadata": {},
     "output_type": "execute_result"
    }
   ],
   "source": [
    "pd.value_counts(data['gender'])"
   ]
  },
  {
   "cell_type": "markdown",
   "metadata": {},
   "source": [
    "Or to break down rides by age:"
   ]
  },
  {
   "cell_type": "code",
   "execution_count": 21,
   "metadata": {
    "collapsed": false
   },
   "outputs": [
    {
     "data": {
      "text/plain": [
       "1936       6\n",
       "1939      23\n",
       "1942       2\n",
       "1943      11\n",
       "1944       1\n",
       "1945     115\n",
       "1946      39\n",
       "1947     244\n",
       "1948      34\n",
       "1949     154\n",
       "1950     657\n",
       "1951     251\n",
       "1952     204\n",
       "1953     337\n",
       "1954     152\n",
       "1955     397\n",
       "1956     481\n",
       "1957     224\n",
       "1958     160\n",
       "1959     696\n",
       "1960     429\n",
       "1961     875\n",
       "1962    1769\n",
       "1963     828\n",
       "1964    1374\n",
       "1965    1510\n",
       "1966     761\n",
       "1967    1354\n",
       "1968    1085\n",
       "1969    1185\n",
       "1970    1056\n",
       "1971    1279\n",
       "1972    1921\n",
       "1973    1076\n",
       "1974    1497\n",
       "1975    1969\n",
       "1976    1577\n",
       "1977    2465\n",
       "1978    2063\n",
       "1979    1976\n",
       "1980    2236\n",
       "1981    4779\n",
       "1982    4629\n",
       "1983    3965\n",
       "1984    3815\n",
       "1985    5370\n",
       "1986    3492\n",
       "1987    9320\n",
       "1988    4188\n",
       "1989    2755\n",
       "1990    3605\n",
       "1991    2912\n",
       "1992    1798\n",
       "1993    1126\n",
       "1994     549\n",
       "1995     412\n",
       "1996     121\n",
       "1997      21\n",
       "1998      25\n",
       "1999       5\n",
       "Name: birthyear, dtype: int64"
      ]
     },
     "execution_count": 21,
     "metadata": {},
     "output_type": "execute_result"
    }
   ],
   "source": [
    "pd.value_counts(data['birthyear']).sort_index()"
   ]
  },
  {
   "cell_type": "markdown",
   "metadata": {},
   "source": [
    "What else might we break down rides by?"
   ]
  },
  {
   "cell_type": "code",
   "execution_count": 22,
   "metadata": {
    "collapsed": false
   },
   "outputs": [
    {
     "data": {
      "text/plain": [
       "3    21505\n",
       "0    21266\n",
       "4    21097\n",
       "2    20748\n",
       "1    20465\n",
       "5    20358\n",
       "6    17407\n",
       "dtype: int64"
      ]
     },
     "execution_count": 22,
     "metadata": {},
     "output_type": "execute_result"
    }
   ],
   "source": [
    "pd.value_counts(times.dayofweek)"
   ]
  },
  {
   "cell_type": "markdown",
   "metadata": {},
   "source": [
    "*We can sort by the index rather than the counts if we wish:*"
   ]
  },
  {
   "cell_type": "code",
   "execution_count": 23,
   "metadata": {
    "collapsed": false
   },
   "outputs": [
    {
     "data": {
      "text/plain": [
       "0    21266\n",
       "1    20465\n",
       "2    20748\n",
       "3    21505\n",
       "4    21097\n",
       "5    20358\n",
       "6    17407\n",
       "dtype: int64"
      ]
     },
     "execution_count": 23,
     "metadata": {},
     "output_type": "execute_result"
    }
   ],
   "source": [
    "pd.value_counts(times.dayofweek, sort=False)"
   ]
  },
  {
   "cell_type": "code",
   "execution_count": 24,
   "metadata": {
    "collapsed": false
   },
   "outputs": [
    {
     "data": {
      "text/plain": [
       "7     18808\n",
       "8     17046\n",
       "6     15999\n",
       "5     15548\n",
       "9     13134\n",
       "4     12898\n",
       "10    11081\n",
       "3      9980\n",
       "11     7823\n",
       "1      7368\n",
       "2      7330\n",
       "12     5831\n",
       "dtype: int64"
      ]
     },
     "execution_count": 24,
     "metadata": {},
     "output_type": "execute_result"
    }
   ],
   "source": [
    "pd.value_counts(times.month)"
   ]
  },
  {
   "cell_type": "code",
   "execution_count": 25,
   "metadata": {
    "collapsed": false
   },
   "outputs": [
    {
     "data": {
      "text/plain": [
       "1      7368\n",
       "2      7330\n",
       "3      9980\n",
       "4     12898\n",
       "5     15548\n",
       "6     15999\n",
       "7     18808\n",
       "8     17046\n",
       "9     13134\n",
       "10    11081\n",
       "11     7823\n",
       "12     5831\n",
       "dtype: int64"
      ]
     },
     "execution_count": 25,
     "metadata": {},
     "output_type": "execute_result"
    }
   ],
   "source": [
    "pd.value_counts(times.month, sort=False)"
   ]
  },
  {
   "cell_type": "markdown",
   "metadata": {},
   "source": [
    "### Group-by Operation\n",
    "\n",
    "One of the killer features of the Pandas dataframe is the ability to do group-by operations.\n",
    "You can visualize the group-by like this (image borrowed from the [Python Data Science Handbook](http://shop.oreilly.com/product/0636920034919.do))"
   ]
  },
  {
   "cell_type": "code",
   "execution_count": 26,
   "metadata": {
    "collapsed": false
   },
   "outputs": [
    {
     "data": {
      "image/png": "[encoded data removed]",
      "text/plain": [
       "<IPython.core.display.Image object>"
      ]
     },
     "execution_count": 26,
     "metadata": {},
     "output_type": "execute_result"
    }
   ],
   "source": [
    "from IPython.display import Image\n",
    "Image('split_apply_combine.png')"
   ]
  },
  {
   "cell_type": "markdown",
   "metadata": {},
   "source": [
    "So, for example, we can use this to find the average length of a ride as a function of time of day:"
   ]
  },
  {
   "cell_type": "code",
   "execution_count": 27,
   "metadata": {
    "collapsed": false
   },
   "outputs": [
    {
     "data": {
      "text/plain": [
       "0     18.293162\n",
       "1     16.812000\n",
       "2     26.467510\n",
       "3     22.643443\n",
       "4     18.595762\n",
       "5     13.565035\n",
       "6     12.091993\n",
       "7     12.378344\n",
       "8     12.544350\n",
       "9     15.175861\n",
       "10    23.558911\n",
       "11    25.645489\n",
       "12    26.052903\n",
       "13    27.878785\n",
       "14    28.354453\n",
       "15    26.164124\n",
       "16    21.257375\n",
       "17    17.388788\n",
       "18    16.706635\n",
       "19    16.886609\n",
       "20    17.463562\n",
       "21    15.227905\n",
       "22    15.931296\n",
       "23    16.006255\n",
       "Name: tripminutes, dtype: float64"
      ]
     },
     "execution_count": 27,
     "metadata": {},
     "output_type": "execute_result"
    }
   ],
   "source": [
    "data.groupby(times.hour)['tripminutes'].mean()"
   ]
  },
  {
   "cell_type": "markdown",
   "metadata": {},
   "source": [
    "The simplest version of a groupby looks like this, and you can use almost any aggregation function you wish (mean, median, sum, minimum, maximum, standard deviation, count, etc.)\n",
    "\n",
    "```\n",
    "<data object>.groupby(<grouping values>).<aggregate>()\n",
    "```\n",
    "\n",
    "You can even group by multiple values: for example we can look at the trip duration by time of day and by gender:"
   ]
  },
  {
   "cell_type": "code",
   "execution_count": 28,
   "metadata": {
    "collapsed": false
   },
   "outputs": [
    {
     "data": {
      "text/plain": [
       "    gender\n",
       "0   Female     9.016608\n",
       "    Male       8.750898\n",
       "    Other      8.123788\n",
       "1   Female     8.721844\n",
       "    Male       7.865786\n",
       "    Other     13.765683\n",
       "2   Female     8.371583\n",
       "    Male       8.880909\n",
       "    Other      7.344022\n",
       "3   Female    16.796675\n",
       "    Male       8.087312\n",
       "    Other      5.643350\n",
       "4   Female     9.123506\n",
       "    Male      12.134917\n",
       "    Other      2.810767\n",
       "5   Female    12.970906\n",
       "    Male       8.261415\n",
       "6   Female    10.954091\n",
       "    Male       8.038184\n",
       "    Other      9.752973\n",
       "7   Female    12.392548\n",
       "    Male       9.461130\n",
       "    Other     10.525419\n",
       "8   Female    11.309898\n",
       "    Male       9.219013\n",
       "    Other     10.129815\n",
       "9   Female    10.881655\n",
       "    Male       9.019535\n",
       "    Other     11.167447\n",
       "10  Female    12.152443\n",
       "                ...    \n",
       "14  Female    13.085510\n",
       "    Male      10.097013\n",
       "    Other     11.780128\n",
       "15  Female    12.521131\n",
       "    Male      10.586964\n",
       "    Other     10.580798\n",
       "16  Female    12.614844\n",
       "    Male      10.534829\n",
       "    Other     13.845402\n",
       "17  Female    12.927452\n",
       "    Male      10.507247\n",
       "    Other     11.990486\n",
       "18  Female    12.414073\n",
       "    Male       9.432061\n",
       "    Other      9.477819\n",
       "19  Female    12.008509\n",
       "    Male       9.068067\n",
       "    Other      9.579921\n",
       "20  Female    11.716320\n",
       "    Male       9.253255\n",
       "    Other      8.051081\n",
       "21  Female    11.241531\n",
       "    Male       8.859545\n",
       "    Other      7.606792\n",
       "22  Female    11.088358\n",
       "    Male       8.733132\n",
       "    Other      6.618971\n",
       "23  Female    11.032336\n",
       "    Male       8.085837\n",
       "    Other      5.183287\n",
       "Name: tripminutes, dtype: float64"
      ]
     },
     "execution_count": 28,
     "metadata": {},
     "output_type": "execute_result"
    }
   ],
   "source": [
    "grouped = data.groupby([times.hour, 'gender'])['tripminutes'].mean()\n",
    "grouped"
   ]
  },
  {
   "cell_type": "markdown",
   "metadata": {},
   "source": [
    "The ``unstack()`` operation can help make sense of this type of multiply-grouped data. What this technically does is split a multiple-valued index into an index plus columns:"
   ]
  },
  {
   "cell_type": "code",
   "execution_count": 29,
   "metadata": {
    "collapsed": false
   },
   "outputs": [
    {
     "data": {
      "text/html": [
       "<div>\n",
       "<table border=\"1\" class=\"dataframe\">\n",
       "  <thead>\n",
       "    <tr style=\"text-align: right;\">\n",
       "      <th>gender</th>\n",
       "      <th>Female</th>\n",
       "      <th>Male</th>\n",
       "      <th>Other</th>\n",
       "    </tr>\n",
       "  </thead>\n",
       "  <tbody>\n",
       "    <tr>\n",
       "      <th>0</th>\n",
       "      <td>9.016608</td>\n",
       "      <td>8.750898</td>\n",
       "      <td>8.123788</td>\n",
       "    </tr>\n",
       "    <tr>\n",
       "      <th>1</th>\n",
       "      <td>8.721844</td>\n",
       "      <td>7.865786</td>\n",
       "      <td>13.765683</td>\n",
       "    </tr>\n",
       "    <tr>\n",
       "      <th>2</th>\n",
       "      <td>8.371583</td>\n",
       "      <td>8.880909</td>\n",
       "      <td>7.344022</td>\n",
       "    </tr>\n",
       "    <tr>\n",
       "      <th>3</th>\n",
       "      <td>16.796675</td>\n",
       "      <td>8.087312</td>\n",
       "      <td>5.643350</td>\n",
       "    </tr>\n",
       "    <tr>\n",
       "      <th>4</th>\n",
       "      <td>9.123506</td>\n",
       "      <td>12.134917</td>\n",
       "      <td>2.810767</td>\n",
       "    </tr>\n",
       "    <tr>\n",
       "      <th>5</th>\n",
       "      <td>12.970906</td>\n",
       "      <td>8.261415</td>\n",
       "      <td>NaN</td>\n",
       "    </tr>\n",
       "    <tr>\n",
       "      <th>6</th>\n",
       "      <td>10.954091</td>\n",
       "      <td>8.038184</td>\n",
       "      <td>9.752973</td>\n",
       "    </tr>\n",
       "    <tr>\n",
       "      <th>7</th>\n",
       "      <td>12.392548</td>\n",
       "      <td>9.461130</td>\n",
       "      <td>10.525419</td>\n",
       "    </tr>\n",
       "    <tr>\n",
       "      <th>8</th>\n",
       "      <td>11.309898</td>\n",
       "      <td>9.219013</td>\n",
       "      <td>10.129815</td>\n",
       "    </tr>\n",
       "    <tr>\n",
       "      <th>9</th>\n",
       "      <td>10.881655</td>\n",
       "      <td>9.019535</td>\n",
       "      <td>11.167447</td>\n",
       "    </tr>\n",
       "    <tr>\n",
       "      <th>10</th>\n",
       "      <td>12.152443</td>\n",
       "      <td>9.275972</td>\n",
       "      <td>11.615609</td>\n",
       "    </tr>\n",
       "    <tr>\n",
       "      <th>11</th>\n",
       "      <td>11.763075</td>\n",
       "      <td>9.066147</td>\n",
       "      <td>13.589810</td>\n",
       "    </tr>\n",
       "    <tr>\n",
       "      <th>12</th>\n",
       "      <td>12.436949</td>\n",
       "      <td>9.859569</td>\n",
       "      <td>10.503408</td>\n",
       "    </tr>\n",
       "    <tr>\n",
       "      <th>13</th>\n",
       "      <td>13.031992</td>\n",
       "      <td>9.675181</td>\n",
       "      <td>10.693493</td>\n",
       "    </tr>\n",
       "    <tr>\n",
       "      <th>14</th>\n",
       "      <td>13.085510</td>\n",
       "      <td>10.097013</td>\n",
       "      <td>11.780128</td>\n",
       "    </tr>\n",
       "    <tr>\n",
       "      <th>15</th>\n",
       "      <td>12.521131</td>\n",
       "      <td>10.586964</td>\n",
       "      <td>10.580798</td>\n",
       "    </tr>\n",
       "    <tr>\n",
       "      <th>16</th>\n",
       "      <td>12.614844</td>\n",
       "      <td>10.534829</td>\n",
       "      <td>13.845402</td>\n",
       "    </tr>\n",
       "    <tr>\n",
       "      <th>17</th>\n",
       "      <td>12.927452</td>\n",
       "      <td>10.507247</td>\n",
       "      <td>11.990486</td>\n",
       "    </tr>\n",
       "    <tr>\n",
       "      <th>18</th>\n",
       "      <td>12.414073</td>\n",
       "      <td>9.432061</td>\n",
       "      <td>9.477819</td>\n",
       "    </tr>\n",
       "    <tr>\n",
       "      <th>19</th>\n",
       "      <td>12.008509</td>\n",
       "      <td>9.068067</td>\n",
       "      <td>9.579921</td>\n",
       "    </tr>\n",
       "    <tr>\n",
       "      <th>20</th>\n",
       "      <td>11.716320</td>\n",
       "      <td>9.253255</td>\n",
       "      <td>8.051081</td>\n",
       "    </tr>\n",
       "    <tr>\n",
       "      <th>21</th>\n",
       "      <td>11.241531</td>\n",
       "      <td>8.859545</td>\n",
       "      <td>7.606792</td>\n",
       "    </tr>\n",
       "    <tr>\n",
       "      <th>22</th>\n",
       "      <td>11.088358</td>\n",
       "      <td>8.733132</td>\n",
       "      <td>6.618971</td>\n",
       "    </tr>\n",
       "    <tr>\n",
       "      <th>23</th>\n",
       "      <td>11.032336</td>\n",
       "      <td>8.085837</td>\n",
       "      <td>5.183287</td>\n",
       "    </tr>\n",
       "  </tbody>\n",
       "</table>\n",
       "</div>"
      ],
      "text/plain": [
       "gender     Female       Male      Other\n",
       "0        9.016608   8.750898   8.123788\n",
       "1        8.721844   7.865786  13.765683\n",
       "2        8.371583   8.880909   7.344022\n",
       "3       16.796675   8.087312   5.643350\n",
       "4        9.123506  12.134917   2.810767\n",
       "5       12.970906   8.261415        NaN\n",
       "6       10.954091   8.038184   9.752973\n",
       "7       12.392548   9.461130  10.525419\n",
       "8       11.309898   9.219013  10.129815\n",
       "9       10.881655   9.019535  11.167447\n",
       "10      12.152443   9.275972  11.615609\n",
       "11      11.763075   9.066147  13.589810\n",
       "12      12.436949   9.859569  10.503408\n",
       "13      13.031992   9.675181  10.693493\n",
       "14      13.085510  10.097013  11.780128\n",
       "15      12.521131  10.586964  10.580798\n",
       "16      12.614844  10.534829  13.845402\n",
       "17      12.927452  10.507247  11.990486\n",
       "18      12.414073   9.432061   9.477819\n",
       "19      12.008509   9.068067   9.579921\n",
       "20      11.716320   9.253255   8.051081\n",
       "21      11.241531   8.859545   7.606792\n",
       "22      11.088358   8.733132   6.618971\n",
       "23      11.032336   8.085837   5.183287"
      ]
     },
     "execution_count": 29,
     "metadata": {},
     "output_type": "execute_result"
    }
   ],
   "source": [
    "grouped.unstack()"
   ]
  },
  {
   "cell_type": "markdown",
   "metadata": {},
   "source": [
    "## 5. Visualizing data with ``pandas``\n",
    "\n",
    "Of course, looking at tables of data is not very intuitive.\n",
    "Fortunately Pandas has many useful plotting functions built-in, all of which make use of the ``matplotlib`` library to generate plots.\n",
    "\n",
    "Whenever you do plotting in the IPython notebook, you will want to first run this *magic command* which configures the notebook to work well with plots:"
   ]
  },
  {
   "cell_type": "code",
   "execution_count": 30,
   "metadata": {
    "collapsed": true
   },
   "outputs": [],
   "source": [
    "%matplotlib inline"
   ]
  },
  {
   "cell_type": "markdown",
   "metadata": {},
   "source": [
    "Now we can simply call the ``plot()`` method of any series or dataframe to get a reasonable view of the data:"
   ]
  },
  {
   "cell_type": "code",
   "execution_count": 31,
   "metadata": {
    "collapsed": false
   },
   "outputs": [
    {
     "data": {
      "text/plain": [
       "<matplotlib.axes._subplots.AxesSubplot at 0x108900518>"
      ]
     },
     "execution_count": 31,
     "metadata": {},
     "output_type": "execute_result"
    },
    {
     "data": {
      "image/png": "[encoded data removed]",
      "text/plain": [
       "<matplotlib.figure.Figure at 0x1088f2898>"
      ]
     },
     "metadata": {},
     "output_type": "display_data"
    }
   ],
   "source": [
    "data.groupby([times.hour, 'usertype'])['tripminutes'].mean().unstack().plot()"
   ]
  },
  {
   "cell_type": "markdown",
   "metadata": {},
   "source": [
    "### Adjusting the Plot Style\n",
    "\n",
    "The default formatting is not very nice; I often make use of the [Seaborn](http://stanford.edu/~mwaskom/software/seaborn/) library for better plotting defaults.\n",
    "\n",
    "First you'll have to\n",
    "```\n",
    "$ conda install seaborn\n",
    "```\n",
    "and then you can do this:"
   ]
  },
  {
   "cell_type": "code",
   "execution_count": 32,
   "metadata": {
    "collapsed": false
   },
   "outputs": [
    {
     "name": "stderr",
     "output_type": "stream",
     "text": [
      "/Users/jakevdp/anaconda/envs/python3.5/lib/python3.5/site-packages/matplotlib/__init__.py:872: UserWarning: axes.color_cycle is deprecated and replaced with axes.prop_cycle; please use the latter.\n",
      "  warnings.warn(self.msg_depr % (key, alt_key))\n"
     ]
    }
   ],
   "source": [
    "import seaborn\n",
    "seaborn.set()"
   ]
  },
  {
   "cell_type": "markdown",
   "metadata": {},
   "source": [
    "And now re-run the plot from above:"
   ]
  },
  {
   "cell_type": "code",
   "execution_count": 33,
   "metadata": {
    "collapsed": false
   },
   "outputs": [
    {
     "data": {
      "text/plain": [
       "<matplotlib.axes._subplots.AxesSubplot at 0x10cdfa5f8>"
      ]
     },
     "execution_count": 33,
     "metadata": {},
     "output_type": "execute_result"
    },
    {
     "data": {
      "image/png": "[encoded data removed]",
      "text/plain": [
       "<matplotlib.figure.Figure at 0x10cdc9d68>"
      ]
     },
     "metadata": {},
     "output_type": "display_data"
    }
   ],
   "source": [
    "data.groupby([times.hour, 'usertype'])['tripminutes'].mean().unstack().plot()"
   ]
  },
  {
   "cell_type": "markdown",
   "metadata": {},
   "source": [
    "### Other plot types\n",
    "\n",
    "Pandas supports a range of other plotting types; you can find these by using the <TAB> autocomplete on the ``plot`` method:"
   ]
  },
  {
   "cell_type": "code",
   "execution_count": 34,
   "metadata": {
    "collapsed": false
   },
   "outputs": [
    {
     "data": {
      "text/plain": [
       "<bound method FramePlotMethods.hist of <pandas.tools.plotting.FramePlotMethods object at 0x1071b5dd8>>"
      ]
     },
     "execution_count": 34,
     "metadata": {},
     "output_type": "execute_result"
    }
   ],
   "source": [
    "data.plot.hist"
   ]
  },
  {
   "cell_type": "markdown",
   "metadata": {},
   "source": [
    "For example, we can create a histogram of trip durations:"
   ]
  },
  {
   "cell_type": "code",
   "execution_count": 35,
   "metadata": {
    "collapsed": false
   },
   "outputs": [
    {
     "data": {
      "text/plain": [
       "<matplotlib.axes._subplots.AxesSubplot at 0x10ce979b0>"
      ]
     },
     "execution_count": 35,
     "metadata": {},
     "output_type": "execute_result"
    },
    {
     "data": {
      "image/png": "[encoded data removed]",
      "text/plain": [
       "<matplotlib.figure.Figure at 0x10ce84940>"
      ]
     },
     "metadata": {},
     "output_type": "display_data"
    }
   ],
   "source": [
    "data['tripminutes'].plot.hist(bins=100)"
   ]
  },
  {
   "cell_type": "markdown",
   "metadata": {},
   "source": [
    "If you'd like to adjust the x and y limits of the plot, you can use the ``set_xlim()`` and ``set_ylim()`` method of the resulting object:"
   ]
  },
  {
   "cell_type": "code",
   "execution_count": 36,
   "metadata": {
    "collapsed": false
   },
   "outputs": [
    {
     "data": {
      "text/plain": [
       "(0, 50)"
      ]
     },
     "execution_count": 36,
     "metadata": {},
     "output_type": "execute_result"
    },
    {
     "data": {
      "image/png": "[encoded data removed]",
      "text/plain": [
       "<matplotlib.figure.Figure at 0x107561550>"
      ]
     },
     "metadata": {},
     "output_type": "display_data"
    }
   ],
   "source": [
    "plot = data['tripminutes'].plot.hist(bins=500)\n",
    "plot.set_xlim(0, 50)\n"
   ]
  },
  {
   "cell_type": "markdown",
   "metadata": {},
   "source": [
    "## Breakout: Exploring the Data\n",
    "\n",
    "1. Make a plot of the total number of rides as a function of month of the year (You'll need to extract the month, use a ``groupby``, and find the appropriate aggregation to count the number in each group)."
   ]
  },
  {
   "cell_type": "code",
   "execution_count": null,
   "metadata": {
    "collapsed": true
   },
   "outputs": [],
   "source": []
  },
  {
   "cell_type": "markdown",
   "metadata": {},
   "source": [
    "2. Split this plot by gender. Do you see any seasonal ridership patterns by gender?"
   ]
  },
  {
   "cell_type": "code",
   "execution_count": null,
   "metadata": {
    "collapsed": true
   },
   "outputs": [],
   "source": []
  },
  {
   "cell_type": "markdown",
   "metadata": {},
   "source": [
    "3. Split this plot by user type. Do you see any seasonal ridership patterns by usertype?"
   ]
  },
  {
   "cell_type": "code",
   "execution_count": null,
   "metadata": {
    "collapsed": true
   },
   "outputs": [],
   "source": []
  },
  {
   "cell_type": "markdown",
   "metadata": {},
   "source": [
    "4. Repeat the above three steps, counting the number of rides by time of day rather thatn by month."
   ]
  },
  {
   "cell_type": "code",
   "execution_count": null,
   "metadata": {
    "collapsed": true
   },
   "outputs": [],
   "source": []
  },
  {
   "cell_type": "markdown",
   "metadata": {},
   "source": [
    "5. Are there any other interesting insights you can discover in the data using these tools?"
   ]
  },
  {
   "cell_type": "code",
   "execution_count": null,
   "metadata": {
    "collapsed": true
   },
   "outputs": [],
   "source": []
  },
  {
   "cell_type": "code",
   "execution_count": null,
   "metadata": {
    "collapsed": true
   },
   "outputs": [],
   "source": []
  },
  {
   "cell_type": "markdown",
   "metadata": {},
   "source": [
    "### Looking Forward to Homework"
   ]
  },
  {
   "cell_type": "markdown",
   "metadata": {},
   "source": [
    "In the homework this week, you will have a chance to apply some of these patterns to a brand new (but closely related) dataset."
   ]
  }
 ],
 "metadata": {
  "kernelspec": {
   "display_name": "Python 2",
   "language": "python",
   "name": "python2"
  },
  "language_info": {
   "codemirror_mode": {
    "name": "ipython",
    "version": 2
   },
   "file_extension": ".py",
   "mimetype": "text/x-python",
   "name": "python",
   "nbconvert_exporter": "python",
   "pygments_lexer": "ipython2",
   "version": "2.7.12"
  }
 },
 "nbformat": 4,
 "nbformat_minor": 0
}
