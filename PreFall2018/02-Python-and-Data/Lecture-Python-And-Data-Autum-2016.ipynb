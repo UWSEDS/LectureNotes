{
 "cells": [
  {
   "cell_type": "markdown",
   "metadata": {},
   "source": [
    "# Software Engineering for Data Scientists\n",
    "\n",
    "## *Manipulating Data with Python*\n",
    "## CSE 599 B1"
   ]
  },
  {
   "cell_type": "markdown",
   "metadata": {},
   "source": [
    "## Today's Objectives\n",
    "\n",
    "#### 1. Opening & Navigating the IPython Notebook\n",
    "\n",
    "#### 2. Simple Math in the IPython Notebook\n",
    "\n",
    "#### 3. Loading data with ``pandas``\n",
    "\n",
    "#### 4. Cleaning and Manipulating data with ``pandas``\n",
    "\n",
    "#### 5. Visualizing data with ``pandas``"
   ]
  },
  {
   "cell_type": "markdown",
   "metadata": {},
   "source": [
    "## 1. Opening and Navigating the IPython Notebook\n",
    "\n",
    "We will start today with the interactive environment that we will be using often through the course: the [IPython/Jupyter Notebook](http://ipython.org).\n",
    "\n",
    "We will walk through the following steps together:\n",
    "\n",
    "1. Download [miniconda]() (be sure to get Version 3.5) and install it on your system (hopefully you have done this before coming to class)\n",
    "   ```\n",
    "   ```\n",
    "\n",
    "2. Use the ``conda`` command-line tool to update your package listing and install the IPython notebook:\n",
    "\n",
    "   Update ``conda``'s listing of packages for your system:\n",
    "   ```\n",
    "   $ conda update conda\n",
    "   ```\n",
    "   \n",
    "   Install IPython notebook and all its requirements\n",
    "   ```\n",
    "   $ conda install ipython-notebook\n",
    "   ```\n",
    "   \n",
    "3. Navigate to the directory containing the course material. For example:\n",
    "\n",
    "   ```\n",
    "   $ cd ~/courses/CSE599/\n",
    "   ```\n",
    "   \n",
    "   You should see a number of files in the directory, including these:\n",
    "   \n",
    "   ```\n",
    "   $ ls\n",
    "   ...\n",
    "   Breakout-Simple-Math.ipynb\n",
    "   CSE599_Lecture_2.ipynb\n",
    "   ...\n",
    "   ```\n",
    "\n",
    "4. Type ``ipython notebook`` in the terminal to start the notebook\n",
    "\n",
    "   ```\n",
    "   $ ipython notebook\n",
    "   ```\n",
    "   \n",
    "   If everything has worked correctly, it should automatically launch your default browser\n",
    "   ```\n",
    "   ```\n",
    "   \n",
    "5. Click on ``CSE599_Lecture_2.ipynb`` to open the notebook containing the content for this lecture.\n",
    "\n",
    "With that, you're set up to use the IPython notebook!"
   ]
  },
  {
   "cell_type": "markdown",
   "metadata": {},
   "source": [
    "## 2. Simple Math in the IPython Notebook"
   ]
  },
  {
   "cell_type": "markdown",
   "metadata": {},
   "source": [
    "Now that we have the IPython notebook up and running, we're going to do a short breakout exploring some of the mathematical functionality that Python offers.\n",
    "\n",
    "Please open [Breakout-Simple-Math.ipynb](Breakout-Simple-Math.ipynb), find a partner, and make your way through that notebook, typing and executing code along the way."
   ]
  },
  {
   "cell_type": "markdown",
   "metadata": {},
   "source": [
    "## 3. Loading data with ``pandas``\n",
    "\n",
    "With this simple Python computation experience under our belt, we can now move to doing some more interesting analysis."
   ]
  },
  {
   "cell_type": "markdown",
   "metadata": {},
   "source": [
    "### Python's Data Science Ecosystem\n",
    "\n",
    "In addition to Python's built-in modules like the ``math`` module we explored above, there are also many often-used third-party modules that are core tools for doing data science with Python.\n",
    "Some of the most important ones are:\n",
    "\n",
    "#### [``numpy``](http://numpy.org/): Numerical Python\n",
    "\n",
    "Numpy is short for \"Numerical Python\", and contains tools for efficient manipulation of arrays of data.\n",
    "If you have used other computational tools like IDL or MatLab, Numpy should feel very familiar.\n",
    "\n",
    "#### [``scipy``](http://scipy.org/): Scientific Python\n",
    "\n",
    "Scipy is short for \"Scientific Python\", and contains a wide range of functionality for accomplishing common scientific tasks, such as optimization/minimization, numerical integration, interpolation, and much more.\n",
    "We will not look closely at Scipy today, but we will use its functionality later in the course.\n",
    "\n",
    "#### [``pandas``](http://pandas.pydata.org/): Labeled Data Manipulation in Python\n",
    "\n",
    "Pandas is short for \"Panel Data\", and contains tools for doing more advanced manipulation of labeled data in Python, in particular with a columnar data structure called a *Data Frame*.\n",
    "If you've used the [R](http://rstats.org) statistical language (and in particular the so-called \"Hadley Stack\"), much of the functionality in Pandas should feel very familiar.\n",
    "\n",
    "#### [``matplotlib``](http://matplotlib.org): Visualization in Python\n",
    "\n",
    "Matplotlib started out as a Matlab plotting clone in Python, and has grown from there in the 15 years since its creation. It is the most popular data visualization tool currently in the Python data world (though other recent packages are starting to encroach on its monopoly)."
   ]
  },
  {
   "cell_type": "markdown",
   "metadata": {},
   "source": [
    "### Installing Pandas & friends\n",
    "\n",
    "Because the above packages are not included in Python itself, you need to install them separately. While it is possible to install these from source (compiling the C and/or Fortran code that does the heavy lifting under the hood) it is much easier to use a package manager like ``conda``. All it takes is to run\n",
    "\n",
    "```\n",
    "$ conda install numpy scipy pandas matplotlib\n",
    "```\n",
    "\n",
    "and (so long as your conda setup is working) the packages will be downloaded and installed on your system."
   ]
  },
  {
   "cell_type": "markdown",
   "metadata": {},
   "source": [
    "### Loading Data with Pandas"
   ]
  },
  {
   "cell_type": "code",
   "execution_count": 1,
   "metadata": {
    "collapsed": false
   },
   "outputs": [
    {
     "data": {
      "text/plain": [
       "['/home/ubuntu/miniconda2/envs/python3/lib/python2.7/site-packages/numpy']"
      ]
     },
     "execution_count": 1,
     "metadata": {},
     "output_type": "execute_result"
    }
   ],
   "source": [
    "import numpy\n",
    "numpy.__path__"
   ]
  },
  {
   "cell_type": "code",
   "execution_count": 2,
   "metadata": {
    "collapsed": false
   },
   "outputs": [],
   "source": [
    "import pandas"
   ]
  },
  {
   "cell_type": "code",
   "execution_count": 5,
   "metadata": {
    "collapsed": false
   },
   "outputs": [],
   "source": [
    "df = pandas.DataFrame()"
   ]
  },
  {
   "cell_type": "markdown",
   "metadata": {},
   "source": [
    "Because we'll use it so much, we often import under a shortened name using the ``import ... as ...`` pattern:"
   ]
  },
  {
   "cell_type": "code",
   "execution_count": 6,
   "metadata": {
    "collapsed": false
   },
   "outputs": [],
   "source": [
    "import pandas as pd"
   ]
  },
  {
   "cell_type": "code",
   "execution_count": 7,
   "metadata": {
    "collapsed": true
   },
   "outputs": [],
   "source": [
    "df = pd.DataFrame()"
   ]
  },
  {
   "cell_type": "markdown",
   "metadata": {},
   "source": [
    "Now we can use the ``read_csv`` command to read the comma-separated-value data:"
   ]
  },
  {
   "cell_type": "code",
   "execution_count": 8,
   "metadata": {
    "collapsed": false
   },
   "outputs": [],
   "source": [
    "data = pd.read_csv('2015_trip_data.csv')"
   ]
  },
  {
   "cell_type": "markdown",
   "metadata": {},
   "source": [
    "*Note: strings in Python can be defined either with double quotes or single quotes*"
   ]
  },
  {
   "cell_type": "markdown",
   "metadata": {},
   "source": [
    "### Viewing Pandas Dataframes"
   ]
  },
  {
   "cell_type": "markdown",
   "metadata": {},
   "source": [
    "The ``head()`` and ``tail()`` methods show us the first and last rows of the data"
   ]
  },
  {
   "cell_type": "code",
   "execution_count": 10,
   "metadata": {
    "collapsed": false
   },
   "outputs": [
    {
     "data": {
      "text/html": [
       "<div>\n",
       "<table border=\"1\" class=\"dataframe\">\n",
       "  <thead>\n",
       "    <tr style=\"text-align: right;\">\n",
       "      <th></th>\n",
       "      <th>trip_id</th>\n",
       "      <th>starttime</th>\n",
       "      <th>stoptime</th>\n",
       "      <th>bikeid</th>\n",
       "      <th>tripduration</th>\n",
       "      <th>from_station_name</th>\n",
       "      <th>to_station_name</th>\n",
       "      <th>from_station_id</th>\n",
       "      <th>to_station_id</th>\n",
       "      <th>usertype</th>\n",
       "      <th>gender</th>\n",
       "      <th>birthyear</th>\n",
       "    </tr>\n",
       "  </thead>\n",
       "  <tbody>\n",
       "    <tr>\n",
       "      <th>0</th>\n",
       "      <td>431</td>\n",
       "      <td>10/13/2014 10:31</td>\n",
       "      <td>10/13/2014 10:48</td>\n",
       "      <td>SEA00298</td>\n",
       "      <td>985.935</td>\n",
       "      <td>2nd Ave &amp; Spring St</td>\n",
       "      <td>Occidental Park / Occidental Ave S &amp; S Washing...</td>\n",
       "      <td>CBD-06</td>\n",
       "      <td>PS-04</td>\n",
       "      <td>Annual Member</td>\n",
       "      <td>Male</td>\n",
       "      <td>1960.0</td>\n",
       "    </tr>\n",
       "    <tr>\n",
       "      <th>1</th>\n",
       "      <td>432</td>\n",
       "      <td>10/13/2014 10:32</td>\n",
       "      <td>10/13/2014 10:48</td>\n",
       "      <td>SEA00195</td>\n",
       "      <td>926.375</td>\n",
       "      <td>2nd Ave &amp; Spring St</td>\n",
       "      <td>Occidental Park / Occidental Ave S &amp; S Washing...</td>\n",
       "      <td>CBD-06</td>\n",
       "      <td>PS-04</td>\n",
       "      <td>Annual Member</td>\n",
       "      <td>Male</td>\n",
       "      <td>1970.0</td>\n",
       "    </tr>\n",
       "    <tr>\n",
       "      <th>2</th>\n",
       "      <td>433</td>\n",
       "      <td>10/13/2014 10:33</td>\n",
       "      <td>10/13/2014 10:48</td>\n",
       "      <td>SEA00486</td>\n",
       "      <td>883.831</td>\n",
       "      <td>2nd Ave &amp; Spring St</td>\n",
       "      <td>Occidental Park / Occidental Ave S &amp; S Washing...</td>\n",
       "      <td>CBD-06</td>\n",
       "      <td>PS-04</td>\n",
       "      <td>Annual Member</td>\n",
       "      <td>Female</td>\n",
       "      <td>1988.0</td>\n",
       "    </tr>\n",
       "    <tr>\n",
       "      <th>3</th>\n",
       "      <td>434</td>\n",
       "      <td>10/13/2014 10:34</td>\n",
       "      <td>10/13/2014 10:48</td>\n",
       "      <td>SEA00333</td>\n",
       "      <td>865.937</td>\n",
       "      <td>2nd Ave &amp; Spring St</td>\n",
       "      <td>Occidental Park / Occidental Ave S &amp; S Washing...</td>\n",
       "      <td>CBD-06</td>\n",
       "      <td>PS-04</td>\n",
       "      <td>Annual Member</td>\n",
       "      <td>Female</td>\n",
       "      <td>1977.0</td>\n",
       "    </tr>\n",
       "    <tr>\n",
       "      <th>4</th>\n",
       "      <td>435</td>\n",
       "      <td>10/13/2014 10:34</td>\n",
       "      <td>10/13/2014 10:49</td>\n",
       "      <td>SEA00202</td>\n",
       "      <td>923.923</td>\n",
       "      <td>2nd Ave &amp; Spring St</td>\n",
       "      <td>Occidental Park / Occidental Ave S &amp; S Washing...</td>\n",
       "      <td>CBD-06</td>\n",
       "      <td>PS-04</td>\n",
       "      <td>Annual Member</td>\n",
       "      <td>Male</td>\n",
       "      <td>1971.0</td>\n",
       "    </tr>\n",
       "  </tbody>\n",
       "</table>\n",
       "</div>"
      ],
      "text/plain": [
       "   trip_id         starttime          stoptime    bikeid  tripduration  \\\n",
       "0      431  10/13/2014 10:31  10/13/2014 10:48  SEA00298       985.935   \n",
       "1      432  10/13/2014 10:32  10/13/2014 10:48  SEA00195       926.375   \n",
       "2      433  10/13/2014 10:33  10/13/2014 10:48  SEA00486       883.831   \n",
       "3      434  10/13/2014 10:34  10/13/2014 10:48  SEA00333       865.937   \n",
       "4      435  10/13/2014 10:34  10/13/2014 10:49  SEA00202       923.923   \n",
       "\n",
       "     from_station_name                                    to_station_name  \\\n",
       "0  2nd Ave & Spring St  Occidental Park / Occidental Ave S & S Washing...   \n",
       "1  2nd Ave & Spring St  Occidental Park / Occidental Ave S & S Washing...   \n",
       "2  2nd Ave & Spring St  Occidental Park / Occidental Ave S & S Washing...   \n",
       "3  2nd Ave & Spring St  Occidental Park / Occidental Ave S & S Washing...   \n",
       "4  2nd Ave & Spring St  Occidental Park / Occidental Ave S & S Washing...   \n",
       "\n",
       "  from_station_id to_station_id       usertype  gender  birthyear  \n",
       "0          CBD-06         PS-04  Annual Member    Male     1960.0  \n",
       "1          CBD-06         PS-04  Annual Member    Male     1970.0  \n",
       "2          CBD-06         PS-04  Annual Member  Female     1988.0  \n",
       "3          CBD-06         PS-04  Annual Member  Female     1977.0  \n",
       "4          CBD-06         PS-04  Annual Member    Male     1971.0  "
      ]
     },
     "execution_count": 10,
     "metadata": {},
     "output_type": "execute_result"
    }
   ],
   "source": [
    "data.head()"
   ]
  },
  {
   "cell_type": "code",
   "execution_count": 11,
   "metadata": {
    "collapsed": false
   },
   "outputs": [
    {
     "data": {
      "text/html": [
       "<div>\n",
       "<table border=\"1\" class=\"dataframe\">\n",
       "  <thead>\n",
       "    <tr style=\"text-align: right;\">\n",
       "      <th></th>\n",
       "      <th>trip_id</th>\n",
       "      <th>starttime</th>\n",
       "      <th>stoptime</th>\n",
       "      <th>bikeid</th>\n",
       "      <th>tripduration</th>\n",
       "      <th>from_station_name</th>\n",
       "      <th>to_station_name</th>\n",
       "      <th>from_station_id</th>\n",
       "      <th>to_station_id</th>\n",
       "      <th>usertype</th>\n",
       "      <th>gender</th>\n",
       "      <th>birthyear</th>\n",
       "    </tr>\n",
       "  </thead>\n",
       "  <tbody>\n",
       "    <tr>\n",
       "      <th>142841</th>\n",
       "      <td>156796</td>\n",
       "      <td>10/12/2015 20:41</td>\n",
       "      <td>10/12/2015 20:47</td>\n",
       "      <td>SEA00358</td>\n",
       "      <td>377.183</td>\n",
       "      <td>E Pine St &amp; 16th Ave</td>\n",
       "      <td>Summit Ave &amp; E Denny Way</td>\n",
       "      <td>CH-07</td>\n",
       "      <td>CH-01</td>\n",
       "      <td>Annual Member</td>\n",
       "      <td>Male</td>\n",
       "      <td>1990.0</td>\n",
       "    </tr>\n",
       "    <tr>\n",
       "      <th>142842</th>\n",
       "      <td>156797</td>\n",
       "      <td>10/12/2015 20:43</td>\n",
       "      <td>10/12/2015 20:48</td>\n",
       "      <td>SEA00399</td>\n",
       "      <td>303.330</td>\n",
       "      <td>Bellevue Ave &amp; E Pine St</td>\n",
       "      <td>Summit Ave E &amp; E Republican St</td>\n",
       "      <td>CH-12</td>\n",
       "      <td>CH-03</td>\n",
       "      <td>Annual Member</td>\n",
       "      <td>Male</td>\n",
       "      <td>1978.0</td>\n",
       "    </tr>\n",
       "    <tr>\n",
       "      <th>142843</th>\n",
       "      <td>156798</td>\n",
       "      <td>10/12/2015 21:03</td>\n",
       "      <td>10/12/2015 21:06</td>\n",
       "      <td>SEA00204</td>\n",
       "      <td>165.597</td>\n",
       "      <td>Harvard Ave &amp; E Pine St</td>\n",
       "      <td>E Harrison St &amp; Broadway Ave E</td>\n",
       "      <td>CH-09</td>\n",
       "      <td>CH-02</td>\n",
       "      <td>Annual Member</td>\n",
       "      <td>Male</td>\n",
       "      <td>1989.0</td>\n",
       "    </tr>\n",
       "    <tr>\n",
       "      <th>142844</th>\n",
       "      <td>156799</td>\n",
       "      <td>10/12/2015 21:35</td>\n",
       "      <td>10/12/2015 21:41</td>\n",
       "      <td>SEA00073</td>\n",
       "      <td>388.576</td>\n",
       "      <td>Pine St &amp; 9th Ave</td>\n",
       "      <td>3rd Ave &amp; Broad St</td>\n",
       "      <td>SLU-16</td>\n",
       "      <td>BT-01</td>\n",
       "      <td>Short-Term Pass Holder</td>\n",
       "      <td>NaN</td>\n",
       "      <td>NaN</td>\n",
       "    </tr>\n",
       "    <tr>\n",
       "      <th>142845</th>\n",
       "      <td>156800</td>\n",
       "      <td>10/12/2015 22:45</td>\n",
       "      <td>10/12/2015 22:51</td>\n",
       "      <td>SEA00033</td>\n",
       "      <td>391.885</td>\n",
       "      <td>NE 42nd St &amp; University Way NE</td>\n",
       "      <td>Eastlake Ave E &amp; E Allison St</td>\n",
       "      <td>UD-02</td>\n",
       "      <td>EL-05</td>\n",
       "      <td>Annual Member</td>\n",
       "      <td>Male</td>\n",
       "      <td>1985.0</td>\n",
       "    </tr>\n",
       "  </tbody>\n",
       "</table>\n",
       "</div>"
      ],
      "text/plain": [
       "        trip_id         starttime          stoptime    bikeid  tripduration  \\\n",
       "142841   156796  10/12/2015 20:41  10/12/2015 20:47  SEA00358       377.183   \n",
       "142842   156797  10/12/2015 20:43  10/12/2015 20:48  SEA00399       303.330   \n",
       "142843   156798  10/12/2015 21:03  10/12/2015 21:06  SEA00204       165.597   \n",
       "142844   156799  10/12/2015 21:35  10/12/2015 21:41  SEA00073       388.576   \n",
       "142845   156800  10/12/2015 22:45  10/12/2015 22:51  SEA00033       391.885   \n",
       "\n",
       "                     from_station_name                 to_station_name  \\\n",
       "142841            E Pine St & 16th Ave        Summit Ave & E Denny Way   \n",
       "142842        Bellevue Ave & E Pine St  Summit Ave E & E Republican St   \n",
       "142843         Harvard Ave & E Pine St  E Harrison St & Broadway Ave E   \n",
       "142844               Pine St & 9th Ave              3rd Ave & Broad St   \n",
       "142845  NE 42nd St & University Way NE   Eastlake Ave E & E Allison St   \n",
       "\n",
       "       from_station_id to_station_id                usertype gender  birthyear  \n",
       "142841           CH-07         CH-01           Annual Member   Male     1990.0  \n",
       "142842           CH-12         CH-03           Annual Member   Male     1978.0  \n",
       "142843           CH-09         CH-02           Annual Member   Male     1989.0  \n",
       "142844          SLU-16         BT-01  Short-Term Pass Holder    NaN        NaN  \n",
       "142845           UD-02         EL-05           Annual Member   Male     1985.0  "
      ]
     },
     "execution_count": 11,
     "metadata": {},
     "output_type": "execute_result"
    }
   ],
   "source": [
    "data.tail()"
   ]
  },
  {
   "cell_type": "markdown",
   "metadata": {},
   "source": [
    "The ``shape`` attribute shows us the number of elements:"
   ]
  },
  {
   "cell_type": "code",
   "execution_count": 12,
   "metadata": {
    "collapsed": false
   },
   "outputs": [
    {
     "data": {
      "text/plain": [
       "(142846, 12)"
      ]
     },
     "execution_count": 12,
     "metadata": {},
     "output_type": "execute_result"
    }
   ],
   "source": [
    "data.shape"
   ]
  },
  {
   "cell_type": "markdown",
   "metadata": {},
   "source": [
    "The ``columns`` attribute gives us the column names"
   ]
  },
  {
   "cell_type": "code",
   "execution_count": 13,
   "metadata": {
    "collapsed": false
   },
   "outputs": [
    {
     "data": {
      "text/plain": [
       "Index([u'trip_id', u'starttime', u'stoptime', u'bikeid', u'tripduration',\n",
       "       u'from_station_name', u'to_station_name', u'from_station_id',\n",
       "       u'to_station_id', u'usertype', u'gender', u'birthyear'],\n",
       "      dtype='object')"
      ]
     },
     "execution_count": 13,
     "metadata": {},
     "output_type": "execute_result"
    }
   ],
   "source": [
    "data.columns"
   ]
  },
  {
   "cell_type": "markdown",
   "metadata": {},
   "source": [
    "The ``index`` attribute gives us the index names"
   ]
  },
  {
   "cell_type": "code",
   "execution_count": 14,
   "metadata": {
    "collapsed": false
   },
   "outputs": [
    {
     "data": {
      "text/plain": [
       "RangeIndex(start=0, stop=142846, step=1)"
      ]
     },
     "execution_count": 14,
     "metadata": {},
     "output_type": "execute_result"
    }
   ],
   "source": [
    "data.index"
   ]
  },
  {
   "cell_type": "markdown",
   "metadata": {},
   "source": [
    "The ``dtypes`` attribute gives the data types of each column:"
   ]
  },
  {
   "cell_type": "code",
   "execution_count": 15,
   "metadata": {
    "collapsed": false
   },
   "outputs": [
    {
     "data": {
      "text/plain": [
       "trip_id                int64\n",
       "starttime             object\n",
       "stoptime              object\n",
       "bikeid                object\n",
       "tripduration         float64\n",
       "from_station_name     object\n",
       "to_station_name       object\n",
       "from_station_id       object\n",
       "to_station_id         object\n",
       "usertype              object\n",
       "gender                object\n",
       "birthyear            float64\n",
       "dtype: object"
      ]
     },
     "execution_count": 15,
     "metadata": {},
     "output_type": "execute_result"
    }
   ],
   "source": [
    "data.dtypes"
   ]
  },
  {
   "cell_type": "markdown",
   "metadata": {},
   "source": [
    "## 4. Manipulating data with ``pandas``\n",
    "\n",
    "Here we'll cover some key features of manipulating data with pandas"
   ]
  },
  {
   "cell_type": "markdown",
   "metadata": {},
   "source": [
    "Access columns by name using square-bracket indexing:"
   ]
  },
  {
   "cell_type": "code",
   "execution_count": 17,
   "metadata": {
    "collapsed": false
   },
   "outputs": [
    {
     "data": {
      "text/plain": [
       "0            431\n",
       "1            432\n",
       "2            433\n",
       "3            434\n",
       "4            435\n",
       "5            436\n",
       "6            437\n",
       "7            438\n",
       "8            439\n",
       "9            440\n",
       "10           441\n",
       "11           442\n",
       "12           443\n",
       "13           444\n",
       "14           445\n",
       "15           446\n",
       "16           447\n",
       "17           448\n",
       "18           450\n",
       "19           452\n",
       "20           453\n",
       "21           454\n",
       "22           455\n",
       "23           456\n",
       "24           457\n",
       "25           458\n",
       "26           459\n",
       "27           460\n",
       "28           461\n",
       "29           462\n",
       "           ...  \n",
       "142816    156770\n",
       "142817    156771\n",
       "142818    156772\n",
       "142819    156773\n",
       "142820    156774\n",
       "142821    156775\n",
       "142822    156776\n",
       "142823    156778\n",
       "142824    156779\n",
       "142825    156780\n",
       "142826    156781\n",
       "142827    156782\n",
       "142828    156783\n",
       "142829    156784\n",
       "142830    156785\n",
       "142831    156786\n",
       "142832    156787\n",
       "142833    156788\n",
       "142834    156789\n",
       "142835    156790\n",
       "142836    156791\n",
       "142837    156792\n",
       "142838    156793\n",
       "142839    156794\n",
       "142840    156795\n",
       "142841    156796\n",
       "142842    156797\n",
       "142843    156798\n",
       "142844    156799\n",
       "142845    156800\n",
       "Name: trip_id, dtype: int64"
      ]
     },
     "execution_count": 17,
     "metadata": {},
     "output_type": "execute_result"
    }
   ],
   "source": [
    "data[\"trip_id\"]"
   ]
  },
  {
   "cell_type": "markdown",
   "metadata": {},
   "source": [
    "Mathematical operations on columns happen *element-wise*:"
   ]
  },
  {
   "cell_type": "code",
   "execution_count": 18,
   "metadata": {
    "collapsed": false
   },
   "outputs": [
    {
     "data": {
      "text/plain": [
       "0         16.432250\n",
       "1         15.439583\n",
       "2         14.730517\n",
       "3         14.432283\n",
       "4         15.398717\n",
       "5         13.480083\n",
       "6          9.945250\n",
       "7          9.868850\n",
       "8          9.772450\n",
       "9          9.793900\n",
       "10         9.414983\n",
       "11        10.335683\n",
       "12        10.568117\n",
       "13        10.238933\n",
       "14        10.024383\n",
       "15        10.313017\n",
       "16        10.284750\n",
       "17        10.000833\n",
       "18         8.328900\n",
       "19         9.588450\n",
       "20         9.530117\n",
       "21         9.396050\n",
       "22         7.294817\n",
       "23         8.052567\n",
       "24         7.989700\n",
       "25         8.892200\n",
       "26         8.027150\n",
       "27         7.679533\n",
       "28         7.652750\n",
       "29        11.340950\n",
       "            ...    \n",
       "142816     8.671450\n",
       "142817    14.607983\n",
       "142818     4.938550\n",
       "142819    11.882017\n",
       "142820    21.947550\n",
       "142821    21.883067\n",
       "142822    21.240667\n",
       "142823    18.747133\n",
       "142824    22.390117\n",
       "142825    12.643100\n",
       "142826     4.613267\n",
       "142827     6.036600\n",
       "142828     4.168183\n",
       "142829     4.278083\n",
       "142830     6.128367\n",
       "142831     7.455983\n",
       "142832     2.109933\n",
       "142833     9.045133\n",
       "142834     4.308700\n",
       "142835    15.671783\n",
       "142836    10.276817\n",
       "142837    10.726967\n",
       "142838     9.055200\n",
       "142839     3.375017\n",
       "142840     8.962267\n",
       "142841     6.286383\n",
       "142842     5.055500\n",
       "142843     2.759950\n",
       "142844     6.476267\n",
       "142845     6.531417\n",
       "Name: tripduration, dtype: float64"
      ]
     },
     "execution_count": 18,
     "metadata": {},
     "output_type": "execute_result"
    }
   ],
   "source": [
    "data['tripduration'] / 60"
   ]
  },
  {
   "cell_type": "markdown",
   "metadata": {},
   "source": [
    "Columns can be created (or overwritten) with the assignment operator.\n",
    "Let's create a *tripminutes* column with the number of minutes for each trip"
   ]
  },
  {
   "cell_type": "code",
   "execution_count": 19,
   "metadata": {
    "collapsed": false
   },
   "outputs": [],
   "source": [
    "data['tripminutes'] = data['tripduration'] / 60"
   ]
  },
  {
   "cell_type": "code",
   "execution_count": 20,
   "metadata": {
    "collapsed": false
   },
   "outputs": [
    {
     "data": {
      "text/html": [
       "<div>\n",
       "<table border=\"1\" class=\"dataframe\">\n",
       "  <thead>\n",
       "    <tr style=\"text-align: right;\">\n",
       "      <th></th>\n",
       "      <th>trip_id</th>\n",
       "      <th>starttime</th>\n",
       "      <th>stoptime</th>\n",
       "      <th>bikeid</th>\n",
       "      <th>tripduration</th>\n",
       "      <th>from_station_name</th>\n",
       "      <th>to_station_name</th>\n",
       "      <th>from_station_id</th>\n",
       "      <th>to_station_id</th>\n",
       "      <th>usertype</th>\n",
       "      <th>gender</th>\n",
       "      <th>birthyear</th>\n",
       "      <th>tripminutes</th>\n",
       "    </tr>\n",
       "  </thead>\n",
       "  <tbody>\n",
       "    <tr>\n",
       "      <th>0</th>\n",
       "      <td>431</td>\n",
       "      <td>10/13/2014 10:31</td>\n",
       "      <td>10/13/2014 10:48</td>\n",
       "      <td>SEA00298</td>\n",
       "      <td>985.935</td>\n",
       "      <td>2nd Ave &amp; Spring St</td>\n",
       "      <td>Occidental Park / Occidental Ave S &amp; S Washing...</td>\n",
       "      <td>CBD-06</td>\n",
       "      <td>PS-04</td>\n",
       "      <td>Annual Member</td>\n",
       "      <td>Male</td>\n",
       "      <td>1960.0</td>\n",
       "      <td>16.432250</td>\n",
       "    </tr>\n",
       "    <tr>\n",
       "      <th>1</th>\n",
       "      <td>432</td>\n",
       "      <td>10/13/2014 10:32</td>\n",
       "      <td>10/13/2014 10:48</td>\n",
       "      <td>SEA00195</td>\n",
       "      <td>926.375</td>\n",
       "      <td>2nd Ave &amp; Spring St</td>\n",
       "      <td>Occidental Park / Occidental Ave S &amp; S Washing...</td>\n",
       "      <td>CBD-06</td>\n",
       "      <td>PS-04</td>\n",
       "      <td>Annual Member</td>\n",
       "      <td>Male</td>\n",
       "      <td>1970.0</td>\n",
       "      <td>15.439583</td>\n",
       "    </tr>\n",
       "    <tr>\n",
       "      <th>2</th>\n",
       "      <td>433</td>\n",
       "      <td>10/13/2014 10:33</td>\n",
       "      <td>10/13/2014 10:48</td>\n",
       "      <td>SEA00486</td>\n",
       "      <td>883.831</td>\n",
       "      <td>2nd Ave &amp; Spring St</td>\n",
       "      <td>Occidental Park / Occidental Ave S &amp; S Washing...</td>\n",
       "      <td>CBD-06</td>\n",
       "      <td>PS-04</td>\n",
       "      <td>Annual Member</td>\n",
       "      <td>Female</td>\n",
       "      <td>1988.0</td>\n",
       "      <td>14.730517</td>\n",
       "    </tr>\n",
       "    <tr>\n",
       "      <th>3</th>\n",
       "      <td>434</td>\n",
       "      <td>10/13/2014 10:34</td>\n",
       "      <td>10/13/2014 10:48</td>\n",
       "      <td>SEA00333</td>\n",
       "      <td>865.937</td>\n",
       "      <td>2nd Ave &amp; Spring St</td>\n",
       "      <td>Occidental Park / Occidental Ave S &amp; S Washing...</td>\n",
       "      <td>CBD-06</td>\n",
       "      <td>PS-04</td>\n",
       "      <td>Annual Member</td>\n",
       "      <td>Female</td>\n",
       "      <td>1977.0</td>\n",
       "      <td>14.432283</td>\n",
       "    </tr>\n",
       "    <tr>\n",
       "      <th>4</th>\n",
       "      <td>435</td>\n",
       "      <td>10/13/2014 10:34</td>\n",
       "      <td>10/13/2014 10:49</td>\n",
       "      <td>SEA00202</td>\n",
       "      <td>923.923</td>\n",
       "      <td>2nd Ave &amp; Spring St</td>\n",
       "      <td>Occidental Park / Occidental Ave S &amp; S Washing...</td>\n",
       "      <td>CBD-06</td>\n",
       "      <td>PS-04</td>\n",
       "      <td>Annual Member</td>\n",
       "      <td>Male</td>\n",
       "      <td>1971.0</td>\n",
       "      <td>15.398717</td>\n",
       "    </tr>\n",
       "  </tbody>\n",
       "</table>\n",
       "</div>"
      ],
      "text/plain": [
       "   trip_id         starttime          stoptime    bikeid  tripduration  \\\n",
       "0      431  10/13/2014 10:31  10/13/2014 10:48  SEA00298       985.935   \n",
       "1      432  10/13/2014 10:32  10/13/2014 10:48  SEA00195       926.375   \n",
       "2      433  10/13/2014 10:33  10/13/2014 10:48  SEA00486       883.831   \n",
       "3      434  10/13/2014 10:34  10/13/2014 10:48  SEA00333       865.937   \n",
       "4      435  10/13/2014 10:34  10/13/2014 10:49  SEA00202       923.923   \n",
       "\n",
       "     from_station_name                                    to_station_name  \\\n",
       "0  2nd Ave & Spring St  Occidental Park / Occidental Ave S & S Washing...   \n",
       "1  2nd Ave & Spring St  Occidental Park / Occidental Ave S & S Washing...   \n",
       "2  2nd Ave & Spring St  Occidental Park / Occidental Ave S & S Washing...   \n",
       "3  2nd Ave & Spring St  Occidental Park / Occidental Ave S & S Washing...   \n",
       "4  2nd Ave & Spring St  Occidental Park / Occidental Ave S & S Washing...   \n",
       "\n",
       "  from_station_id to_station_id       usertype  gender  birthyear  tripminutes  \n",
       "0          CBD-06         PS-04  Annual Member    Male     1960.0    16.432250  \n",
       "1          CBD-06         PS-04  Annual Member    Male     1970.0    15.439583  \n",
       "2          CBD-06         PS-04  Annual Member  Female     1988.0    14.730517  \n",
       "3          CBD-06         PS-04  Annual Member  Female     1977.0    14.432283  \n",
       "4          CBD-06         PS-04  Annual Member    Male     1971.0    15.398717  "
      ]
     },
     "execution_count": 20,
     "metadata": {},
     "output_type": "execute_result"
    }
   ],
   "source": [
    "data.head()"
   ]
  },
  {
   "cell_type": "markdown",
   "metadata": {},
   "source": [
    "### Working with Times"
   ]
  },
  {
   "cell_type": "markdown",
   "metadata": {},
   "source": [
    "One trick to know when working with columns of times is that Pandas ``DateTimeIndex`` provides a nice interface for working with columns of times:"
   ]
  },
  {
   "cell_type": "code",
   "execution_count": 21,
   "metadata": {
    "collapsed": false
   },
   "outputs": [],
   "source": [
    "times = pd.DatetimeIndex(data['starttime'])"
   ]
  },
  {
   "cell_type": "markdown",
   "metadata": {},
   "source": [
    "With it, we can extract, the hour of the day, the day of the week, the month, and a wide range of other views of the time:"
   ]
  },
  {
   "cell_type": "code",
   "execution_count": 23,
   "metadata": {
    "collapsed": false
   },
   "outputs": [
    {
     "data": {
      "text/plain": [
       "DatetimeIndex(['2014-10-13 10:31:00', '2014-10-13 10:32:00',\n",
       "               '2014-10-13 10:33:00', '2014-10-13 10:34:00',\n",
       "               '2014-10-13 10:34:00', '2014-10-13 10:34:00',\n",
       "               '2014-10-13 11:35:00', '2014-10-13 11:35:00',\n",
       "               '2014-10-13 11:35:00', '2014-10-13 11:35:00',\n",
       "               ...\n",
       "               '2015-10-12 20:09:00', '2015-10-12 20:11:00',\n",
       "               '2015-10-12 20:18:00', '2015-10-12 20:39:00',\n",
       "               '2015-10-12 20:41:00', '2015-10-12 20:41:00',\n",
       "               '2015-10-12 20:43:00', '2015-10-12 21:03:00',\n",
       "               '2015-10-12 21:35:00', '2015-10-12 22:45:00'],\n",
       "              dtype='datetime64[ns]', length=142846, freq=None)"
      ]
     },
     "execution_count": 23,
     "metadata": {},
     "output_type": "execute_result"
    }
   ],
   "source": [
    "times"
   ]
  },
  {
   "cell_type": "code",
   "execution_count": 24,
   "metadata": {
    "collapsed": false
   },
   "outputs": [
    {
     "data": {
      "text/plain": [
       "array([0, 0, 0, ..., 0, 0, 0], dtype=int32)"
      ]
     },
     "execution_count": 24,
     "metadata": {},
     "output_type": "execute_result"
    }
   ],
   "source": [
    "times.dayofweek"
   ]
  },
  {
   "cell_type": "code",
   "execution_count": 25,
   "metadata": {
    "collapsed": false
   },
   "outputs": [
    {
     "data": {
      "text/plain": [
       "array([10, 10, 10, ..., 10, 10, 10], dtype=int32)"
      ]
     },
     "execution_count": 25,
     "metadata": {},
     "output_type": "execute_result"
    }
   ],
   "source": [
    "times.month"
   ]
  },
  {
   "cell_type": "markdown",
   "metadata": {},
   "source": [
    "*Note: math functionality can be applied to columns using the NumPy package: for example:*"
   ]
  },
  {
   "cell_type": "code",
   "execution_count": 26,
   "metadata": {
    "collapsed": false
   },
   "outputs": [
    {
     "data": {
      "text/plain": [
       "0         1.369101e+07\n",
       "1         5.073712e+06\n",
       "2         2.496791e+06\n",
       "3         1.852939e+06\n",
       "4         4.870546e+06\n",
       "5         7.150325e+05\n",
       "6         2.085294e+04\n",
       "7         1.931911e+04\n",
       "8         1.754370e+04\n",
       "9         1.792407e+04\n",
       "10        1.227087e+04\n",
       "11        3.081273e+04\n",
       "12        3.887539e+04\n",
       "13        2.797127e+04\n",
       "14        2.257015e+04\n",
       "15        3.012217e+04\n",
       "16        2.928264e+04\n",
       "17        2.204483e+04\n",
       "18        4.141859e+03\n",
       "19        1.459523e+04\n",
       "20        1.376820e+04\n",
       "21        1.204073e+04\n",
       "22        1.472647e+03\n",
       "23        3.141849e+03\n",
       "24        2.950412e+03\n",
       "25        7.275007e+03\n",
       "26        3.063000e+03\n",
       "27        2.163610e+03\n",
       "28        2.106430e+03\n",
       "29        8.419998e+04\n",
       "              ...     \n",
       "142816    5.833952e+03\n",
       "142817    2.208852e+06\n",
       "142818    1.395677e+02\n",
       "142819    1.446420e+05\n",
       "142820    3.401730e+09\n",
       "142821    3.189298e+09\n",
       "142822    1.677661e+09\n",
       "142823    1.386043e+08\n",
       "142824    5.295465e+09\n",
       "142825    3.096197e+05\n",
       "142826    1.008129e+02\n",
       "142827    4.184678e+02\n",
       "142828    6.459799e+01\n",
       "142829    7.210211e+01\n",
       "142830    4.586864e+02\n",
       "142831    1.730185e+03\n",
       "142832    8.247691e+00\n",
       "142833    8.477182e+03\n",
       "142834    7.434378e+01\n",
       "142835    6.399839e+06\n",
       "142836    2.905125e+04\n",
       "142837    4.556826e+04\n",
       "142838    8.562950e+03\n",
       "142839    2.922477e+01\n",
       "142840    7.803024e+03\n",
       "142841    5.372069e+02\n",
       "142842    1.568830e+02\n",
       "142843    1.579905e+01\n",
       "142844    6.495415e+02\n",
       "142845    6.863699e+02\n",
       "Name: tripminutes, dtype: float64"
      ]
     },
     "execution_count": 26,
     "metadata": {},
     "output_type": "execute_result"
    }
   ],
   "source": [
    "import numpy as np\n",
    "np.exp(data['tripminutes'])"
   ]
  },
  {
   "cell_type": "markdown",
   "metadata": {},
   "source": [
    "### Simple Grouping of Data\n",
    "\n",
    "The real power of Pandas comes in its tools for grouping and aggregating data. Here we'll look at *value counts* and the basics of *group-by* operations."
   ]
  },
  {
   "cell_type": "markdown",
   "metadata": {},
   "source": [
    "#### Value Counts"
   ]
  },
  {
   "cell_type": "markdown",
   "metadata": {},
   "source": [
    "Pandas includes an array of useful functionality for manipulating and analyzing tabular data.\n",
    "We'll take a look at two of these here."
   ]
  },
  {
   "cell_type": "markdown",
   "metadata": {},
   "source": [
    "The ``pandas.value_counts`` returns statistics on the unique values within each column.\n",
    "\n",
    "We can use it, for example, to break down rides by gender:"
   ]
  },
  {
   "cell_type": "code",
   "execution_count": 27,
   "metadata": {
    "collapsed": false
   },
   "outputs": [
    {
     "data": {
      "text/plain": [
       "Male      67608\n",
       "Female    18245\n",
       "Other      1507\n",
       "Name: gender, dtype: int64"
      ]
     },
     "execution_count": 27,
     "metadata": {},
     "output_type": "execute_result"
    }
   ],
   "source": [
    "pd.value_counts(data['gender'])"
   ]
  },
  {
   "cell_type": "code",
   "execution_count": 28,
   "metadata": {
    "collapsed": false
   },
   "outputs": [
    {
     "data": {
      "text/plain": [
       "1987.0    9320\n",
       "1985.0    5370\n",
       "1981.0    4779\n",
       "1982.0    4629\n",
       "1988.0    4188\n",
       "1983.0    3965\n",
       "1984.0    3815\n",
       "1990.0    3605\n",
       "1986.0    3492\n",
       "1991.0    2912\n",
       "1989.0    2755\n",
       "1977.0    2465\n",
       "1980.0    2236\n",
       "1978.0    2063\n",
       "1979.0    1976\n",
       "1975.0    1969\n",
       "1972.0    1921\n",
       "1992.0    1798\n",
       "1962.0    1769\n",
       "1976.0    1577\n",
       "1965.0    1510\n",
       "1974.0    1497\n",
       "1964.0    1374\n",
       "1967.0    1354\n",
       "1971.0    1279\n",
       "1969.0    1185\n",
       "1993.0    1126\n",
       "1968.0    1085\n",
       "1973.0    1076\n",
       "1970.0    1056\n",
       "1961.0     875\n",
       "1963.0     828\n",
       "1966.0     761\n",
       "1959.0     696\n",
       "1950.0     657\n",
       "1994.0     549\n",
       "1956.0     481\n",
       "1960.0     429\n",
       "1995.0     412\n",
       "1955.0     397\n",
       "1953.0     337\n",
       "1951.0     251\n",
       "1947.0     244\n",
       "1957.0     224\n",
       "1952.0     204\n",
       "1958.0     160\n",
       "1949.0     154\n",
       "1954.0     152\n",
       "1996.0     121\n",
       "1945.0     115\n",
       "1946.0      39\n",
       "1948.0      34\n",
       "1998.0      25\n",
       "1939.0      23\n",
       "1997.0      21\n",
       "1943.0      11\n",
       "1936.0       6\n",
       "1999.0       5\n",
       "1942.0       2\n",
       "1944.0       1\n",
       "Name: birthyear, dtype: int64"
      ]
     },
     "execution_count": 28,
     "metadata": {},
     "output_type": "execute_result"
    }
   ],
   "source": [
    "pd.value_counts(data['birthyear'])"
   ]
  },
  {
   "cell_type": "markdown",
   "metadata": {},
   "source": [
    "Or to break down rides by age:"
   ]
  },
  {
   "cell_type": "code",
   "execution_count": 29,
   "metadata": {
    "collapsed": false
   },
   "outputs": [
    {
     "data": {
      "text/plain": [
       "1936.0       6\n",
       "1939.0      23\n",
       "1942.0       2\n",
       "1943.0      11\n",
       "1944.0       1\n",
       "1945.0     115\n",
       "1946.0      39\n",
       "1947.0     244\n",
       "1948.0      34\n",
       "1949.0     154\n",
       "1950.0     657\n",
       "1951.0     251\n",
       "1952.0     204\n",
       "1953.0     337\n",
       "1954.0     152\n",
       "1955.0     397\n",
       "1956.0     481\n",
       "1957.0     224\n",
       "1958.0     160\n",
       "1959.0     696\n",
       "1960.0     429\n",
       "1961.0     875\n",
       "1962.0    1769\n",
       "1963.0     828\n",
       "1964.0    1374\n",
       "1965.0    1510\n",
       "1966.0     761\n",
       "1967.0    1354\n",
       "1968.0    1085\n",
       "1969.0    1185\n",
       "1970.0    1056\n",
       "1971.0    1279\n",
       "1972.0    1921\n",
       "1973.0    1076\n",
       "1974.0    1497\n",
       "1975.0    1969\n",
       "1976.0    1577\n",
       "1977.0    2465\n",
       "1978.0    2063\n",
       "1979.0    1976\n",
       "1980.0    2236\n",
       "1981.0    4779\n",
       "1982.0    4629\n",
       "1983.0    3965\n",
       "1984.0    3815\n",
       "1985.0    5370\n",
       "1986.0    3492\n",
       "1987.0    9320\n",
       "1988.0    4188\n",
       "1989.0    2755\n",
       "1990.0    3605\n",
       "1991.0    2912\n",
       "1992.0    1798\n",
       "1993.0    1126\n",
       "1994.0     549\n",
       "1995.0     412\n",
       "1996.0     121\n",
       "1997.0      21\n",
       "1998.0      25\n",
       "1999.0       5\n",
       "Name: birthyear, dtype: int64"
      ]
     },
     "execution_count": 29,
     "metadata": {},
     "output_type": "execute_result"
    }
   ],
   "source": [
    "pd.value_counts(data['birthyear']).sort_index()"
   ]
  },
  {
   "cell_type": "code",
   "execution_count": 30,
   "metadata": {
    "collapsed": false
   },
   "outputs": [
    {
     "data": {
      "text/plain": [
       "16.0       5\n",
       "17.0      25\n",
       "18.0      21\n",
       "19.0     121\n",
       "20.0     412\n",
       "21.0     549\n",
       "22.0    1126\n",
       "23.0    1798\n",
       "24.0    2912\n",
       "25.0    3605\n",
       "26.0    2755\n",
       "27.0    4188\n",
       "28.0    9320\n",
       "29.0    3492\n",
       "30.0    5370\n",
       "31.0    3815\n",
       "32.0    3965\n",
       "33.0    4629\n",
       "34.0    4779\n",
       "35.0    2236\n",
       "36.0    1976\n",
       "37.0    2063\n",
       "38.0    2465\n",
       "39.0    1577\n",
       "40.0    1969\n",
       "41.0    1497\n",
       "42.0    1076\n",
       "43.0    1921\n",
       "44.0    1279\n",
       "45.0    1056\n",
       "46.0    1185\n",
       "47.0    1085\n",
       "48.0    1354\n",
       "49.0     761\n",
       "50.0    1510\n",
       "51.0    1374\n",
       "52.0     828\n",
       "53.0    1769\n",
       "54.0     875\n",
       "55.0     429\n",
       "56.0     696\n",
       "57.0     160\n",
       "58.0     224\n",
       "59.0     481\n",
       "60.0     397\n",
       "61.0     152\n",
       "62.0     337\n",
       "63.0     204\n",
       "64.0     251\n",
       "65.0     657\n",
       "66.0     154\n",
       "67.0      34\n",
       "68.0     244\n",
       "69.0      39\n",
       "70.0     115\n",
       "71.0       1\n",
       "72.0      11\n",
       "73.0       2\n",
       "76.0      23\n",
       "79.0       6\n",
       "Name: birthyear, dtype: int64"
      ]
     },
     "execution_count": 30,
     "metadata": {},
     "output_type": "execute_result"
    }
   ],
   "source": [
    "pd.value_counts(2015 - data['birthyear']).sort_index()"
   ]
  },
  {
   "cell_type": "markdown",
   "metadata": {},
   "source": [
    "What else might we break down rides by?"
   ]
  },
  {
   "cell_type": "code",
   "execution_count": 31,
   "metadata": {
    "collapsed": false
   },
   "outputs": [
    {
     "data": {
      "text/plain": [
       "3    21505\n",
       "0    21266\n",
       "4    21097\n",
       "2    20748\n",
       "1    20465\n",
       "5    20358\n",
       "6    17407\n",
       "dtype: int64"
      ]
     },
     "execution_count": 31,
     "metadata": {},
     "output_type": "execute_result"
    }
   ],
   "source": [
    "pd.value_counts(times.dayofweek)"
   ]
  },
  {
   "cell_type": "markdown",
   "metadata": {},
   "source": [
    "*We can sort by the index rather than the counts if we wish:*"
   ]
  },
  {
   "cell_type": "code",
   "execution_count": null,
   "metadata": {
    "collapsed": false
   },
   "outputs": [],
   "source": [
    "pd.value_counts(times.dayofweek, sort=False)"
   ]
  },
  {
   "cell_type": "code",
   "execution_count": null,
   "metadata": {
    "collapsed": false
   },
   "outputs": [],
   "source": [
    "pd.value_counts(times.month)"
   ]
  },
  {
   "cell_type": "code",
   "execution_count": null,
   "metadata": {
    "collapsed": false
   },
   "outputs": [],
   "source": [
    "pd.value_counts(times.month, sort=False)"
   ]
  },
  {
   "cell_type": "markdown",
   "metadata": {},
   "source": [
    "### Group-by Operation\n",
    "\n",
    "One of the killer features of the Pandas dataframe is the ability to do group-by operations.\n",
    "You can visualize the group-by like this (image borrowed from the [Python Data Science Handbook](http://shop.oreilly.com/product/0636920034919.do))"
   ]
  },
  {
   "cell_type": "code",
   "execution_count": 32,
   "metadata": {
    "collapsed": false
   },
   "outputs": [
    {
     "data": {
      "image/png": "[encoded data removed]",
      "text/plain": [
       "<IPython.core.display.Image object>"
      ]
     },
     "execution_count": 32,
     "metadata": {},
     "output_type": "execute_result"
    }
   ],
   "source": [
    "from IPython.display import Image\n",
    "Image('split_apply_combine.png')"
   ]
  },
  {
   "cell_type": "markdown",
   "metadata": {},
   "source": [
    "Let's break take this in smaller steps.\n",
    "First, let's look at the data by hour across all days in the year."
   ]
  },
  {
   "cell_type": "code",
   "execution_count": 33,
   "metadata": {
    "collapsed": false
   },
   "outputs": [
    {
     "data": {
      "text/plain": [
       "17    14163\n",
       "16    11629\n",
       "8     10967\n",
       "18    10382\n",
       "15     9850\n",
       "9      9751\n",
       "13     9575\n",
       "12     9571\n",
       "14     9096\n",
       "11     8864\n",
       "10     7761\n",
       "19     6939\n",
       "7      6093\n",
       "20     4792\n",
       "21     3730\n",
       "22     2484\n",
       "6      1855\n",
       "23     1749\n",
       "0      1022\n",
       "5       905\n",
       "1       682\n",
       "2       478\n",
       "4       316\n",
       "3       192\n",
       "dtype: int64"
      ]
     },
     "execution_count": 33,
     "metadata": {},
     "output_type": "execute_result"
    }
   ],
   "source": [
    "pd.value_counts(times.hour)"
   ]
  },
  {
   "cell_type": "markdown",
   "metadata": {},
   "source": [
    "groupby allows us to look at the number of values for each column and each value."
   ]
  },
  {
   "cell_type": "code",
   "execution_count": 34,
   "metadata": {
    "collapsed": false
   },
   "outputs": [
    {
     "data": {
      "text/html": [
       "<div>\n",
       "<table border=\"1\" class=\"dataframe\">\n",
       "  <thead>\n",
       "    <tr style=\"text-align: right;\">\n",
       "      <th></th>\n",
       "      <th>trip_id</th>\n",
       "      <th>starttime</th>\n",
       "      <th>stoptime</th>\n",
       "      <th>bikeid</th>\n",
       "      <th>tripduration</th>\n",
       "      <th>from_station_name</th>\n",
       "      <th>to_station_name</th>\n",
       "      <th>from_station_id</th>\n",
       "      <th>to_station_id</th>\n",
       "      <th>usertype</th>\n",
       "      <th>gender</th>\n",
       "      <th>birthyear</th>\n",
       "      <th>tripminutes</th>\n",
       "    </tr>\n",
       "  </thead>\n",
       "  <tbody>\n",
       "    <tr>\n",
       "      <th>0</th>\n",
       "      <td>1022</td>\n",
       "      <td>1022</td>\n",
       "      <td>1022</td>\n",
       "      <td>1022</td>\n",
       "      <td>1022</td>\n",
       "      <td>1022</td>\n",
       "      <td>1022</td>\n",
       "      <td>1022</td>\n",
       "      <td>1022</td>\n",
       "      <td>1022</td>\n",
       "      <td>571</td>\n",
       "      <td>571</td>\n",
       "      <td>1022</td>\n",
       "    </tr>\n",
       "    <tr>\n",
       "      <th>1</th>\n",
       "      <td>682</td>\n",
       "      <td>682</td>\n",
       "      <td>682</td>\n",
       "      <td>682</td>\n",
       "      <td>682</td>\n",
       "      <td>682</td>\n",
       "      <td>682</td>\n",
       "      <td>682</td>\n",
       "      <td>682</td>\n",
       "      <td>682</td>\n",
       "      <td>341</td>\n",
       "      <td>341</td>\n",
       "      <td>682</td>\n",
       "    </tr>\n",
       "    <tr>\n",
       "      <th>2</th>\n",
       "      <td>478</td>\n",
       "      <td>478</td>\n",
       "      <td>478</td>\n",
       "      <td>478</td>\n",
       "      <td>478</td>\n",
       "      <td>478</td>\n",
       "      <td>478</td>\n",
       "      <td>478</td>\n",
       "      <td>478</td>\n",
       "      <td>478</td>\n",
       "      <td>178</td>\n",
       "      <td>178</td>\n",
       "      <td>478</td>\n",
       "    </tr>\n",
       "    <tr>\n",
       "      <th>3</th>\n",
       "      <td>192</td>\n",
       "      <td>192</td>\n",
       "      <td>192</td>\n",
       "      <td>192</td>\n",
       "      <td>192</td>\n",
       "      <td>192</td>\n",
       "      <td>192</td>\n",
       "      <td>192</td>\n",
       "      <td>192</td>\n",
       "      <td>192</td>\n",
       "      <td>89</td>\n",
       "      <td>89</td>\n",
       "      <td>192</td>\n",
       "    </tr>\n",
       "    <tr>\n",
       "      <th>4</th>\n",
       "      <td>316</td>\n",
       "      <td>316</td>\n",
       "      <td>316</td>\n",
       "      <td>316</td>\n",
       "      <td>316</td>\n",
       "      <td>316</td>\n",
       "      <td>316</td>\n",
       "      <td>316</td>\n",
       "      <td>316</td>\n",
       "      <td>316</td>\n",
       "      <td>241</td>\n",
       "      <td>241</td>\n",
       "      <td>316</td>\n",
       "    </tr>\n",
       "    <tr>\n",
       "      <th>5</th>\n",
       "      <td>905</td>\n",
       "      <td>905</td>\n",
       "      <td>905</td>\n",
       "      <td>905</td>\n",
       "      <td>905</td>\n",
       "      <td>905</td>\n",
       "      <td>905</td>\n",
       "      <td>905</td>\n",
       "      <td>905</td>\n",
       "      <td>905</td>\n",
       "      <td>731</td>\n",
       "      <td>731</td>\n",
       "      <td>905</td>\n",
       "    </tr>\n",
       "    <tr>\n",
       "      <th>6</th>\n",
       "      <td>1855</td>\n",
       "      <td>1855</td>\n",
       "      <td>1855</td>\n",
       "      <td>1855</td>\n",
       "      <td>1855</td>\n",
       "      <td>1855</td>\n",
       "      <td>1855</td>\n",
       "      <td>1855</td>\n",
       "      <td>1855</td>\n",
       "      <td>1855</td>\n",
       "      <td>1591</td>\n",
       "      <td>1591</td>\n",
       "      <td>1855</td>\n",
       "    </tr>\n",
       "    <tr>\n",
       "      <th>7</th>\n",
       "      <td>6093</td>\n",
       "      <td>6093</td>\n",
       "      <td>6093</td>\n",
       "      <td>6093</td>\n",
       "      <td>6093</td>\n",
       "      <td>6093</td>\n",
       "      <td>6093</td>\n",
       "      <td>6093</td>\n",
       "      <td>6093</td>\n",
       "      <td>6093</td>\n",
       "      <td>5428</td>\n",
       "      <td>5428</td>\n",
       "      <td>6093</td>\n",
       "    </tr>\n",
       "    <tr>\n",
       "      <th>8</th>\n",
       "      <td>10967</td>\n",
       "      <td>10967</td>\n",
       "      <td>10967</td>\n",
       "      <td>10967</td>\n",
       "      <td>10967</td>\n",
       "      <td>10967</td>\n",
       "      <td>10967</td>\n",
       "      <td>10967</td>\n",
       "      <td>10967</td>\n",
       "      <td>10967</td>\n",
       "      <td>9661</td>\n",
       "      <td>9661</td>\n",
       "      <td>10967</td>\n",
       "    </tr>\n",
       "    <tr>\n",
       "      <th>9</th>\n",
       "      <td>9751</td>\n",
       "      <td>9751</td>\n",
       "      <td>9751</td>\n",
       "      <td>9751</td>\n",
       "      <td>9751</td>\n",
       "      <td>9751</td>\n",
       "      <td>9751</td>\n",
       "      <td>9751</td>\n",
       "      <td>9751</td>\n",
       "      <td>9751</td>\n",
       "      <td>7708</td>\n",
       "      <td>7708</td>\n",
       "      <td>9751</td>\n",
       "    </tr>\n",
       "    <tr>\n",
       "      <th>10</th>\n",
       "      <td>7761</td>\n",
       "      <td>7761</td>\n",
       "      <td>7761</td>\n",
       "      <td>7761</td>\n",
       "      <td>7761</td>\n",
       "      <td>7761</td>\n",
       "      <td>7761</td>\n",
       "      <td>7761</td>\n",
       "      <td>7761</td>\n",
       "      <td>7761</td>\n",
       "      <td>4657</td>\n",
       "      <td>4657</td>\n",
       "      <td>7761</td>\n",
       "    </tr>\n",
       "    <tr>\n",
       "      <th>11</th>\n",
       "      <td>8864</td>\n",
       "      <td>8864</td>\n",
       "      <td>8864</td>\n",
       "      <td>8864</td>\n",
       "      <td>8864</td>\n",
       "      <td>8864</td>\n",
       "      <td>8864</td>\n",
       "      <td>8864</td>\n",
       "      <td>8864</td>\n",
       "      <td>8864</td>\n",
       "      <td>4735</td>\n",
       "      <td>4735</td>\n",
       "      <td>8864</td>\n",
       "    </tr>\n",
       "    <tr>\n",
       "      <th>12</th>\n",
       "      <td>9571</td>\n",
       "      <td>9571</td>\n",
       "      <td>9571</td>\n",
       "      <td>9571</td>\n",
       "      <td>9571</td>\n",
       "      <td>9571</td>\n",
       "      <td>9571</td>\n",
       "      <td>9571</td>\n",
       "      <td>9571</td>\n",
       "      <td>9571</td>\n",
       "      <td>4816</td>\n",
       "      <td>4816</td>\n",
       "      <td>9571</td>\n",
       "    </tr>\n",
       "    <tr>\n",
       "      <th>13</th>\n",
       "      <td>9575</td>\n",
       "      <td>9575</td>\n",
       "      <td>9575</td>\n",
       "      <td>9575</td>\n",
       "      <td>9575</td>\n",
       "      <td>9575</td>\n",
       "      <td>9575</td>\n",
       "      <td>9575</td>\n",
       "      <td>9575</td>\n",
       "      <td>9575</td>\n",
       "      <td>4349</td>\n",
       "      <td>4349</td>\n",
       "      <td>9575</td>\n",
       "    </tr>\n",
       "    <tr>\n",
       "      <th>14</th>\n",
       "      <td>9096</td>\n",
       "      <td>9096</td>\n",
       "      <td>9096</td>\n",
       "      <td>9096</td>\n",
       "      <td>9096</td>\n",
       "      <td>9096</td>\n",
       "      <td>9096</td>\n",
       "      <td>9096</td>\n",
       "      <td>9096</td>\n",
       "      <td>9096</td>\n",
       "      <td>3580</td>\n",
       "      <td>3580</td>\n",
       "      <td>9096</td>\n",
       "    </tr>\n",
       "    <tr>\n",
       "      <th>15</th>\n",
       "      <td>9850</td>\n",
       "      <td>9850</td>\n",
       "      <td>9850</td>\n",
       "      <td>9850</td>\n",
       "      <td>9850</td>\n",
       "      <td>9850</td>\n",
       "      <td>9850</td>\n",
       "      <td>9850</td>\n",
       "      <td>9850</td>\n",
       "      <td>9850</td>\n",
       "      <td>4348</td>\n",
       "      <td>4348</td>\n",
       "      <td>9850</td>\n",
       "    </tr>\n",
       "    <tr>\n",
       "      <th>16</th>\n",
       "      <td>11629</td>\n",
       "      <td>11629</td>\n",
       "      <td>11629</td>\n",
       "      <td>11629</td>\n",
       "      <td>11629</td>\n",
       "      <td>11629</td>\n",
       "      <td>11629</td>\n",
       "      <td>11629</td>\n",
       "      <td>11629</td>\n",
       "      <td>11629</td>\n",
       "      <td>6485</td>\n",
       "      <td>6485</td>\n",
       "      <td>11629</td>\n",
       "    </tr>\n",
       "    <tr>\n",
       "      <th>17</th>\n",
       "      <td>14163</td>\n",
       "      <td>14163</td>\n",
       "      <td>14163</td>\n",
       "      <td>14163</td>\n",
       "      <td>14163</td>\n",
       "      <td>14163</td>\n",
       "      <td>14163</td>\n",
       "      <td>14163</td>\n",
       "      <td>14163</td>\n",
       "      <td>14163</td>\n",
       "      <td>9588</td>\n",
       "      <td>9588</td>\n",
       "      <td>14163</td>\n",
       "    </tr>\n",
       "    <tr>\n",
       "      <th>18</th>\n",
       "      <td>10382</td>\n",
       "      <td>10382</td>\n",
       "      <td>10382</td>\n",
       "      <td>10382</td>\n",
       "      <td>10382</td>\n",
       "      <td>10382</td>\n",
       "      <td>10382</td>\n",
       "      <td>10382</td>\n",
       "      <td>10382</td>\n",
       "      <td>10382</td>\n",
       "      <td>6709</td>\n",
       "      <td>6709</td>\n",
       "      <td>10382</td>\n",
       "    </tr>\n",
       "    <tr>\n",
       "      <th>19</th>\n",
       "      <td>6939</td>\n",
       "      <td>6939</td>\n",
       "      <td>6939</td>\n",
       "      <td>6939</td>\n",
       "      <td>6939</td>\n",
       "      <td>6939</td>\n",
       "      <td>6939</td>\n",
       "      <td>6939</td>\n",
       "      <td>6939</td>\n",
       "      <td>6939</td>\n",
       "      <td>4198</td>\n",
       "      <td>4198</td>\n",
       "      <td>6939</td>\n",
       "    </tr>\n",
       "    <tr>\n",
       "      <th>20</th>\n",
       "      <td>4792</td>\n",
       "      <td>4792</td>\n",
       "      <td>4792</td>\n",
       "      <td>4792</td>\n",
       "      <td>4792</td>\n",
       "      <td>4792</td>\n",
       "      <td>4792</td>\n",
       "      <td>4792</td>\n",
       "      <td>4792</td>\n",
       "      <td>4792</td>\n",
       "      <td>2741</td>\n",
       "      <td>2741</td>\n",
       "      <td>4792</td>\n",
       "    </tr>\n",
       "    <tr>\n",
       "      <th>21</th>\n",
       "      <td>3730</td>\n",
       "      <td>3730</td>\n",
       "      <td>3730</td>\n",
       "      <td>3730</td>\n",
       "      <td>3730</td>\n",
       "      <td>3730</td>\n",
       "      <td>3730</td>\n",
       "      <td>3730</td>\n",
       "      <td>3730</td>\n",
       "      <td>3730</td>\n",
       "      <td>2229</td>\n",
       "      <td>2229</td>\n",
       "      <td>3730</td>\n",
       "    </tr>\n",
       "    <tr>\n",
       "      <th>22</th>\n",
       "      <td>2484</td>\n",
       "      <td>2484</td>\n",
       "      <td>2484</td>\n",
       "      <td>2484</td>\n",
       "      <td>2484</td>\n",
       "      <td>2484</td>\n",
       "      <td>2484</td>\n",
       "      <td>2484</td>\n",
       "      <td>2484</td>\n",
       "      <td>2484</td>\n",
       "      <td>1416</td>\n",
       "      <td>1416</td>\n",
       "      <td>2484</td>\n",
       "    </tr>\n",
       "    <tr>\n",
       "      <th>23</th>\n",
       "      <td>1749</td>\n",
       "      <td>1749</td>\n",
       "      <td>1749</td>\n",
       "      <td>1749</td>\n",
       "      <td>1749</td>\n",
       "      <td>1749</td>\n",
       "      <td>1749</td>\n",
       "      <td>1749</td>\n",
       "      <td>1749</td>\n",
       "      <td>1749</td>\n",
       "      <td>970</td>\n",
       "      <td>970</td>\n",
       "      <td>1749</td>\n",
       "    </tr>\n",
       "  </tbody>\n",
       "</table>\n",
       "</div>"
      ],
      "text/plain": [
       "    trip_id  starttime  stoptime  bikeid  tripduration  from_station_name  \\\n",
       "0      1022       1022      1022    1022          1022               1022   \n",
       "1       682        682       682     682           682                682   \n",
       "2       478        478       478     478           478                478   \n",
       "3       192        192       192     192           192                192   \n",
       "4       316        316       316     316           316                316   \n",
       "5       905        905       905     905           905                905   \n",
       "6      1855       1855      1855    1855          1855               1855   \n",
       "7      6093       6093      6093    6093          6093               6093   \n",
       "8     10967      10967     10967   10967         10967              10967   \n",
       "9      9751       9751      9751    9751          9751               9751   \n",
       "10     7761       7761      7761    7761          7761               7761   \n",
       "11     8864       8864      8864    8864          8864               8864   \n",
       "12     9571       9571      9571    9571          9571               9571   \n",
       "13     9575       9575      9575    9575          9575               9575   \n",
       "14     9096       9096      9096    9096          9096               9096   \n",
       "15     9850       9850      9850    9850          9850               9850   \n",
       "16    11629      11629     11629   11629         11629              11629   \n",
       "17    14163      14163     14163   14163         14163              14163   \n",
       "18    10382      10382     10382   10382         10382              10382   \n",
       "19     6939       6939      6939    6939          6939               6939   \n",
       "20     4792       4792      4792    4792          4792               4792   \n",
       "21     3730       3730      3730    3730          3730               3730   \n",
       "22     2484       2484      2484    2484          2484               2484   \n",
       "23     1749       1749      1749    1749          1749               1749   \n",
       "\n",
       "    to_station_name  from_station_id  to_station_id  usertype  gender  \\\n",
       "0              1022             1022           1022      1022     571   \n",
       "1               682              682            682       682     341   \n",
       "2               478              478            478       478     178   \n",
       "3               192              192            192       192      89   \n",
       "4               316              316            316       316     241   \n",
       "5               905              905            905       905     731   \n",
       "6              1855             1855           1855      1855    1591   \n",
       "7              6093             6093           6093      6093    5428   \n",
       "8             10967            10967          10967     10967    9661   \n",
       "9              9751             9751           9751      9751    7708   \n",
       "10             7761             7761           7761      7761    4657   \n",
       "11             8864             8864           8864      8864    4735   \n",
       "12             9571             9571           9571      9571    4816   \n",
       "13             9575             9575           9575      9575    4349   \n",
       "14             9096             9096           9096      9096    3580   \n",
       "15             9850             9850           9850      9850    4348   \n",
       "16            11629            11629          11629     11629    6485   \n",
       "17            14163            14163          14163     14163    9588   \n",
       "18            10382            10382          10382     10382    6709   \n",
       "19             6939             6939           6939      6939    4198   \n",
       "20             4792             4792           4792      4792    2741   \n",
       "21             3730             3730           3730      3730    2229   \n",
       "22             2484             2484           2484      2484    1416   \n",
       "23             1749             1749           1749      1749     970   \n",
       "\n",
       "    birthyear  tripminutes  \n",
       "0         571         1022  \n",
       "1         341          682  \n",
       "2         178          478  \n",
       "3          89          192  \n",
       "4         241          316  \n",
       "5         731          905  \n",
       "6        1591         1855  \n",
       "7        5428         6093  \n",
       "8        9661        10967  \n",
       "9        7708         9751  \n",
       "10       4657         7761  \n",
       "11       4735         8864  \n",
       "12       4816         9571  \n",
       "13       4349         9575  \n",
       "14       3580         9096  \n",
       "15       4348         9850  \n",
       "16       6485        11629  \n",
       "17       9588        14163  \n",
       "18       6709        10382  \n",
       "19       4198         6939  \n",
       "20       2741         4792  \n",
       "21       2229         3730  \n",
       "22       1416         2484  \n",
       "23        970         1749  "
      ]
     },
     "execution_count": 34,
     "metadata": {},
     "output_type": "execute_result"
    }
   ],
   "source": [
    "data.groupby(times.hour).count()"
   ]
  },
  {
   "cell_type": "markdown",
   "metadata": {},
   "source": [
    "Now, let's find the average length of a ride as a function of time of day:"
   ]
  },
  {
   "cell_type": "code",
   "execution_count": 35,
   "metadata": {
    "collapsed": false
   },
   "outputs": [
    {
     "data": {
      "text/plain": [
       "0     18.293162\n",
       "1     16.812000\n",
       "2     26.467510\n",
       "3     22.643443\n",
       "4     18.595762\n",
       "5     13.565035\n",
       "6     12.091993\n",
       "7     12.378344\n",
       "8     12.544350\n",
       "9     15.175861\n",
       "10    23.558911\n",
       "11    25.645489\n",
       "12    26.052903\n",
       "13    27.878785\n",
       "14    28.354453\n",
       "15    26.164124\n",
       "16    21.257375\n",
       "17    17.388788\n",
       "18    16.706635\n",
       "19    16.886609\n",
       "20    17.463562\n",
       "21    15.227905\n",
       "22    15.931296\n",
       "23    16.006255\n",
       "Name: tripminutes, dtype: float64"
      ]
     },
     "execution_count": 35,
     "metadata": {},
     "output_type": "execute_result"
    }
   ],
   "source": [
    "data.groupby(times.hour)['tripminutes'].mean()"
   ]
  },
  {
   "cell_type": "markdown",
   "metadata": {},
   "source": [
    "You can specify a groupby using the names of table columns and compute other functions, such as the mean."
   ]
  },
  {
   "cell_type": "code",
   "execution_count": 36,
   "metadata": {
    "collapsed": false
   },
   "outputs": [
    {
     "data": {
      "text/plain": [
       "gender\n",
       "Female    12.137525\n",
       "Male       9.547313\n",
       "Other     10.898911\n",
       "Name: tripminutes, dtype: float64"
      ]
     },
     "execution_count": 36,
     "metadata": {},
     "output_type": "execute_result"
    }
   ],
   "source": [
    "data.groupby(['gender'])['tripminutes'].mean()"
   ]
  },
  {
   "cell_type": "markdown",
   "metadata": {},
   "source": [
    "The simplest version of a groupby looks like this, and you can use almost any aggregation function you wish (mean, median, sum, minimum, maximum, standard deviation, count, etc.)\n",
    "\n",
    "```\n",
    "<data object>.groupby(<grouping values>).<aggregate>()\n",
    "```\n",
    "\n",
    "You can even group by multiple values: for example we can look at the trip duration by time of day and by gender:"
   ]
  },
  {
   "cell_type": "code",
   "execution_count": null,
   "metadata": {
    "collapsed": false
   },
   "outputs": [],
   "source": [
    "grouped = data.groupby([times.hour, 'gender'])['tripminutes'].mean()\n",
    "grouped"
   ]
  },
  {
   "cell_type": "markdown",
   "metadata": {},
   "source": [
    "The ``unstack()`` operation can help make sense of this type of multiply-grouped data. What this technically does is split a multiple-valued index into an index plus columns:"
   ]
  },
  {
   "cell_type": "code",
   "execution_count": null,
   "metadata": {
    "collapsed": false
   },
   "outputs": [],
   "source": [
    "grouped.unstack()"
   ]
  },
  {
   "cell_type": "markdown",
   "metadata": {},
   "source": [
    "## 5. Visualizing data with ``pandas``\n",
    "\n",
    "Of course, looking at tables of data is not very intuitive.\n",
    "Fortunately Pandas has many useful plotting functions built-in, all of which make use of the ``matplotlib`` library to generate plots.\n",
    "\n",
    "Whenever you do plotting in the IPython notebook, you will want to first run this *magic command* which configures the notebook to work well with plots:"
   ]
  },
  {
   "cell_type": "code",
   "execution_count": 37,
   "metadata": {
    "collapsed": true
   },
   "outputs": [],
   "source": [
    "%matplotlib inline"
   ]
  },
  {
   "cell_type": "markdown",
   "metadata": {},
   "source": [
    "Now we can simply call the ``plot()`` method of any series or dataframe to get a reasonable view of the data:"
   ]
  },
  {
   "cell_type": "code",
   "execution_count": 38,
   "metadata": {
    "collapsed": false
   },
   "outputs": [
    {
     "data": {
      "text/plain": [
       "<matplotlib.axes._subplots.AxesSubplot at 0x7f54579d2710>"
      ]
     },
     "execution_count": 38,
     "metadata": {},
     "output_type": "execute_result"
    },
    {
     "data": {
      "image/png": "[encoded data removed]",
      "text/plain": [
       "<matplotlib.figure.Figure at 0x7f5457c91f50>"
      ]
     },
     "metadata": {},
     "output_type": "display_data"
    }
   ],
   "source": [
    "data.groupby([times.hour, 'usertype'])['tripminutes'].mean().unstack().plot()"
   ]
  },
  {
   "cell_type": "markdown",
   "metadata": {},
   "source": [
    "### Adjusting the Plot Style\n",
    "\n",
    "The default formatting is not very nice; I often make use of the [Seaborn](http://stanford.edu/~mwaskom/software/seaborn/) library for better plotting defaults.\n",
    "\n",
    "You should do this in bash\n",
    "```\n",
    "$ conda install seaborn\n",
    "```\n",
    "Then this in python\n",
    "```\n",
    "import seaborn\n",
    "seaborn.set()\n",
    "data.groupby([times.hour, 'usertype'])['tripminutes'].mean().unstack().plot()\n",
    "```"
   ]
  },
  {
   "cell_type": "markdown",
   "metadata": {},
   "source": [
    "### Other plot types\n",
    "\n",
    "Pandas supports a range of other plotting types; you can find these by using the <TAB> autocomplete on the ``plot`` method:"
   ]
  },
  {
   "cell_type": "code",
   "execution_count": 39,
   "metadata": {
    "collapsed": false
   },
   "outputs": [
    {
     "data": {
      "text/plain": [
       "<matplotlib.axes._subplots.AxesSubplot at 0x7f5457930b90>"
      ]
     },
     "execution_count": 39,
     "metadata": {},
     "output_type": "execute_result"
    },
    {
     "data": {
      "image/png": "[encoded data removed]",
      "text/plain": [
       "<matplotlib.figure.Figure at 0x7f5457945950>"
      ]
     },
     "metadata": {},
     "output_type": "display_data"
    }
   ],
   "source": [
    "data.plot.hist()"
   ]
  },
  {
   "cell_type": "markdown",
   "metadata": {},
   "source": [
    "For example, we can create a histogram of trip durations:"
   ]
  },
  {
   "cell_type": "code",
   "execution_count": null,
   "metadata": {
    "collapsed": false
   },
   "outputs": [],
   "source": [
    "data['tripminutes'].plot.hist(bins=100)"
   ]
  },
  {
   "cell_type": "markdown",
   "metadata": {},
   "source": [
    "If you'd like to adjust the x and y limits of the plot, you can use the ``set_xlim()`` and ``set_ylim()`` method of the resulting object:"
   ]
  },
  {
   "cell_type": "code",
   "execution_count": null,
   "metadata": {
    "collapsed": false
   },
   "outputs": [],
   "source": [
    "plot = data['tripminutes'].plot.hist(bins=500)\n",
    "plot.set_xlim(0, 50)\n"
   ]
  },
  {
   "cell_type": "markdown",
   "metadata": {},
   "source": [
    "## Breakout: Exploring the Data\n",
    "\n",
    "1. Make a plot of the total number of rides as a function of month of the year (You'll need to extract the month, use a ``groupby``, and find the appropriate aggregation to count the number in each group)."
   ]
  },
  {
   "cell_type": "code",
   "execution_count": null,
   "metadata": {
    "collapsed": true
   },
   "outputs": [],
   "source": []
  },
  {
   "cell_type": "markdown",
   "metadata": {},
   "source": [
    "2. Split this plot by gender. Do you see any seasonal ridership patterns by gender?"
   ]
  },
  {
   "cell_type": "code",
   "execution_count": null,
   "metadata": {
    "collapsed": true
   },
   "outputs": [],
   "source": []
  },
  {
   "cell_type": "markdown",
   "metadata": {},
   "source": [
    "3. Split this plot by user type. Do you see any seasonal ridership patterns by usertype?"
   ]
  },
  {
   "cell_type": "code",
   "execution_count": null,
   "metadata": {
    "collapsed": true
   },
   "outputs": [],
   "source": []
  },
  {
   "cell_type": "markdown",
   "metadata": {},
   "source": [
    "4. Repeat the above three steps, counting the number of rides by time of day rather thatn by month."
   ]
  },
  {
   "cell_type": "code",
   "execution_count": null,
   "metadata": {
    "collapsed": true
   },
   "outputs": [],
   "source": []
  },
  {
   "cell_type": "markdown",
   "metadata": {},
   "source": [
    "5. Are there any other interesting insights you can discover in the data using these tools?"
   ]
  },
  {
   "cell_type": "code",
   "execution_count": null,
   "metadata": {
    "collapsed": true
   },
   "outputs": [],
   "source": []
  },
  {
   "cell_type": "code",
   "execution_count": null,
   "metadata": {
    "collapsed": true
   },
   "outputs": [],
   "source": []
  },
  {
   "cell_type": "markdown",
   "metadata": {},
   "source": [
    "### Looking Forward to Homework"
   ]
  },
  {
   "cell_type": "markdown",
   "metadata": {},
   "source": [
    "In the homework this week, you will have a chance to apply some of these patterns to a brand new (but closely related) dataset."
   ]
  }
 ],
 "metadata": {
  "anaconda-cloud": {},
  "kernelspec": {
   "display_name": "Python [conda env:python3]",
   "language": "python",
   "name": "conda-env-python3-py"
  },
  "language_info": {
   "codemirror_mode": {
    "name": "ipython",
    "version": 2
   },
   "file_extension": ".py",
   "mimetype": "text/x-python",
   "name": "python",
   "nbconvert_exporter": "python",
   "pygments_lexer": "ipython2",
   "version": "2.7.12"
  }
 },
 "nbformat": 4,
 "nbformat_minor": 0
}
