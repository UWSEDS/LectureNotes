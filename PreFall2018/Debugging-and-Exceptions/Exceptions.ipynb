{
 "cells": [
  {
   "cell_type": "code",
   "execution_count": 1,
   "metadata": {},
   "outputs": [],
   "source": [
    "import numpy as np"
   ]
  },
  {
   "cell_type": "markdown",
   "metadata": {},
   "source": [
    "# Exceptions"
   ]
  },
  {
   "cell_type": "markdown",
   "metadata": {},
   "source": [
    "An exception is an event, which occurs during the execution of a program, that disrupts the normal flow of the program's instructions.\n",
    "\n",
    "You've already seen some exceptions:\n",
    "- syntax errors\n",
    "- divide by 0"
   ]
  },
  {
   "cell_type": "markdown",
   "metadata": {},
   "source": [
    "Many programs want to know about exceptions when they occur. For example, if the input to a program is a file path. If the user inputs an invalid or non-existent path, the program generates an exception. It may be desired to provide a response to the user in this case."
   ]
  },
  {
   "cell_type": "markdown",
   "metadata": {},
   "source": [
    "It may also be that programs will *generate* exceptions. This is a way of indicating that there is an error in the inputs provided. In general, this is the preferred style for dealing with invalid inputs or states inside a python function rather than having an error return."
   ]
  },
  {
   "cell_type": "markdown",
   "metadata": {},
   "source": [
    "## Catching Exceptions"
   ]
  },
  {
   "cell_type": "markdown",
   "metadata": {},
   "source": [
    "Python provides a way to detect when an exception occurs. This is done by the use of a block of code surrounded by a \"try\" and \"except\" statement."
   ]
  },
  {
   "cell_type": "code",
   "execution_count": 2,
   "metadata": {},
   "outputs": [],
   "source": [
    "def divide1(numerator, denominator):\n",
    "    try:\n",
    "      result = numerator/denominator\n",
    "      print(\"result = %f\" % result)\n",
    "    except:\n",
    "      print(\"You can't divide by 0!!\")"
   ]
  },
  {
   "cell_type": "code",
   "execution_count": 3,
   "metadata": {},
   "outputs": [
    {
     "name": "stdout",
     "output_type": "stream",
     "text": [
      "result = 0.500000\n"
     ]
    }
   ],
   "source": [
    "divide1(1.0, 2)"
   ]
  },
  {
   "cell_type": "code",
   "execution_count": 4,
   "metadata": {},
   "outputs": [
    {
     "name": "stdout",
     "output_type": "stream",
     "text": [
      "You can't divide by 0!!\n"
     ]
    }
   ],
   "source": [
    "divide1(1.0, 0)"
   ]
  },
  {
   "cell_type": "code",
   "execution_count": 5,
   "metadata": {},
   "outputs": [
    {
     "name": "stdout",
     "output_type": "stream",
     "text": [
      "You can't divide by 0!!\n"
     ]
    }
   ],
   "source": [
    "divide1(\"x\", 2)"
   ]
  },
  {
   "cell_type": "markdown",
   "metadata": {},
   "source": [
    "**Question**: What do you do when you get an exception?"
   ]
  },
  {
   "cell_type": "markdown",
   "metadata": {},
   "source": [
    "You can get information about exceptions."
   ]
  },
  {
   "cell_type": "code",
   "execution_count": 6,
   "metadata": {},
   "outputs": [],
   "source": [
    "#1/0"
   ]
  },
  {
   "cell_type": "code",
   "execution_count": 7,
   "metadata": {},
   "outputs": [],
   "source": [
    "def divide2(numerator, denominator):\n",
    "    try:\n",
    "      result = numerator/denominator\n",
    "      print(\"result = %f\" % result)\n",
    "    except (ZeroDivisionError, TypeError):\n",
    "      print(\"Got an exception\")"
   ]
  },
  {
   "cell_type": "code",
   "execution_count": 8,
   "metadata": {},
   "outputs": [
    {
     "name": "stdout",
     "output_type": "stream",
     "text": [
      "Got an exception\n"
     ]
    }
   ],
   "source": [
    "divide2(1, \"x\")"
   ]
  },
  {
   "cell_type": "code",
   "execution_count": 9,
   "metadata": {},
   "outputs": [
    {
     "name": "stdout",
     "output_type": "stream",
     "text": [
      "Got an exception\n"
     ]
    }
   ],
   "source": [
    "# Why doesn't this catch the exception?\n",
    "# How do we fix it?\n",
    "divide2(\"x\", 2)"
   ]
  },
  {
   "cell_type": "code",
   "execution_count": 10,
   "metadata": {},
   "outputs": [],
   "source": [
    "# Exceptions in file handling\n",
    "def read_safely(path):\n",
    "  error = None\n",
    "  try:\n",
    "    with open(path, \"r\") as fd:\n",
    "      lines = fd.readlines()\n",
    "      print ('\\n'.join(lines()))\n",
    "  except FileNotFoundError as err:\n",
    "    print(\"File %s does not exist. Try again.\" % path)"
   ]
  },
  {
   "cell_type": "code",
   "execution_count": 11,
   "metadata": {},
   "outputs": [
    {
     "name": "stdout",
     "output_type": "stream",
     "text": [
      "File unknown.txt does not exist. Try again.\n"
     ]
    }
   ],
   "source": [
    "read_safely(\"unknown.txt\")"
   ]
  },
  {
   "cell_type": "code",
   "execution_count": 12,
   "metadata": {},
   "outputs": [],
   "source": [
    "# Handle division by 0 by using a small number\n",
    "SMALL_NUMBER = 1e-3\n",
    "def divide2(numerator, denominator):\n",
    "    try:\n",
    "      result = numerator/denominator\n",
    "    except ZeroDivisionError:\n",
    "      result = numerator/SMALL_NUMBER\n",
    "    print(\"result = %f\" % result)"
   ]
  },
  {
   "cell_type": "code",
   "execution_count": 13,
   "metadata": {},
   "outputs": [
    {
     "name": "stdout",
     "output_type": "stream",
     "text": [
      "result = 1000.000000\n"
     ]
    }
   ],
   "source": [
    "divide2(1,0)"
   ]
  },
  {
   "cell_type": "markdown",
   "metadata": {},
   "source": [
    "## Generating Exceptions"
   ]
  },
  {
   "cell_type": "markdown",
   "metadata": {},
   "source": [
    "Why *generate* exceptions? (Don't I have enough unintentional errors?)"
   ]
  },
  {
   "cell_type": "code",
   "execution_count": 14,
   "metadata": {},
   "outputs": [],
   "source": [
    "import pandas as pd\n",
    "def func(df):\n",
    "    \"\"\"\"\n",
    "    :param pd.DataFrame df: should have a column named \"hours\"\n",
    "    \"\"\"\n",
    "    if not \"hours\" in df.columns:\n",
    "        raise ValueError(\"DataFrame should have a column named 'hours'.\")"
   ]
  },
  {
   "cell_type": "code",
   "execution_count": 15,
   "metadata": {},
   "outputs": [],
   "source": [
    "df = pd.DataFrame({'hours': range(10) })\n",
    "func(df)"
   ]
  },
  {
   "cell_type": "code",
   "execution_count": 16,
   "metadata": {},
   "outputs": [],
   "source": [
    "df = pd.DataFrame({'years': range(10) })\n",
    "# Generates an exception\n",
    "#func(df)"
   ]
  },
  {
   "cell_type": "markdown",
   "metadata": {},
   "source": [
    "## Class exercise\n",
    "Choose one of the functions from the last exercise. Create two new functions:\n",
    "- The first function throws an exception if there is a negative argument.\n",
    "- The second function catches an exception if the modulo operator (`%`) throws an exception and attempts to correct it by coercing the argument to a positive integer."
   ]
  }
 ],
 "metadata": {
  "kernelspec": {
   "display_name": "Python 3",
   "language": "python",
   "name": "python3"
  },
  "language_info": {
   "codemirror_mode": {
    "name": "ipython",
    "version": 3
   },
   "file_extension": ".py",
   "mimetype": "text/x-python",
   "name": "python",
   "nbconvert_exporter": "python",
   "pygments_lexer": "ipython3",
   "version": "3.6.4"
  }
 },
 "nbformat": 4,
 "nbformat_minor": 2
}
