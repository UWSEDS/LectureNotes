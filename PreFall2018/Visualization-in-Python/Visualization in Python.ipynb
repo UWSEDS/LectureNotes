{
 "cells": [
  {
   "cell_type": "markdown",
   "metadata": {},
   "source": [
    "# Visualization in Python"
   ]
  },
  {
   "cell_type": "markdown",
   "metadata": {},
   "source": [
    "## Background"
   ]
  },
  {
   "cell_type": "markdown",
   "metadata": {},
   "source": [
    "Why visualize?\n",
    "- Discovery\n",
    "- Inference\n",
    "- Communication\n"
   ]
  },
  {
   "cell_type": "markdown",
   "metadata": {},
   "source": [
    "Terminology\n",
    "- Representation\n",
    " - Environment for visualization (e.g., 2d, 3d, sound)\n",
    "- Idiom\n",
    " - Constructs used (e.g., bar plot, area plot)\n",
    "- Task\n",
    " - What the user is trying to do (e.g., compare, predict, find relationships)\n",
    "- Design\n",
    " - Choice of the representation(s) and idiom(s) to perform the task\n"
   ]
  },
  {
   "cell_type": "markdown",
   "metadata": {},
   "source": [
    "**Question**: What would be an effective way to visualize:\n",
    "- Average family income in US over the last 10 years?\n",
    "- Average family income by state in 2016?\n",
    "- Average family income by state over the last 10 years?"
   ]
  },
  {
   "cell_type": "markdown",
   "metadata": {},
   "source": [
    "## Software Engineering & Visualization"
   ]
  },
  {
   "cell_type": "markdown",
   "metadata": {},
   "source": [
    "There are many python packages for visualization.\n",
    "- pandas – Visualization of pandas objects\n",
    "- matplotlib – MATLAB plotting in python\n",
    "- seaborn – Statistical visualizations\n",
    "- bokeh – Interactive visualization using the browser\n",
    "- HoloViews – Simplified visualization of engineering/scientific data\n",
    "- VisPy – fast, scalable, simple interactive scientific visualization\n",
    "- Altair – declarative statistical visualization\n",
    "\n",
    "\n",
    "We'll begin with visualization in pandas and focus on matplotlib. There is great documentation on all of this.\n",
    "The case study is to analyze the flow of bicycles out of stations in the Pronto trip data.\n",
    "In this section, we'll discuss:\n",
    "- the structure of a matplotlib plot\n",
    "- different plot idioms\n",
    "- doing multiple plots"
   ]
  },
  {
   "cell_type": "code",
   "execution_count": 1,
   "metadata": {
    "collapsed": true
   },
   "outputs": [],
   "source": [
    "import pandas as pd\n",
    "import matplotlib.pyplot as plt\n",
    "# The following ensures that the plots are in the notebook\n",
    "%matplotlib inline\n",
    "# We'll also use capabilities in numpy\n",
    "import numpy as np"
   ]
  },
  {
   "cell_type": "markdown",
   "metadata": {},
   "source": [
    "Analysis questions\n",
    "- Which stations have the biggest difference between in-flow and out-flow of bikes?\n",
    "- Where can we localize the movement of bicycles between stations that are in close proximity?"
   ]
  },
  {
   "cell_type": "markdown",
   "metadata": {},
   "source": [
    "## Preparing Data For Visualization\n",
    "Much of the effort in visualizing data is in preparing the data for visualization. Typically, you'll want to use one or more `pandas DataFrame`."
   ]
  },
  {
   "cell_type": "code",
   "execution_count": 2,
   "metadata": {},
   "outputs": [
    {
     "data": {
      "text/html": [
       "<div>\n",
       "<table border=\"1\" class=\"dataframe\">\n",
       "  <thead>\n",
       "    <tr style=\"text-align: right;\">\n",
       "      <th></th>\n",
       "      <th>trip_id</th>\n",
       "      <th>starttime</th>\n",
       "      <th>stoptime</th>\n",
       "      <th>bikeid</th>\n",
       "      <th>tripduration</th>\n",
       "      <th>from_station_name</th>\n",
       "      <th>to_station_name</th>\n",
       "      <th>from_station_id</th>\n",
       "      <th>to_station_id</th>\n",
       "      <th>usertype</th>\n",
       "      <th>gender</th>\n",
       "      <th>birthyear</th>\n",
       "    </tr>\n",
       "  </thead>\n",
       "  <tbody>\n",
       "    <tr>\n",
       "      <th>0</th>\n",
       "      <td>431</td>\n",
       "      <td>10/13/2014 10:31</td>\n",
       "      <td>10/13/2014 10:48</td>\n",
       "      <td>SEA00298</td>\n",
       "      <td>985.935</td>\n",
       "      <td>2nd Ave &amp; Spring St</td>\n",
       "      <td>Occidental Park / Occidental Ave S &amp; S Washing...</td>\n",
       "      <td>CBD-06</td>\n",
       "      <td>PS-04</td>\n",
       "      <td>Annual Member</td>\n",
       "      <td>Male</td>\n",
       "      <td>1960</td>\n",
       "    </tr>\n",
       "    <tr>\n",
       "      <th>1</th>\n",
       "      <td>432</td>\n",
       "      <td>10/13/2014 10:32</td>\n",
       "      <td>10/13/2014 10:48</td>\n",
       "      <td>SEA00195</td>\n",
       "      <td>926.375</td>\n",
       "      <td>2nd Ave &amp; Spring St</td>\n",
       "      <td>Occidental Park / Occidental Ave S &amp; S Washing...</td>\n",
       "      <td>CBD-06</td>\n",
       "      <td>PS-04</td>\n",
       "      <td>Annual Member</td>\n",
       "      <td>Male</td>\n",
       "      <td>1970</td>\n",
       "    </tr>\n",
       "    <tr>\n",
       "      <th>2</th>\n",
       "      <td>433</td>\n",
       "      <td>10/13/2014 10:33</td>\n",
       "      <td>10/13/2014 10:48</td>\n",
       "      <td>SEA00486</td>\n",
       "      <td>883.831</td>\n",
       "      <td>2nd Ave &amp; Spring St</td>\n",
       "      <td>Occidental Park / Occidental Ave S &amp; S Washing...</td>\n",
       "      <td>CBD-06</td>\n",
       "      <td>PS-04</td>\n",
       "      <td>Annual Member</td>\n",
       "      <td>Female</td>\n",
       "      <td>1988</td>\n",
       "    </tr>\n",
       "    <tr>\n",
       "      <th>3</th>\n",
       "      <td>434</td>\n",
       "      <td>10/13/2014 10:34</td>\n",
       "      <td>10/13/2014 10:48</td>\n",
       "      <td>SEA00333</td>\n",
       "      <td>865.937</td>\n",
       "      <td>2nd Ave &amp; Spring St</td>\n",
       "      <td>Occidental Park / Occidental Ave S &amp; S Washing...</td>\n",
       "      <td>CBD-06</td>\n",
       "      <td>PS-04</td>\n",
       "      <td>Annual Member</td>\n",
       "      <td>Female</td>\n",
       "      <td>1977</td>\n",
       "    </tr>\n",
       "    <tr>\n",
       "      <th>4</th>\n",
       "      <td>435</td>\n",
       "      <td>10/13/2014 10:34</td>\n",
       "      <td>10/13/2014 10:49</td>\n",
       "      <td>SEA00202</td>\n",
       "      <td>923.923</td>\n",
       "      <td>2nd Ave &amp; Spring St</td>\n",
       "      <td>Occidental Park / Occidental Ave S &amp; S Washing...</td>\n",
       "      <td>CBD-06</td>\n",
       "      <td>PS-04</td>\n",
       "      <td>Annual Member</td>\n",
       "      <td>Male</td>\n",
       "      <td>1971</td>\n",
       "    </tr>\n",
       "  </tbody>\n",
       "</table>\n",
       "</div>"
      ],
      "text/plain": [
       "   trip_id         starttime          stoptime    bikeid  tripduration  \\\n",
       "0      431  10/13/2014 10:31  10/13/2014 10:48  SEA00298       985.935   \n",
       "1      432  10/13/2014 10:32  10/13/2014 10:48  SEA00195       926.375   \n",
       "2      433  10/13/2014 10:33  10/13/2014 10:48  SEA00486       883.831   \n",
       "3      434  10/13/2014 10:34  10/13/2014 10:48  SEA00333       865.937   \n",
       "4      435  10/13/2014 10:34  10/13/2014 10:49  SEA00202       923.923   \n",
       "\n",
       "     from_station_name                                    to_station_name  \\\n",
       "0  2nd Ave & Spring St  Occidental Park / Occidental Ave S & S Washing...   \n",
       "1  2nd Ave & Spring St  Occidental Park / Occidental Ave S & S Washing...   \n",
       "2  2nd Ave & Spring St  Occidental Park / Occidental Ave S & S Washing...   \n",
       "3  2nd Ave & Spring St  Occidental Park / Occidental Ave S & S Washing...   \n",
       "4  2nd Ave & Spring St  Occidental Park / Occidental Ave S & S Washing...   \n",
       "\n",
       "  from_station_id to_station_id       usertype  gender  birthyear  \n",
       "0          CBD-06         PS-04  Annual Member    Male       1960  \n",
       "1          CBD-06         PS-04  Annual Member    Male       1970  \n",
       "2          CBD-06         PS-04  Annual Member  Female       1988  \n",
       "3          CBD-06         PS-04  Annual Member  Female       1977  \n",
       "4          CBD-06         PS-04  Annual Member    Male       1971  "
      ]
     },
     "execution_count": 2,
     "metadata": {},
     "output_type": "execute_result"
    }
   ],
   "source": [
    "df = pd.read_csv(\"2015_trip_data.csv\")\n",
    "df.head()"
   ]
  },
  {
   "cell_type": "markdown",
   "metadata": {},
   "source": [
    "Suppose we want o analyze the flow of bicycles from and to stations."
   ]
  },
  {
   "cell_type": "markdown",
   "metadata": {},
   "source": [
    "**Question**: What data do we need for this visualization? How do we get it?"
   ]
  },
  {
   "cell_type": "code",
   "execution_count": 3,
   "metadata": {},
   "outputs": [],
   "source": [
    "from_counts = pd.value_counts(df.from_station_id)\n",
    "to_counts = pd.value_counts(df.to_station_id)"
   ]
  },
  {
   "cell_type": "code",
   "execution_count": 4,
   "metadata": {},
   "outputs": [
    {
     "data": {
      "text/plain": [
       "WF-01     6742\n",
       "BT-01     5885\n",
       "CBD-13    5385\n",
       "CH-07     5190\n",
       "SLU-15    5006\n",
       "Name: from_station_id, dtype: int64"
      ]
     },
     "execution_count": 4,
     "metadata": {},
     "output_type": "execute_result"
    }
   ],
   "source": [
    "from_counts.head()"
   ]
  },
  {
   "cell_type": "code",
   "execution_count": 5,
   "metadata": {},
   "outputs": [
    {
     "data": {
      "text/plain": [
       "pandas.core.series.Series"
      ]
     },
     "execution_count": 5,
     "metadata": {},
     "output_type": "execute_result"
    }
   ],
   "source": [
    "type(from_counts)"
   ]
  },
  {
   "cell_type": "code",
   "execution_count": 6,
   "metadata": {},
   "outputs": [
    {
     "data": {
      "text/plain": [
       "WF-01     7212\n",
       "CBD-13    7189\n",
       "BT-01     5800\n",
       "SLU-07    5390\n",
       "SLU-15    5328\n",
       "Name: to_station_id, dtype: int64"
      ]
     },
     "execution_count": 6,
     "metadata": {},
     "output_type": "execute_result"
    }
   ],
   "source": [
    "to_counts.head()"
   ]
  },
  {
   "cell_type": "markdown",
   "metadata": {},
   "source": [
    "**Question**: How we would get the same information using `groupby`?"
   ]
  },
  {
   "cell_type": "markdown",
   "metadata": {},
   "source": [
    "## Simple Plots for Series"
   ]
  },
  {
   "cell_type": "markdown",
   "metadata": {},
   "source": [
    "Let's address the question \"Which stations have the biggest difference between the in-flow and out-flow of bicycles?\""
   ]
  },
  {
   "cell_type": "markdown",
   "metadata": {},
   "source": [
    "What kind of objects are returned from pd.value_counts? Are these plottable? How do we figure this out?"
   ]
  },
  {
   "cell_type": "code",
   "execution_count": 12,
   "metadata": {},
   "outputs": [
    {
     "data": {
      "text/plain": [
       "<matplotlib.axes._subplots.AxesSubplot at 0x7fd95218a110>"
      ]
     },
     "execution_count": 12,
     "metadata": {},
     "output_type": "execute_result"
    },
    {
     "data": {
      "image/png": "[encoded data removed]",
      "text/plain": [
       "<matplotlib.figure.Figure at 0x7fd9525b4590>"
      ]
     },
     "metadata": {},
     "output_type": "display_data"
    }
   ],
   "source": [
    "from_counts.plot.bar()"
   ]
  },
  {
   "cell_type": "markdown",
   "metadata": {},
   "source": [
    "We can compare from and to counts with sidey-by-side plots. But to do this, we need a DataFrame with these counts."
   ]
  },
  {
   "cell_type": "code",
   "execution_count": 13,
   "metadata": {},
   "outputs": [],
   "source": [
    "df_counts = pd.DataFrame({'from':from_counts, 'to': to_counts})"
   ]
  },
  {
   "cell_type": "code",
   "execution_count": 16,
   "metadata": {},
   "outputs": [
    {
     "data": {
      "text/plain": [
       "array([[<matplotlib.axes._subplots.AxesSubplot object at 0x7fd953241410>,\n",
       "        <matplotlib.axes._subplots.AxesSubplot object at 0x7fd94c936510>]], dtype=object)"
      ]
     },
     "execution_count": 16,
     "metadata": {},
     "output_type": "execute_result"
    },
    {
     "data": {
      "image/png": "[encoded data removed]",
      "text/plain": [
       "<matplotlib.figure.Figure at 0x7fd951115690>"
      ]
     },
     "metadata": {},
     "output_type": "display_data"
    }
   ],
   "source": [
    "df_counts.plot(kind='bar', subplots=True, grid=True, title=\"Counts\",\n",
    "        layout=(1,2), sharex=True, sharey=False, legend=False, figsize=(12, 8))"
   ]
  },
  {
   "cell_type": "markdown",
   "metadata": {},
   "source": [
    "**Question**: How do we make the plots bigger?"
   ]
  },
  {
   "cell_type": "markdown",
   "metadata": {},
   "source": [
    "But this plot doesn't tell us about the *difference* between \"from\" and \"to\" counts. We want to subtract to_counts from from_counts. Will this difference be plottable?"
   ]
  },
  {
   "cell_type": "code",
   "execution_count": 17,
   "metadata": {},
   "outputs": [
    {
     "data": {
      "text/html": [
       "<div>\n",
       "<table border=\"1\" class=\"dataframe\">\n",
       "  <thead>\n",
       "    <tr style=\"text-align: right;\">\n",
       "      <th></th>\n",
       "      <th>from</th>\n",
       "      <th>to</th>\n",
       "    </tr>\n",
       "  </thead>\n",
       "  <tbody>\n",
       "    <tr>\n",
       "      <th>BT-01</th>\n",
       "      <td>5885</td>\n",
       "      <td>5800</td>\n",
       "    </tr>\n",
       "    <tr>\n",
       "      <th>BT-03</th>\n",
       "      <td>4199</td>\n",
       "      <td>3386</td>\n",
       "    </tr>\n",
       "    <tr>\n",
       "      <th>BT-04</th>\n",
       "      <td>2221</td>\n",
       "      <td>1856</td>\n",
       "    </tr>\n",
       "    <tr>\n",
       "      <th>BT-05</th>\n",
       "      <td>3368</td>\n",
       "      <td>3459</td>\n",
       "    </tr>\n",
       "    <tr>\n",
       "      <th>CBD-03</th>\n",
       "      <td>2974</td>\n",
       "      <td>3959</td>\n",
       "    </tr>\n",
       "  </tbody>\n",
       "</table>\n",
       "</div>"
      ],
      "text/plain": [
       "        from    to\n",
       "BT-01   5885  5800\n",
       "BT-03   4199  3386\n",
       "BT-04   2221  1856\n",
       "BT-05   3368  3459\n",
       "CBD-03  2974  3959"
      ]
     },
     "execution_count": 17,
     "metadata": {},
     "output_type": "execute_result"
    }
   ],
   "source": [
    "# What is the index for df_counts?\n",
    "df_counts.head()"
   ]
  },
  {
   "cell_type": "code",
   "execution_count": null,
   "metadata": {},
   "outputs": [],
   "source": [
    "(from_counts-to_counts).plot.bar()"
   ]
  },
  {
   "cell_type": "markdown",
   "metadata": {},
   "source": [
    "**Question**: How do we get rid of the garbage data for the station \"Pronto\"?"
   ]
  },
  {
   "cell_type": "code",
   "execution_count": 22,
   "metadata": {},
   "outputs": [
    {
     "data": {
      "text/html": [
       "<div>\n",
       "<table border=\"1\" class=\"dataframe\">\n",
       "  <thead>\n",
       "    <tr style=\"text-align: right;\">\n",
       "      <th></th>\n",
       "      <th>from</th>\n",
       "      <th>to</th>\n",
       "    </tr>\n",
       "  </thead>\n",
       "  <tbody>\n",
       "    <tr>\n",
       "      <th>Pronto shop</th>\n",
       "      <td>1</td>\n",
       "      <td>13</td>\n",
       "    </tr>\n",
       "  </tbody>\n",
       "</table>\n",
       "</div>"
      ],
      "text/plain": [
       "             from  to\n",
       "Pronto shop     1  13"
      ]
     },
     "execution_count": 22,
     "metadata": {},
     "output_type": "execute_result"
    }
   ],
   "source": [
    "df1 = df_counts[df_counts.index=='Pronto shop']\n",
    "df1"
   ]
  },
  {
   "cell_type": "code",
   "execution_count": 24,
   "metadata": {},
   "outputs": [
    {
     "data": {
      "text/plain": [
       "<matplotlib.axes._subplots.AxesSubplot at 0x7fd947d7f750>"
      ]
     },
     "execution_count": 24,
     "metadata": {},
     "output_type": "execute_result"
    },
    {
     "data": {
      "image/png": "[encoded data removed]",
      "text/plain": [
       "<matplotlib.figure.Figure at 0x7fd947d0b710>"
      ]
     },
     "metadata": {},
     "output_type": "display_data"
    }
   ],
   "source": [
    "df_counts[df_counts.index!='Pronto shop'].plot.bar(figsize=(10,6))"
   ]
  },
  {
   "cell_type": "markdown",
   "metadata": {},
   "source": [
    "Some issues:\n",
    "- Bogus value 'Pronto shop'\n",
    "- Difficult to read the labels on the x-axis\n",
    "- The x and y axis aren't labelled\n",
    "- Lost information about \"from\" and \"to\""
   ]
  },
  {
   "cell_type": "markdown",
   "metadata": {},
   "source": [
    "## Writing a Data Cleansing Function"
   ]
  },
  {
   "cell_type": "markdown",
   "metadata": {},
   "source": [
    "We want to get rid of the row 'Pronto shop' in both from_counts and to_counts."
   ]
  },
  {
   "cell_type": "code",
   "execution_count": null,
   "metadata": {},
   "outputs": [],
   "source": [
    "# Selecting a row\n",
    "from_counts[from_counts.index == 'Pronto shop']"
   ]
  },
  {
   "cell_type": "code",
   "execution_count": null,
   "metadata": {},
   "outputs": [],
   "source": [
    "# Deleting a row\n",
    "new_from_counts = from_counts[from_counts.index != 'Pronto shop']\n",
    "new_from_counts.plot.bar()"
   ]
  },
  {
   "cell_type": "code",
   "execution_count": null,
   "metadata": {
    "collapsed": true
   },
   "outputs": [],
   "source": [
    "def simple_clean_rows(df):\n",
    "    \"\"\"\n",
    "    Removes from df all rows with the specified indexes\n",
    "    :param pd.DataFrame or pd.Series df:\n",
    "    :return pd.DataFrame or pd.Series:\n",
    "    \"\"\"\n",
    "   \n",
    "    df = df[df.index != 'Pronto Shop']\n",
    "    return df"
   ]
  },
  {
   "cell_type": "code",
   "execution_count": null,
   "metadata": {
    "collapsed": true
   },
   "outputs": [],
   "source": [
    "def clean_rows(df, indexes):\n",
    "    \"\"\"\n",
    "    Removes from df all rows with the specified indexes\n",
    "    :param pd.DataFrame or pd.Series df:\n",
    "    :param list-of-str indexes\n",
    "    :return pd.DataFrame or pd.Series:\n",
    "    \"\"\"\n",
    "    for idx in indexes:\n",
    "        df = df[df.index != idx]\n",
    "    return df"
   ]
  },
  {
   "cell_type": "code",
   "execution_count": null,
   "metadata": {},
   "outputs": [],
   "source": [
    "dff = clean_rows(to_counts, ['Pronto Shop', 'CBD-13'])\n",
    "dff.plot.bar()"
   ]
  },
  {
   "cell_type": "markdown",
   "metadata": {},
   "source": [
    "Does clean_rows need to return df to effect the change in df?"
   ]
  },
  {
   "cell_type": "code",
   "execution_count": null,
   "metadata": {},
   "outputs": [],
   "source": [
    "to_counts = clean_rows(to_counts, ['Pronto shop'])\n",
    "to_counts.plot.bar()"
   ]
  },
  {
   "cell_type": "code",
   "execution_count": null,
   "metadata": {},
   "outputs": [],
   "source": [
    "from_counts = clean_rows(from_counts, ['Pronto shop'])\n",
    "from_counts.plot.bar()"
   ]
  },
  {
   "cell_type": "code",
   "execution_count": null,
   "metadata": {},
   "outputs": [],
   "source": [
    "to_counts.head()"
   ]
  },
  {
   "cell_type": "markdown",
   "metadata": {},
   "source": [
    "## Getting More Control Over Plots"
   ]
  },
  {
   "cell_type": "markdown",
   "metadata": {},
   "source": [
    "*Let's take a more detailed approach to plotting so we can better control what gets rendered.*"
   ]
  },
  {
   "cell_type": "markdown",
   "metadata": {},
   "source": [
    "In this section, we show how to control various elements of plots to produce a desired visualization. We'll use the package matplotlib, a python package that is modelled after MATLAB style plotting."
   ]
  },
  {
   "cell_type": "markdown",
   "metadata": {},
   "source": [
    "Make a dataframe out of the count data."
   ]
  },
  {
   "cell_type": "code",
   "execution_count": null,
   "metadata": {},
   "outputs": [],
   "source": [
    "df_counts = pd.DataFrame({'From': from_counts.sort_index(), 'To': to_counts.sort_index()})"
   ]
  },
  {
   "cell_type": "markdown",
   "metadata": {},
   "source": [
    "Need to align the counts by the station. Do we do this?"
   ]
  },
  {
   "cell_type": "code",
   "execution_count": null,
   "metadata": {
    "scrolled": true
   },
   "outputs": [],
   "source": [
    "df_counts.head()"
   ]
  },
  {
   "cell_type": "code",
   "execution_count": null,
   "metadata": {},
   "outputs": [],
   "source": [
    "\"\"\"\n",
    "Basic bar chart using matplotlib\n",
    "\"\"\"\n",
    "n_groups = len(df_counts.index)\n",
    "index = np.arange(n_groups)  # The \"raw\" x-axis of the bar plot\n",
    "\n",
    "fig = plt.figure(figsize=(12, 8))  # Controls global properties of the bar plot\n",
    "rects1 = plt.bar(index, df_counts.From)\n",
    "plt.xlabel('Station')\n",
    "plt.ylabel('Counts')\n",
    "plt.xticks(index, df_counts.index)  # Convert \"raw\" x-axis into labels\n",
    "_, labels = plt.xticks()  # Get the new labels of the plot\n",
    "plt.setp(labels, rotation=90)  # Rotate labels to make them readable\n",
    "plt.title('Station Counts')\n",
    "plt.show()"
   ]
  },
  {
   "cell_type": "markdown",
   "metadata": {},
   "source": [
    "Issue - much more code, which will tend to be copied and pasted. \n",
    "\n",
    "Solution - **MAKE A FUNCTION NOW!!!**"
   ]
  },
  {
   "cell_type": "code",
   "execution_count": null,
   "metadata": {
    "collapsed": true
   },
   "outputs": [],
   "source": [
    "def plot_bar1(df, column, opts):\n",
    "    \"\"\"\n",
    "    Does a bar plot for a single column.\n",
    "    :param pd.DataFrame df:\n",
    "    :param str column: name of the column to plot\n",
    "    :param dict opts: key is plot attribute\n",
    "    \"\"\"\n",
    "    n_groups = len(df.index)\n",
    "    index = np.arange(n_groups)  # The \"raw\" x-axis of the bar plot\n",
    "    rects1 = plt.bar(index, df[column])\n",
    "    if 'xlabel' in opts:\n",
    "      plt.xlabel(opts['xlabel'])\n",
    "    if 'ylabel' in opts:\n",
    "      plt.ylabel(opts['ylabel'])\n",
    "    if 'xticks' in opts and opts['xticks']:\n",
    "      plt.xticks(index, df.index)  # Convert \"raw\" x-axis into labels\n",
    "      _, labels = plt.xticks()  # Get the new labels of the plot\n",
    "      plt.setp(labels, rotation=90)  # Rotate labels to make them readable\n",
    "    else:\n",
    "      labels = ['' for x in df.index]\n",
    "      plt.xticks(index, labels)   \n",
    "    if 'ylim' in opts:\n",
    "      plt.ylim(opts['ylim'])\n",
    "    if 'title' in opts:\n",
    "      plt.title(opts['title'])"
   ]
  },
  {
   "cell_type": "code",
   "execution_count": null,
   "metadata": {
    "scrolled": true
   },
   "outputs": [],
   "source": [
    "fig = plt.figure(figsize=(12, 8))  # Controls global properties of the bar plot\n",
    "opts = {'xlabel': 'Stations', 'ylabel': 'Counts', 'xticks': True, 'title': 'A Title'}\n",
    "plot_bar1(df_counts, 'To', opts)"
   ]
  },
  {
   "cell_type": "markdown",
   "metadata": {},
   "source": [
    "### Comparisons Using Subplots"
   ]
  },
  {
   "cell_type": "markdown",
   "metadata": {},
   "source": [
    "We want to encapsulate the plotting of N variables into a function. We could re-write plot_bar1. But other plots use this. Besides plot_bar1 is pretty good at handling a single plot. So, instead we use plot_bar1 in a new function."
   ]
  },
  {
   "cell_type": "code",
   "execution_count": null,
   "metadata": {
    "collapsed": true
   },
   "outputs": [],
   "source": [
    "def plot_barN(df, columns, opts):\n",
    "    \"\"\"\n",
    "    Does a bar plot for a single column.\n",
    "    :param pd.DataFrame df:\n",
    "    :param list-of-str columns: names of the column to plot\n",
    "    :param dict opts: key is plot attribute\n",
    "    \"\"\"\n",
    "    num_columns = len(columns)\n",
    "    local_opts = dict(opts)  # Make a deep copy of the object\n",
    "    idx = 0\n",
    "    for column in columns:\n",
    "        idx += 1\n",
    "        local_opts['xticks'] = False\n",
    "        local_opts['xlabel'] = ''\n",
    "        if idx == num_columns:\n",
    "          local_opts['xticks'] = True\n",
    "          local_opts['xlabel'] = opts['xlabel']\n",
    "        plt.subplot(num_columns, 1, idx)\n",
    "        plot_bar1(df, column, local_opts)\n",
    "    "
   ]
  },
  {
   "cell_type": "code",
   "execution_count": null,
   "metadata": {},
   "outputs": [],
   "source": [
    "fig = plt.figure(figsize=(12, 8))  # Controls global properties of the bar plot\n",
    "opts = {'xlabel': 'Stations', 'ylabel': 'Counts', 'ylim': [0, 8000]}\n",
    "plot_barN(df_counts, ['To', 'From'], opts)"
   ]
  },
  {
   "cell_type": "markdown",
   "metadata": {},
   "source": [
    "**Question**: How write tests for plot_barN?"
   ]
  },
  {
   "cell_type": "markdown",
   "metadata": {},
   "source": [
    "**Exercise**\n",
    "- Extend the plot_barN to also plot pair-wise differences between plots. Have titles for all plots."
   ]
  },
  {
   "cell_type": "markdown",
   "metadata": {},
   "source": [
    "## Including Error Bars in a Bar Chart"
   ]
  },
  {
   "cell_type": "markdown",
   "metadata": {},
   "source": [
    "To make decisions about the truck trips required to adjust bikes at stations, we need to know the variations by day.\n",
    "\n",
    "Want a bar plot with average daily \"to\" and \"from\" with their standard deviations."
   ]
  },
  {
   "cell_type": "markdown",
   "metadata": {},
   "source": [
    "### Data Preparation"
   ]
  },
  {
   "cell_type": "markdown",
   "metadata": {},
   "source": [
    "Need to:\n",
    "- Create day-of-year column for 'from' and 'to'\n",
    "- Compute counts by date\n",
    "- Compute the mean and standard deviation of the counts by date\n",
    "\n",
    "(Assumes that a station has at least one rental every day.)"
   ]
  },
  {
   "cell_type": "code",
   "execution_count": null,
   "metadata": {},
   "outputs": [],
   "source": [
    "df.head()"
   ]
  },
  {
   "cell_type": "markdown",
   "metadata": {},
   "source": [
    "Let's start with the values for starttime. What type are these?"
   ]
  },
  {
   "cell_type": "code",
   "execution_count": null,
   "metadata": {},
   "outputs": [],
   "source": [
    "print (df.starttime[0])\n",
    "print (type(df.starttime[0]))"
   ]
  },
  {
   "cell_type": "markdown",
   "metadata": {},
   "source": [
    "Question: How do we extract the day from a string?\n",
    "\n",
    "YOU DON'T!!! You convert it to a datetime object."
   ]
  },
  {
   "cell_type": "code",
   "execution_count": null,
   "metadata": {},
   "outputs": [],
   "source": [
    "this_datetime = pd.to_datetime(df.starttime[0])\n",
    "print this_datetime"
   ]
  },
  {
   "cell_type": "code",
   "execution_count": null,
   "metadata": {},
   "outputs": [],
   "source": [
    "this_datetime.dayofyear"
   ]
  },
  {
   "cell_type": "code",
   "execution_count": null,
   "metadata": {
    "collapsed": true
   },
   "outputs": [],
   "source": [
    "start_day = []\n",
    "for time in df.starttime:\n",
    "    start_day.append(pd.to_datetime(time).dayofyear)"
   ]
  },
  {
   "cell_type": "code",
   "execution_count": null,
   "metadata": {},
   "outputs": [],
   "source": [
    "start_day[2]"
   ]
  },
  {
   "cell_type": "code",
   "execution_count": null,
   "metadata": {},
   "outputs": [],
   "source": [
    "start_day = [pd.to_datetime(time).dayofyear for time in df.starttime]\n",
    "stop_day = [pd.to_datetime(x).dayofyear for x in df.stoptime]"
   ]
  },
  {
   "cell_type": "code",
   "execution_count": null,
   "metadata": {
    "collapsed": true
   },
   "outputs": [],
   "source": [
    "df['startday'] = start_day  # Creates a new column named 'startday'\n",
    "df['stopday'] = stop_day"
   ]
  },
  {
   "cell_type": "code",
   "execution_count": null,
   "metadata": {},
   "outputs": [],
   "source": [
    "df.head()"
   ]
  },
  {
   "cell_type": "code",
   "execution_count": null,
   "metadata": {},
   "outputs": [],
   "source": [
    "groupby_day_from = df.groupby(['from_station_id', 'startday']).size()\n",
    "groupby_day_from.head()"
   ]
  },
  {
   "cell_type": "code",
   "execution_count": null,
   "metadata": {},
   "outputs": [],
   "source": [
    "groupby_day_to = df.groupby(['to_station_id', 'stopday']).size()\n",
    "groupby_day_to.head()"
   ]
  },
  {
   "cell_type": "markdown",
   "metadata": {},
   "source": [
    "Now we need to compute the average value and its standard deviation across the days for each station.\n",
    "The groupby produced a MultiIndex. So, further operations on the result must take this into account."
   ]
  },
  {
   "cell_type": "code",
   "execution_count": null,
   "metadata": {},
   "outputs": [],
   "source": [
    "h_index = groupby_day_from.index\n",
    "h_index.levshape  # Size of the components of the MultiIndex"
   ]
  },
  {
   "cell_type": "code",
   "execution_count": null,
   "metadata": {},
   "outputs": [],
   "source": [
    "from_means = groupby_day_from.groupby(level=[0]).mean()  # Computes the mean of counts by day\n",
    "from_stds = groupby_day_from.groupby(level=[0]).std()   # Computes the standard deviation\n"
   ]
  },
  {
   "cell_type": "code",
   "execution_count": null,
   "metadata": {
    "collapsed": true
   },
   "outputs": [],
   "source": [
    "groupby_day_to = df.groupby(['to_station_id', 'startday']).size()\n",
    "to_means = groupby_day_to.groupby(level=[0]).mean()  # Computes the mean of counts by day\n",
    "to_stds = groupby_day_to.groupby(level=[0]).std()   # Computes the standard deviation"
   ]
  },
  {
   "cell_type": "code",
   "execution_count": null,
   "metadata": {
    "scrolled": true
   },
   "outputs": [],
   "source": [
    "df_day_counts = pd.DataFrame({'from_mean': from_means, 'from_std': from_stds, 'to_mean': to_means, 'to_std': to_stds})\n",
    "df_day_counts.head()"
   ]
  },
  {
   "cell_type": "markdown",
   "metadata": {},
   "source": [
    "### Plotting with Error Bars"
   ]
  },
  {
   "cell_type": "code",
   "execution_count": null,
   "metadata": {
    "scrolled": true
   },
   "outputs": [],
   "source": [
    "\"\"\"\n",
    "Plotting two variables as a bar chart with error bars\n",
    "\"\"\"\n",
    "n_groups = len(df_day_counts.index)\n",
    "index = np.arange(n_groups)  # The \"raw\" x-axis of the bar plot\n",
    "fig = plt.figure(figsize=(12, 8))  # Controls global properties of the bar plot\n",
    "bar_width = 0.35  # Width of the bars\n",
    "opacity = 0.6  # How transparent the bars are\n",
    "\n",
    "#VVVV Changed to do two plots with error bars\n",
    "error_config = {'ecolor': '0.3'}\n",
    "rects1 = plt.bar(index, df_day_counts.from_mean, bar_width,\n",
    "                 alpha=opacity,\n",
    "                 color='b',\n",
    "                 yerr=df_day_counts.from_std,\n",
    "                 error_kw=error_config,\n",
    "                 label='From')\n",
    "rects2 = plt.bar(index + bar_width, df_day_counts.to_mean, bar_width,\n",
    "                 alpha=opacity,\n",
    "                 color='r',\n",
    "                 yerr=df_day_counts.to_std,\n",
    "                 error_kw=error_config,\n",
    "                 label='to')\n",
    "#^^^^ Changed to do two plots with error bars\n",
    "\n",
    "plt.xticks(index + bar_width / 2, df_counts.index)\n",
    "_, labels = plt.xticks()  # Get the new labels of the plot\n",
    "plt.setp(labels, rotation=90)  # Rotate labels to make them readable\n",
    "plt.legend()\n",
    "\n",
    "plt.xlabel('Station')\n",
    "plt.ylabel('Counts')\n",
    "plt.title('Station Counts')\n",
    "plt.show()"
   ]
  },
  {
   "cell_type": "markdown",
   "metadata": {},
   "source": [
    "## In-class exercise\n",
    "Change the above script for plotting with error bars into a function and verify that you can call this function and get the same plot as the one above.\n",
    "* What are the inputs to your function and why?\n",
    "* How would you change plot_barN to use this function?"
   ]
  }
 ],
 "metadata": {
  "anaconda-cloud": {},
  "kernelspec": {
   "display_name": "Python 2",
   "language": "python",
   "name": "python2"
  },
  "language_info": {
   "codemirror_mode": {
    "name": "ipython",
    "version": 2
   },
   "file_extension": ".py",
   "mimetype": "text/x-python",
   "name": "python",
   "nbconvert_exporter": "python",
   "pygments_lexer": "ipython2",
   "version": "2.7.12"
  }
 },
 "nbformat": 4,
 "nbformat_minor": 1
}
