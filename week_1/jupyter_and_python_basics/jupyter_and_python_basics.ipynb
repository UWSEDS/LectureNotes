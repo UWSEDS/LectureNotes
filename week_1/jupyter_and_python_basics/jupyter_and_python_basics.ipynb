{
 "cells": [
  {
   "cell_type": "markdown",
   "metadata": {},
   "source": [
    "# Software Engineering for Data Scientists\n",
    "\n",
    "## *Manipulating Data with Python*\n",
    "## DATA 515A"
   ]
  },
  {
   "cell_type": "markdown",
   "metadata": {},
   "source": [
    "## Topics\n",
    "\n",
    "#### 1. Opening & Navigating the Jupyter Notebook\n",
    "\n",
    "#### 2. Simple Math\n",
    "#### 3. String operations"
   ]
  },
  {
   "cell_type": "markdown",
   "metadata": {},
   "source": [
    "## 1. Opening and Navigating the IPython Notebook\n",
    "\n",
    "We will start today with the interactive environment that we will be using often through the course: the [Jupyter Notebook](http://jupyter.org).\n",
    "\n",
    "We will walk through the following steps together:\n",
    "\n",
    "1. Download [miniconda](https://conda.io/miniconda.html) (be sure to get Version 3.6) and install it on your system (hopefully you have done this before coming to class)\n",
    "   ```\n",
    "   ```\n",
    "\n",
    "2. Use the ``conda`` command-line tool to update your package listing and install the IPython notebook:\n",
    "\n",
    "   Update ``conda``'s listing of packages for your system:\n",
    "   ```\n",
    "   $ conda update conda\n",
    "   ```\n",
    "   \n",
    "   Install IPython notebook and all its requirements\n",
    "   ```\n",
    "   $ conda install jupyter notebook\n",
    "   ```\n",
    "   \n",
    "3. Navigate to a directory and download the course material. For example:\n",
    "   \n",
    "   ```\n",
    "   $ cd courses/CSE583\n",
    "   ```\n",
    "   \n",
    "   ```\n",
    "   $ curl -o Breakout-Simple-Math.ipynb https://raw.githubusercontent.com/UWSEDS/LectureNotes/master/02_Jupyter_and_Python_Basics/Breakout-Simple-Math.ipynb\n",
    "   ```\n",
    "   \n",
    "   ```\n",
    "   $ curl -o Jupyter_and_Python_Basics.ipynb https://raw.githubusercontent.com/UWSEDS/LectureNotes/master/02_Jupyter_and_Python_Basics/Jupyter_and_Python_Basics.ipynb\n",
    "   ```\n",
    "   \n",
    "   When you `ls`, you should see a number of files in the directory, including these:\n",
    "   \n",
    "   ```\n",
    "   $ ls\n",
    "   ...\n",
    "   Breakout-Simple-Math.ipynb\n",
    "   Jupyter_and_Python_Basics.ipynb\n",
    "   ...\n",
    "   ```\n",
    "\n",
    "4. Type ``jupyter notebook`` in the terminal to start the notebook\n",
    "\n",
    "   ```\n",
    "   $ jupyter notebook\n",
    "   ```\n",
    "   \n",
    "   If everything has worked correctly, it should automatically launch your default browser\n",
    "   ```\n",
    "   ```\n",
    "   \n",
    "5. Click on ``Jupyter_and_Python_Basics.ipynb`` to open the notebook containing the content for this lecture.\n",
    "\n",
    "With that, you're set up to use the Jupyter notebook!"
   ]
  },
  {
   "cell_type": "markdown",
   "metadata": {},
   "source": [
    "## 2. Simple Math"
   ]
  },
  {
   "cell_type": "markdown",
   "metadata": {},
   "source": [
    "## 3. String Operations"
   ]
  }
 ],
 "metadata": {
  "anaconda-cloud": {},
  "kernelspec": {
   "display_name": "Python 3",
   "language": "python",
   "name": "python3"
  },
  "language_info": {
   "codemirror_mode": {
    "name": "ipython",
    "version": 3
   },
   "file_extension": ".py",
   "mimetype": "text/x-python",
   "name": "python",
   "nbconvert_exporter": "python",
   "pygments_lexer": "ipython3",
   "version": "3.6.4"
  }
 },
 "nbformat": 4,
 "nbformat_minor": 1
}
