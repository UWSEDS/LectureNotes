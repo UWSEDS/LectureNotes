{
 "cells": [
  {
   "cell_type": "markdown",
   "metadata": {},
   "source": [
    "# Functions\n",
    "\n",
    "## Overview\n",
    "- Data basics\n",
    "  - Theory of types\n",
    "  - Basic types\n",
    "  - Composite types: Tuples, lists and dictionaries\n",
    "- **Functions**\n",
    "   * range() function\n",
    "   - read and write files\n",
    "- Flow control, part 1\n",
    "  - If\n",
    "  - for"
   ]
  },
  {
   "cell_type": "markdown",
   "metadata": {},
   "source": [
    "## Function Basics\n",
    "\n",
    "- A function has 0 or more inputs and returns 0 or more outputs.\n",
    "- A python function is called (executed) by placing \"(\", \")\" after the function name with the list of arguments."
   ]
  },
  {
   "cell_type": "code",
   "execution_count": 1,
   "metadata": {},
   "outputs": [
    {
     "data": {
      "text/plain": [
       "3"
      ]
     },
     "execution_count": 1,
     "metadata": {},
     "output_type": "execute_result"
    }
   ],
   "source": [
    "# A first function. Find the length of a list.\n",
    "a_list = [1, 2, 3]\n",
    "len(a_list)"
   ]
  },
  {
   "cell_type": "code",
   "execution_count": 1,
   "metadata": {},
   "outputs": [
    {
     "data": {
      "text/plain": [
       "2"
      ]
     },
     "execution_count": 1,
     "metadata": {},
     "output_type": "execute_result"
    }
   ],
   "source": [
    "len({\"a\": [1, 2, 3], \"b\": 4})"
   ]
  },
  {
   "cell_type": "markdown",
   "metadata": {},
   "source": [
    "## Builtin Functions\n",
    "Functions that are supplied in the python base."
   ]
  },
  {
   "cell_type": "markdown",
   "metadata": {},
   "source": [
    "**len()**\n",
    "\n",
    "Takes an object as input and returns an integer."
   ]
  },
  {
   "cell_type": "markdown",
   "metadata": {},
   "source": [
    "**range()**\n",
    "\n",
    "Takes an integer as input and outputs a list of successive integers starting with 0 to the length specified as an argument."
   ]
  },
  {
   "cell_type": "code",
   "execution_count": 2,
   "metadata": {},
   "outputs": [
    {
     "data": {
      "text/plain": [
       "range(0, 3)"
      ]
     },
     "execution_count": 2,
     "metadata": {},
     "output_type": "execute_result"
    }
   ],
   "source": [
    "range(3)"
   ]
  },
  {
   "cell_type": "markdown",
   "metadata": {},
   "source": [
    "Notice that Python (in the newest versions, e.g. 3+) has an object type that is a range.  This saves memory and speeds up calculations vs. an explicit representation of a range as a list - but it can be automagically converted to a list on the fly by Python.  To show the contents as a `list` we can use the type case like with the tuple above.\n",
    "\n",
    "Sometimes, in older Python docs, you will see `xrange`.  This used the range object back in Python 2 and `range` returned an actual list.  Beware of this!"
   ]
  },
  {
   "cell_type": "code",
   "execution_count": 2,
   "metadata": {},
   "outputs": [
    {
     "data": {
      "text/plain": [
       "True"
      ]
     },
     "execution_count": 2,
     "metadata": {},
     "output_type": "execute_result"
    }
   ],
   "source": [
    "# Experiment with the builtin function all\n",
    "all([1, \"first\", 3.4])"
   ]
  },
  {
   "cell_type": "code",
   "execution_count": 6,
   "metadata": {},
   "outputs": [
    {
     "data": {
      "text/plain": [
       "False"
      ]
     },
     "execution_count": 6,
     "metadata": {},
     "output_type": "execute_result"
    }
   ],
   "source": [
    "any([False, False])"
   ]
  },
  {
   "cell_type": "code",
   "execution_count": null,
   "metadata": {},
   "outputs": [],
   "source": [
    "list(range(3))"
   ]
  },
  {
   "cell_type": "code",
   "execution_count": 7,
   "metadata": {},
   "outputs": [],
   "source": [
    "fd = open(\"t.txt\", \"w\")"
   ]
  },
  {
   "cell_type": "code",
   "execution_count": 9,
   "metadata": {},
   "outputs": [
    {
     "data": {
      "text/plain": [
       "6"
      ]
     },
     "execution_count": 9,
     "metadata": {},
     "output_type": "execute_result"
    }
   ],
   "source": [
    "fd.write(\"a line\")"
   ]
  },
  {
   "cell_type": "code",
   "execution_count": 10,
   "metadata": {},
   "outputs": [],
   "source": [
    "fd.close()"
   ]
  },
  {
   "cell_type": "code",
   "execution_count": 11,
   "metadata": {},
   "outputs": [
    {
     "name": "stdout",
     "output_type": "stream",
     "text": [
      "total 56\r\n",
      "-rw-r--r-- 1 ubuntu ubuntu 26401 Mar 31 19:36 data_basics.ipynb\r\n",
      "-rw-r--r-- 1 ubuntu ubuntu  6587 Mar 31 11:01 flow_of_control.ipynb\r\n",
      "-rw-r--r-- 1 ubuntu ubuntu 16281 Mar 31 19:52 functions.ipynb\r\n",
      "-rw-r--r-- 1 ubuntu ubuntu     6 Mar 31 19:52 t.txt\r\n"
     ]
    }
   ],
   "source": [
    "!ls -l"
   ]
  },
  {
   "cell_type": "code",
   "execution_count": 8,
   "metadata": {},
   "outputs": [
    {
     "name": "stdout",
     "output_type": "stream",
     "text": [
      "Help on TextIOWrapper object:\n",
      "\n",
      "class TextIOWrapper(_TextIOBase)\n",
      " |  Character and line based layer over a BufferedIOBase object, buffer.\n",
      " |  \n",
      " |  encoding gives the name of the encoding that the stream will be\n",
      " |  decoded or encoded with. It defaults to locale.getpreferredencoding(False).\n",
      " |  \n",
      " |  errors determines the strictness of encoding and decoding (see\n",
      " |  help(codecs.Codec) or the documentation for codecs.register) and\n",
      " |  defaults to \"strict\".\n",
      " |  \n",
      " |  newline controls how line endings are handled. It can be None, '',\n",
      " |  '\\n', '\\r', and '\\r\\n'.  It works as follows:\n",
      " |  \n",
      " |  * On input, if newline is None, universal newlines mode is\n",
      " |    enabled. Lines in the input can end in '\\n', '\\r', or '\\r\\n', and\n",
      " |    these are translated into '\\n' before being returned to the\n",
      " |    caller. If it is '', universal newline mode is enabled, but line\n",
      " |    endings are returned to the caller untranslated. If it has any of\n",
      " |    the other legal values, input lines are only terminated by the given\n",
      " |    string, and the line ending is returned to the caller untranslated.\n",
      " |  \n",
      " |  * On output, if newline is None, any '\\n' characters written are\n",
      " |    translated to the system default line separator, os.linesep. If\n",
      " |    newline is '' or '\\n', no translation takes place. If newline is any\n",
      " |    of the other legal values, any '\\n' characters written are translated\n",
      " |    to the given string.\n",
      " |  \n",
      " |  If line_buffering is True, a call to flush is implied when a call to\n",
      " |  write contains a newline character.\n",
      " |  \n",
      " |  Method resolution order:\n",
      " |      TextIOWrapper\n",
      " |      _TextIOBase\n",
      " |      _IOBase\n",
      " |      builtins.object\n",
      " |  \n",
      " |  Methods defined here:\n",
      " |  \n",
      " |  __getstate__(...)\n",
      " |  \n",
      " |  __init__(self, /, *args, **kwargs)\n",
      " |      Initialize self.  See help(type(self)) for accurate signature.\n",
      " |  \n",
      " |  __new__(*args, **kwargs) from builtins.type\n",
      " |      Create and return a new object.  See help(type) for accurate signature.\n",
      " |  \n",
      " |  __next__(self, /)\n",
      " |      Implement next(self).\n",
      " |  \n",
      " |  __repr__(self, /)\n",
      " |      Return repr(self).\n",
      " |  \n",
      " |  close(self, /)\n",
      " |      Flush and close the IO object.\n",
      " |      \n",
      " |      This method has no effect if the file is already closed.\n",
      " |  \n",
      " |  detach(self, /)\n",
      " |      Separate the underlying buffer from the TextIOBase and return it.\n",
      " |      \n",
      " |      After the underlying buffer has been detached, the TextIO is in an\n",
      " |      unusable state.\n",
      " |  \n",
      " |  fileno(self, /)\n",
      " |      Returns underlying file descriptor if one exists.\n",
      " |      \n",
      " |      OSError is raised if the IO object does not use a file descriptor.\n",
      " |  \n",
      " |  flush(self, /)\n",
      " |      Flush write buffers, if applicable.\n",
      " |      \n",
      " |      This is not implemented for read-only and non-blocking streams.\n",
      " |  \n",
      " |  isatty(self, /)\n",
      " |      Return whether this is an 'interactive' stream.\n",
      " |      \n",
      " |      Return False if it can't be determined.\n",
      " |  \n",
      " |  read(self, size=-1, /)\n",
      " |      Read at most n characters from stream.\n",
      " |      \n",
      " |      Read from underlying buffer until we have n characters or we hit EOF.\n",
      " |      If n is negative or omitted, read until EOF.\n",
      " |  \n",
      " |  readable(self, /)\n",
      " |      Return whether object was opened for reading.\n",
      " |      \n",
      " |      If False, read() will raise OSError.\n",
      " |  \n",
      " |  readline(self, size=-1, /)\n",
      " |      Read until newline or EOF.\n",
      " |      \n",
      " |      Returns an empty string if EOF is hit immediately.\n",
      " |  \n",
      " |  seek(self, cookie, whence=0, /)\n",
      " |      Change stream position.\n",
      " |      \n",
      " |      Change the stream position to the given byte offset. The offset is\n",
      " |      interpreted relative to the position indicated by whence.  Values\n",
      " |      for whence are:\n",
      " |      \n",
      " |      * 0 -- start of stream (the default); offset should be zero or positive\n",
      " |      * 1 -- current stream position; offset may be negative\n",
      " |      * 2 -- end of stream; offset is usually negative\n",
      " |      \n",
      " |      Return the new absolute position.\n",
      " |  \n",
      " |  seekable(self, /)\n",
      " |      Return whether object supports random access.\n",
      " |      \n",
      " |      If False, seek(), tell() and truncate() will raise OSError.\n",
      " |      This method may need to do a test seek().\n",
      " |  \n",
      " |  tell(self, /)\n",
      " |      Return current stream position.\n",
      " |  \n",
      " |  truncate(self, pos=None, /)\n",
      " |      Truncate file to size bytes.\n",
      " |      \n",
      " |      File pointer is left unchanged.  Size defaults to the current IO\n",
      " |      position as reported by tell().  Returns the new size.\n",
      " |  \n",
      " |  writable(self, /)\n",
      " |      Return whether object was opened for writing.\n",
      " |      \n",
      " |      If False, write() will raise OSError.\n",
      " |  \n",
      " |  write(self, text, /)\n",
      " |      Write string to stream.\n",
      " |      Returns the number of characters written (which is always equal to\n",
      " |      the length of the string).\n",
      " |  \n",
      " |  ----------------------------------------------------------------------\n",
      " |  Data descriptors defined here:\n",
      " |  \n",
      " |  buffer\n",
      " |  \n",
      " |  closed\n",
      " |  \n",
      " |  encoding\n",
      " |      Encoding of the text stream.\n",
      " |      \n",
      " |      Subclasses should override.\n",
      " |  \n",
      " |  errors\n",
      " |      The error setting of the decoder or encoder.\n",
      " |      \n",
      " |      Subclasses should override.\n",
      " |  \n",
      " |  line_buffering\n",
      " |  \n",
      " |  name\n",
      " |  \n",
      " |  newlines\n",
      " |      Line endings translated so far.\n",
      " |      \n",
      " |      Only line endings translated during reading are considered.\n",
      " |      \n",
      " |      Subclasses should override.\n",
      " |  \n",
      " |  ----------------------------------------------------------------------\n",
      " |  Methods inherited from _IOBase:\n",
      " |  \n",
      " |  __del__(...)\n",
      " |  \n",
      " |  __enter__(...)\n",
      " |  \n",
      " |  __exit__(...)\n",
      " |  \n",
      " |  __iter__(self, /)\n",
      " |      Implement iter(self).\n",
      " |  \n",
      " |  readlines(self, hint=-1, /)\n",
      " |      Return a list of lines from the stream.\n",
      " |      \n",
      " |      hint can be specified to control the number of lines read: no more\n",
      " |      lines will be read if the total size (in bytes/characters) of all\n",
      " |      lines so far exceeds hint.\n",
      " |  \n",
      " |  writelines(self, lines, /)\n",
      " |  \n",
      " |  ----------------------------------------------------------------------\n",
      " |  Data descriptors inherited from _IOBase:\n",
      " |  \n",
      " |  __dict__\n",
      "\n"
     ]
    }
   ],
   "source": [
    "help(fd)"
   ]
  },
  {
   "cell_type": "markdown",
   "metadata": {},
   "source": [
    "## Packages with functions\n",
    "\n",
    "- A package is a collection of reusable python codes.\n",
    "- To get access to a package you must:\n",
    "  - Install the package (e.g., using ``pip``)\n",
    "  - Your code must ``import`` the package, which then becomes a python object.\n"
   ]
  },
  {
   "cell_type": "markdown",
   "metadata": {},
   "source": [
    "### numpy\n",
    "Package of codes for numerical processing in python."
   ]
  },
  {
   "cell_type": "code",
   "execution_count": 14,
   "metadata": {},
   "outputs": [],
   "source": [
    "data = [1, 2, 3, 4]"
   ]
  },
  {
   "cell_type": "code",
   "execution_count": 15,
   "metadata": {},
   "outputs": [
    {
     "data": {
      "text/plain": [
       "2.5"
      ]
     },
     "execution_count": 15,
     "metadata": {},
     "output_type": "execute_result"
    }
   ],
   "source": [
    "import numpy as np\n",
    "np.mean(data)"
   ]
  },
  {
   "cell_type": "code",
   "execution_count": 16,
   "metadata": {},
   "outputs": [
    {
     "data": {
      "text/plain": [
       "2.5"
      ]
     },
     "execution_count": 16,
     "metadata": {},
     "output_type": "execute_result"
    }
   ],
   "source": [
    "np.median(data)"
   ]
  },
  {
   "cell_type": "code",
   "execution_count": 17,
   "metadata": {},
   "outputs": [
    {
     "data": {
      "text/plain": [
       "array([1, 2, 3, 4])"
      ]
     },
     "execution_count": 17,
     "metadata": {},
     "output_type": "execute_result"
    }
   ],
   "source": [
    "arr = np.array(data)\n",
    "arr"
   ]
  },
  {
   "cell_type": "code",
   "execution_count": 18,
   "metadata": {},
   "outputs": [
    {
     "data": {
      "text/plain": [
       "array([[1, 2],\n",
       "       [3, 4]])"
      ]
     },
     "execution_count": 18,
     "metadata": {},
     "output_type": "execute_result"
    }
   ],
   "source": [
    "np.reshape(arr, (2,2))"
   ]
  },
  {
   "cell_type": "code",
   "execution_count": 7,
   "metadata": {},
   "outputs": [
    {
     "data": {
      "text/plain": [
       "1.118033988749895"
      ]
     },
     "execution_count": 7,
     "metadata": {},
     "output_type": "execute_result"
    }
   ],
   "source": [
    "np.std(data)"
   ]
  },
  {
   "cell_type": "markdown",
   "metadata": {},
   "source": [
    "How do you find out what's in a package?"
   ]
  },
  {
   "cell_type": "markdown",
   "metadata": {},
   "source": [
    "### Python's Data Science Ecosystem\n",
    "\n",
    "In addition to Python's built-in modules like the math module we explored above, there are also many often-used third-party modules that are core tools for doing data science with Python. Some of the most important ones are:\n",
    "numpy: Numerical Python\n",
    "\n",
    "Numpy is short for \"Numerical Python\", and contains tools for efficient manipulation of arrays of data. If you have used other computational tools like IDL or MatLab, Numpy should feel very familiar.\n",
    "scipy: Scientific Python\n",
    "\n",
    "Scipy is short for \"Scientific Python\", and contains a wide range of functionality for accomplishing common scientific tasks, such as optimization/minimization, numerical integration, interpolation, and much more. We will not look closely at Scipy today, but we will use its functionality later in the course.\n",
    "pandas: Labeled Data Manipulation in Python\n",
    "\n",
    "Pandas is short for \"Panel Data\", and contains tools for doing more advanced manipulation of labeled data in Python, in particular with a columnar data structure called a Data Frame. If you've used the R statistical language (and in particular the so-called \"Hadley Stack\"), much of the functionality in Pandas should feel very familiar.\n",
    "matplotlib: Visualization in Python\n",
    "\n",
    "Matplotlib started out as a Matlab plotting clone in Python, and has grown from there in the 15 years since its creation. It is the most popular data visualization tool currently in the Python data world (though other recent packages are starting to encroach on its monopoly).\n"
   ]
  },
  {
   "cell_type": "markdown",
   "metadata": {},
   "source": [
    "## Machine Learning Exploration"
   ]
  },
  {
   "cell_type": "code",
   "execution_count": 19,
   "metadata": {},
   "outputs": [],
   "source": [
    "from pandas import read_csv\n",
    "from pandas.plotting import scatter_matrix\n",
    "from matplotlib import pyplot\n",
    "from sklearn.model_selection import train_test_split\n",
    "from sklearn.model_selection import cross_val_score\n",
    "from sklearn.model_selection import StratifiedKFold\n",
    "from sklearn.metrics import classification_report\n",
    "from sklearn.metrics import confusion_matrix\n",
    "from sklearn.metrics import accuracy_score\n",
    "from sklearn.linear_model import LogisticRegression\n",
    "from sklearn.tree import DecisionTreeClassifier\n",
    "from sklearn.neighbors import KNeighborsClassifier\n",
    "from sklearn.discriminant_analysis import LinearDiscriminantAnalysis\n",
    "from sklearn.naive_bayes import GaussianNB\n",
    "from sklearn.svm import SVC"
   ]
  }
 ],
 "metadata": {
  "kernelspec": {
   "display_name": "Python 3",
   "language": "python",
   "name": "python3"
  },
  "language_info": {
   "codemirror_mode": {
    "name": "ipython",
    "version": 3
   },
   "file_extension": ".py",
   "mimetype": "text/x-python",
   "name": "python",
   "nbconvert_exporter": "python",
   "pygments_lexer": "ipython3",
   "version": "3.6.4"
  }
 },
 "nbformat": 4,
 "nbformat_minor": 1
}
