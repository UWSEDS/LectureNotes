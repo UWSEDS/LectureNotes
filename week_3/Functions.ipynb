{
 "cells": [
  {
   "cell_type": "markdown",
   "metadata": {},
   "source": [
    "# Functions\n",
    "Functions are key to creating reusable software, testing, and working in teams.\n",
    "This lecture motivates the use of functions, discusses how functions are defined in python, and\n",
    "introduces a workflow that starts with exploratory code and produces a function.\n",
    "\n",
    "**Topics**\n",
    "- Creating reusable software components\n",
    "- Motivating example\n",
    "- Python function syntax\n",
    "- Name scoping in functions\n",
    "- Keyword arguments\n",
    "- Exercise\n",
    "- Function Driven Workflow"
   ]
  },
  {
   "cell_type": "markdown",
   "metadata": {},
   "source": [
    "## Creating Reusable Software Components\n",
    "- What makes a component reusable?\n",
    "- Signature of a software component\n",
    "  - Inputs\n",
    "    - How they are \"passed\"\n",
    "    - Data types\n",
    "    - Semantics\n",
    "  - Outputs\n",
    "  - Side effects"
   ]
  },
  {
   "cell_type": "markdown",
   "metadata": {},
   "source": [
    "## Motivating Example"
   ]
  },
  {
   "cell_type": "code",
   "execution_count": 6,
   "metadata": {},
   "outputs": [
    {
     "name": "stdout",
     "output_type": "stream",
     "text": [
      "2 is prime!\n",
      "3 is prime!\n",
      "5 is prime!\n",
      "7 is prime!\n"
     ]
    }
   ],
   "source": [
    "# Our prime number example from week 1\n",
    "N = 10\n",
    "for candidate in range(2, N):\n",
    "    # n is candidate prime. Check if n is prime\n",
    "    is_prime = True\n",
    "    for m in range(2, candidate):\n",
    "        if (candidate % m) == 0:\n",
    "            is_prime = False\n",
    "            break\n",
    "    if is_prime:\n",
    "        print(\"%d is prime!\" % candidate)"
   ]
  },
  {
   "cell_type": "markdown",
   "metadata": {},
   "source": [
    "Issues with making a function:\n",
    "1. What does it do?\n",
    "   - Finds all primes less than or equal to N\n",
    "1. What are the inputs?\n",
    "   - Input 1: start range (int)\n",
    "   - Input 2: end range (int)\n",
    "1. What are the outputs?\n",
    "   - Output: list-int"
   ]
  },
  {
   "cell_type": "code",
   "execution_count": 9,
   "metadata": {},
   "outputs": [
    {
     "name": "stdout",
     "output_type": "stream",
     "text": [
      "[2, 3, 5, 7]\n"
     ]
    }
   ],
   "source": [
    "# Our prime number example from week 1\n",
    "N = 10\n",
    "result = []\n",
    "for candidate in range(2, N):\n",
    "    # n is candidate prime. Check if n is prime\n",
    "    is_prime = True\n",
    "    for m in range(2, candidate):\n",
    "        if (candidate % m) == 0:\n",
    "            is_prime = False\n",
    "            break\n",
    "    if is_prime:\n",
    "        result.append(candidate)\n",
    "        \n",
    "print(result)"
   ]
  },
  {
   "cell_type": "markdown",
   "metadata": {},
   "source": [
    "Some questions\n",
    "1. How can we recast this script as a component?\n",
    "   - Inputs\n",
    "   - Outputs\n",
    "2. Should the component itself be recast as having another reusable component?"
   ]
  },
  {
   "cell_type": "markdown",
   "metadata": {},
   "source": [
    "## Python Function Syntax\n",
    "Transform the above script into a python function.\n",
    "1. Function definition\n",
    "1. Formal arguments\n",
    "1. Calling a function"
   ]
  },
  {
   "cell_type": "code",
   "execution_count": 11,
   "metadata": {},
   "outputs": [
    {
     "data": {
      "text/plain": [
       "[2, 3, 5, 7]"
      ]
     },
     "execution_count": 11,
     "metadata": {},
     "output_type": "execute_result"
    }
   ],
   "source": [
    "def identify_primes(start_range, end_range):\n",
    "    result = []\n",
    "    for candidate in range(start_range, end_range):\n",
    "        # n is candidate prime. Check if n is prime\n",
    "        is_prime = True\n",
    "        for m in range(2, candidate):\n",
    "            if (candidate % m) == 0:\n",
    "                is_prime = False\n",
    "                break\n",
    "        if is_prime:\n",
    "            result.append(candidate)\n",
    "    return(result)\n",
    "\n",
    "identify_primes(2, 10)"
   ]
  },
  {
   "cell_type": "code",
   "execution_count": 12,
   "metadata": {},
   "outputs": [
    {
     "data": {
      "text/plain": [
       "[5, 7]"
      ]
     },
     "execution_count": 12,
     "metadata": {},
     "output_type": "execute_result"
    }
   ],
   "source": [
    "identify_primes(5, 10)"
   ]
  },
  {
   "cell_type": "markdown",
   "metadata": {},
   "source": [
    "## Name Scoping in Functions"
   ]
  },
  {
   "cell_type": "code",
   "execution_count": 15,
   "metadata": {},
   "outputs": [
    {
     "name": "stdout",
     "output_type": "stream",
     "text": [
      "add_one(a): 2\n",
      "add_one(b): 3\n"
     ]
    }
   ],
   "source": [
    "# Example 1: function invocation vs. formal arguments\n",
    "def add_one(a):\n",
    "    b = 10\n",
    "    return a + 1\n",
    "#\n",
    "a = 1\n",
    "b = 2\n",
    "print(\"add_one(a): %d\" % add_one(a))\n",
    "print(\"add_one(b): %d\" % add_one(b))"
   ]
  },
  {
   "cell_type": "code",
   "execution_count": 16,
   "metadata": {},
   "outputs": [
    {
     "data": {
      "text/plain": [
       "2"
      ]
     },
     "execution_count": 16,
     "metadata": {},
     "output_type": "execute_result"
    }
   ],
   "source": [
    "b"
   ]
  },
  {
   "cell_type": "markdown",
   "metadata": {},
   "source": [
    "Why is ``func(b)`` equal to 3 when the function is defined in terms of ``a`` which equals 1?"
   ]
  },
  {
   "cell_type": "code",
   "execution_count": 19,
   "metadata": {},
   "outputs": [
    {
     "name": "stdout",
     "output_type": "stream",
     "text": [
      "After call value of y: 23\n"
     ]
    }
   ],
   "source": [
    "# Example 2: formal argument vs. global variable\n",
    "def func(a):\n",
    "    y = a + 1\n",
    "    return y\n",
    "#\n",
    "# The following causes an error when False is changed to True. Why?\n",
    "y = 23\n",
    "func(2)\n",
    "print(\"After call value of y: %d\" % y)"
   ]
  },
  {
   "cell_type": "markdown",
   "metadata": {},
   "source": [
    "Why didn't the value of ``y`` change? Shouldn't it be ``y = 3``?"
   ]
  },
  {
   "cell_type": "code",
   "execution_count": 22,
   "metadata": {},
   "outputs": [
    {
     "name": "stdout",
     "output_type": "stream",
     "text": [
      "4\n"
     ]
    }
   ],
   "source": [
    "# Example 3: manipulation of global variables\n",
    "x = 5\n",
    "def func(a):\n",
    "    global x\n",
    "    x = 2*a\n",
    "#\n",
    "#print(\"Before call value of x = %d\" % x)\n",
    "func(2)\n",
    "print(x)\n",
    "#print(\"After call value of x = %d\" % x)"
   ]
  },
  {
   "cell_type": "markdown",
   "metadata": {},
   "source": [
    "Why didn't the value of ``x`` change?"
   ]
  },
  {
   "cell_type": "markdown",
   "metadata": {},
   "source": [
    "# Refactoring a Function"
   ]
  },
  {
   "cell_type": "code",
   "execution_count": 31,
   "metadata": {},
   "outputs": [
    {
     "data": {
      "text/plain": [
       "[2, 3, 5, 7]"
      ]
     },
     "execution_count": 31,
     "metadata": {},
     "output_type": "execute_result"
    }
   ],
   "source": [
    "def identify_primes2(start_range, end_range):\n",
    "    result = []\n",
    "    for candidate in range(start_range, end_range):\n",
    "        # n is candidate prime. Check if n is prime\n",
    "        if is_prime(candidate):\n",
    "            result.append(candidate)\n",
    "    return(result)\n",
    "\n",
    "identify_primes2(2, 10)"
   ]
  },
  {
   "cell_type": "code",
   "execution_count": 27,
   "metadata": {},
   "outputs": [
    {
     "name": "stdout",
     "output_type": "stream",
     "text": [
      "Should be prime 1\n",
      "Should not be prime 0\n",
      "0 input 1\n"
     ]
    }
   ],
   "source": [
    "def identify_primes2(start_range, end_range):\n",
    "    result = []\n",
    "    for candidate in range(start_range, end_range):\n",
    "        # n is candidate prime. Check if n is prime\n",
    "        if is_prime(candidate):\n",
    "            result.append(candidate)\n",
    "    return(result)\n",
    "\n",
    "identify_primes2(2, 10)\n",
    "# Return True if number is prime\n",
    "def is_prime(candidate):\n",
    "    is_prime = True\n",
    "    for m in range(2, candidate):\n",
    "        if (candidate % m) == 0:\n",
    "            is_prime = False\n",
    "    return is_prime\n",
    "\n",
    "# Test cases\n",
    "print(\"Should be prime %d\" %is_prime(53))  # should prime\n",
    "print(\"Should not be prime %d\" %is_prime(52))  # should prime\n",
    "print(\"0 input %d\" % is_prime(0))"
   ]
  },
  {
   "cell_type": "markdown",
   "metadata": {},
   "source": [
    "## Keyword Arguments\n",
    "Functions evolve over time, and so it is natural that you'll want to add agruments. But when you do, you \"break\" existing code that doesn't include those arguments. \n",
    "\n",
    "Python has a great capability to deal with this -- keyword arguments."
   ]
  },
  {
   "cell_type": "code",
   "execution_count": 39,
   "metadata": {},
   "outputs": [
    {
     "data": {
      "text/plain": [
       "[-2, -1, 0, 1, 2, 3, 5, 7]"
      ]
     },
     "execution_count": 39,
     "metadata": {},
     "output_type": "execute_result"
    }
   ],
   "source": [
    "# Optionally check for negative values\n",
    "def identify_primes3(start_range, end_range, is_check=True):\n",
    "    if is_check:\n",
    "        if start_range < 0:\n",
    "            print(\"Bad\")\n",
    "            return\n",
    "    result = []\n",
    "    for candidate in range(start_range, end_range):\n",
    "        # n is candidate prime. Check if n is prime\n",
    "        if is_prime(candidate):\n",
    "            result.append(candidate)\n",
    "    return(result)\n",
    "\n",
    "identify_primes3(-2, 10, is_check=False)"
   ]
  },
  {
   "cell_type": "code",
   "execution_count": 5,
   "metadata": {},
   "outputs": [],
   "source": [
    "# Extend find_primes to return None if argument is negative."
   ]
  },
  {
   "cell_type": "markdown",
   "metadata": {},
   "source": [
    "## Exercise\n",
    "1. Find which substrings are present in a string.\n",
    "\n",
    "1. For example, consider the string \"The lazy brown fox jumped over the fence.\" Which of the following substrings is present: \"ow\", \"low\", \"row\" and how many occurrences are there?\n",
    "\n",
    "1. Write a function that produces the desired result for this example."
   ]
  },
  {
   "cell_type": "code",
   "execution_count": 40,
   "metadata": {},
   "outputs": [
    {
     "data": {
      "text/plain": [
       "4"
      ]
     },
     "execution_count": 40,
     "metadata": {},
     "output_type": "execute_result"
    }
   ],
   "source": [
    "a_string = \"The lazy brown fox jumped over the fence.\"\n",
    "a_string.index(\"lazy\")"
   ]
  },
  {
   "cell_type": "code",
   "execution_count": 48,
   "metadata": {},
   "outputs": [
    {
     "data": {
      "text/plain": [
       "['azy', 'jumped']"
      ]
     },
     "execution_count": 48,
     "metadata": {},
     "output_type": "execute_result"
    }
   ],
   "source": [
    "def find_substrings(base_string, substrings):\n",
    "    result = []\n",
    "    for stg in substrings:\n",
    "        if base_string.find(stg) >= 0:\n",
    "            result.append(stg)\n",
    "    return result\n",
    "\n",
    "find_substrings(\"The lazy brown fox jumped over the fence.\", [\"azy\", \"jumped\", \"hopped\"])"
   ]
  },
  {
   "cell_type": "markdown",
   "metadata": {},
   "source": [
    "## Function Driven Workflow\n",
    "- Script in a notebook\n",
    "  - Create functions from scripts\n",
    "- Copy functions in a python module\n",
    "- Replace functions in notebook with use of functions in module\n",
    "  - To use a function inside a notebook, you must ``import`` its containint module."
   ]
  },
  {
   "cell_type": "code",
   "execution_count": 50,
   "metadata": {},
   "outputs": [
    {
     "name": "stdout",
     "output_type": "stream",
     "text": [
      "Functions.ipynb  identify_prime.py  Project-overview.pptx\r\n"
     ]
    }
   ],
   "source": [
    "!ls"
   ]
  },
  {
   "cell_type": "code",
   "execution_count": 51,
   "metadata": {},
   "outputs": [
    {
     "data": {
      "text/plain": [
       "[2, 3, 5, 7, 11, 13, 17, 19]"
      ]
     },
     "execution_count": 51,
     "metadata": {},
     "output_type": "execute_result"
    }
   ],
   "source": [
    "import identify_prime\n",
    "identify_prime.identify_primes(2, 20)"
   ]
  }
 ],
 "metadata": {
  "kernelspec": {
   "display_name": "Python 3",
   "language": "python",
   "name": "python3"
  },
  "language_info": {
   "codemirror_mode": {
    "name": "ipython",
    "version": 3
   },
   "file_extension": ".py",
   "mimetype": "text/x-python",
   "name": "python",
   "nbconvert_exporter": "python",
   "pygments_lexer": "ipython3",
   "version": "3.6.4"
  }
 },
 "nbformat": 4,
 "nbformat_minor": 2
}
