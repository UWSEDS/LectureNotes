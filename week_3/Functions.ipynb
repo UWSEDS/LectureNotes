{
 "cells": [
  {
   "cell_type": "markdown",
   "metadata": {},
   "source": [
    "# Functions\n",
    "Functions are key to creating reusable software, testing, and working in teams.\n",
    "This lecture motivates the use of functions, discusses how functions are defined in python, and\n",
    "introduces a workflow that starts with exploratory code and produces a function.\n",
    "\n",
    "**Topics**\n",
    "- Creating reusable software components\n",
    "- Motivating example\n",
    "- Python function syntax\n",
    "- Name scoping in functions\n",
    "- Keyword arguments\n",
    "- Exercise\n",
    "- Function Driven Workflow"
   ]
  },
  {
   "cell_type": "markdown",
   "metadata": {},
   "source": [
    "## Creating Reusable Software Components\n",
    "- What makes a component reusable?\n",
    "- Signature of a software component\n",
    "  - Inputs\n",
    "    - How they are \"passed\"\n",
    "    - Data types\n",
    "    - Semantics\n",
    "  - Outputs\n",
    "  - Side effects"
   ]
  },
  {
   "cell_type": "markdown",
   "metadata": {},
   "source": [
    "## Motivating Example"
   ]
  },
  {
   "cell_type": "code",
   "execution_count": 1,
   "metadata": {},
   "outputs": [
    {
     "name": "stdout",
     "output_type": "stream",
     "text": [
      "2 is prime!\n",
      "3 is prime!\n",
      "5 is prime!\n",
      "7 is prime!\n",
      "11 is prime!\n",
      "13 is prime!\n",
      "17 is prime!\n",
      "19 is prime!\n",
      "23 is prime!\n",
      "29 is prime!\n",
      "31 is prime!\n",
      "37 is prime!\n",
      "41 is prime!\n",
      "43 is prime!\n",
      "47 is prime!\n",
      "53 is prime!\n",
      "59 is prime!\n",
      "61 is prime!\n",
      "67 is prime!\n",
      "71 is prime!\n",
      "73 is prime!\n",
      "79 is prime!\n",
      "83 is prime!\n",
      "89 is prime!\n",
      "97 is prime!\n"
     ]
    }
   ],
   "source": [
    "# Our prime number example from week 1\n",
    "N = 100\n",
    "for candidate in range(2, N):\n",
    "    # n is candidate prime. Check if n is prime\n",
    "    is_prime = True\n",
    "    for m in range(2, candidate):\n",
    "        if (candidate % m) == 0:\n",
    "            is_prime = False\n",
    "            break\n",
    "    if is_prime:\n",
    "        print(\"%d is prime!\" % candidate)"
   ]
  },
  {
   "cell_type": "markdown",
   "metadata": {},
   "source": [
    "Some questions\n",
    "1. How can we recast this script as a component?\n",
    "   - Inputs\n",
    "   - Outputs\n",
    "2. Should the component itself be recast as having another reusable component?"
   ]
  },
  {
   "cell_type": "markdown",
   "metadata": {},
   "source": [
    "## Python Function Syntax\n",
    "Transform the above script into a python function.\n",
    "1. Function definition\n",
    "1. Formal arguments\n",
    "1. Calling a function"
   ]
  },
  {
   "cell_type": "markdown",
   "metadata": {},
   "source": [
    "## Name Scoping in Functions"
   ]
  },
  {
   "cell_type": "code",
   "execution_count": 2,
   "metadata": {},
   "outputs": [
    {
     "name": "stdout",
     "output_type": "stream",
     "text": [
      "func(a): 2\n",
      "func(b): 3\n"
     ]
    }
   ],
   "source": [
    "# Example 1: function invocation vs. formal arguments\n",
    "def func(a):\n",
    "    return a + 1\n",
    "#\n",
    "a = 1\n",
    "b = 2\n",
    "print(\"func(a): %d\" % func(a))\n",
    "print(\"func(b): %d\" % func(b))"
   ]
  },
  {
   "cell_type": "markdown",
   "metadata": {},
   "source": [
    "Why is ``func(b)`` equal to 3 when the function is defined in terms of ``a`` which equals 1?"
   ]
  },
  {
   "cell_type": "code",
   "execution_count": 3,
   "metadata": {},
   "outputs": [],
   "source": [
    "# Example 2: formal argument vs. global variable\n",
    "def func(a):\n",
    "    y = a + 1\n",
    "    return y\n",
    "#\n",
    "# The following causes an error when False is changed to True. Why?\n",
    "if False:\n",
    "    func(2)\n",
    "    print(\"After call value of y: %d\" % y)"
   ]
  },
  {
   "cell_type": "markdown",
   "metadata": {},
   "source": [
    "Why didn't the value of ``y`` change? Shouldn't it be ``y = 3``?"
   ]
  },
  {
   "cell_type": "code",
   "execution_count": 4,
   "metadata": {},
   "outputs": [
    {
     "name": "stdout",
     "output_type": "stream",
     "text": [
      "Before call value of x = 5\n",
      "After call value of x = 5\n"
     ]
    }
   ],
   "source": [
    "# Example 3: manipulation of global variables\n",
    "x = 5\n",
    "def func(a):\n",
    "    x = a + 1\n",
    "#\n",
    "print(\"Before call value of x = %d\" % x)\n",
    "_ = func(2)\n",
    "print(\"After call value of x = %d\" % x)"
   ]
  },
  {
   "cell_type": "markdown",
   "metadata": {},
   "source": [
    "Why didn't the value of ``x`` change?"
   ]
  },
  {
   "cell_type": "markdown",
   "metadata": {},
   "source": [
    "## Keyword Arguments\n",
    "Functions evolve over time, and so it is natural that you'll want to add agruments. But when you do, you \"break\" existing code that doesn't include those arguments. \n",
    "\n",
    "Python has a great capability to deal with this -- keyword arguments."
   ]
  },
  {
   "cell_type": "code",
   "execution_count": 5,
   "metadata": {},
   "outputs": [],
   "source": [
    "# Extend find_primes to return None if argument is negative."
   ]
  },
  {
   "cell_type": "markdown",
   "metadata": {},
   "source": [
    "## Exercise\n",
    "1. Find which substrings are present in a string.\n",
    "\n",
    "1. For example, consider the string \"The lazy brown fox jumped over the fence.\" Which of the following substrings is present: \"ow\", \"low\", \"row\" and how many occurrences are there?\n",
    "\n",
    "1. Write a function that produces the desired result for this example."
   ]
  },
  {
   "cell_type": "markdown",
   "metadata": {},
   "source": [
    "## Function Driven Workflow\n",
    "- Script in a notebook\n",
    "  - Create functions from scripts\n",
    "- Copy functions in a python module\n",
    "- Replace functions in notebook with use of functions in module\n",
    "  - To use a function inside a notebook, you must ``import`` its containint module."
   ]
  }
 ],
 "metadata": {
  "kernelspec": {
   "display_name": "Python 3",
   "language": "python",
   "name": "python3"
  },
  "language_info": {
   "codemirror_mode": {
    "name": "ipython",
    "version": 3
   },
   "file_extension": ".py",
   "mimetype": "text/x-python",
   "name": "python",
   "nbconvert_exporter": "python",
   "pygments_lexer": "ipython3",
   "version": "3.6.4"
  }
 },
 "nbformat": 4,
 "nbformat_minor": 2
}
