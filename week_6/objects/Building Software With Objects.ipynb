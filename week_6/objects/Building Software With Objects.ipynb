{
 "cells": [
  {
   "cell_type": "markdown",
   "metadata": {},
   "source": [
    "# Why Objects?"
   ]
  },
  {
   "cell_type": "markdown",
   "metadata": {},
   "source": [
    "- Provide modularity and reuse through hierarchical structures\n",
    "\n",
    "**Object oriented programming is a different way of thinking.**"
   ]
  },
  {
   "cell_type": "markdown",
   "metadata": {},
   "source": [
    "# Programming With Objects"
   ]
  },
  {
   "cell_type": "code",
   "execution_count": null,
   "metadata": {
    "scrolled": false
   },
   "outputs": [],
   "source": [
    "from IPython.display import Image\n",
    "Image(filename='Classes_vs_Objects.png') "
   ]
  },
  {
   "cell_type": "markdown",
   "metadata": {},
   "source": [
    "Initial concepts\n",
    "\n",
    "- An **object** is a container of data (**attributes**) and code (**methods**)\n",
    "- A **class** is a template for creating objects\n",
    "\n",
    "Reuse is provided by:\n",
    "\n",
    "- reusing the same class to create many objects\n",
    "- \"inheriting\" data and code from other classes"
   ]
  },
  {
   "cell_type": "code",
   "execution_count": null,
   "metadata": {
    "scrolled": false
   },
   "outputs": [],
   "source": [
    "# Definiting a Car class\n",
    "class Car(object):\n",
    "    pass"
   ]
  },
  {
   "cell_type": "code",
   "execution_count": null,
   "metadata": {},
   "outputs": [],
   "source": [
    "car = Car()"
   ]
  },
  {
   "cell_type": "markdown",
   "metadata": {},
   "source": [
    "## Attributes"
   ]
  },
  {
   "cell_type": "code",
   "execution_count": null,
   "metadata": {
    "scrolled": false
   },
   "outputs": [],
   "source": [
    "from IPython.display import Image\n",
    "Image(filename='ClassAttributes.png') "
   ]
  },
  {
   "cell_type": "markdown",
   "metadata": {},
   "source": [
    "Attributes are data associated with an object (instance) or class. Object attributes (and methods) are specified by using \"self\". Instance attributes and methods are accessed using the dot \".\" operator."
   ]
  },
  {
   "cell_type": "code",
   "execution_count": null,
   "metadata": {
    "scrolled": false
   },
   "outputs": [],
   "source": [
    "class Car(object):\n",
    "    \n",
    "    # The following method is called when the class\n",
    "    # is created or \"constructed\". The variables \"self.x\" refers\n",
    "    # to the variable \"x\" in a created object.\n",
    "    def __init__(self, color, car_type, speed):\n",
    "        self.color = color\n",
    "        self.car_type = car_type\n",
    "        self.speed = speed"
   ]
  },
  {
   "cell_type": "code",
   "execution_count": null,
   "metadata": {},
   "outputs": [],
   "source": [
    "car1 = Car(\"blue\", \"sedan\", \"very slow\")\n",
    "car2 = Car(\"red\", \"sedan\", \"not so slow\")"
   ]
  },
  {
   "cell_type": "code",
   "execution_count": null,
   "metadata": {},
   "outputs": [],
   "source": [
    "print(car1.speed, car2.speed)"
   ]
  },
  {
   "cell_type": "code",
   "execution_count": null,
   "metadata": {
    "scrolled": false
   },
   "outputs": [],
   "source": [
    "class Car(object):\n",
    "    \n",
    "    # The following method is called when the class\n",
    "    # is created or \"constructed\". The variables \"self.x\" refers\n",
    "    # to the variable \"x\" in a created object.\n",
    "    def __init__(self, color, car_type, speed, sunroof=True):\n",
    "        self.color = color\n",
    "        self.car_type = car_type\n",
    "        if isinstance(speed, int):\n",
    "            self.speed = speed\n",
    "        else:\n",
    "            raise ValueError(\"Bad speed value.\")\n",
    "        self.sunroof = sunroof"
   ]
  },
  {
   "cell_type": "code",
   "execution_count": null,
   "metadata": {},
   "outputs": [],
   "source": [
    "car = Car(\"blue\", \"sedan\", 100)"
   ]
  },
  {
   "cell_type": "code",
   "execution_count": null,
   "metadata": {
    "scrolled": false
   },
   "outputs": [],
   "source": [
    "# Creating an object for a class with arguments in the __init__ method\n",
    "car = Car(\"Blue\", \"HatchBack\", 100)\n",
    "car.color"
   ]
  },
  {
   "cell_type": "code",
   "execution_count": null,
   "metadata": {
    "scrolled": false
   },
   "outputs": [],
   "source": [
    "# Creating an object for a class with arguments in the __init__ method\n",
    "joe_car = Car(\"Blue\", \"Sedan\", 100)\n",
    "dave_car = Car(\"Red\", \"Sports\", 150)\n",
    "print (\"Type of joe_car is %s. Type of dave_car is %s\"% (type(joe_car), type(dave_car)))"
   ]
  },
  {
   "cell_type": "code",
   "execution_count": null,
   "metadata": {
    "scrolled": false
   },
   "outputs": [],
   "source": [
    "# Accessed instance attributes\n",
    "joe_car = Car(\"Blue\", \"Sedan\", 100)\n",
    "print (\"Type of joe_car has (color, type, speed)=%s.\" % str((joe_car.color, joe_car.car_type, joe_car.speed)))"
   ]
  },
  {
   "cell_type": "markdown",
   "metadata": {},
   "source": [
    "**EXERCISE**: Change the constructor for Car to include the attribute \"doors\"."
   ]
  },
  {
   "cell_type": "markdown",
   "metadata": {},
   "source": [
    "## Instance Methods"
   ]
  },
  {
   "cell_type": "code",
   "execution_count": null,
   "metadata": {
    "scrolled": false
   },
   "outputs": [],
   "source": [
    "from IPython.display import Image\n",
    "Image(filename='InstanceMethods.png') "
   ]
  },
  {
   "cell_type": "code",
   "execution_count": null,
   "metadata": {
    "scrolled": false
   },
   "outputs": [],
   "source": [
    "#Class diagram\n",
    "from IPython.display import Image\n",
    "Image(filename='SingleClassDiagram.png', width=200, height=200) "
   ]
  },
  {
   "cell_type": "markdown",
   "metadata": {},
   "source": [
    "A class diagram provides a more compact representation of a class. There are three sections.\n",
    "- Class name\n",
    "- Attributes\n",
    "- Methods"
   ]
  },
  {
   "cell_type": "markdown",
   "metadata": {},
   "source": [
    "**Instance methods**\n",
    "- functions associated with the objects constructed for a class\n",
    "- provide a way to transform data in objects\n",
    "- use instance attributes (references to variables beginning with \"self.\")"
   ]
  },
  {
   "cell_type": "code",
   "execution_count": null,
   "metadata": {
    "scrolled": false
   },
   "outputs": [],
   "source": [
    "class Car(object):\n",
    "    \n",
    "    def __init__(self, color, car_type, speed):\n",
    "        \"\"\"\n",
    "        :param str color:\n",
    "        :param str car_type:\n",
    "        :param int speed:\n",
    "        \"\"\"\n",
    "        self.color = color\n",
    "        self.car_type = car_type\n",
    "        self.speed = speed\n",
    "        \n",
    "    def start(self):\n",
    "        print (\"%s %s started!\" % (self.color, self.car_type))\n",
    "        \n",
    "    def stop(self):\n",
    "        pass\n",
    "        \n",
    "    def turn(self, direction):\n",
    "        \"\"\"\n",
    "        :parm str direction: left or right\n",
    "        \"\"\"\n",
    "        pass"
   ]
  },
  {
   "cell_type": "code",
   "execution_count": null,
   "metadata": {
    "scrolled": false
   },
   "outputs": [],
   "source": [
    "car = Car(\"Blue\", \"Sedan\", 100)\n",
    "car.start()"
   ]
  },
  {
   "cell_type": "markdown",
   "metadata": {},
   "source": [
    "**EXERCISE**: Implement the stop and turn methods. Run the methods."
   ]
  },
  {
   "cell_type": "markdown",
   "metadata": {},
   "source": [
    "## Inheritance"
   ]
  },
  {
   "cell_type": "markdown",
   "metadata": {},
   "source": [
    "Inheritance is a common way that classes reuse data and code from other classes. A **child class** or **derived class** gets attributes and methods from its **parent class**.\n",
    "\n",
    "Programmatically:\n",
    "- Specify inheritance in the class statement\n",
    "- Constructor for derived class (class that inherits) have access to the constructor of its parent.\n",
    "\n",
    "Inheritance is represented in diagrams as an arror from the child class to its parent class."
   ]
  },
  {
   "cell_type": "code",
   "execution_count": null,
   "metadata": {
    "scrolled": false
   },
   "outputs": [],
   "source": [
    "from IPython.display import Image\n",
    "Image(filename='SimpleClassHierarchy.png', width=400, height=400) "
   ]
  },
  {
   "cell_type": "code",
   "execution_count": null,
   "metadata": {
    "scrolled": false
   },
   "outputs": [],
   "source": [
    "# Code for inheritance\n",
    "class Sedan(Car):\n",
    "    # Sedan inherits from car\n",
    "    \n",
    "    def __init__(self, color, speed):\n",
    "        \"\"\"\n",
    "        :param str color:\n",
    "        :param int speed:\n",
    "        \"\"\"\n",
    "        super().__init__(color, \"Sedan\", speed)\n",
    "        \n",
    "    def play_cd(self):\n",
    "        print (\"Playing cd in %s sedan\" % self.color)"
   ]
  },
  {
   "cell_type": "code",
   "execution_count": null,
   "metadata": {
    "scrolled": false
   },
   "outputs": [],
   "source": [
    "sedan = Sedan(\"Yellow\", 1e6)\n",
    "sedan.color"
   ]
  },
  {
   "cell_type": "code",
   "execution_count": null,
   "metadata": {},
   "outputs": [],
   "source": [
    "sedan.car_type"
   ]
  },
  {
   "cell_type": "code",
   "execution_count": null,
   "metadata": {
    "scrolled": false
   },
   "outputs": [],
   "source": [
    "sedan.car_type"
   ]
  },
  {
   "cell_type": "code",
   "execution_count": null,
   "metadata": {
    "scrolled": false
   },
   "outputs": [],
   "source": [
    "joe_car = Sedan(\"Blue\", 100)\n",
    "print (\"Type of joe_car has (color, type, speed)=%s.\" % str((joe_car.color, joe_car.car_type, joe_car.speed)))"
   ]
  },
  {
   "cell_type": "markdown",
   "metadata": {},
   "source": [
    "**Exercise:** Implement SportsCar and create dave_car from SportsCar. Print attributes of dave_car."
   ]
  },
  {
   "cell_type": "code",
   "execution_count": null,
   "metadata": {
    "scrolled": false
   },
   "outputs": [],
   "source": [
    "from IPython.display import Image\n",
    "Image(filename='ClassInheritance.png', width=400, height=400) "
   ]
  },
  {
   "cell_type": "markdown",
   "metadata": {},
   "source": [
    "Subclasses can have their own methods."
   ]
  },
  {
   "cell_type": "markdown",
   "metadata": {},
   "source": [
    "**Exercise**: Add the play_cd() to Sedan and play_bluetooth() method to SportsCar. Construct a test to run these methods."
   ]
  },
  {
   "cell_type": "markdown",
   "metadata": {},
   "source": [
    "## What Else?\n",
    "- Class attributes\n",
    "- Class methods"
   ]
  },
  {
   "cell_type": "markdown",
   "metadata": {},
   "source": [
    "# Object Oriented Design"
   ]
  },
  {
   "cell_type": "markdown",
   "metadata": {},
   "source": [
    "A design methodology must specify:\n",
    "- Components: What they do and how to build them\n",
    "- Interactions: How the components interact to implement use cases"
   ]
  },
  {
   "cell_type": "markdown",
   "metadata": {},
   "source": [
    "Object oriented designed\n",
    "- Components are specified by class diagrams.\n",
    "- Interactions are specified by interaction diagrams."
   ]
  },
  {
   "cell_type": "markdown",
   "metadata": {},
   "source": [
    "### Class diagram for the ATM system"
   ]
  },
  {
   "cell_type": "code",
   "execution_count": null,
   "metadata": {
    "scrolled": false
   },
   "outputs": [],
   "source": [
    "from IPython.display import Image\n",
    "Image(filename='ATMClassDiagram.png', width=400, height=400) "
   ]
  },
  {
   "cell_type": "markdown",
   "metadata": {},
   "source": [
    "The diamond arrow is a \"has-a\" relationship. For example, the Controller has-a ATMInput. This means that a Controller object has an instance variable for an ATMInput object."
   ]
  },
  {
   "cell_type": "markdown",
   "metadata": {},
   "source": [
    "### Interaction Diagram for the ATM System"
   ]
  },
  {
   "cell_type": "markdown",
   "metadata": {},
   "source": [
    "An interaction diagram specifies how components interact to achieve a use case. \n",
    "\n",
    "Interactions are from one object to another object, indicating that the first object calls a method in the second object.\n",
    "\n",
    "Rules for drawing lines in an interaction diagram:\n",
    "- The calling object must know about the called object.\n",
    "- The called object must have the method invoked by the calling object."
   ]
  },
  {
   "cell_type": "code",
   "execution_count": null,
   "metadata": {
    "scrolled": false
   },
   "outputs": [],
   "source": [
    "from IPython.display import Image\n",
    "Image(filename='ATMAuthentication.png', width=800, height=800) "
   ]
  },
  {
   "cell_type": "markdown",
   "metadata": {},
   "source": [
    "Look at Objects/ATMDiagrams.pdf for a solution."
   ]
  },
  {
   "cell_type": "markdown",
   "metadata": {},
   "source": [
    "## What Else in Design?\n",
    "- Other diagrams: state diagrams, package diagrams, ...\n",
    "- Object oriented design patterns"
   ]
  },
  {
   "cell_type": "markdown",
   "metadata": {},
   "source": [
    "## Complex Example of Class Hierarchy"
   ]
  },
  {
   "cell_type": "code",
   "execution_count": null,
   "metadata": {
    "scrolled": false
   },
   "outputs": [],
   "source": [
    "from IPython.display import Image\n",
    "Image(filename='SciSheetsCoreClasses.png', width=300, height=30) "
   ]
  }
 ],
 "metadata": {
  "kernelspec": {
   "display_name": "Python 3",
   "language": "python",
   "name": "python3"
  },
  "language_info": {
   "codemirror_mode": {
    "name": "ipython",
    "version": 3
   },
   "file_extension": ".py",
   "mimetype": "text/x-python",
   "name": "python",
   "nbconvert_exporter": "python",
   "pygments_lexer": "ipython3",
   "version": "3.6.4"
  }
 },
 "nbformat": 4,
 "nbformat_minor": 2
}
